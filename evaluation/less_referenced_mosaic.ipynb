{
 "cells": [
  {
   "cell_type": "markdown",
   "id": "7a998f1c-82e1-4acc-b16a-75de02325873",
   "metadata": {},
   "source": [
    "# Less-Referenced Mosaic\n",
    "\n",
    "This notebook provides a cross-section of the Less-Referenced Mosaic creation process."
   ]
  },
  {
   "cell_type": "markdown",
   "id": "5e4ede8c-7fb2-4dcf-9193-928321716c33",
   "metadata": {},
   "source": [
    "# Setup"
   ]
  },
  {
   "cell_type": "markdown",
   "id": "af05e098-f19b-45b4-97cc-413ecf0fbdc4",
   "metadata": {},
   "source": [
    "## Imports"
   ]
  },
  {
   "cell_type": "code",
   "execution_count": null,
   "id": "25c75dcb-6592-4a10-a69a-7886c3cb75d0",
   "metadata": {},
   "outputs": [],
   "source": [
    "import copy\n",
    "import os"
   ]
  },
  {
   "cell_type": "code",
   "execution_count": null,
   "id": "313f249d-f0eb-45ea-8cdc-b8f0d46af6ea",
   "metadata": {},
   "outputs": [],
   "source": [
    "import cv2\n",
    "import numpy as np\n",
    "import pandas as pd\n",
    "from sklearn.model_selection import train_test_split\n",
    "from sklearn.pipeline import Pipeline\n",
    "from sklearn.utils import check_random_state\n",
    "import yaml"
   ]
  },
  {
   "cell_type": "code",
   "execution_count": null,
   "id": "876b1622-25b4-4384-b096-f6bd3367e21a",
   "metadata": {},
   "outputs": [],
   "source": [
    "import matplotlib\n",
    "import matplotlib.pyplot as plt\n",
    "import matplotlib.patches as patches\n",
    "import seaborn as sns\n",
    "sns.set_style('white')"
   ]
  },
  {
   "cell_type": "code",
   "execution_count": null,
   "id": "f7db8f4e-2f00-4d15-96a4-51ebb4eeea23",
   "metadata": {},
   "outputs": [],
   "source": [
    "from night_horizons import utils, preprocess, reference, mosaic, raster, pipelines"
   ]
  },
  {
   "cell_type": "markdown",
   "id": "a2d4a814-de45-4c11-975c-43a21ca7b171",
   "metadata": {},
   "source": [
    "## Settings"
   ]
  },
  {
   "cell_type": "code",
   "execution_count": null,
   "id": "e8752436-8f23-42d2-8dc9-3de3659d71cc",
   "metadata": {},
   "outputs": [],
   "source": [
    "with open('./config.yml', \"r\", encoding='UTF-8') as file:\n",
    "    settings = yaml.load(file, Loader=yaml.FullLoader)"
   ]
  },
  {
   "cell_type": "code",
   "execution_count": null,
   "id": "8bfffacf-be23-45a5-91fb-5c1d69b8dbd0",
   "metadata": {},
   "outputs": [],
   "source": [
    "local_settings = {\n",
    "    'mosaic_filepath': 'mosaics/referenced3.tiff',\n",
    "    'overwrite': True,\n",
    "    'random_state': 16849,\n",
    "    'train_size': 1,\n",
    "    'padding_factor': 2.,\n",
    "}\n",
    "settings.update(local_settings)"
   ]
  },
  {
   "cell_type": "markdown",
   "id": "a5298c5a-a5d4-46be-93ce-fcbe2f1e6e71",
   "metadata": {},
   "source": [
    "## Parse Settings"
   ]
  },
  {
   "cell_type": "code",
   "execution_count": null,
   "id": "dd115e86-45c5-458b-9e75-19d40d7186d3",
   "metadata": {},
   "outputs": [],
   "source": [
    "settings['mosaic_filepath'] = os.path.join(settings['data_dir'], settings['mosaic_filepath'])"
   ]
  },
  {
   "cell_type": "code",
   "execution_count": null,
   "id": "83d5aea6-64b2-4388-bdcc-c1cb7ba3f929",
   "metadata": {},
   "outputs": [],
   "source": [
    "for key, relpath in settings['paths_relative_to_data_dir'].items():\n",
    "    settings[key] = os.path.join(settings['data_dir'], relpath)"
   ]
  },
  {
   "cell_type": "code",
   "execution_count": null,
   "id": "ef2a5c18-9b75-4eb4-a357-e8a6e33db965",
   "metadata": {},
   "outputs": [],
   "source": [
    "random_state = check_random_state(settings['random_state'])"
   ]
  },
  {
   "cell_type": "code",
   "execution_count": null,
   "id": "b4408c5e-dba0-44a3-9cb3-2b5922875880",
   "metadata": {},
   "outputs": [],
   "source": [
    "referenced_fps = utils.discover_data(settings['referenced_images_dir'], ['tif', 'tiff'], pattern=r'Geo\\s\\d+_\\d.tif')"
   ]
  },
  {
   "cell_type": "code",
   "execution_count": null,
   "id": "ddb114a1-861a-4ab0-9324-83705e5486d2",
   "metadata": {},
   "outputs": [],
   "source": [
    "palette = sns.color_palette(settings['color_palette'])"
   ]
  },
  {
   "cell_type": "code",
   "execution_count": null,
   "id": "6767f5db-d232-4569-9196-dd3aef89daa8",
   "metadata": {},
   "outputs": [],
   "source": [
    "crs = settings['crs']"
   ]
  },
  {
   "cell_type": "markdown",
   "id": "17fbb0d9-fbba-423e-895a-84996baf78cd",
   "metadata": {},
   "source": [
    "# Prepare Data\n",
    "The first part is to prepare the data (AKA extract/transform/load)."
   ]
  },
  {
   "cell_type": "markdown",
   "id": "28a8eecf-3852-40af-a8d5-891281989cef",
   "metadata": {},
   "source": [
    "## Train-Test Split\n",
    "\n",
    "We split the data into training data (data that is georeferenced) and test data (data that is not georeferenced, or for which we don't use the georeferencing information when we're building the models).\n",
    "\n",
    "We set the train size to some small number, because ideally the user only needs to georeference a couple of images manually."
   ]
  },
  {
   "cell_type": "code",
   "execution_count": null,
   "id": "1a4089fd-f097-4f47-b8c1-3c5f54cb0720",
   "metadata": {},
   "outputs": [],
   "source": [
    "settings['train_size']"
   ]
  },
  {
   "cell_type": "code",
   "execution_count": null,
   "id": "3fa2f20e-57f7-40cf-b26f-9bdd71249b88",
   "metadata": {},
   "outputs": [],
   "source": [
    "fps_train, fps_test = train_test_split(referenced_fps, train_size=settings['train_size'], random_state=settings['random_state'])"
   ]
  },
  {
   "cell_type": "markdown",
   "id": "f511240f-6c02-4250-a6c0-ce5c5fd3f684",
   "metadata": {},
   "source": [
    "## Initial, Approximate Georeferencing\n",
    "We use the sensor (high-altitude balloon) positions to provide approximate georeferencing, which will be useful for saving computational time when building the unreferenced mosaic."
   ]
  },
  {
   "cell_type": "code",
   "execution_count": null,
   "id": "2f76ec89-3fc5-475c-b782-3bcedf2dd1fc",
   "metadata": {},
   "outputs": [],
   "source": [
    "sensor_georeference_pipeline = Pipeline([\n",
    "    ('nitelite', preprocess.NITELitePreprocesser(\n",
    "        output_columns=['filepath', 'sensor_x', 'sensor_y', 'camera_num'],\n",
    "        crs=crs\n",
    "    )),\n",
    "    ('sensor_georeference', reference.SensorGeoreferencer(crs=crs, passthrough=['filepath', 'camera_num'])),\n",
    "])\n",
    "\n",
    "sensor_georeference_pipeline_y = preprocess.GeoTIFFPreprocesser(crs=crs)"
   ]
  },
  {
   "cell_type": "code",
   "execution_count": null,
   "id": "a407f336-0cf1-46d0-81be-5b8dca5e0152",
   "metadata": {},
   "outputs": [],
   "source": [
    "# Get the geo-transforms used for training\n",
    "geotransforms_train = sensor_georeference_pipeline_y.fit_transform(fps_train)"
   ]
  },
  {
   "cell_type": "code",
   "execution_count": null,
   "id": "cb331bb1-8883-4163-8351-7105b86e5db9",
   "metadata": {},
   "outputs": [],
   "source": [
    "# Train the pipeline\n",
    "sensor_georeference_pipeline.fit(\n",
    "    fps_train,\n",
    "    geotransforms_train,\n",
    "    nitelite__img_log_fp=settings['img_log_fp'],\n",
    "    nitelite__imu_log_fp=settings['imu_log_fp'],\n",
    "    nitelite__gps_log_fp=settings['gps_log_fp'],\n",
    ")"
   ]
  },
  {
   "cell_type": "code",
   "execution_count": null,
   "id": "0fa111a6-587b-409c-8d63-c49acefafc6a",
   "metadata": {},
   "outputs": [],
   "source": [
    "# Get the approximate georeferences for the data we'll be testing\n",
    "X_test = sensor_georeference_pipeline.predict(fps_test)"
   ]
  },
  {
   "cell_type": "code",
   "execution_count": null,
   "id": "2510f825-7cee-4d15-96fb-a328ffeb8fa1",
   "metadata": {},
   "outputs": [],
   "source": [
    "# The score for the fit gives us an estimate of the error from the approximate georeferencing\n",
    "first_pass_error = sensor_georeference_pipeline.score(fps_train, geotransforms_train)\n",
    "padding = settings['padding_factor'] * first_pass_error"
   ]
  },
  {
   "cell_type": "markdown",
   "id": "cb660bca-298f-45ba-9d0b-246e6f78bfd8",
   "metadata": {},
   "source": [
    "## Create the Containing Mosaic Dataset\n",
    "\n",
    "We need to create this at this time to meet two requirements: \n",
    "1. The dataset bounds are large enough to contain all the images, not just the training images.\n",
    "2. The mosaic created from the training images are saved here."
   ]
  },
  {
   "cell_type": "code",
   "execution_count": null,
   "id": "2b04e42e-b05a-4ea5-9ba3-c254f35f5ce2",
   "metadata": {},
   "outputs": [],
   "source": [
    "# If we want to start fresh\n",
    "if os.path.isfile(settings['mosaic_filepath']) and settings['overwrite']:\n",
    "    print('Removing existing mosaic.')\n",
    "    os.remove(settings['mosaic_filepath'])"
   ]
  },
  {
   "cell_type": "code",
   "execution_count": null,
   "id": "d1c91e40-0f27-410c-86fd-0ce4c79f0b56",
   "metadata": {},
   "outputs": [],
   "source": [
    "mos = mosaic.Mosaic(settings['mosaic_filepath'], padding=first_pass_error * 2.)"
   ]
  },
  {
   "cell_type": "code",
   "execution_count": null,
   "id": "03ab9d92-89b4-4604-a45c-61e8eab240e3",
   "metadata": {},
   "outputs": [],
   "source": [
    "# The dataset is created during the fit.\n",
    "mos.fit(X_test[['filepath'] + preprocess.GEOTRANSFORM_COLS])"
   ]
  },
  {
   "cell_type": "code",
   "execution_count": null,
   "id": "93ce16a0-7978-4456-b046-ece94144d7f7",
   "metadata": {},
   "outputs": [],
   "source": [
    "# Close the dataset so we can write to it.\n",
    "mos.dataset_.FlushCache()\n",
    "mos.dataset_ = None"
   ]
  },
  {
   "cell_type": "markdown",
   "id": "08a6be5c-4960-4799-b8e1-6662b2cc32e5",
   "metadata": {},
   "source": [
    "## Create the Starting Image for the Mosaic\n",
    "\n",
    "The starting image is a mosaic of the images that are referenced."
   ]
  },
  {
   "cell_type": "code",
   "execution_count": null,
   "id": "7f3fad12-6520-48d0-93ee-27a83b0d736b",
   "metadata": {},
   "outputs": [],
   "source": [
    "# We use our canned pipeline for building a referenced mosaic\n",
    "reffed_mosaic_pipeline = pipelines.MosaicPipelines.referenced_mosaic(settings['mosaic_filepath'])\n",
    "reffed_mosaic_pipeline.set_params(mosaic__exist_ok=True)"
   ]
  },
  {
   "cell_type": "code",
   "execution_count": null,
   "id": "be50e3b8-b402-4dc2-8c19-3e87edb750b0",
   "metadata": {},
   "outputs": [],
   "source": [
    "# Actual creation\n",
    "reffed_mosaic_pipeline.fit_transform(fps_train)"
   ]
  },
  {
   "cell_type": "markdown",
   "id": "071155d1-07ca-4e9a-83f3-7c6506d06e88",
   "metadata": {},
   "source": [
    "# The Mosaic"
   ]
  },
  {
   "cell_type": "code",
   "execution_count": null,
   "id": "9427438d-171e-41a5-a402-77e65831788c",
   "metadata": {},
   "outputs": [],
   "source": [
    "less_reffed_mosaic = mosaic.LessReferencedMosaic(filepath=settings['mosaic_filepath'], padding=padding)"
   ]
  },
  {
   "cell_type": "code",
   "execution_count": null,
   "id": "a5b3b750-1c67-4dea-ba3b-78028b817501",
   "metadata": {},
   "outputs": [],
   "source": [
    "# First, the fit. This just gets the dataset information, since it already exists.\n",
    "less_reffed_mosaic.fit(geotransforms_train)"
   ]
  },
  {
   "cell_type": "markdown",
   "id": "f0a8af12-6d12-42d7-9877-5bafcd2bbbae",
   "metadata": {},
   "source": [
    "## Convert geotransforms to pixel offsets and counts"
   ]
  },
  {
   "cell_type": "code",
   "execution_count": null,
   "id": "182c6c45-6a23-4d51-b8d9-54abeb42e5ed",
   "metadata": {},
   "outputs": [],
   "source": [
    "(\n",
    "    X_test['x_off'], X_test['y_off'],\n",
    "    X_test['x_size'], X_test['y_size']\n",
    ") = less_reffed_mosaic.bounds_to_offset(\n",
    "    X_test['x_min'], X_test['x_max'],\n",
    "    X_test['y_min'], X_test['y_max'],\n",
    "    padding = less_reffed_mosaic.padding\n",
    ")"
   ]
  },
  {
   "cell_type": "code",
   "execution_count": null,
   "id": "41be5c9a-a105-4cb9-988b-de3bbadf9b68",
   "metadata": {},
   "outputs": [],
   "source": [
    "(\n",
    "    geotransforms_train['x_off'], geotransforms_train['y_off'],\n",
    "    geotransforms_train['x_size'], geotransforms_train['y_size']\n",
    ") = less_reffed_mosaic.bounds_to_offset(\n",
    "    geotransforms_train['x_min'], geotransforms_train['x_max'],\n",
    "    geotransforms_train['y_min'], geotransforms_train['y_max'],\n",
    "    padding = less_reffed_mosaic.padding\n",
    ")"
   ]
  },
  {
   "cell_type": "markdown",
   "id": "57f30588-8fee-4a76-a005-5c6cda849d67",
   "metadata": {},
   "source": [
    "## Determine order of iteration"
   ]
  },
  {
   "cell_type": "code",
   "execution_count": null,
   "id": "e9ab34d3-2150-4eb0-802d-d243a8a5aab9",
   "metadata": {},
   "outputs": [],
   "source": [
    "# Camera order of iteration--1 is the nader camera, so that's first\n",
    "X_test['camera_order'] = X_test['camera_num'].map({0: 1, 1: 0, 2: 2})"
   ]
  },
  {
   "cell_type": "code",
   "execution_count": null,
   "id": "1dd16687-04b5-4f80-bcfe-9ebad5783370",
   "metadata": {},
   "outputs": [],
   "source": [
    "# Proximity order of iteration\n",
    "center_coords = geotransforms_train[['x_center', 'y_center']].mean()\n",
    "offset = X_test[['x_center', 'y_center']] - center_coords\n",
    "X_test['d_to_center'] = np.linalg.norm(offset, axis=1)"
   ]
  },
  {
   "cell_type": "code",
   "execution_count": null,
   "id": "fa2182af-256a-45fe-bc2f-b106e8502f10",
   "metadata": {},
   "outputs": [],
   "source": [
    "# Actual sort\n",
    "X_iter = X_test.sort_values(['camera_order', 'd_to_center'])\n",
    "X_iter['order'] = np.arange(len(X_iter))\n",
    "iter_inds = X_iter.index"
   ]
  },
  {
   "cell_type": "code",
   "execution_count": null,
   "id": "b9f0eb35-ecdc-47ab-afb2-57f56010abdd",
   "metadata": {},
   "outputs": [],
   "source": [
    "# Let's take a look.\n",
    "sp = sns.scatterplot(\n",
    "    data=X_iter,\n",
    "    x='x_center',\n",
    "    y='y_center',\n",
    "    hue='order',\n",
    ")\n",
    "sp.set_aspect('equal')"
   ]
  },
  {
   "cell_type": "markdown",
   "id": "04c8faea-db3e-4bbf-a58f-a9de615598f1",
   "metadata": {},
   "source": [
    "## First Image\n",
    "We'll test the first loop in greater detail than the others."
   ]
  },
  {
   "cell_type": "code",
   "execution_count": null,
   "id": "ac71b3a1-0b40-43ba-a96d-b8e1005579f0",
   "metadata": {},
   "outputs": [],
   "source": [
    "i = 0\n",
    "row = X_iter.iloc[i]"
   ]
  },
  {
   "cell_type": "code",
   "execution_count": null,
   "id": "37c133a9-e317-4a1b-8a80-d40764588c4d",
   "metadata": {},
   "outputs": [],
   "source": [
    "# The empty image at the time of the first loop\n",
    "mosaic_img = less_reffed_mosaic.dataset_.ReadAsArray().transpose(1, 2, 0)"
   ]
  },
  {
   "cell_type": "markdown",
   "id": "6347222c-f560-4d1e-baea-d6b45f0f3157",
   "metadata": {},
   "source": [
    "### Search Region in the Context of the Full Mosaic"
   ]
  },
  {
   "cell_type": "code",
   "execution_count": null,
   "id": "4a8dbf46-b78c-4f55-bd28-e223611715eb",
   "metadata": {},
   "outputs": [],
   "source": [
    "# Expected bounds\n",
    "x_off = row['x_off']\n",
    "y_off = row['y_off']\n",
    "x_size = row['x_size']\n",
    "y_size = row['y_size']"
   ]
  },
  {
   "cell_type": "code",
   "execution_count": null,
   "id": "f300c306-7ffc-4816-825a-9dbedfb64671",
   "metadata": {},
   "outputs": [],
   "source": [
    "fig = plt.figure(figsize=(20,10))\n",
    "ax = plt.gca()\n",
    "\n",
    "# Current mosaic\n",
    "ax.imshow(mosaic_img)\n",
    "\n",
    "# The first image location\n",
    "rect = patches.Rectangle(\n",
    "    (x_off, y_off),\n",
    "    x_size,\n",
    "    y_size,\n",
    "    linewidth = 3,\n",
    "    facecolor = 'none',\n",
    "    edgecolor = palette[0],\n",
    ")\n",
    "ax.add_patch(rect)"
   ]
  },
  {
   "cell_type": "markdown",
   "id": "ca2701b6-7813-40e7-bd3f-cf7b8ef4d5be",
   "metadata": {},
   "source": [
    "### Search Region Image "
   ]
  },
  {
   "cell_type": "code",
   "execution_count": null,
   "id": "7915ac8d-305f-4e53-896e-8e959aa132ed",
   "metadata": {},
   "outputs": [],
   "source": [
    "# The existing mosaic at this location\n",
    "dst_img = less_reffed_mosaic.get_image(x_off, y_off, x_size, y_size)"
   ]
  },
  {
   "cell_type": "code",
   "execution_count": null,
   "id": "95c18e9a-7384-461a-a90c-3f6947ead37e",
   "metadata": {},
   "outputs": [],
   "source": [
    "# At this time we expect all data added to the mosaic to be within the bounds of the search region\n",
    "assert dst_img.sum() == mosaic_img.sum()"
   ]
  },
  {
   "cell_type": "markdown",
   "id": "c5a10e67-ada1-4a12-8360-a62f75d8ffd4",
   "metadata": {},
   "source": [
    "This is plotted below with matched features."
   ]
  },
  {
   "cell_type": "code",
   "execution_count": null,
   "id": "76c4743a-5bd3-483a-9090-26e85fff056e",
   "metadata": {},
   "outputs": [],
   "source": [
    "# Here's a zoomed in version so we know what we should be looking at.\n",
    "row_train = geotransforms_train.iloc[0]\n",
    "dst_img_zoom = less_reffed_mosaic.get_image(\n",
    "    row_train['x_off'], row_train['y_off'],\n",
    "    row_train['x_size'], row_train['y_size']\n",
    ")\n",
    "plt.imshow(dst_img_zoom)"
   ]
  },
  {
   "cell_type": "markdown",
   "id": "69b4339a-3833-4b76-bcbb-344dcb1cab11",
   "metadata": {},
   "source": [
    "### Search Region KeyPoints\n",
    "We get these for later."
   ]
  },
  {
   "cell_type": "code",
   "execution_count": null,
   "id": "e174455b-a537-43b0-ab9d-496b7ce22410",
   "metadata": {},
   "outputs": [],
   "source": [
    "# Get the features from the original mosaic\n",
    "dst_kp, dst_des = less_reffed_mosaic.feature_detector.detectAndCompute(dst_img, None)"
   ]
  },
  {
   "cell_type": "code",
   "execution_count": null,
   "id": "9f057a40-5a18-408e-8902-a374ebe6687b",
   "metadata": {},
   "outputs": [],
   "source": [
    "# Transform the dst keypoints to mosaic frame\n",
    "dsframe_dst_pts = cv2.KeyPoint_convert(dst_kp) + np.array([x_off, y_off])\n",
    "dsframe_dst_des = copy.copy(dst_des)"
   ]
  },
  {
   "cell_type": "markdown",
   "id": "5178b10a-4785-4122-ab54-bbea96f1ad92",
   "metadata": {},
   "source": [
    "### New Image"
   ]
  },
  {
   "cell_type": "code",
   "execution_count": null,
   "id": "cedc4f19-3436-40e2-bed0-6a59580a862a",
   "metadata": {},
   "outputs": [],
   "source": [
    "src_img = utils.load_image(\n",
    "    row['filepath'],\n",
    "    dtype=less_reffed_mosaic.dtype,\n",
    ")"
   ]
  },
  {
   "cell_type": "markdown",
   "id": "6e8ed231-00d6-4079-a01e-208fb793c4f2",
   "metadata": {},
   "source": [
    "This is plotted below with matched features."
   ]
  },
  {
   "cell_type": "markdown",
   "id": "29c1b394-d2c1-4c18-9b98-a31328d2ce8e",
   "metadata": {},
   "source": [
    "### Feature Matching"
   ]
  },
  {
   "cell_type": "code",
   "execution_count": null,
   "id": "74ddd58f-c6fe-4aa5-b55b-6ea10a153310",
   "metadata": {},
   "outputs": [],
   "source": [
    "src_kp, src_des = less_reffed_mosaic.feature_detector.detectAndCompute(src_img, None)"
   ]
  },
  {
   "cell_type": "code",
   "execution_count": null,
   "id": "b955443d-5846-4583-a2b5-e901ce608ca6",
   "metadata": {},
   "outputs": [],
   "source": [
    "# Get and validate the transform predicted from feature matching\n",
    "M, info = utils.calc_warp_transform(src_kp, src_des, dst_kp, dst_des)\n",
    "assert utils.validate_warp_transform(M, less_reffed_mosaic.homography_det_min)"
   ]
  },
  {
   "cell_type": "code",
   "execution_count": null,
   "id": "721048c3-56cd-4089-a3b1-305ba68ae622",
   "metadata": {},
   "outputs": [],
   "source": [
    "# Inspect relationship\n",
    "mask = info['mask'].reshape(info['mask'].size).astype(bool)\n",
    "valid_src_pts = info['matched_src_pts'].reshape((mask.size, 2))[mask]\n",
    "valid_dst_pts = info['matched_dst_pts'].reshape((mask.size, 2))[mask]"
   ]
  },
  {
   "cell_type": "code",
   "execution_count": null,
   "id": "08ad10e3-864d-41e0-9270-ac54a18c1f40",
   "metadata": {},
   "outputs": [],
   "source": [
    "subplot_mosaic = [['dst_img', 'src_img']]\n",
    "fig = plt.figure(figsize=(20,10))\n",
    "ax_dict = fig.subplot_mosaic(subplot_mosaic)\n",
    "\n",
    "ax = ax_dict['dst_img']\n",
    "ax.imshow(dst_img)\n",
    "\n",
    "ax = ax_dict['src_img']\n",
    "ax.imshow(src_img)\n",
    "\n",
    "for i in range(valid_src_pts.shape[0]):\n",
    "\n",
    "    con = patches.ConnectionPatch(\n",
    "        xyA=valid_dst_pts[i],\n",
    "        xyB=valid_src_pts[i],\n",
    "        coordsA='data',\n",
    "        coordsB='data',\n",
    "        axesA=ax_dict['dst_img'],\n",
    "        axesB=ax_dict['src_img'],\n",
    "        color=palette[1],\n",
    "        linewidth=3,\n",
    "    )\n",
    "    ax.add_artist(con)"
   ]
  },
  {
   "cell_type": "markdown",
   "id": "e67d2d0c-9091-4d18-b623-3af3a235168f",
   "metadata": {},
   "source": [
    "The feature matching above should look pretty good. It does as I'm writing this."
   ]
  },
  {
   "cell_type": "markdown",
   "id": "16442e71-4b08-4fd6-ac5c-8f779218e59b",
   "metadata": {},
   "source": [
    "### Warp the Source Image"
   ]
  },
  {
   "cell_type": "code",
   "execution_count": null,
   "id": "1b8c42ea-d003-4245-96a8-96e2aab0faf7",
   "metadata": {},
   "outputs": [],
   "source": [
    "# Warp the image being fit\n",
    "warped_img = utils.warp_image(src_img, dst_img, M)"
   ]
  },
  {
   "cell_type": "code",
   "execution_count": null,
   "id": "4a3a9e95-fbcc-43ed-b258-a68909bc5259",
   "metadata": {},
   "outputs": [],
   "source": [
    "plt.imshow(warped_img)"
   ]
  },
  {
   "cell_type": "code",
   "execution_count": null,
   "id": "4adb8e6b-9f50-42a2-b7ac-ed865c0e8ce0",
   "metadata": {},
   "outputs": [],
   "source": [
    "# The warped image should have the same dimensions as the dst img\n",
    "assert warped_img.shape[:2] == dst_img.shape[:2]"
   ]
  },
  {
   "cell_type": "markdown",
   "id": "fc2b6a90-5c19-4932-8cce-0d5d87ba3a16",
   "metadata": {},
   "source": [
    "### Blend the images"
   ]
  },
  {
   "cell_type": "code",
   "execution_count": null,
   "id": "ca91177e-ea40-4e0b-9da2-781bd8a07c7d",
   "metadata": {},
   "outputs": [],
   "source": [
    "blended_img = less_reffed_mosaic.blend_images(\n",
    "    src_img=warped_img,\n",
    "    dst_img=dst_img,\n",
    ")"
   ]
  },
  {
   "cell_type": "code",
   "execution_count": null,
   "id": "e87ceb5c-1250-4009-aff6-113d50ed28c0",
   "metadata": {},
   "outputs": [],
   "source": [
    "plt.imshow(blended_img)"
   ]
  },
  {
   "cell_type": "markdown",
   "id": "0d198f0a-6990-42af-870c-264348a5945c",
   "metadata": {},
   "source": [
    "### Save and look at the mosaic"
   ]
  },
  {
   "cell_type": "code",
   "execution_count": null,
   "id": "c32be657-c624-480e-8cec-96e91b72d2c2",
   "metadata": {},
   "outputs": [],
   "source": [
    "less_reffed_mosaic.save_image(blended_img, x_off, y_off)"
   ]
  },
  {
   "cell_type": "code",
   "execution_count": null,
   "id": "61bb0d44-b5a4-4301-856e-495916ef0e83",
   "metadata": {},
   "outputs": [],
   "source": [
    "# Get the region of just the first image for comparison from before\n",
    "dst_img_zoom_after = less_reffed_mosaic.get_image(\n",
    "    row_train['x_off'], row_train['y_off'],\n",
    "    row_train['x_size'], row_train['y_size'],\n",
    ")"
   ]
  },
  {
   "cell_type": "code",
   "execution_count": null,
   "id": "f4c74871-8acc-4249-8b8b-f69d4e5021ec",
   "metadata": {},
   "outputs": [],
   "source": [
    "# More content should have been added\n",
    "assert dst_img_zoom_after.sum() > dst_img_zoom.sum()"
   ]
  },
  {
   "cell_type": "code",
   "execution_count": null,
   "id": "20b972e0-0573-4d15-879a-eab640932258",
   "metadata": {},
   "outputs": [],
   "source": [
    "subplot_mosaic = [['before', 'after']]\n",
    "fig = plt.figure(figsize=(20,10))\n",
    "ax_dict = fig.subplot_mosaic(subplot_mosaic)\n",
    "\n",
    "ax = ax_dict['before']\n",
    "ax.imshow(dst_img_zoom)\n",
    "\n",
    "ax = ax_dict['after']\n",
    "ax.imshow(dst_img_zoom_after)"
   ]
  },
  {
   "cell_type": "markdown",
   "id": "b0db6059-5892-4141-a023-2de41dc0c12c",
   "metadata": {},
   "source": [
    "### Warp the Keypoints"
   ]
  },
  {
   "cell_type": "code",
   "execution_count": null,
   "id": "7a0d44af-62a0-4852-8553-f9cd63354ec1",
   "metadata": {},
   "outputs": [],
   "source": [
    "# Transform to local frame and then the full mosaic frame\n",
    "src_pts = cv2.KeyPoint_convert(src_kp)\n",
    "global_src_pts = cv2.perspectiveTransform(src_pts.reshape(-1, 1, 2), M).reshape(-1, 2)\n",
    "global_src_pts += np.array([x_off, y_off])"
   ]
  },
  {
   "cell_type": "code",
   "execution_count": null,
   "id": "1c1cdb8f-5d5d-4ab6-bf17-2a221deca0bb",
   "metadata": {},
   "outputs": [],
   "source": [
    "# Store the transformed points for the next loop\n",
    "dsframe_dst_pts = np.append(dsframe_dst_pts, global_src_pts, axis=0)\n",
    "dsframe_dst_des = np.append(dsframe_dst_des, src_des, axis=0)"
   ]
  },
  {
   "cell_type": "code",
   "execution_count": null,
   "id": "8da416e1-f5bd-49ba-a59e-b79bf8fd722b",
   "metadata": {},
   "outputs": [],
   "source": [
    "fig = plt.figure()\n",
    "ax = plt.gca()\n",
    "\n",
    "sns.scatterplot(\n",
    "    x=dsframe_dst_pts[:,0],\n",
    "    y=dsframe_dst_pts[:,1],\n",
    "    ax = ax,\n",
    ")\n",
    "\n",
    "rect = patches.Rectangle(\n",
    "    (x_off, y_off),\n",
    "    x_size,\n",
    "    y_size,\n",
    "    linewidth = 3,\n",
    "    facecolor = 'none',\n",
    "    edgecolor = palette[0],\n",
    ")\n",
    "ax.add_patch(rect)\n",
    "\n",
    "ax.set_xlim(0, less_reffed_mosaic.dataset_.RasterXSize)\n",
    "ax.set_ylim(less_reffed_mosaic.dataset_.RasterYSize, 0)\n",
    "ax.set_aspect('equal')"
   ]
  },
  {
   "cell_type": "code",
   "execution_count": null,
   "id": "d1218056-9fcd-42e8-a0f7-684ccbf30404",
   "metadata": {},
   "outputs": [],
   "source": [
    "# Automated check that everything's in bounds\n",
    "not_in_bounds = ~(\n",
    "    (x_off <= dsframe_dst_pts[:,0] )\n",
    "    & (dsframe_dst_pts[:,0] <= x_off + x_size)\n",
    "    & (y_off <= dsframe_dst_pts[:,1] )\n",
    "    & (dsframe_dst_pts[:,1] <= y_off + y_size)\n",
    ")\n",
    "assert not_in_bounds.sum() == 0"
   ]
  },
  {
   "cell_type": "markdown",
   "id": "3d29fab6-a135-4988-b446-546531539677",
   "metadata": {},
   "source": [
    "## Next Image"
   ]
  },
  {
   "cell_type": "code",
   "execution_count": null,
   "id": "67631862-c4d9-4b1a-8b3c-099ee495a5c3",
   "metadata": {},
   "outputs": [],
   "source": [
    "i = 1\n",
    "row = X_iter.iloc[i]"
   ]
  },
  {
   "cell_type": "markdown",
   "id": "f410123f-4e23-4943-a152-e149fcc1c4c7",
   "metadata": {},
   "source": [
    "### Preview keypoint selection"
   ]
  },
  {
   "cell_type": "code",
   "execution_count": null,
   "id": "1610d3ca-1b19-4b33-be37-9707207f54c0",
   "metadata": {},
   "outputs": [],
   "source": [
    "x_off = row['x_off']\n",
    "y_off = row['y_off']\n",
    "x_size = row['x_size']\n",
    "y_size = row['y_size']"
   ]
  },
  {
   "cell_type": "code",
   "execution_count": null,
   "id": "a3995f81-023c-480e-99ad-ca00ecffd0aa",
   "metadata": {},
   "outputs": [],
   "source": [
    "in_bounds = less_reffed_mosaic.check_bounds(\n",
    "    dsframe_dst_pts,\n",
    "    x_off, y_off, x_size, y_size,\n",
    ")"
   ]
  },
  {
   "cell_type": "code",
   "execution_count": null,
   "id": "31c26cfd-316a-48f1-8f60-c0d1c30e0752",
   "metadata": {},
   "outputs": [],
   "source": [
    "assert in_bounds.sum() > 0, \\\n",
    "    f'No image data in the search zone for index {row.name}'"
   ]
  },
  {
   "cell_type": "code",
   "execution_count": null,
   "id": "95ec1096-5e10-43da-b1d4-d099ba14619c",
   "metadata": {},
   "outputs": [],
   "source": [
    "dst_pts = dsframe_dst_pts[in_bounds]\n",
    "dst_des = dsframe_dst_des[in_bounds]"
   ]
  },
  {
   "cell_type": "code",
   "execution_count": null,
   "id": "cb37b6eb-4e7a-44ef-8ee6-a4d6f299a7e8",
   "metadata": {},
   "outputs": [],
   "source": [
    "# At this point in the loops, *all* the points should be in bounds\n",
    "assert (~in_bounds).sum() == 0"
   ]
  },
  {
   "cell_type": "markdown",
   "id": "58b8afc8-53a0-4cba-a44e-dde9441c6116",
   "metadata": {},
   "source": [
    "### Call the typical function"
   ]
  },
  {
   "cell_type": "code",
   "execution_count": null,
   "id": "8138e7e6-c809-4546-9e38-899001d0411e",
   "metadata": {},
   "outputs": [],
   "source": [
    "return_code, info = less_reffed_mosaic.incorporate_image(row, dsframe_dst_pts, dsframe_dst_des)"
   ]
  },
  {
   "cell_type": "code",
   "execution_count": null,
   "id": "8398fdd6-f578-4335-bc4e-0ddc6d189b67",
   "metadata": {},
   "outputs": [],
   "source": [
    "assert return_code == 0, 'Image combined unsuccessfully.'"
   ]
  },
  {
   "cell_type": "code",
   "execution_count": null,
   "id": "b7927692-7e98-4821-a1a5-8202165a613d",
   "metadata": {},
   "outputs": [],
   "source": [
    "dst_img_zoom_after2 = less_reffed_mosaic.get_image(\n",
    "    row_train['x_off'], row_train['y_off'],\n",
    "    row_train['x_size'], row_train['y_size'],\n",
    ")"
   ]
  },
  {
   "cell_type": "code",
   "execution_count": null,
   "id": "337c82dd-ec3e-4078-ba8f-fe80966557e3",
   "metadata": {},
   "outputs": [],
   "source": [
    "subplot_mosaic = [['before', 'after']]\n",
    "fig = plt.figure(figsize=(20,10))\n",
    "ax_dict = fig.subplot_mosaic(subplot_mosaic)\n",
    "\n",
    "ax = ax_dict['before']\n",
    "ax.imshow(dst_img_zoom_after)\n",
    "\n",
    "ax = ax_dict['after']\n",
    "ax.imshow(dst_img_zoom_after2)"
   ]
  },
  {
   "cell_type": "markdown",
   "id": "d4dc7ef5-1a32-4186-be8c-10e99d8cf430",
   "metadata": {},
   "source": [
    "## Run for a Subset\n",
    "\n",
    "Now we'll check if it runs for a subset"
   ]
  },
  {
   "cell_type": "code",
   "execution_count": null,
   "id": "84fbe274-9a13-4a43-abd5-3cb86bdc9812",
   "metadata": {},
   "outputs": [],
   "source": [
    "i = 2\n",
    "n_loops = 10\n",
    "iter_inds_subset = iter_inds[i:i+n_loops]"
   ]
  },
  {
   "cell_type": "code",
   "execution_count": null,
   "id": "ba1cfe3c-1a5d-42ad-abc7-8a54ffbcf00d",
   "metadata": {},
   "outputs": [],
   "source": [
    "# Actual call\n",
    "less_reffed_mosaic.predict(\n",
    "    X_test[['filepath', ] + preprocess.GEOTRANSFORM_COLS],\n",
    "    iteration_indices=iter_inds_subset\n",
    ")"
   ]
  },
  {
   "cell_type": "code",
   "execution_count": null,
   "id": "2a90a962-deaa-48ae-88f5-52b3a8a654bf",
   "metadata": {},
   "outputs": [],
   "source": [
    "assert len(less_reffed_mosaic.log_['bad_inds']) < 3, 'If multiple mess up this-early on, something is wrong.'"
   ]
  },
  {
   "cell_type": "markdown",
   "id": "5b001009-fdbb-4e89-bccb-fa022e3fa6e8",
   "metadata": {},
   "source": [
    "### Scratch"
   ]
  },
  {
   "cell_type": "code",
   "execution_count": null,
   "id": "5bf02d30-ac09-4754-b0c1-f0a15b65e73f",
   "metadata": {},
   "outputs": [],
   "source": [
    "less_reffed_mosaic.close()"
   ]
  },
  {
   "cell_type": "code",
   "execution_count": null,
   "id": "e8cd7bd3-b88d-40d0-9123-028286db8a56",
   "metadata": {},
   "outputs": [],
   "source": [
    "x_off = row['x_off']\n",
    "y_off = row['y_off']\n",
    "x_size = row['x_size']\n",
    "y_size = row['y_size']"
   ]
  },
  {
   "cell_type": "code",
   "execution_count": null,
   "id": "ae33e2df-ac8e-40a8-90ad-195b4c0edcbf",
   "metadata": {},
   "outputs": [],
   "source": [
    "# The empty image at the time of the first loop\n",
    "mosaic_img = less_reffed_mosaic.dataset_.ReadAsArray().transpose(1, 2, 0)"
   ]
  },
  {
   "cell_type": "code",
   "execution_count": null,
   "id": "e44e4855-aa51-4eab-a6f2-5c65127304c3",
   "metadata": {},
   "outputs": [],
   "source": [
    "fig = plt.figure(figsize=(20,10))\n",
    "ax = plt.gca()\n",
    "\n",
    "# Current mosaic\n",
    "ax.imshow(mosaic_img)\n",
    "\n",
    "# The first image location\n",
    "rect = patches.Rectangle(\n",
    "    (x_off, y_off),\n",
    "    x_size,\n",
    "    y_size,\n",
    "    linewidth = 3,\n",
    "    facecolor = 'none',\n",
    "    edgecolor = palette[0],\n",
    ")\n",
    "ax.add_patch(rect)"
   ]
  },
  {
   "cell_type": "code",
   "execution_count": null,
   "id": "789fbe35-f3ee-43ff-b24d-868a6d583230",
   "metadata": {},
   "outputs": [],
   "source": [
    "src_img = utils.load_image(\n",
    "    row['filepath'],\n",
    "    dtype=less_reffed_mosaic.dtype,\n",
    ")\n",
    "src_kp, src_des = less_reffed_mosaic.feature_detector.detectAndCompute(src_img, None)"
   ]
  },
  {
   "cell_type": "code",
   "execution_count": null,
   "id": "12ed052a-23a5-4529-a61d-24a212108acd",
   "metadata": {},
   "outputs": [],
   "source": [
    "# Get dst features\n",
    "in_bounds = less_reffed_mosaic.check_bounds(\n",
    "    dsframe_dst_pts,\n",
    "    x_off, y_off, x_size, y_size\n",
    ")\n",
    "assert in_bounds.sum() > 0, \\\n",
    "    f'No image data in the search zone for index {row.name}'\n",
    "dst_pts = dsframe_dst_pts[in_bounds] - np.array([x_off, y_off])\n",
    "dst_kp = cv2.KeyPoint_convert(dst_pts)\n",
    "dst_des = dsframe_dst_des[in_bounds]"
   ]
  },
  {
   "cell_type": "code",
   "execution_count": null,
   "id": "5009e622-45ef-41b0-b0ce-0af113677962",
   "metadata": {},
   "outputs": [],
   "source": [
    "# Feature matching\n",
    "M, info = utils.calc_warp_transform(\n",
    "    src_kp,\n",
    "    src_des,\n",
    "    dst_kp,\n",
    "    dst_des,\n",
    "    less_reffed_mosaic.feature_matcher,\n",
    ")\n",
    "np.linalg.det(M)"
   ]
  },
  {
   "cell_type": "code",
   "execution_count": null,
   "id": "f21365f4-afb4-4dfc-9009-dc190e530e50",
   "metadata": {},
   "outputs": [],
   "source": [
    "# Inspect relationship\n",
    "mask = info['mask'].reshape(info['mask'].size).astype(bool)\n",
    "valid_src_pts = info['matched_src_pts'].reshape((mask.size, 2))[mask]\n",
    "valid_dst_pts = info['matched_dst_pts'].reshape((mask.size, 2))[mask]"
   ]
  },
  {
   "cell_type": "code",
   "execution_count": null,
   "id": "fa64f0ad-b3fc-499d-ae6b-b85f839d342c",
   "metadata": {},
   "outputs": [],
   "source": [
    "dst_img = less_reffed_mosaic.get_image(x_min, x_max, y_min, y_max)"
   ]
  },
  {
   "cell_type": "code",
   "execution_count": null,
   "id": "1e2ea2b6-4713-409f-9356-3a299a2bcdaf",
   "metadata": {},
   "outputs": [],
   "source": [
    "subplot_mosaic = [['dst_img', 'src_img']]\n",
    "fig = plt.figure(figsize=(20,10))\n",
    "ax_dict = fig.subplot_mosaic(subplot_mosaic)\n",
    "\n",
    "ax = ax_dict['dst_img']\n",
    "ax.imshow(dst_img)\n",
    "\n",
    "ax = ax_dict['src_img']\n",
    "ax.imshow(src_img)\n",
    "\n",
    "for i in range(valid_src_pts.shape[0]):\n",
    "\n",
    "    con = patches.ConnectionPatch(\n",
    "        xyA=valid_dst_pts[i],\n",
    "        xyB=valid_src_pts[i],\n",
    "        coordsA='data',\n",
    "        coordsB='data',\n",
    "        axesA=ax_dict['dst_img'],\n",
    "        axesB=ax_dict['src_img'],\n",
    "        color=palette[1],\n",
    "        linewidth=3,\n",
    "    )\n",
    "    ax.add_artist(con)"
   ]
  },
  {
   "cell_type": "markdown",
   "id": "bffde259-4c71-4e0c-8f3c-6f942a53a5cc",
   "metadata": {},
   "source": [
    "### DEBUG"
   ]
  },
  {
   "cell_type": "code",
   "execution_count": null,
   "id": "3efa43f9-e581-4a71-98b5-ac7b76c6c873",
   "metadata": {},
   "outputs": [],
   "source": [
    "dst_img_zoom_after3 = less_reffed_mosaic.get_image(\n",
    "    row_train['x_min'], row_train['x_max'],\n",
    "    row_train['y_min'], row_train['y_max']\n",
    ")"
   ]
  },
  {
   "cell_type": "code",
   "execution_count": null,
   "id": "abe5466e-5f1b-47fe-80d6-508af0040033",
   "metadata": {},
   "outputs": [],
   "source": [
    "subplot_mosaic = [['before', 'after']]\n",
    "fig = plt.figure(figsize=(20,10))\n",
    "ax_dict = fig.subplot_mosaic(subplot_mosaic)\n",
    "\n",
    "ax = ax_dict['before']\n",
    "ax.imshow(dst_img_zoom_after2)\n",
    "\n",
    "ax = ax_dict['after']\n",
    "ax.imshow(dst_img_zoom_after3)"
   ]
  },
  {
   "cell_type": "markdown",
   "id": "5f76367b-1f83-4e23-a160-d04dde575868",
   "metadata": {},
   "source": [
    "## Full Mosaic\n",
    "\n",
    "Now that we've checked the process, we'll do the full loop."
   ]
  },
  {
   "cell_type": "code",
   "execution_count": null,
   "id": "2a89b10b-beed-49cf-a173-87bdd63441c7",
   "metadata": {},
   "outputs": [],
   "source": [
    "less_reffed_mosaic.predict(X_test[['filepath'] + preprocess.GEOTRANSFORM_COLS], iteration_indices=iter_inds)"
   ]
  },
  {
   "cell_type": "code",
   "execution_count": null,
   "id": "4a88d348-4b19-4b8c-9711-25aead235002",
   "metadata": {},
   "outputs": [],
   "source": [
    "less_reffed_mosaic.log['return_codes']"
   ]
  },
  {
   "cell_type": "code",
   "execution_count": null,
   "id": "66ea7e5c-581f-47f0-9c6a-3bf552a6ae80",
   "metadata": {},
   "outputs": [],
   "source": []
  }
 ],
 "metadata": {
  "kernelspec": {
   "display_name": "Python 3 (ipykernel)",
   "language": "python",
   "name": "python3"
  },
  "language_info": {
   "codemirror_mode": {
    "name": "ipython",
    "version": 3
   },
   "file_extension": ".py",
   "mimetype": "text/x-python",
   "name": "python",
   "nbconvert_exporter": "python",
   "pygments_lexer": "ipython3",
   "version": "3.11.5"
  }
 },
 "nbformat": 4,
 "nbformat_minor": 5
}

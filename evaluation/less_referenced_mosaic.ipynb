{
 "cells": [
  {
   "cell_type": "markdown",
   "id": "7a998f1c-82e1-4acc-b16a-75de02325873",
   "metadata": {},
   "source": [
    "# Referenced Mosaic"
   ]
  },
  {
   "cell_type": "markdown",
   "id": "5e4ede8c-7fb2-4dcf-9193-928321716c33",
   "metadata": {},
   "source": [
    "# Setup"
   ]
  },
  {
   "cell_type": "markdown",
   "id": "af05e098-f19b-45b4-97cc-413ecf0fbdc4",
   "metadata": {},
   "source": [
    "## Imports"
   ]
  },
  {
   "cell_type": "code",
   "execution_count": null,
   "id": "25c75dcb-6592-4a10-a69a-7886c3cb75d0",
   "metadata": {},
   "outputs": [],
   "source": [
    "import os"
   ]
  },
  {
   "cell_type": "code",
   "execution_count": null,
   "id": "313f249d-f0eb-45ea-8cdc-b8f0d46af6ea",
   "metadata": {},
   "outputs": [],
   "source": [
    "import numpy as np\n",
    "import pandas as pd\n",
    "from sklearn.model_selection import train_test_split\n",
    "from sklearn.pipeline import Pipeline\n",
    "from sklearn.utils import check_random_state"
   ]
  },
  {
   "cell_type": "code",
   "execution_count": null,
   "id": "876b1622-25b4-4384-b096-f6bd3367e21a",
   "metadata": {},
   "outputs": [],
   "source": [
    "import matplotlib\n",
    "import matplotlib.pyplot as plt\n",
    "import seaborn as sns\n",
    "sns.set_style('white')"
   ]
  },
  {
   "cell_type": "code",
   "execution_count": null,
   "id": "f7db8f4e-2f00-4d15-96a4-51ebb4eeea23",
   "metadata": {},
   "outputs": [],
   "source": [
    "from night_horizons import utils, preprocess, mosaic, raster, pipelines"
   ]
  },
  {
   "cell_type": "markdown",
   "id": "a2d4a814-de45-4c11-975c-43a21ca7b171",
   "metadata": {},
   "source": [
    "## Settings"
   ]
  },
  {
   "cell_type": "code",
   "execution_count": null,
   "id": "8bfffacf-be23-45a5-91fb-5c1d69b8dbd0",
   "metadata": {},
   "outputs": [],
   "source": [
    "settings = {\n",
    "    'referenced_image_dir': '/Users/Shared/data/nitelite/images/220513-FH135/referenced',\n",
    "    'mosaic_filepath': '/Users/Shared/data/nitelite/mosaics/220513-FH135/referenced3.tiff',\n",
    "    'img_log_fp': '/Users/Shared/data/nitelite/metadata/220513-FH135/image.log',\n",
    "    'imu_log_fp': '/Users/Shared/data/nitelite/metadata/220513-FH135/PresIMULog.csv',\n",
    "    'gps_log_fp': '/Users/Shared/data/nitelite/metadata/220513-FH135/GPSLog.csv',\n",
    "    'overwrite': True,\n",
    "    'random_state': 16849,\n",
    "}"
   ]
  },
  {
   "cell_type": "markdown",
   "id": "a5298c5a-a5d4-46be-93ce-fcbe2f1e6e71",
   "metadata": {},
   "source": [
    "## Parse Settings"
   ]
  },
  {
   "cell_type": "code",
   "execution_count": null,
   "id": "ef2a5c18-9b75-4eb4-a357-e8a6e33db965",
   "metadata": {},
   "outputs": [],
   "source": [
    "random_state = check_random_state(settings['random_state'])"
   ]
  },
  {
   "cell_type": "code",
   "execution_count": null,
   "id": "b4408c5e-dba0-44a3-9cb3-2b5922875880",
   "metadata": {},
   "outputs": [],
   "source": [
    "referenced_fps = utils.discover_data(settings['referenced_image_dir'], ['tif', 'tiff'], pattern=r'Geo\\s\\d+_\\d.tif')"
   ]
  },
  {
   "cell_type": "markdown",
   "id": "17fbb0d9-fbba-423e-895a-84996baf78cd",
   "metadata": {},
   "source": [
    "# Extract/Transform/Load"
   ]
  },
  {
   "cell_type": "markdown",
   "id": "f511240f-6c02-4250-a6c0-ce5c5fd3f684",
   "metadata": {},
   "source": [
    "## Fit the Sensor Georeferencing to Get Spatial Offset"
   ]
  },
  {
   "cell_type": "code",
   "execution_count": null,
   "id": "1e48cdec-152c-490a-b19f-0afb86735a36",
   "metadata": {},
   "outputs": [],
   "source": [
    "sensor_georeference_pipeline_X, sensor_georeference_pipeline_y = pipelines.GeoreferencePipelines.sensor_georeference()"
   ]
  },
  {
   "cell_type": "code",
   "execution_count": null,
   "id": "b1426da5-213d-493e-a6ad-e39ec3dea7a7",
   "metadata": {},
   "outputs": [],
   "source": [
    "sensor_georeference_pipeline_X.set_params(nitelite__output_columns=['filepath', 'sensor_x', 'sensor_y'], sensor_georeference__passthrough=['filepath'])"
   ]
  },
  {
   "cell_type": "code",
   "execution_count": null,
   "id": "a407f336-0cf1-46d0-81be-5b8dca5e0152",
   "metadata": {},
   "outputs": [],
   "source": [
    "y = sensor_georeference_pipeline_y.fit_transform(referenced_fps)"
   ]
  },
  {
   "cell_type": "code",
   "execution_count": null,
   "id": "cb331bb1-8883-4163-8351-7105b86e5db9",
   "metadata": {},
   "outputs": [],
   "source": [
    "sensor_georeference_pipeline_X.fit(\n",
    "    referenced_fps,\n",
    "    y,\n",
    "    nitelite__img_log_fp=settings['img_log_fp'],\n",
    "    nitelite__imu_log_fp=settings['imu_log_fp'],\n",
    "    nitelite__gps_log_fp=settings['gps_log_fp'],\n",
    ")"
   ]
  },
  {
   "cell_type": "code",
   "execution_count": null,
   "id": "45483b20-2086-4b95-b90c-2435eb00a37a",
   "metadata": {},
   "outputs": [],
   "source": [
    "padding = sensor_georeference_pipeline_X.named_steps['sensor_georeference'].spatial_offset_"
   ]
  },
  {
   "cell_type": "code",
   "execution_count": null,
   "id": "0fa111a6-587b-409c-8d63-c49acefafc6a",
   "metadata": {},
   "outputs": [],
   "source": [
    "X = sensor_georeference_pipeline_X.predict(referenced_fps)"
   ]
  },
  {
   "cell_type": "markdown",
   "id": "08a6be5c-4960-4799-b8e1-6662b2cc32e5",
   "metadata": {},
   "source": [
    "## Create the Starting Image for the Mosaic"
   ]
  },
  {
   "cell_type": "code",
   "execution_count": null,
   "id": "43af0d15-e30a-4d3a-b846-74c48c0e5863",
   "metadata": {},
   "outputs": [],
   "source": [
    "import importlib\n",
    "importlib.reload(mosaic)"
   ]
  },
  {
   "cell_type": "code",
   "execution_count": null,
   "id": "2e6d31f1-76e5-4c83-b175-3f2046e26791",
   "metadata": {},
   "outputs": [],
   "source": [
    "fit_row = X.iloc[0]\n",
    "fit_df = pd.DataFrame([fit_row,])"
   ]
  },
  {
   "cell_type": "code",
   "execution_count": null,
   "id": "2b04e42e-b05a-4ea5-9ba3-c254f35f5ce2",
   "metadata": {},
   "outputs": [],
   "source": [
    "if os.path.isfile(settings['mosaic_filepath']) and settings['overwrite']:\n",
    "    os.remove(settings['mosaic_filepath'])"
   ]
  },
  {
   "cell_type": "code",
   "execution_count": null,
   "id": "7f3fad12-6520-48d0-93ee-27a83b0d736b",
   "metadata": {},
   "outputs": [],
   "source": [
    "reffed_mosaic_pipeline = pipelines.MosaicPipelines.referenced_mosaic(settings['mosaic_filepath'])\n",
    "reffed_mosaic_pipeline.set_params(mosaic__padding=padding, mosaic__exist_ok=True)"
   ]
  },
  {
   "cell_type": "code",
   "execution_count": null,
   "id": "9427438d-171e-41a5-a402-77e65831788c",
   "metadata": {},
   "outputs": [],
   "source": [
    "less_reffed_mosaic_pipeline = mosaic.LessReferencedMosaic(filepath=settings['mosaic_filepath'], padding=padding)"
   ]
  },
  {
   "cell_type": "code",
   "execution_count": null,
   "id": "a5b3b750-1c67-4dea-ba3b-78028b817501",
   "metadata": {},
   "outputs": [],
   "source": [
    "# Fit the less-reffed mosaic first because that will create the dataset\n",
    "less_reffed_mosaic_pipeline.fit(X.iloc[1:][['filepath'] + preprocess.GEOTRANSFORM_COLS])"
   ]
  },
  {
   "cell_type": "code",
   "execution_count": null,
   "id": "be50e3b8-b402-4dc2-8c19-3e87edb750b0",
   "metadata": {},
   "outputs": [],
   "source": [
    "# Fit the referenced mosaic to all the referenced images (with padding),\n",
    "# s.t. the created mosaic is large enough\n",
    "# reffed_mosaic_pipeline.fit(X['filepath'])"
   ]
  },
  {
   "cell_type": "code",
   "execution_count": null,
   "id": "faddd375-a126-4147-8a52-b7fb55332f5b",
   "metadata": {},
   "outputs": [],
   "source": [
    "reffed_mosaic_pipeline.named_steps['mosaic'].dataset_"
   ]
  },
  {
   "cell_type": "code",
   "execution_count": null,
   "id": "2a89b10b-beed-49cf-a173-87bdd63441c7",
   "metadata": {},
   "outputs": [],
   "source": [
    "# Then create the referenced mosaic\n",
    "reffed_mosaic_pipeline.fit_transform(fit_df['filepath'])"
   ]
  },
  {
   "cell_type": "code",
   "execution_count": null,
   "id": "5a10d167-c404-447c-a9a2-fa1c239d149e",
   "metadata": {},
   "outputs": [],
   "source": [
    "# Get the data we'll use for the less-referenced mosaic,\n",
    "# including the iteration order\n",
    "X = X.iloc[1:]\n",
    "X[['x_center', 'y_center']] - fit_df[['x_center', 'y_center']]"
   ]
  },
  {
   "cell_type": "code",
   "execution_count": null,
   "id": "3305efb6-8147-4866-af3c-fb54c434d112",
   "metadata": {},
   "outputs": [],
   "source": [
    "# Finally, build off the referenced mosaic\n",
    "less_reffed_mosaic_pipeline.predict(\n",
    "    X.iloc[1:][['filepath'] + preprocess.GEOTRANSFORM_COLS],\n",
    ")"
   ]
  }
 ],
 "metadata": {
  "kernelspec": {
   "display_name": "Python 3 (ipykernel)",
   "language": "python",
   "name": "python3"
  },
  "language_info": {
   "codemirror_mode": {
    "name": "ipython",
    "version": 3
   },
   "file_extension": ".py",
   "mimetype": "text/x-python",
   "name": "python",
   "nbconvert_exporter": "python",
   "pygments_lexer": "ipython3",
   "version": "3.11.5"
  }
 },
 "nbformat": 4,
 "nbformat_minor": 5
}

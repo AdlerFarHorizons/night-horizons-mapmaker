{
 "cells": [
  {
   "cell_type": "markdown",
   "id": "7a998f1c-82e1-4acc-b16a-75de02325873",
   "metadata": {},
   "source": [
    "# Less-Referenced Mosaic\n",
    "\n",
    "This notebook provides a cross-section of the Less-Referenced Mosaic creation process."
   ]
  },
  {
   "cell_type": "markdown",
   "id": "5e4ede8c-7fb2-4dcf-9193-928321716c33",
   "metadata": {},
   "source": [
    "# Setup"
   ]
  },
  {
   "cell_type": "markdown",
   "id": "af05e098-f19b-45b4-97cc-413ecf0fbdc4",
   "metadata": {},
   "source": [
    "## Imports"
   ]
  },
  {
   "cell_type": "code",
   "execution_count": null,
   "id": "25c75dcb-6592-4a10-a69a-7886c3cb75d0",
   "metadata": {},
   "outputs": [],
   "source": [
    "import copy\n",
    "import os"
   ]
  },
  {
   "cell_type": "code",
   "execution_count": null,
   "id": "313f249d-f0eb-45ea-8cdc-b8f0d46af6ea",
   "metadata": {},
   "outputs": [],
   "source": [
    "import cv2\n",
    "import numpy as np\n",
    "import pandas as pd\n",
    "from sklearn.model_selection import train_test_split\n",
    "from sklearn.pipeline import Pipeline\n",
    "from sklearn.utils import check_random_state\n",
    "import yaml"
   ]
  },
  {
   "cell_type": "code",
   "execution_count": null,
   "id": "876b1622-25b4-4384-b096-f6bd3367e21a",
   "metadata": {},
   "outputs": [],
   "source": [
    "import matplotlib\n",
    "import matplotlib.pyplot as plt\n",
    "import matplotlib.patches as patches\n",
    "import seaborn as sns\n",
    "sns.set_style('white')"
   ]
  },
  {
   "cell_type": "code",
   "execution_count": null,
   "id": "f7db8f4e-2f00-4d15-96a4-51ebb4eeea23",
   "metadata": {},
   "outputs": [],
   "source": [
    "from night_horizons import utils, preprocess, reference, mosaic, raster, pipelines"
   ]
  },
  {
   "cell_type": "markdown",
   "id": "a2d4a814-de45-4c11-975c-43a21ca7b171",
   "metadata": {},
   "source": [
    "## Settings"
   ]
  },
  {
   "cell_type": "code",
   "execution_count": null,
   "id": "e8752436-8f23-42d2-8dc9-3de3659d71cc",
   "metadata": {},
   "outputs": [],
   "source": [
    "with open('./config.yml', \"r\", encoding='UTF-8') as file:\n",
    "    settings = yaml.load(file, Loader=yaml.FullLoader)"
   ]
  },
  {
   "cell_type": "code",
   "execution_count": null,
   "id": "8bfffacf-be23-45a5-91fb-5c1d69b8dbd0",
   "metadata": {},
   "outputs": [],
   "source": [
    "local_settings = {\n",
    "    'include_raw_images': True,\n",
    "    'mosaic_filepath': 'mosaics/FH135.tiff',\n",
    "    'random_state': 16849,\n",
    "    'train_size': 1,\n",
    "\n",
    "    # This set of choices assumes we have really good starting positions.\n",
    "    # This is useful for debugging.\n",
    "    'padding_factor': 1.,\n",
    "}\n",
    "settings.update(local_settings)"
   ]
  },
  {
   "cell_type": "markdown",
   "id": "a5298c5a-a5d4-46be-93ce-fcbe2f1e6e71",
   "metadata": {},
   "source": [
    "## Parse Settings"
   ]
  },
  {
   "cell_type": "code",
   "execution_count": null,
   "id": "dd115e86-45c5-458b-9e75-19d40d7186d3",
   "metadata": {},
   "outputs": [],
   "source": [
    "settings['mosaic_filepath'] = os.path.join(settings['data_dir'], settings['mosaic_filepath'])"
   ]
  },
  {
   "cell_type": "code",
   "execution_count": null,
   "id": "83d5aea6-64b2-4388-bdcc-c1cb7ba3f929",
   "metadata": {},
   "outputs": [],
   "source": [
    "for key, relpath in settings['paths_relative_to_data_dir'].items():\n",
    "    settings[key] = os.path.join(settings['data_dir'], relpath)"
   ]
  },
  {
   "cell_type": "code",
   "execution_count": null,
   "id": "ef2a5c18-9b75-4eb4-a357-e8a6e33db965",
   "metadata": {},
   "outputs": [],
   "source": [
    "random_state = check_random_state(settings['random_state'])"
   ]
  },
  {
   "cell_type": "code",
   "execution_count": null,
   "id": "ddb114a1-861a-4ab0-9324-83705e5486d2",
   "metadata": {},
   "outputs": [],
   "source": [
    "palette = sns.color_palette(settings['color_palette'])"
   ]
  },
  {
   "cell_type": "code",
   "execution_count": null,
   "id": "6767f5db-d232-4569-9196-dd3aef89daa8",
   "metadata": {},
   "outputs": [],
   "source": [
    "crs = settings['crs']"
   ]
  },
  {
   "cell_type": "markdown",
   "id": "17fbb0d9-fbba-423e-895a-84996baf78cd",
   "metadata": {},
   "source": [
    "# Prepare Data\n",
    "The first part is to prepare the data (AKA extract/transform/load)."
   ]
  },
  {
   "cell_type": "markdown",
   "id": "5e878e00-72fd-4845-9a97-7c449a893a1f",
   "metadata": {},
   "source": [
    "## Get filepaths"
   ]
  },
  {
   "cell_type": "code",
   "execution_count": null,
   "id": "b4408c5e-dba0-44a3-9cb3-2b5922875880",
   "metadata": {},
   "outputs": [],
   "source": [
    "referenced_fps = utils.discover_data(settings['referenced_images_dir'], ['tif', 'tiff'], pattern=r'Geo\\s\\d+_\\d.tif')"
   ]
  },
  {
   "cell_type": "code",
   "execution_count": null,
   "id": "82833f3e-b353-46d4-aef1-52a6ed89bd72",
   "metadata": {},
   "outputs": [],
   "source": [
    "raw_fps = utils.discover_data(settings['images_dir'], ['tif', 'tiff', 'raw'])"
   ]
  },
  {
   "cell_type": "markdown",
   "id": "28a8eecf-3852-40af-a8d5-891281989cef",
   "metadata": {},
   "source": [
    "## Train-Test Split\n",
    "\n",
    "We split the data into training data (data that is georeferenced) and test data (data that is not georeferenced, or for which we don't use the georeferencing information when we're building the models).\n",
    "\n",
    "We set the train size to some small number, because ideally the user only needs to georeference a couple of images manually."
   ]
  },
  {
   "cell_type": "code",
   "execution_count": null,
   "id": "3fa2f20e-57f7-40cf-b26f-9bdd71249b88",
   "metadata": {},
   "outputs": [],
   "source": [
    "referenced_fps_train, referenced_fps_test = train_test_split(\n",
    "    referenced_fps,\n",
    "    train_size=settings['train_size'],\n",
    "    random_state=settings['random_state'],\n",
    "    shuffle=True,\n",
    ")"
   ]
  },
  {
   "cell_type": "markdown",
   "id": "84856637-8d5f-43e5-b119-067600c26ada",
   "metadata": {},
   "source": [
    "## Combine Referenced and Raw"
   ]
  },
  {
   "cell_type": "code",
   "execution_count": null,
   "id": "c582720c-031b-4313-a507-46c35c616889",
   "metadata": {},
   "outputs": [],
   "source": [
    "# Adjust the index so we don't have duplicates\n",
    "raw_fps.index += referenced_fps.size"
   ]
  },
  {
   "cell_type": "code",
   "execution_count": null,
   "id": "d1f86880-c9e0-4883-9cce-b239bd57243e",
   "metadata": {},
   "outputs": [],
   "source": [
    "# Actual combination\n",
    "fps_train = referenced_fps_train\n",
    "fps_test = referenced_fps_test\n",
    "if settings['include_raw_images']:\n",
    "    fps = pd.concat([referenced_fps_test, raw_fps])\n",
    "else:\n",
    "    fps = referenced_fps_test"
   ]
  },
  {
   "cell_type": "markdown",
   "id": "f511240f-6c02-4250-a6c0-ce5c5fd3f684",
   "metadata": {},
   "source": [
    "## Initial, Approximate Georeferencing\n",
    "We use the sensor (high-altitude balloon) positions to provide approximate georeferencing, which will be useful for saving computational time when building the unreferenced mosaic."
   ]
  },
  {
   "cell_type": "code",
   "execution_count": null,
   "id": "2f76ec89-3fc5-475c-b782-3bcedf2dd1fc",
   "metadata": {},
   "outputs": [],
   "source": [
    "# This is the pipeline for approximate georeferencing\n",
    "sensor_georeference_pipeline = Pipeline([\n",
    "    ('nitelite', preprocess.NITELitePreprocesser(\n",
    "        output_columns=['filepath', 'sensor_x', 'sensor_y', 'camera_num'],\n",
    "        crs=crs,\n",
    "        unhandled_files='warn and drop',\n",
    "    )),\n",
    "    ('sensor_georeference', reference.SensorGeoreferencer(crs=crs, passthrough=['filepath', 'camera_num'])),\n",
    "])\n",
    "\n",
    "sensor_georeference_pipeline_y = preprocess.GeoTIFFPreprocesser(crs=crs)"
   ]
  },
  {
   "cell_type": "code",
   "execution_count": null,
   "id": "a407f336-0cf1-46d0-81be-5b8dca5e0152",
   "metadata": {},
   "outputs": [],
   "source": [
    "# Get the geo-transforms used for training\n",
    "y_train = sensor_georeference_pipeline_y.fit_transform(fps_train)\n",
    "y_test = sensor_georeference_pipeline_y.fit_transform(fps_test)"
   ]
  },
  {
   "cell_type": "code",
   "execution_count": null,
   "id": "cb331bb1-8883-4163-8351-7105b86e5db9",
   "metadata": {},
   "outputs": [],
   "source": [
    "# Train the pipeline\n",
    "sensor_georeference_pipeline.fit(\n",
    "    fps_train,\n",
    "    y_train,\n",
    "    nitelite__img_log_fp=settings['img_log_fp'],\n",
    "    nitelite__imu_log_fp=settings['imu_log_fp'],\n",
    "    nitelite__gps_log_fp=settings['gps_log_fp'],\n",
    ")"
   ]
  },
  {
   "cell_type": "code",
   "execution_count": null,
   "id": "a10bffb3-55fd-43f9-bb28-046d618c442c",
   "metadata": {},
   "outputs": [],
   "source": [
    "# Get the approximate georeferences for the data we'll be testing\n",
    "X = sensor_georeference_pipeline.predict(fps)"
   ]
  },
  {
   "cell_type": "code",
   "execution_count": null,
   "id": "14064a89-5973-4dcf-859f-6e36d1e621a3",
   "metadata": {},
   "outputs": [],
   "source": [
    "# Drop the files that were bad from the test data entirely\n",
    "fps = fps.loc[X.index]\n",
    "y_test = y_test.loc[y_test.index.isin(X.index)]"
   ]
  },
  {
   "cell_type": "code",
   "execution_count": null,
   "id": "2510f825-7cee-4d15-96fb-a328ffeb8fa1",
   "metadata": {},
   "outputs": [],
   "source": [
    "# The score for the fit gives us an estimate of the error from the approximate georeferencing\n",
    "first_pass_error = sensor_georeference_pipeline.score(fps_train, y_train)\n",
    "padding = settings['padding_factor'] * first_pass_error"
   ]
  },
  {
   "cell_type": "code",
   "execution_count": null,
   "id": "067d765b-280f-4e9d-8145-ee397fcb84a0",
   "metadata": {},
   "outputs": [],
   "source": [
    "# Check that our test Xs and ys align\n",
    "n_bad = (y_test['filepath'] != X.loc[y_test.index, 'filepath']).sum()\n",
    "assert n_bad == 0, f'{n_bad} wrong filepaths'"
   ]
  },
  {
   "cell_type": "markdown",
   "id": "071155d1-07ca-4e9a-83f3-7c6506d06e88",
   "metadata": {},
   "source": [
    "# The Mosaic"
   ]
  },
  {
   "cell_type": "markdown",
   "id": "73ec4706-6bac-4d55-8c96-632dbe04e4dc",
   "metadata": {},
   "source": [
    "## Determine order of iteration"
   ]
  },
  {
   "cell_type": "code",
   "execution_count": null,
   "id": "e9ab34d3-2150-4eb0-802d-d243a8a5aab9",
   "metadata": {},
   "outputs": [],
   "source": [
    "# Camera order of iteration--1 is the nader camera, so that's first\n",
    "X['camera_order'] = X['camera_num'].map({0: 1, 1: 0, 2: 2})"
   ]
  },
  {
   "cell_type": "code",
   "execution_count": null,
   "id": "1dd16687-04b5-4f80-bcfe-9ebad5783370",
   "metadata": {},
   "outputs": [],
   "source": [
    "# Proximity order of iteration\n",
    "center_coords = y_train[['x_center', 'y_center']].mean()\n",
    "offset = X[['x_center', 'y_center']] - center_coords\n",
    "X['d_to_center'] = np.linalg.norm(offset, axis=1)"
   ]
  },
  {
   "cell_type": "code",
   "execution_count": null,
   "id": "fa2182af-256a-45fe-bc2f-b106e8502f10",
   "metadata": {},
   "outputs": [],
   "source": [
    "# Actual sort\n",
    "X_iter = X.sort_values(['camera_order', 'd_to_center'])\n",
    "X_iter['order'] = np.arange(len(X_iter))\n",
    "iter_inds = X.index"
   ]
  },
  {
   "cell_type": "markdown",
   "id": "bf13bb96-1286-4cb7-8789-e0681c6d1b29",
   "metadata": {},
   "source": [
    "## Initialization"
   ]
  },
  {
   "cell_type": "code",
   "execution_count": null,
   "id": "9427438d-171e-41a5-a402-77e65831788c",
   "metadata": {},
   "outputs": [],
   "source": [
    "less_reffed_mosaic = mosaic.LessReferencedMosaic(\n",
    "    filepath=settings['mosaic_filepath'],\n",
    "    padding=padding,\n",
    "    file_exists='overwrite',\n",
    ")"
   ]
  },
  {
   "cell_type": "code",
   "execution_count": null,
   "id": "a5b3b750-1c67-4dea-ba3b-78028b817501",
   "metadata": {},
   "outputs": [],
   "source": [
    "# This creates the dataset and adds the referenced mosaic.\n",
    "less_reffed_mosaic.fit(\n",
    "    X=y_train,\n",
    "    approx_y=X_iter[['filepath'] + preprocess.GEOTRANSFORM_COLS],\n",
    ")"
   ]
  },
  {
   "cell_type": "markdown",
   "id": "04c8faea-db3e-4bbf-a58f-a9de615598f1",
   "metadata": {},
   "source": [
    "## Run"
   ]
  },
  {
   "cell_type": "code",
   "execution_count": null,
   "id": "5908cf18-7ef8-4e2e-bbe0-c81dd0f8da5d",
   "metadata": {},
   "outputs": [],
   "source": [
    "y_pred = less_reffed_mosaic.predict(\n",
    "    X_iter[['filepath', ] + preprocess.GEOTRANSFORM_COLS],\n",
    ")"
   ]
  },
  {
   "cell_type": "code",
   "execution_count": null,
   "id": "62c1e20f-0bfe-4a7f-b581-57791d5367c0",
   "metadata": {},
   "outputs": [],
   "source": [
    "less_reffed_mosaic.close()"
   ]
  },
  {
   "cell_type": "code",
   "execution_count": null,
   "id": "cf5f4e0d-a4e0-40f7-a3f3-276fb88744d9",
   "metadata": {},
   "outputs": [],
   "source": []
  }
 ],
 "metadata": {
  "kernelspec": {
   "display_name": "Python 3 (ipykernel)",
   "language": "python",
   "name": "python3"
  },
  "language_info": {
   "codemirror_mode": {
    "name": "ipython",
    "version": 3
   },
   "file_extension": ".py",
   "mimetype": "text/x-python",
   "name": "python",
   "nbconvert_exporter": "python",
   "pygments_lexer": "ipython3",
   "version": "3.11.5"
  }
 },
 "nbformat": 4,
 "nbformat_minor": 5
}

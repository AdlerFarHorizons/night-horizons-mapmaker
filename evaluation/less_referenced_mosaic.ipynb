{
 "cells": [
  {
   "cell_type": "markdown",
   "id": "7a998f1c-82e1-4acc-b16a-75de02325873",
   "metadata": {},
   "source": [
    "# Less-Referenced Mosaic\n",
    "\n",
    "This notebook provides a cross-section of the Less-Referenced Mosaic creation process."
   ]
  },
  {
   "cell_type": "markdown",
   "id": "5e4ede8c-7fb2-4dcf-9193-928321716c33",
   "metadata": {},
   "source": [
    "# Setup"
   ]
  },
  {
   "cell_type": "markdown",
   "id": "af05e098-f19b-45b4-97cc-413ecf0fbdc4",
   "metadata": {},
   "source": [
    "## Imports"
   ]
  },
  {
   "cell_type": "code",
   "execution_count": null,
   "id": "25c75dcb-6592-4a10-a69a-7886c3cb75d0",
   "metadata": {},
   "outputs": [],
   "source": [
    "import os"
   ]
  },
  {
   "cell_type": "code",
   "execution_count": null,
   "id": "313f249d-f0eb-45ea-8cdc-b8f0d46af6ea",
   "metadata": {},
   "outputs": [],
   "source": [
    "import numpy as np\n",
    "import pandas as pd\n",
    "from sklearn.model_selection import train_test_split\n",
    "from sklearn.pipeline import Pipeline\n",
    "from sklearn.utils import check_random_state\n",
    "import yaml"
   ]
  },
  {
   "cell_type": "code",
   "execution_count": null,
   "id": "876b1622-25b4-4384-b096-f6bd3367e21a",
   "metadata": {},
   "outputs": [],
   "source": [
    "import matplotlib\n",
    "import matplotlib.pyplot as plt\n",
    "import matplotlib.patches as patches\n",
    "import seaborn as sns\n",
    "sns.set_style('white')"
   ]
  },
  {
   "cell_type": "code",
   "execution_count": null,
   "id": "f7db8f4e-2f00-4d15-96a4-51ebb4eeea23",
   "metadata": {},
   "outputs": [],
   "source": [
    "from night_horizons import utils, preprocess, mosaic, raster, pipelines"
   ]
  },
  {
   "cell_type": "markdown",
   "id": "a2d4a814-de45-4c11-975c-43a21ca7b171",
   "metadata": {},
   "source": [
    "## Settings"
   ]
  },
  {
   "cell_type": "code",
   "execution_count": null,
   "id": "e8752436-8f23-42d2-8dc9-3de3659d71cc",
   "metadata": {},
   "outputs": [],
   "source": [
    "with open('./config.yml', \"r\", encoding='UTF-8') as file:\n",
    "    settings = yaml.load(file, Loader=yaml.FullLoader)"
   ]
  },
  {
   "cell_type": "code",
   "execution_count": null,
   "id": "8bfffacf-be23-45a5-91fb-5c1d69b8dbd0",
   "metadata": {},
   "outputs": [],
   "source": [
    "local_settings = {\n",
    "    'mosaic_filepath': 'mosaics/referenced3.tiff',\n",
    "    'overwrite': True,\n",
    "    'random_state': 16849,\n",
    "    'train_size': 1,\n",
    "    'padding_factor': 2.,\n",
    "}\n",
    "settings.update(local_settings)"
   ]
  },
  {
   "cell_type": "markdown",
   "id": "a5298c5a-a5d4-46be-93ce-fcbe2f1e6e71",
   "metadata": {},
   "source": [
    "## Parse Settings"
   ]
  },
  {
   "cell_type": "code",
   "execution_count": null,
   "id": "dd115e86-45c5-458b-9e75-19d40d7186d3",
   "metadata": {},
   "outputs": [],
   "source": [
    "settings['mosaic_filepath'] = os.path.join(settings['data_dir'], settings['mosaic_filepath'])"
   ]
  },
  {
   "cell_type": "code",
   "execution_count": null,
   "id": "83d5aea6-64b2-4388-bdcc-c1cb7ba3f929",
   "metadata": {},
   "outputs": [],
   "source": [
    "for key, relpath in settings['paths_relative_to_data_dir'].items():\n",
    "    settings[key] = os.path.join(settings['data_dir'], relpath)"
   ]
  },
  {
   "cell_type": "code",
   "execution_count": null,
   "id": "ef2a5c18-9b75-4eb4-a357-e8a6e33db965",
   "metadata": {},
   "outputs": [],
   "source": [
    "random_state = check_random_state(settings['random_state'])"
   ]
  },
  {
   "cell_type": "code",
   "execution_count": null,
   "id": "b4408c5e-dba0-44a3-9cb3-2b5922875880",
   "metadata": {},
   "outputs": [],
   "source": [
    "referenced_fps = utils.discover_data(settings['referenced_images_dir'], ['tif', 'tiff'], pattern=r'Geo\\s\\d+_\\d.tif')"
   ]
  },
  {
   "cell_type": "code",
   "execution_count": null,
   "id": "ddb114a1-861a-4ab0-9324-83705e5486d2",
   "metadata": {},
   "outputs": [],
   "source": [
    "palette = sns.color_palette(settings['color_palette'])"
   ]
  },
  {
   "cell_type": "markdown",
   "id": "17fbb0d9-fbba-423e-895a-84996baf78cd",
   "metadata": {},
   "source": [
    "# Prepare Data\n",
    "The first part is to prepare the data (AKA extract/transform/load)."
   ]
  },
  {
   "cell_type": "markdown",
   "id": "28a8eecf-3852-40af-a8d5-891281989cef",
   "metadata": {},
   "source": [
    "## Train-Test Split\n",
    "\n",
    "We split the data into training data (data that is georeferenced) and test data (data that is not georeferenced, or for which we don't use the georeferencing information when we're building the models).\n",
    "\n",
    "We set the train size to some small number, because ideally the user only needs to georeference a couple of images manually."
   ]
  },
  {
   "cell_type": "code",
   "execution_count": null,
   "id": "1a4089fd-f097-4f47-b8c1-3c5f54cb0720",
   "metadata": {},
   "outputs": [],
   "source": [
    "settings['train_size']"
   ]
  },
  {
   "cell_type": "code",
   "execution_count": null,
   "id": "3fa2f20e-57f7-40cf-b26f-9bdd71249b88",
   "metadata": {},
   "outputs": [],
   "source": [
    "fps_train, fps_test = train_test_split(referenced_fps, train_size=settings['train_size'], random_state=settings['random_state'])"
   ]
  },
  {
   "cell_type": "markdown",
   "id": "f511240f-6c02-4250-a6c0-ce5c5fd3f684",
   "metadata": {},
   "source": [
    "## Initial, Approximate Georeferencing\n",
    "We use the sensor (high-altitude balloon) positions to provide approximate georeferencing, which will be useful for saving computational time when building the unreferenced mosaic."
   ]
  },
  {
   "cell_type": "code",
   "execution_count": null,
   "id": "1e48cdec-152c-490a-b19f-0afb86735a36",
   "metadata": {},
   "outputs": [],
   "source": [
    "# Get the pipeline(s)\n",
    "sensor_georeference_pipeline, sensor_georeference_pipeline_y = pipelines.GeoreferencePipelines.sensor_georeference()\n",
    "sensor_georeference_pipeline.set_params(nitelite__output_columns=['filepath', 'sensor_x', 'sensor_y'], sensor_georeference__passthrough=['filepath'])"
   ]
  },
  {
   "cell_type": "code",
   "execution_count": null,
   "id": "a407f336-0cf1-46d0-81be-5b8dca5e0152",
   "metadata": {},
   "outputs": [],
   "source": [
    "# Get the geo-transforms used for training\n",
    "geotransforms_train = sensor_georeference_pipeline_y.fit_transform(fps_train)"
   ]
  },
  {
   "cell_type": "code",
   "execution_count": null,
   "id": "cb331bb1-8883-4163-8351-7105b86e5db9",
   "metadata": {},
   "outputs": [],
   "source": [
    "# Train the pipeline\n",
    "sensor_georeference_pipeline.fit(\n",
    "    fps_train,\n",
    "    geotransforms_train,\n",
    "    nitelite__img_log_fp=settings['img_log_fp'],\n",
    "    nitelite__imu_log_fp=settings['imu_log_fp'],\n",
    "    nitelite__gps_log_fp=settings['gps_log_fp'],\n",
    ")"
   ]
  },
  {
   "cell_type": "code",
   "execution_count": null,
   "id": "0fa111a6-587b-409c-8d63-c49acefafc6a",
   "metadata": {},
   "outputs": [],
   "source": [
    "# Get the approximate georeferences for the data we'll be testing\n",
    "X_test = sensor_georeference_pipeline.predict(fps_test)"
   ]
  },
  {
   "cell_type": "code",
   "execution_count": null,
   "id": "2510f825-7cee-4d15-96fb-a328ffeb8fa1",
   "metadata": {},
   "outputs": [],
   "source": [
    "# The score for the fit gives us an estimate of the error from the approximate georeferencing\n",
    "first_pass_error = sensor_georeference_pipeline.score(fps_train, geotransforms_train)\n",
    "padding = settings['padding_factor'] * first_pass_error"
   ]
  },
  {
   "cell_type": "markdown",
   "id": "cb660bca-298f-45ba-9d0b-246e6f78bfd8",
   "metadata": {},
   "source": [
    "## Create the Containing Mosaic Dataset\n",
    "\n",
    "We need to create this at this time to meet two requirements: \n",
    "1. The dataset bounds are large enough to contain all the images, not just the training images.\n",
    "2. The mosaic created from the training images are saved here."
   ]
  },
  {
   "cell_type": "code",
   "execution_count": null,
   "id": "2b04e42e-b05a-4ea5-9ba3-c254f35f5ce2",
   "metadata": {},
   "outputs": [],
   "source": [
    "# If we want to start fresh\n",
    "if os.path.isfile(settings['mosaic_filepath']) and settings['overwrite']:\n",
    "    os.remove(settings['mosaic_filepath'])"
   ]
  },
  {
   "cell_type": "code",
   "execution_count": null,
   "id": "d1c91e40-0f27-410c-86fd-0ce4c79f0b56",
   "metadata": {},
   "outputs": [],
   "source": [
    "mos = mosaic.Mosaic(settings['mosaic_filepath'], padding=first_pass_error * 2.)"
   ]
  },
  {
   "cell_type": "code",
   "execution_count": null,
   "id": "03ab9d92-89b4-4604-a45c-61e8eab240e3",
   "metadata": {},
   "outputs": [],
   "source": [
    "# The dataset is created during the fit.\n",
    "mos.fit(X_test[['filepath'] + preprocess.GEOTRANSFORM_COLS])"
   ]
  },
  {
   "cell_type": "code",
   "execution_count": null,
   "id": "93ce16a0-7978-4456-b046-ece94144d7f7",
   "metadata": {},
   "outputs": [],
   "source": [
    "# Close the dataset so we can write to it.\n",
    "mos.dataset_.FlushCache()\n",
    "mos.dataset_ = None"
   ]
  },
  {
   "cell_type": "markdown",
   "id": "08a6be5c-4960-4799-b8e1-6662b2cc32e5",
   "metadata": {},
   "source": [
    "## Create the Starting Image for the Mosaic\n",
    "\n",
    "The starting image is a mosaic of the images that are referenced."
   ]
  },
  {
   "cell_type": "code",
   "execution_count": null,
   "id": "7f3fad12-6520-48d0-93ee-27a83b0d736b",
   "metadata": {},
   "outputs": [],
   "source": [
    "# We use our canned pipeline for building a referenced mosaic\n",
    "reffed_mosaic_pipeline = pipelines.MosaicPipelines.referenced_mosaic(settings['mosaic_filepath'])\n",
    "reffed_mosaic_pipeline.set_params(mosaic__exist_ok=True)"
   ]
  },
  {
   "cell_type": "code",
   "execution_count": null,
   "id": "be50e3b8-b402-4dc2-8c19-3e87edb750b0",
   "metadata": {},
   "outputs": [],
   "source": [
    "# Actual creation\n",
    "reffed_mosaic_pipeline.fit_transform(fps_train)"
   ]
  },
  {
   "cell_type": "markdown",
   "id": "071155d1-07ca-4e9a-83f3-7c6506d06e88",
   "metadata": {},
   "source": [
    "# The Mosaic"
   ]
  },
  {
   "cell_type": "code",
   "execution_count": null,
   "id": "9427438d-171e-41a5-a402-77e65831788c",
   "metadata": {},
   "outputs": [],
   "source": [
    "less_reffed_mosaic = mosaic.LessReferencedMosaic(filepath=settings['mosaic_filepath'], padding=padding)"
   ]
  },
  {
   "cell_type": "code",
   "execution_count": null,
   "id": "a5b3b750-1c67-4dea-ba3b-78028b817501",
   "metadata": {},
   "outputs": [],
   "source": [
    "# First, the fit. This just gets the dataset information, since it already exists.\n",
    "less_reffed_mosaic.fit(geotransforms_train)"
   ]
  },
  {
   "cell_type": "markdown",
   "id": "57f30588-8fee-4a76-a005-5c6cda849d67",
   "metadata": {},
   "source": [
    "## Determine order of iteration"
   ]
  },
  {
   "cell_type": "code",
   "execution_count": null,
   "id": "3c4d3f0c-4db9-4413-a3c2-9e2b9a465d25",
   "metadata": {},
   "outputs": [],
   "source": [
    "# We'll get the rows in the order we iterate over\n",
    "# This is based on distance to the central image. \n",
    "iter_inds = less_reffed_mosaic.calc_iteration_indices(X_test)\n",
    "X_iter = X_test.loc[iter_inds]\n",
    "X_iter['order'] = np.arange(len(X_iter))"
   ]
  },
  {
   "cell_type": "code",
   "execution_count": null,
   "id": "b9f0eb35-ecdc-47ab-afb2-57f56010abdd",
   "metadata": {},
   "outputs": [],
   "source": [
    "# Let's take a look.\n",
    "sp = sns.scatterplot(\n",
    "    data=X_iter,\n",
    "    x='x_center',\n",
    "    y='y_center',\n",
    "    hue='order',\n",
    ")\n",
    "sp.set_aspect('equal')"
   ]
  },
  {
   "cell_type": "markdown",
   "id": "04c8faea-db3e-4bbf-a58f-a9de615598f1",
   "metadata": {},
   "source": [
    "## First Image\n",
    "We'll test the first loop in greater detail than the others."
   ]
  },
  {
   "cell_type": "code",
   "execution_count": null,
   "id": "ac71b3a1-0b40-43ba-a96d-b8e1005579f0",
   "metadata": {},
   "outputs": [],
   "source": [
    "i = 0\n",
    "row = X_iter.iloc[i]"
   ]
  },
  {
   "cell_type": "code",
   "execution_count": null,
   "id": "37c133a9-e317-4a1b-8a80-d40764588c4d",
   "metadata": {},
   "outputs": [],
   "source": [
    "# The empty image at the time of the first loop\n",
    "mosaic_img = less_reffed_mosaic.dataset_.ReadAsArray().transpose(1, 2, 0)"
   ]
  },
  {
   "cell_type": "markdown",
   "id": "6347222c-f560-4d1e-baea-d6b45f0f3157",
   "metadata": {},
   "source": [
    "### Search Region in the Context of the Full Mosaic"
   ]
  },
  {
   "cell_type": "code",
   "execution_count": null,
   "id": "4a8dbf46-b78c-4f55-bd28-e223611715eb",
   "metadata": {},
   "outputs": [],
   "source": [
    "# Expected bounds\n",
    "x_min = row['x_min'] - less_reffed_mosaic.padding\n",
    "x_max = row['x_max'] + less_reffed_mosaic.padding\n",
    "y_min = row['y_min'] - less_reffed_mosaic.padding\n",
    "y_max = row['y_max'] + less_reffed_mosaic.padding"
   ]
  },
  {
   "cell_type": "code",
   "execution_count": null,
   "id": "1c253418-495e-4501-9343-d71199499b62",
   "metadata": {},
   "outputs": [],
   "source": [
    "# Convert to offset and size\n",
    "x_off, y_off, x_size, y_size = less_reffed_mosaic.bounds_to_offset(x_min, x_max, y_min, y_max)"
   ]
  },
  {
   "cell_type": "code",
   "execution_count": null,
   "id": "f300c306-7ffc-4816-825a-9dbedfb64671",
   "metadata": {},
   "outputs": [],
   "source": [
    "fig = plt.figure(figsize=(20,10))\n",
    "ax = plt.gca()\n",
    "\n",
    "# Current mosaic\n",
    "ax.imshow(mosaic_img)\n",
    "\n",
    "# The first image location\n",
    "rect = patches.Rectangle(\n",
    "    (x_off, y_off),\n",
    "    x_size,\n",
    "    y_size,\n",
    "    linewidth = 3,\n",
    "    facecolor = 'none',\n",
    "    edgecolor = palette[0],\n",
    ")\n",
    "ax.add_patch(rect)"
   ]
  },
  {
   "cell_type": "markdown",
   "id": "ca2701b6-7813-40e7-bd3f-cf7b8ef4d5be",
   "metadata": {},
   "source": [
    "### Search Region Image "
   ]
  },
  {
   "cell_type": "code",
   "execution_count": null,
   "id": "7915ac8d-305f-4e53-896e-8e959aa132ed",
   "metadata": {},
   "outputs": [],
   "source": [
    "# The existing mosaic at this location\n",
    "dst_img = less_reffed_mosaic.get_image(x_min, x_max, y_min, y_max)"
   ]
  },
  {
   "cell_type": "code",
   "execution_count": null,
   "id": "95c18e9a-7384-461a-a90c-3f6947ead37e",
   "metadata": {},
   "outputs": [],
   "source": [
    "# At this time we expect all data added to the mosaic to be within the bounds of the search region\n",
    "assert dst_img.sum() == mosaic_img.sum()"
   ]
  },
  {
   "cell_type": "markdown",
   "id": "c5a10e67-ada1-4a12-8360-a62f75d8ffd4",
   "metadata": {},
   "source": [
    "This is plotted below with matched features."
   ]
  },
  {
   "cell_type": "code",
   "execution_count": null,
   "id": "76c4743a-5bd3-483a-9090-26e85fff056e",
   "metadata": {},
   "outputs": [],
   "source": [
    "# Here's a zoomed in version so we know what we should be looking at.\n",
    "row_train = geotransforms_train.iloc[0]\n",
    "dst_img_zoom = less_reffed_mosaic.get_image(\n",
    "    row_train['x_min'], row_train['x_max'],\n",
    "    row_train['y_min'], row_train['y_max']\n",
    ")\n",
    "plt.imshow(dst_img_zoom)"
   ]
  },
  {
   "cell_type": "markdown",
   "id": "5178b10a-4785-4122-ab54-bbea96f1ad92",
   "metadata": {},
   "source": [
    "### New Image"
   ]
  },
  {
   "cell_type": "code",
   "execution_count": null,
   "id": "cedc4f19-3436-40e2-bed0-6a59580a862a",
   "metadata": {},
   "outputs": [],
   "source": [
    "src_img = utils.load_image(\n",
    "    row['filepath'],\n",
    "    dtype=less_reffed_mosaic.dtype,\n",
    ")"
   ]
  },
  {
   "cell_type": "markdown",
   "id": "6e8ed231-00d6-4079-a01e-208fb793c4f2",
   "metadata": {},
   "source": [
    "This is plotted below with matched features."
   ]
  },
  {
   "cell_type": "markdown",
   "id": "29c1b394-d2c1-4c18-9b98-a31328d2ce8e",
   "metadata": {},
   "source": [
    "### Feature Matching"
   ]
  },
  {
   "cell_type": "code",
   "execution_count": null,
   "id": "b955443d-5846-4583-a2b5-e901ce608ca6",
   "metadata": {},
   "outputs": [],
   "source": [
    "# Get and validate the transform predicted from feature matching\n",
    "M, info = utils.calc_warp_transform(src_img, dst_img)\n",
    "assert utils.validate_warp_transform(M, less_reffed_mosaic.homography_det_min)"
   ]
  },
  {
   "cell_type": "code",
   "execution_count": null,
   "id": "721048c3-56cd-4089-a3b1-305ba68ae622",
   "metadata": {},
   "outputs": [],
   "source": [
    "# Inspect relationship\n",
    "mask = info['mask'].reshape(info['mask'].size).astype(bool)\n",
    "valid_src_pts = info['src_pts'].reshape((mask.size, 2))[mask]\n",
    "valid_dst_pts = info['dst_pts'].reshape((mask.size, 2))[mask]"
   ]
  },
  {
   "cell_type": "code",
   "execution_count": null,
   "id": "08ad10e3-864d-41e0-9270-ac54a18c1f40",
   "metadata": {},
   "outputs": [],
   "source": [
    "subplot_mosaic = [['dst_img', 'src_img']]\n",
    "fig = plt.figure(figsize=(20,10))\n",
    "ax_dict = fig.subplot_mosaic(subplot_mosaic)\n",
    "\n",
    "ax = ax_dict['dst_img']\n",
    "ax.imshow(dst_img)\n",
    "\n",
    "ax = ax_dict['src_img']\n",
    "ax.imshow(src_img)\n",
    "\n",
    "for i in range(valid_src_pts.shape[0]):\n",
    "\n",
    "    con = patches.ConnectionPatch(\n",
    "        xyA=valid_dst_pts[i],\n",
    "        xyB=valid_src_pts[i],\n",
    "        coordsA='data',\n",
    "        coordsB='data',\n",
    "        axesA=ax_dict['dst_img'],\n",
    "        axesB=ax_dict['src_img'],\n",
    "        color=palette[1],\n",
    "        linewidth=3,\n",
    "    )\n",
    "    ax.add_artist(con)"
   ]
  },
  {
   "cell_type": "markdown",
   "id": "e67d2d0c-9091-4d18-b623-3af3a235168f",
   "metadata": {},
   "source": [
    "The feature matching above should look pretty good. It does as I'm writing this."
   ]
  },
  {
   "cell_type": "markdown",
   "id": "16442e71-4b08-4fd6-ac5c-8f779218e59b",
   "metadata": {},
   "source": [
    "### Warp the Source Image"
   ]
  },
  {
   "cell_type": "code",
   "execution_count": null,
   "id": "1b8c42ea-d003-4245-96a8-96e2aab0faf7",
   "metadata": {},
   "outputs": [],
   "source": [
    "# Warp the image being fit\n",
    "warped_img = utils.warp_image(src_img, dst_img, M)"
   ]
  },
  {
   "cell_type": "code",
   "execution_count": null,
   "id": "4a3a9e95-fbcc-43ed-b258-a68909bc5259",
   "metadata": {},
   "outputs": [],
   "source": [
    "plt.imshow(warped_img)"
   ]
  },
  {
   "cell_type": "code",
   "execution_count": null,
   "id": "4adb8e6b-9f50-42a2-b7ac-ed865c0e8ce0",
   "metadata": {},
   "outputs": [],
   "source": [
    "# The warped image should have the same dimensions as the dst img\n",
    "assert warped_img.shape[:2] == dst_img.shape[:2]"
   ]
  },
  {
   "cell_type": "markdown",
   "id": "fc2b6a90-5c19-4932-8cce-0d5d87ba3a16",
   "metadata": {},
   "source": [
    "### Blend the images"
   ]
  },
  {
   "cell_type": "code",
   "execution_count": null,
   "id": "ca91177e-ea40-4e0b-9da2-781bd8a07c7d",
   "metadata": {},
   "outputs": [],
   "source": [
    "blended_img = less_reffed_mosaic.blend_images(\n",
    "    src_img=warped_img,\n",
    "    dst_img=dst_img,\n",
    ")"
   ]
  },
  {
   "cell_type": "code",
   "execution_count": null,
   "id": "e87ceb5c-1250-4009-aff6-113d50ed28c0",
   "metadata": {},
   "outputs": [],
   "source": [
    "plt.imshow(blended_img)"
   ]
  },
  {
   "cell_type": "markdown",
   "id": "0d198f0a-6990-42af-870c-264348a5945c",
   "metadata": {},
   "source": [
    "### Save and look at the mosaic"
   ]
  },
  {
   "cell_type": "code",
   "execution_count": null,
   "id": "c32be657-c624-480e-8cec-96e91b72d2c2",
   "metadata": {},
   "outputs": [],
   "source": [
    "less_reffed_mosaic.save_image(blended_img, x_min, x_max, y_min, y_max)"
   ]
  },
  {
   "cell_type": "code",
   "execution_count": null,
   "id": "61bb0d44-b5a4-4301-856e-495916ef0e83",
   "metadata": {},
   "outputs": [],
   "source": [
    "# Get the region of just the first image for comparison from before\n",
    "dst_img_zoom_after = less_reffed_mosaic.get_image(\n",
    "    row_train['x_min'], row_train['x_max'],\n",
    "    row_train['y_min'], row_train['y_max']\n",
    ")"
   ]
  },
  {
   "cell_type": "code",
   "execution_count": null,
   "id": "f4c74871-8acc-4249-8b8b-f69d4e5021ec",
   "metadata": {},
   "outputs": [],
   "source": [
    "# More content should have been added\n",
    "assert dst_img_zoom_after.sum() > dst_img_zoom.sum()"
   ]
  },
  {
   "cell_type": "code",
   "execution_count": null,
   "id": "20b972e0-0573-4d15-879a-eab640932258",
   "metadata": {},
   "outputs": [],
   "source": [
    "subplot_mosaic = [['before', 'after']]\n",
    "fig = plt.figure(figsize=(20,10))\n",
    "ax_dict = fig.subplot_mosaic(subplot_mosaic)\n",
    "\n",
    "ax = ax_dict['before']\n",
    "ax.imshow(dst_img_zoom)\n",
    "\n",
    "ax = ax_dict['after']\n",
    "ax.imshow(dst_img_zoom_after)"
   ]
  },
  {
   "cell_type": "markdown",
   "id": "3d29fab6-a135-4988-b446-546531539677",
   "metadata": {},
   "source": [
    "## Next Image"
   ]
  },
  {
   "cell_type": "code",
   "execution_count": null,
   "id": "67631862-c4d9-4b1a-8b3c-099ee495a5c3",
   "metadata": {},
   "outputs": [],
   "source": [
    "i = 1\n",
    "row = X_iter.iloc[i]"
   ]
  },
  {
   "cell_type": "code",
   "execution_count": null,
   "id": "4c4a1a28-cad6-47b9-82ca-b138919e167b",
   "metadata": {},
   "outputs": [],
   "source": [
    "# Expected bounds\n",
    "x_min = row['x_min'] - less_reffed_mosaic.padding\n",
    "x_max = row['x_max'] + less_reffed_mosaic.padding\n",
    "y_min = row['y_min'] - less_reffed_mosaic.padding\n",
    "y_max = row['y_max'] + less_reffed_mosaic.padding"
   ]
  },
  {
   "cell_type": "code",
   "execution_count": null,
   "id": "2529a5bc-08dd-41b6-9a8b-f21d1f305ec5",
   "metadata": {},
   "outputs": [],
   "source": [
    "# The existing mosaic at this location\n",
    "dst_img = less_reffed_mosaic.get_image(x_min, x_max, y_min, y_max)"
   ]
  },
  {
   "cell_type": "code",
   "execution_count": null,
   "id": "c786f37b-9bdf-43e5-8b54-5dd595482488",
   "metadata": {},
   "outputs": [],
   "source": [
    "src_img = utils.load_image(\n",
    "    row['filepath'],\n",
    "    dtype=less_reffed_mosaic.dtype,\n",
    ")"
   ]
  },
  {
   "cell_type": "code",
   "execution_count": null,
   "id": "403fede5-5650-4194-8ded-5f6dc04d0e05",
   "metadata": {},
   "outputs": [],
   "source": [
    "# Get and validate the transform predicted from feature matching\n",
    "M, info = utils.calc_warp_transform(src_img, dst_img)\n",
    "# assert utils.validate_warp_transform(M, less_reffed_mosaic.homography_det_min)"
   ]
  },
  {
   "cell_type": "code",
   "execution_count": null,
   "id": "0f3138cb-cb49-414d-9ae5-6f5abe14df99",
   "metadata": {},
   "outputs": [],
   "source": [
    "# Inspect relationship\n",
    "mask = info['mask'].reshape(info['mask'].size).astype(bool)\n",
    "valid_src_pts = info['src_pts'].reshape((mask.size, 2))[mask]\n",
    "valid_dst_pts = info['dst_pts'].reshape((mask.size, 2))[mask]"
   ]
  },
  {
   "cell_type": "code",
   "execution_count": null,
   "id": "2c90932f-0310-4665-99df-df45edaf9bbb",
   "metadata": {},
   "outputs": [],
   "source": [
    "subplot_mosaic = [['dst_img', 'src_img']]\n",
    "fig = plt.figure(figsize=(20,10))\n",
    "ax_dict = fig.subplot_mosaic(subplot_mosaic)\n",
    "\n",
    "ax = ax_dict['dst_img']\n",
    "ax.imshow(dst_img)\n",
    "\n",
    "ax = ax_dict['src_img']\n",
    "ax.imshow(src_img)\n",
    "\n",
    "for i in range(valid_src_pts.shape[0]):\n",
    "\n",
    "    con = patches.ConnectionPatch(\n",
    "        xyA=valid_dst_pts[i],\n",
    "        xyB=valid_src_pts[i],\n",
    "        coordsA='data',\n",
    "        coordsB='data',\n",
    "        axesA=ax_dict['dst_img'],\n",
    "        axesB=ax_dict['src_img'],\n",
    "        color=palette[1],\n",
    "        linewidth=3,\n",
    "    )\n",
    "    ax.add_artist(con)"
   ]
  },
  {
   "cell_type": "markdown",
   "id": "c60acb02-459d-4188-b63d-19fb44bfcae3",
   "metadata": {},
   "source": [
    "This is clearly of a different area, probably because it's from a different camera, so the sensor approximation is not-so-great.\n",
    "I think I'll have to include camera number in iteration order."
   ]
  },
  {
   "cell_type": "code",
   "execution_count": null,
   "id": "c499cee6-e6d4-46fc-a387-c8c454737ab3",
   "metadata": {},
   "outputs": [],
   "source": [
    "src_img = utils.load_image(\n",
    "    row['filepath'],\n",
    "    dtype=less_reffed_mosaic.dtype,\n",
    ")"
   ]
  },
  {
   "cell_type": "code",
   "execution_count": null,
   "id": "8138e7e6-c809-4546-9e38-899001d0411e",
   "metadata": {},
   "outputs": [],
   "source": [
    "return_code, info = less_reffed_mosaic.incorporate_image(row)"
   ]
  },
  {
   "cell_type": "markdown",
   "id": "5f76367b-1f83-4e23-a160-d04dde575868",
   "metadata": {},
   "source": [
    "## Full Mosaic\n",
    "\n",
    "Now that we've checked the process, we'll do the full loop."
   ]
  },
  {
   "cell_type": "code",
   "execution_count": null,
   "id": "2a89b10b-beed-49cf-a173-87bdd63441c7",
   "metadata": {},
   "outputs": [],
   "source": [
    "# Then create the referenced mosaic\n",
    "# less_reffed_mosaic.predict(X_test[['filepath'] + preprocess.GEOTRANSFORM_COLS])"
   ]
  }
 ],
 "metadata": {
  "kernelspec": {
   "display_name": "Python 3 (ipykernel)",
   "language": "python",
   "name": "python3"
  },
  "language_info": {
   "codemirror_mode": {
    "name": "ipython",
    "version": 3
   },
   "file_extension": ".py",
   "mimetype": "text/x-python",
   "name": "python",
   "nbconvert_exporter": "python",
   "pygments_lexer": "ipython3",
   "version": "3.11.5"
  }
 },
 "nbformat": 4,
 "nbformat_minor": 5
}

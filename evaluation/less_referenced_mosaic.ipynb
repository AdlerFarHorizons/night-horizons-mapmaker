{
 "cells": [
  {
   "cell_type": "markdown",
   "id": "7a998f1c-82e1-4acc-b16a-75de02325873",
   "metadata": {},
   "source": [
    "# Less-Referenced Mosaic\n",
    "\n",
    "This notebook provides a cross-section of the Less-Referenced Mosaic creation process."
   ]
  },
  {
   "cell_type": "markdown",
   "id": "5e4ede8c-7fb2-4dcf-9193-928321716c33",
   "metadata": {},
   "source": [
    "# Setup"
   ]
  },
  {
   "cell_type": "markdown",
   "id": "af05e098-f19b-45b4-97cc-413ecf0fbdc4",
   "metadata": {},
   "source": [
    "## Imports"
   ]
  },
  {
   "cell_type": "code",
   "execution_count": null,
   "id": "25c75dcb-6592-4a10-a69a-7886c3cb75d0",
   "metadata": {},
   "outputs": [],
   "source": [
    "import os"
   ]
  },
  {
   "cell_type": "code",
   "execution_count": null,
   "id": "313f249d-f0eb-45ea-8cdc-b8f0d46af6ea",
   "metadata": {},
   "outputs": [],
   "source": [
    "import numpy as np\n",
    "import pandas as pd\n",
    "from sklearn.model_selection import train_test_split\n",
    "from sklearn.pipeline import Pipeline\n",
    "from sklearn.utils import check_random_state\n",
    "import yaml"
   ]
  },
  {
   "cell_type": "code",
   "execution_count": null,
   "id": "876b1622-25b4-4384-b096-f6bd3367e21a",
   "metadata": {},
   "outputs": [],
   "source": [
    "import matplotlib\n",
    "import matplotlib.pyplot as plt\n",
    "import matplotlib.patches as patches\n",
    "import seaborn as sns\n",
    "sns.set_style('white')"
   ]
  },
  {
   "cell_type": "code",
   "execution_count": null,
   "id": "f7db8f4e-2f00-4d15-96a4-51ebb4eeea23",
   "metadata": {},
   "outputs": [],
   "source": [
    "from night_horizons import utils, preprocess, mosaic, raster, pipelines"
   ]
  },
  {
   "cell_type": "markdown",
   "id": "a2d4a814-de45-4c11-975c-43a21ca7b171",
   "metadata": {},
   "source": [
    "## Settings"
   ]
  },
  {
   "cell_type": "code",
   "execution_count": null,
   "id": "e8752436-8f23-42d2-8dc9-3de3659d71cc",
   "metadata": {},
   "outputs": [],
   "source": [
    "with open('./config.yml', \"r\", encoding='UTF-8') as file:\n",
    "    settings = yaml.load(file, Loader=yaml.FullLoader)"
   ]
  },
  {
   "cell_type": "code",
   "execution_count": null,
   "id": "8bfffacf-be23-45a5-91fb-5c1d69b8dbd0",
   "metadata": {},
   "outputs": [],
   "source": [
    "local_settings = {\n",
    "    'mosaic_filepath': 'mosaics/referenced3.tiff',\n",
    "    'overwrite': True,\n",
    "    'random_state': 16849,\n",
    "    'train_size': 1,\n",
    "}\n",
    "settings.update(local_settings)"
   ]
  },
  {
   "cell_type": "markdown",
   "id": "a5298c5a-a5d4-46be-93ce-fcbe2f1e6e71",
   "metadata": {},
   "source": [
    "## Parse Settings"
   ]
  },
  {
   "cell_type": "code",
   "execution_count": null,
   "id": "dd115e86-45c5-458b-9e75-19d40d7186d3",
   "metadata": {},
   "outputs": [],
   "source": [
    "settings['mosaic_filepath'] = os.path.join(settings['data_dir'], settings['mosaic_filepath'])"
   ]
  },
  {
   "cell_type": "code",
   "execution_count": null,
   "id": "83d5aea6-64b2-4388-bdcc-c1cb7ba3f929",
   "metadata": {},
   "outputs": [],
   "source": [
    "for key, relpath in settings['paths_relative_to_data_dir'].items():\n",
    "    settings[key] = os.path.join(settings['data_dir'], relpath)"
   ]
  },
  {
   "cell_type": "code",
   "execution_count": null,
   "id": "ef2a5c18-9b75-4eb4-a357-e8a6e33db965",
   "metadata": {},
   "outputs": [],
   "source": [
    "random_state = check_random_state(settings['random_state'])"
   ]
  },
  {
   "cell_type": "code",
   "execution_count": null,
   "id": "b4408c5e-dba0-44a3-9cb3-2b5922875880",
   "metadata": {},
   "outputs": [],
   "source": [
    "referenced_fps = utils.discover_data(settings['referenced_images_dir'], ['tif', 'tiff'], pattern=r'Geo\\s\\d+_\\d.tif')"
   ]
  },
  {
   "cell_type": "code",
   "execution_count": null,
   "id": "ddb114a1-861a-4ab0-9324-83705e5486d2",
   "metadata": {},
   "outputs": [],
   "source": [
    "palette = sns.color_palette(settings['color_palette'])"
   ]
  },
  {
   "cell_type": "markdown",
   "id": "17fbb0d9-fbba-423e-895a-84996baf78cd",
   "metadata": {},
   "source": [
    "# Prepare Data\n",
    "The first part is to prepare the data (AKA extract/transform/load)."
   ]
  },
  {
   "cell_type": "markdown",
   "id": "28a8eecf-3852-40af-a8d5-891281989cef",
   "metadata": {},
   "source": [
    "## Train-Test Split\n",
    "\n",
    "We split the data into training data (data that is georeferenced) and test data (data that is not georeferenced, or for which we don't use the georeferencing information when we're building the models).\n",
    "\n",
    "We set the train size to some small number, because ideally the user only needs to georeference a couple of images manually."
   ]
  },
  {
   "cell_type": "code",
   "execution_count": null,
   "id": "1a4089fd-f097-4f47-b8c1-3c5f54cb0720",
   "metadata": {},
   "outputs": [],
   "source": [
    "settings['train_size']"
   ]
  },
  {
   "cell_type": "code",
   "execution_count": null,
   "id": "3fa2f20e-57f7-40cf-b26f-9bdd71249b88",
   "metadata": {},
   "outputs": [],
   "source": [
    "fps_train, fps_test = train_test_split(referenced_fps, train_size=settings['train_size'], random_state=settings['random_state'])"
   ]
  },
  {
   "cell_type": "markdown",
   "id": "f511240f-6c02-4250-a6c0-ce5c5fd3f684",
   "metadata": {},
   "source": [
    "## Initial, Approximate Georeferencing\n",
    "We use the sensor (high-altitude balloon) positions to provide approximate georeferencing, which will be useful for saving computational time when building the unreferenced mosaic."
   ]
  },
  {
   "cell_type": "code",
   "execution_count": null,
   "id": "1e48cdec-152c-490a-b19f-0afb86735a36",
   "metadata": {},
   "outputs": [],
   "source": [
    "# Get the pipeline(s)\n",
    "sensor_georeference_pipeline_X, sensor_georeference_pipeline_y = pipelines.GeoreferencePipelines.sensor_georeference()\n",
    "sensor_georeference_pipeline_X.set_params(nitelite__output_columns=['filepath', 'sensor_x', 'sensor_y'], sensor_georeference__passthrough=['filepath'])"
   ]
  },
  {
   "cell_type": "code",
   "execution_count": null,
   "id": "a407f336-0cf1-46d0-81be-5b8dca5e0152",
   "metadata": {},
   "outputs": [],
   "source": [
    "# Get the geo-transforms used for training\n",
    "geotransforms_train = sensor_georeference_pipeline_y.fit_transform(fps_train)"
   ]
  },
  {
   "cell_type": "code",
   "execution_count": null,
   "id": "cb331bb1-8883-4163-8351-7105b86e5db9",
   "metadata": {},
   "outputs": [],
   "source": [
    "# Train the pipeline\n",
    "sensor_georeference_pipeline_X.fit(\n",
    "    fps_train,\n",
    "    geotransforms_train,\n",
    "    nitelite__img_log_fp=settings['img_log_fp'],\n",
    "    nitelite__imu_log_fp=settings['imu_log_fp'],\n",
    "    nitelite__gps_log_fp=settings['gps_log_fp'],\n",
    ")"
   ]
  },
  {
   "cell_type": "code",
   "execution_count": null,
   "id": "2510f825-7cee-4d15-96fb-a328ffeb8fa1",
   "metadata": {},
   "outputs": [],
   "source": [
    "# The fit gives us an estimate of the error from the approximate georeferencing\n",
    "sensor_georeference_pipeline_X.score(fps_train, geotransforms_train)"
   ]
  },
  {
   "cell_type": "code",
   "execution_count": null,
   "id": "45483b20-2086-4b95-b90c-2435eb00a37a",
   "metadata": {},
   "outputs": [],
   "source": [
    "first_pass_error = sensor_georeference_pipeline_X.named_steps['sensor_georeference'].spatial_error_"
   ]
  },
  {
   "cell_type": "code",
   "execution_count": null,
   "id": "0fa111a6-587b-409c-8d63-c49acefafc6a",
   "metadata": {},
   "outputs": [],
   "source": [
    "# Get the approximate georeferences of the test filepaths\n",
    "X_test = sensor_georeference_pipeline_X.predict(fps_test)"
   ]
  },
  {
   "cell_type": "markdown",
   "id": "cb660bca-298f-45ba-9d0b-246e6f78bfd8",
   "metadata": {},
   "source": [
    "## Create the Containing Mosaic Dataset"
   ]
  },
  {
   "cell_type": "code",
   "execution_count": null,
   "id": "43af0d15-e30a-4d3a-b846-74c48c0e5863",
   "metadata": {},
   "outputs": [],
   "source": [
    "# DEBUG\n",
    "import importlib\n",
    "importlib.reload(mosaic)"
   ]
  },
  {
   "cell_type": "code",
   "execution_count": null,
   "id": "2b04e42e-b05a-4ea5-9ba3-c254f35f5ce2",
   "metadata": {},
   "outputs": [],
   "source": [
    "if os.path.isfile(settings['mosaic_filepath']) and settings['overwrite']:\n",
    "    os.remove(settings['mosaic_filepath'])"
   ]
  },
  {
   "cell_type": "code",
   "execution_count": null,
   "id": "d1c91e40-0f27-410c-86fd-0ce4c79f0b56",
   "metadata": {},
   "outputs": [],
   "source": [
    "mos = mosaic.Mosaic(settings['mosaic_filepath'])"
   ]
  },
  {
   "cell_type": "code",
   "execution_count": null,
   "id": "03ab9d92-89b4-4604-a45c-61e8eab240e3",
   "metadata": {},
   "outputs": [],
   "source": [
    "mos.fit(X_test[['filepath'] + preprocess.GEOTRANSFORM_COLS])"
   ]
  },
  {
   "cell_type": "code",
   "execution_count": null,
   "id": "93ce16a0-7978-4456-b046-ece94144d7f7",
   "metadata": {},
   "outputs": [],
   "source": [
    "# Close the dataset\n",
    "mos.dataset_.FlushCache()\n",
    "mos.dataset_ = None"
   ]
  },
  {
   "cell_type": "markdown",
   "id": "08a6be5c-4960-4799-b8e1-6662b2cc32e5",
   "metadata": {},
   "source": [
    "## Create the Starting Image for the Mosaic"
   ]
  },
  {
   "cell_type": "code",
   "execution_count": null,
   "id": "7f3fad12-6520-48d0-93ee-27a83b0d736b",
   "metadata": {},
   "outputs": [],
   "source": [
    "reffed_mosaic_pipeline = pipelines.MosaicPipelines.referenced_mosaic(settings['mosaic_filepath'])\n",
    "reffed_mosaic_pipeline.set_params(mosaic__exist_ok=True)"
   ]
  },
  {
   "cell_type": "code",
   "execution_count": null,
   "id": "be50e3b8-b402-4dc2-8c19-3e87edb750b0",
   "metadata": {},
   "outputs": [],
   "source": [
    "# Make the referenced mosaic\n",
    "reffed_mosaic_pipeline.fit_transform(fps_train)"
   ]
  },
  {
   "cell_type": "markdown",
   "id": "071155d1-07ca-4e9a-83f3-7c6506d06e88",
   "metadata": {},
   "source": [
    "## The Less-Referenced Mosaic"
   ]
  },
  {
   "cell_type": "code",
   "execution_count": null,
   "id": "9427438d-171e-41a5-a402-77e65831788c",
   "metadata": {},
   "outputs": [],
   "source": [
    "less_reffed_mosaic = mosaic.LessReferencedMosaic(filepath=settings['mosaic_filepath'], padding=padding)"
   ]
  },
  {
   "cell_type": "code",
   "execution_count": null,
   "id": "a5b3b750-1c67-4dea-ba3b-78028b817501",
   "metadata": {},
   "outputs": [],
   "source": [
    "# First, the fit\n",
    "less_reffed_mosaic.fit(y_train)"
   ]
  },
  {
   "cell_type": "code",
   "execution_count": null,
   "id": "2a89b10b-beed-49cf-a173-87bdd63441c7",
   "metadata": {},
   "outputs": [],
   "source": [
    "# Then create the referenced mosaic\n",
    "less_reffed_mosaic.predict(X_test[['filepath'] + preprocess.GEOTRANSFORM_COLS])"
   ]
  },
  {
   "cell_type": "markdown",
   "id": "04c8faea-db3e-4bbf-a58f-a9de615598f1",
   "metadata": {},
   "source": [
    "# Inspect Results"
   ]
  },
  {
   "cell_type": "code",
   "execution_count": null,
   "id": "7f04e687-7908-4e3f-bb2e-9e6fe833f643",
   "metadata": {},
   "outputs": [],
   "source": [
    "# DEBUG\n",
    "importlib.reload(utils)"
   ]
  },
  {
   "cell_type": "code",
   "execution_count": null,
   "id": "37c133a9-e317-4a1b-8a80-d40764588c4d",
   "metadata": {},
   "outputs": [],
   "source": [
    "full_img = less_reffed_mosaic.dataset_.ReadAsArray().transpose(1, 2, 0)"
   ]
  },
  {
   "cell_type": "code",
   "execution_count": null,
   "id": "3c4d3f0c-4db9-4413-a3c2-9e2b9a465d25",
   "metadata": {},
   "outputs": [],
   "source": [
    "# One of the images\n",
    "iter_inds = less_reffed_mosaic.log['iteration_indices']\n",
    "X_iter = X_test.loc[iter_inds]"
   ]
  },
  {
   "cell_type": "code",
   "execution_count": null,
   "id": "ac71b3a1-0b40-43ba-a96d-b8e1005579f0",
   "metadata": {},
   "outputs": [],
   "source": [
    "i = 0\n",
    "row = X_iter.iloc[i]"
   ]
  },
  {
   "cell_type": "code",
   "execution_count": null,
   "id": "4a8dbf46-b78c-4f55-bd28-e223611715eb",
   "metadata": {},
   "outputs": [],
   "source": [
    "# Expected bounds\n",
    "x_min = row['x_min'] - less_reffed_mosaic.padding\n",
    "x_max = row['x_max'] + less_reffed_mosaic.padding\n",
    "y_min = row['y_min'] - less_reffed_mosaic.padding\n",
    "y_max = row['y_max'] + less_reffed_mosaic.padding"
   ]
  },
  {
   "cell_type": "code",
   "execution_count": null,
   "id": "1c253418-495e-4501-9343-d71199499b62",
   "metadata": {},
   "outputs": [],
   "source": [
    "# Rectangle of the image to add to the plot\n",
    "\n",
    "# Convert to offset and size\n",
    "x_off, y_off, x_size, y_size = less_reffed_mosaic.bounds_to_offset(x_min, x_max, y_min, y_max)\n",
    "\n",
    "rect = patches.Rectangle(\n",
    "    (x_off, y_off),\n",
    "    x_size,\n",
    "    y_size,\n",
    "    linewidth = 3,\n",
    "    facecolor = 'none',\n",
    "    edgecolor = palette[0],\n",
    ")"
   ]
  },
  {
   "cell_type": "code",
   "execution_count": null,
   "id": "f300c306-7ffc-4816-825a-9dbedfb64671",
   "metadata": {},
   "outputs": [],
   "source": [
    "fig = plt.figure(figsize=(20,10))\n",
    "ax = plt.gca()\n",
    "\n",
    "# Image itself\n",
    "ax.imshow(full_img)\n",
    "\n",
    "# The first image location\n",
    "ax.add_patch(rect)"
   ]
  },
  {
   "cell_type": "code",
   "execution_count": null,
   "id": "cedc4f19-3436-40e2-bed0-6a59580a862a",
   "metadata": {},
   "outputs": [],
   "source": [
    "# The images\n",
    "dst_img = less_reffed_mosaic.get_image(x_min, x_max, y_min, y_max)\n",
    "src_img = utils.load_image(\n",
    "    row['filepath'],\n",
    "    dtype=less_reffed_mosaic.dtype,\n",
    ")"
   ]
  },
  {
   "cell_type": "code",
   "execution_count": null,
   "id": "50e6f454-de42-45f8-8bd1-7df0840052d4",
   "metadata": {},
   "outputs": [],
   "source": [
    "# The existing mosaic we loaded\n",
    "plt.imshow(dst_img)"
   ]
  },
  {
   "cell_type": "code",
   "execution_count": null,
   "id": "88dc1f50-ebcd-43fe-b4ac-a4d88b53a735",
   "metadata": {},
   "outputs": [],
   "source": [
    "# The image we're adding\n",
    "plt.imshow(src_img)"
   ]
  },
  {
   "cell_type": "code",
   "execution_count": null,
   "id": "b955443d-5846-4583-a2b5-e901ce608ca6",
   "metadata": {},
   "outputs": [],
   "source": [
    "M, mask = utils.calc_warp_transform(src_img, dst_img)"
   ]
  },
  {
   "cell_type": "code",
   "execution_count": null,
   "id": "721048c3-56cd-4089-a3b1-305ba68ae622",
   "metadata": {},
   "outputs": [],
   "source": [
    "assert utils.validate_warp_transform(M)"
   ]
  },
  {
   "cell_type": "code",
   "execution_count": null,
   "id": "867a763c-3bd9-45f8-85eb-58dbdaf89542",
   "metadata": {},
   "outputs": [],
   "source": [
    "settings['mosaic_filepath']"
   ]
  },
  {
   "cell_type": "code",
   "execution_count": null,
   "id": "f67f7f12-ca52-4a33-b98f-4f9d6352d3af",
   "metadata": {},
   "outputs": [],
   "source": [
    "less_reffed_mosaic.dataset_.FlushCache()"
   ]
  },
  {
   "cell_type": "code",
   "execution_count": null,
   "id": "ed82e418-093f-4586-92fe-8298e616358b",
   "metadata": {},
   "outputs": [],
   "source": []
  }
 ],
 "metadata": {
  "kernelspec": {
   "display_name": "Python 3 (ipykernel)",
   "language": "python",
   "name": "python3"
  },
  "language_info": {
   "codemirror_mode": {
    "name": "ipython",
    "version": 3
   },
   "file_extension": ".py",
   "mimetype": "text/x-python",
   "name": "python",
   "nbconvert_exporter": "python",
   "pygments_lexer": "ipython3",
   "version": "3.11.5"
  }
 },
 "nbformat": 4,
 "nbformat_minor": 5
}

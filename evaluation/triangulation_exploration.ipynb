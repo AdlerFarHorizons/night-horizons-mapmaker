{
 "cells": [
  {
   "cell_type": "code",
   "execution_count": null,
   "id": "b761687f-abe3-4493-96c1-de29b019a717",
   "metadata": {
    "tags": []
   },
   "outputs": [],
   "source": [
    "import copy\n",
    "import numpy as np\n",
    "import pandas as pd\n",
    "import pyproj\n",
    "from pyproj import CRS\n",
    "import scipy\n",
    "from scipy.spatial.distance import cdist\n",
    "from sklearn.utils import check_random_state"
   ]
  },
  {
   "cell_type": "code",
   "execution_count": null,
   "id": "01797088-512b-43ef-bd23-6b5e0b4debea",
   "metadata": {},
   "outputs": [],
   "source": [
    "import matplotlib\n",
    "import matplotlib.pyplot as plt\n",
    "import seaborn as sns"
   ]
  },
  {
   "cell_type": "code",
   "execution_count": null,
   "id": "33502620",
   "metadata": {},
   "outputs": [],
   "source": [
    "from night_horizons.container import DIContainer\n",
    "from night_horizons.io_manager import IOManager\n",
    "from night_horizons.raster import ReferencedImage, DatasetWrapper\n",
    "from night_horizons.transformers.raster import RasterCoordinateTransformer\n",
    "from night_horizons.data_io import GDALDatasetIO, TabularIO"
   ]
  },
  {
   "cell_type": "markdown",
   "id": "9f67b8f4-2ec2-4a21-8e50-0e4ef371c5db",
   "metadata": {},
   "source": [
    "## Setup\n"
   ]
  },
  {
   "cell_type": "markdown",
   "id": "bf1ada69",
   "metadata": {},
   "source": [
    "### Parameters\n"
   ]
  },
  {
   "cell_type": "code",
   "execution_count": null,
   "id": "351ebd94",
   "metadata": {},
   "outputs": [],
   "source": [
    "local_options = {\n",
    "    'assumed_crs': 'EPSG: 4326',\n",
    "    'r_scaling': 1.,\n",
    "    'padding': 1.,\n",
    "    'search_range': 10000,\n",
    "}"
   ]
  },
  {
   "cell_type": "code",
   "execution_count": null,
   "id": "56317111",
   "metadata": {},
   "outputs": [],
   "source": [
    "container = DIContainer(\n",
    "    config_filepath='./triangulation-exploration.yaml',\n",
    "    local_options=local_options,\n",
    ")"
   ]
  },
  {
   "cell_type": "code",
   "execution_count": null,
   "id": "ca506cca",
   "metadata": {},
   "outputs": [],
   "source": [
    "container.register_service('io_manager', IOManager)\n",
    "container.register_service(\n",
    "    'crs',\n",
    "    CRS,\n",
    "    singleton=True,\n",
    ")\n",
    "container.register_service(\n",
    "    'random_state',\n",
    "    check_random_state,\n",
    "    singleton=True,\n",
    ")"
   ]
  },
  {
   "cell_type": "markdown",
   "id": "6ef2e067-86d4-42cc-aa79-a81fe143f144",
   "metadata": {},
   "source": [
    "### Code\n"
   ]
  },
  {
   "cell_type": "code",
   "execution_count": null,
   "id": "a6acc00e-9325-4d1c-b7fb-ba59776df578",
   "metadata": {
    "tags": []
   },
   "outputs": [],
   "source": [
    "class Sensor:\n",
    "    \n",
    "    def __init__(self, x, y, r_scaling: float=container.config['r_scaling']):\n",
    "        self.x = x\n",
    "        self.y = y\n",
    "        self.coords = (x, y)\n",
    "        self.r_scaling = r_scaling\n",
    "        \n",
    "    def observe_sources(\n",
    "        self,\n",
    "        source_xs,\n",
    "        source_ys,\n",
    "        source_ls,\n",
    "        theta_bins=np.linspace(-np.pi, np.pi, 64),\n",
    "    ):\n",
    "        \n",
    "        # Center on source\n",
    "        source_xs = copy.copy(source_xs - self.x)\n",
    "        source_ys = copy.copy(source_ys - self.y)\n",
    "        \n",
    "        # Calculate angles\n",
    "        thetas = np.arctan2(source_ys, source_xs)\n",
    "        thetas = thetas.flatten()\n",
    "        \n",
    "        # Calculate brightness scalings\n",
    "        rs = np.sqrt(source_xs**2. + source_ys**2.)\n",
    "        surface_areas = np.pi * rs**self.r_scaling\n",
    "        \n",
    "        # Get weights\n",
    "        weights = copy.copy(source_ls.flatten())\n",
    "        surface_areas = surface_areas.flatten()\n",
    "        weights[weights>0.] /= surface_areas[weights>0.]\n",
    "        \n",
    "        fluxs, theta_bins = np.histogram(\n",
    "            thetas.flatten(),\n",
    "            bins=theta_bins,\n",
    "            weights=weights,\n",
    "        )\n",
    "        thetas = 0.5 * ( theta_bins[:-1] + theta_bins[1:] )\n",
    "        \n",
    "        return fluxs, thetas\n",
    "    \n",
    "    def map_from_observations(self, thetas, fluxs, xs, ys, kind='nearest'):\n",
    "        \n",
    "        xs = copy.copy(xs - self.x)\n",
    "        ys = copy.copy(ys - self.y)\n",
    "\n",
    "        thetas_per_coord = np.arctan2(ys, xs)\n",
    "        above_bounds = thetas_per_coord > thetas.max()\n",
    "        below_bounds = thetas_per_coord < thetas.min()\n",
    "        in_bounds = np.invert(above_bounds) & np.invert(below_bounds)\n",
    "        \n",
    "        flux_mapping = scipy.interpolate.interp1d(thetas, fluxs, kind=kind)\n",
    "        \n",
    "        fluxs_per_coord = np.full(thetas_per_coord.shape, np.nan)\n",
    "        fluxs_per_coord[above_bounds] = fluxs[-1]\n",
    "        fluxs_per_coord[below_bounds] = fluxs[0]\n",
    "        fluxs_per_coord[in_bounds] = flux_mapping(thetas_per_coord[in_bounds])\n",
    "\n",
    "        rs = np.sqrt(xs**2. + ys**2.)\n",
    "        surface_areas = np.pi * rs**2.\n",
    "\n",
    "        allowable_fluxs = fluxs_per_coord * surface_areas\n",
    "\n",
    "        return allowable_fluxs"
   ]
  },
  {
   "cell_type": "code",
   "execution_count": null,
   "id": "58f87847-d581-447f-85df-5c1abdc07f32",
   "metadata": {
    "tags": []
   },
   "outputs": [],
   "source": [
    "class SensorArray:\n",
    "    \n",
    "    def __init__(self, sensors):\n",
    "        self.sensors = sensors\n",
    "        \n",
    "    def observe_sources(self, source_xs, source_ys, source_ls, theta_bins=np.linspace(-np.pi, np.pi, 128)):\n",
    "        \n",
    "        self.sensor_fluxs = []\n",
    "        for i, sensor_i in enumerate(self.sensors):\n",
    "            fluxs, thetas = sensor_i.observe_sources(source_xs, source_ys, source_ls, theta_bins)\n",
    "            self.sensor_fluxs.append(fluxs)\n",
    "        self.thetas = thetas\n",
    "        \n",
    "        return self.sensor_fluxs, self.thetas\n",
    "        \n",
    "    def plot_observations(self, ax, sensor_fluxs, thetas, **pcolor_kwargs):\n",
    "        \n",
    "        n_sensors = len(sensor_fluxs)\n",
    "        if n_sensors == 1:\n",
    "            fluxs = sensor_fluxs[0]\n",
    "            tileshape = (2,1)\n",
    "            flux_arr = np.tile(fluxs, tileshape)\n",
    "            thetas_tiled = np.tile(thetas, tileshape)\n",
    "            display_ys = np.array( [ [ 0., ] * fluxs.size, [ 1., ] * fluxs.size ] )\n",
    "        else:\n",
    "            flux_arr = np.array(sensor_fluxs)\n",
    "            thetas_tiled = np.tile(thetas,(n_sensors,1))\n",
    "            display_ys = np.tile(np.arange(n_sensors), (flux_arr.shape[1],1)).transpose()\n",
    "            \n",
    "        pcolor_kwargs_used = {\n",
    "            'cmap': 'Greys_r',\n",
    "        }\n",
    "        pcolor_kwargs_used.update(pcolor_kwargs)\n",
    "            \n",
    "        ax.pcolormesh(\n",
    "            -thetas_tiled,\n",
    "            display_ys,\n",
    "            flux_arr,\n",
    "            **pcolor_kwargs_used\n",
    "        )\n",
    "        \n",
    "    def estimate_allowed_luminosities_on_grid(self, grid_res=1024):\n",
    "        \n",
    "        self.xs_for_estimate = np.linspace(xs.min(), xs.max(), grid_res)\n",
    "        self.ys_for_estimate = np.linspace(ys.min(), ys.max(), grid_res)\n",
    "        xs_grid, ys_grid = np.meshgrid(self.xs_for_estimate, self.ys_for_estimate)\n",
    "        \n",
    "        self.allowed_luminosities = []\n",
    "        for i, sensor_i in enumerate(s_arr.sensors):\n",
    "            allowed_luminosities_i = sensor_i.map_from_observations(self.thetas, self.sensor_fluxs[i], xs_grid, ys_grid)\n",
    "            self.allowed_luminosities.append(allowed_luminosities_i)\n",
    "            \n",
    "        return self.allowed_luminosities"
   ]
  },
  {
   "cell_type": "markdown",
   "id": "4ff0f175",
   "metadata": {},
   "source": [
    "# Simplified\n"
   ]
  },
  {
   "cell_type": "markdown",
   "id": "589474af-3180-42aa-bc10-761f29a86529",
   "metadata": {},
   "source": [
    "### Parameters\n"
   ]
  },
  {
   "cell_type": "code",
   "execution_count": null,
   "id": "4481ab9c-ccc6-428d-a558-8e3c521b671c",
   "metadata": {
    "tags": []
   },
   "outputs": [],
   "source": [
    "palette = sns.color_palette('deep')"
   ]
  },
  {
   "cell_type": "code",
   "execution_count": null,
   "id": "dfd2432d-27c9-47d7-876d-f41d2c4a24a7",
   "metadata": {
    "tags": []
   },
   "outputs": [],
   "source": [
    "brightness_norm = matplotlib.colors.LogNorm(vmin=0.001, vmax=1., clip=True)"
   ]
  },
  {
   "cell_type": "code",
   "execution_count": null,
   "id": "d5e8b878-daba-4f4d-9fc4-5e9b55670b91",
   "metadata": {
    "tags": []
   },
   "outputs": [],
   "source": [
    "# Generate source grid\n",
    "source_grid_res = (16,16)\n",
    "source_type = 'point'\n",
    "n_lights = 5\n",
    "rng = container.get_service('random_state')\n",
    "light_luminosities = rng.uniform(1., 1., n_lights)\n",
    "\n",
    "source_grid = np.zeros(source_grid_res)\n",
    "xs = np.arange(source_grid.shape[0])\n",
    "ys = np.arange(source_grid.shape[1])\n",
    "x_lights = np.random.choice(xs, n_lights)\n",
    "y_lights = np.random.choice(ys, n_lights)\n",
    "for i in range(n_lights):\n",
    "    \n",
    "    if source_type == 'point':\n",
    "        source_grid[x_lights[i],y_lights[i]] = light_luminosities[i]\n",
    "    elif source_type == 'normal':\n",
    "        x_pdf = scipy.stats.norm(x_lights[i]).pdf(xs)\n",
    "        y_pdf = scipy.stats.norm(y_lights[i]).pdf(ys)\n",
    "        x_pdf_mesh, y_pdf_mesh = np.meshgrid(x_pdf, y_pdf)\n",
    "        source_grid += light_luminosities[i] * (x_pdf_mesh*y_pdf_mesh)"
   ]
  },
  {
   "cell_type": "code",
   "execution_count": null,
   "id": "8963a6ac-77bb-4ed4-83fb-74545508de0a",
   "metadata": {
    "tags": []
   },
   "outputs": [],
   "source": [
    "# Generate sensors\n",
    "n_sensors = 3\n",
    "\n",
    "sensor_xs = np.random.choice(xs, n_sensors)\n",
    "sensor_ys = np.random.choice(ys, n_sensors)\n",
    "sensors = []\n",
    "for i in range(n_sensors):\n",
    "    sensors.append(Sensor(sensor_xs[i], sensor_ys[i]))\n",
    "s_arr = SensorArray(sensors)"
   ]
  },
  {
   "cell_type": "code",
   "execution_count": null,
   "id": "73cc0a80-fd5d-43f2-9226-656a2f2d527d",
   "metadata": {},
   "outputs": [],
   "source": [
    "# Have sensors view the sources\n",
    "xs_grid, ys_grid = np.meshgrid(xs, ys)\n",
    "sensor_fluxs, thetas = s_arr.observe_sources(xs_grid, ys_grid, source_grid)"
   ]
  },
  {
   "cell_type": "markdown",
   "id": "863a761b-e505-4c18-843f-09081a24d68d",
   "metadata": {},
   "source": [
    "## View Sources and Sensors\n"
   ]
  },
  {
   "cell_type": "markdown",
   "id": "007f68cb-45f2-4cc1-8e0e-99dbb1b6ca84",
   "metadata": {},
   "source": [
    "### View\n"
   ]
  },
  {
   "cell_type": "code",
   "execution_count": null,
   "id": "a0bcb397-70d1-49b5-bdcc-b52b92a91b6e",
   "metadata": {
    "tags": []
   },
   "outputs": [],
   "source": [
    "fig = plt.figure()\n",
    "ax  = plt.gca()\n",
    "\n",
    "ax.pcolormesh(\n",
    "    xs,\n",
    "    ys,\n",
    "    source_grid,\n",
    "    cmap = 'Greys_r',\n",
    "    norm = brightness_norm,\n",
    ")\n",
    "\n",
    "for i, sensor_i in enumerate(s_arr.sensors):\n",
    "    ax.scatter(\n",
    "        sensor_i.x,\n",
    "        sensor_i.y,\n",
    "        color = palette[i],\n",
    "        s = 100,\n",
    "    )\n",
    "\n",
    "ax.set_aspect('equal')"
   ]
  },
  {
   "cell_type": "code",
   "execution_count": null,
   "id": "b05e710f-8bc1-47a2-ac3b-3c3bdf84b172",
   "metadata": {
    "tags": []
   },
   "outputs": [],
   "source": [
    "fig = plt.figure(figsize=(10,len(s_arr.sensors)))\n",
    "ax = plt.gca()\n",
    "\n",
    "s_arr.plot_observations(ax, s_arr.sensor_fluxs, s_arr.thetas, norm=brightness_norm)\n",
    "\n",
    "# X ticks\n",
    "dx = 0.25\n",
    "xtick_multiples = np.array([-1, -0.5, 0., 0.5, 1.])\n",
    "xticks = xtick_multiples * np.pi\n",
    "xtick_labels = [ '{:.2g}'.format( -_ ) + r'$\\pi$' for _ in xtick_multiples ]\n",
    "xticks = ax.set_xticks(xticks, xtick_labels)\n",
    "\n",
    "# Y labels\n",
    "ax.tick_params(left=False, labelleft=False)\n",
    "for i, sensor_i in enumerate(s_arr.sensors):\n",
    "    ax.annotate(\n",
    "        'sensor {}'.format(i),\n",
    "        xy = (-np.pi,i),\n",
    "        xycoords = 'data',\n",
    "        xytext = (-5,0),\n",
    "        textcoords = 'offset points',\n",
    "        color = palette[i],\n",
    "        ha = 'right',\n",
    "        fontsize = 14,\n",
    "    )"
   ]
  },
  {
   "cell_type": "markdown",
   "id": "f3db222f-f515-430a-a745-ac98710e238f",
   "metadata": {},
   "source": [
    "## Recreate Light Source\n"
   ]
  },
  {
   "cell_type": "code",
   "execution_count": null,
   "id": "ba67eb19-f32f-499c-b317-43bac1029b43",
   "metadata": {
    "tags": []
   },
   "outputs": [],
   "source": [
    "allowed_ls = s_arr.estimate_allowed_luminosities_on_grid()"
   ]
  },
  {
   "cell_type": "code",
   "execution_count": null,
   "id": "4e44d4fd-82ee-4c99-83c1-4c39388bdad4",
   "metadata": {
    "tags": []
   },
   "outputs": [],
   "source": [
    "for i, allowed_l in enumerate(allowed_ls):\n",
    "    \n",
    "    fig = plt.figure()\n",
    "    ax  = plt.gca()\n",
    "\n",
    "    ax.pcolormesh(\n",
    "        s_arr.xs_for_estimate,\n",
    "        s_arr.ys_for_estimate,\n",
    "        allowed_l,\n",
    "        cmap = 'Greys_r',\n",
    "        norm = matplotlib.colors.Normalize(0, 1),\n",
    "    )\n",
    "\n",
    "    ax.scatter(\n",
    "        s_arr.sensors[i].x,\n",
    "        s_arr.sensors[i].y,\n",
    "        color = palette[i],\n",
    "        s = 100,\n",
    "    )\n",
    "\n",
    "    ax.set_aspect('equal')"
   ]
  },
  {
   "cell_type": "code",
   "execution_count": null,
   "id": "cdf63ddf-b4dc-444d-ae8e-a69342d24400",
   "metadata": {
    "tags": []
   },
   "outputs": [],
   "source": [
    "\n",
    "fig = plt.figure()\n",
    "ax  = plt.gca()\n",
    "\n",
    "ax.pcolormesh(\n",
    "    s_arr.xs_for_estimate,\n",
    "    s_arr.ys_for_estimate,\n",
    "    np.array(allowed_ls).sum(axis=0),\n",
    "    cmap = 'Greys_r',\n",
    "    norm = matplotlib.colors.Normalize(0, 1),\n",
    ")\n",
    "for i, allowed_l in enumerate(allowed_ls):\n",
    "\n",
    "    ax.scatter(\n",
    "        s_arr.sensors[i].x,\n",
    "        s_arr.sensors[i].y,\n",
    "        color = palette[i],\n",
    "        s = 100,\n",
    "    )\n",
    "\n",
    "ax.set_aspect('equal')"
   ]
  },
  {
   "cell_type": "markdown",
   "id": "175e6a9a-fca8-4246-8862-f02bd61ea45f",
   "metadata": {},
   "source": [
    "# Real Data\n"
   ]
  },
  {
   "cell_type": "code",
   "execution_count": null,
   "id": "41d51b6b",
   "metadata": {},
   "outputs": [],
   "source": [
    "io_manager = container.get_service('io_manager')"
   ]
  },
  {
   "cell_type": "markdown",
   "id": "e13cda9d",
   "metadata": {},
   "source": [
    "## Get GDAL Dataset\n"
   ]
  },
  {
   "cell_type": "code",
   "execution_count": null,
   "id": "9e4ded79",
   "metadata": {},
   "outputs": [],
   "source": [
    "dataset = GDALDatasetIO.load_from_viirs_hdf5(\n",
    "    io_manager.input_filepaths['viirs_raw_data']\n",
    ")"
   ]
  },
  {
   "cell_type": "code",
   "execution_count": null,
   "id": "ed8fd50d",
   "metadata": {},
   "outputs": [],
   "source": [
    "proj_str = dataset.GetProjection()\n",
    "if proj_str != '':\n",
    "    image_crs = pyproj.CRS(proj_str)\n",
    "else:\n",
    "    image_crs = pyproj.CRS(container.config['assumed_crs'])"
   ]
  },
  {
   "cell_type": "code",
   "execution_count": null,
   "id": "890702e8",
   "metadata": {},
   "outputs": [],
   "source": [
    "x_min, pixel_width, _, y_max, _, pixel_height = dataset.GetGeoTransform()"
   ]
  },
  {
   "cell_type": "code",
   "execution_count": null,
   "id": "b2c04504",
   "metadata": {},
   "outputs": [],
   "source": [
    "x_max = x_min + pixel_width * dataset.RasterXSize\n",
    "y_min = y_max + pixel_height * dataset.RasterYSize"
   ]
  },
  {
   "cell_type": "markdown",
   "id": "9a18b79a",
   "metadata": {},
   "source": [
    "## Get Camera Coords\n"
   ]
  },
  {
   "cell_type": "code",
   "execution_count": null,
   "id": "acad53f6",
   "metadata": {},
   "outputs": [],
   "source": [
    "df = TabularIO.load(\n",
    "    io_manager.input_filepaths['triangulation_metadata'],\n",
    ")"
   ]
  },
  {
   "cell_type": "code",
   "execution_count": null,
   "id": "63c9ad9e",
   "metadata": {},
   "outputs": [],
   "source": [
    "df['date'] = pd.to_datetime(\n",
    "    df['created_at'].str.split('T').str[0],\n",
    "    format='mixed'\n",
    ")"
   ]
  },
  {
   "cell_type": "code",
   "execution_count": null,
   "id": "e4665c2b",
   "metadata": {},
   "outputs": [],
   "source": [
    "is_set_up = df['2_Are_you_deploying_'] == 'Deploying GONet'\n",
    "is_right_date = df['date'] > pd.to_datetime('2023-05-01') \n",
    "has_cam_num = df['4_What_is_the_GONet_'].notna()\n",
    "valid = is_set_up & is_right_date & has_cam_num"
   ]
  },
  {
   "cell_type": "code",
   "execution_count": null,
   "id": "4d4f8cc1",
   "metadata": {},
   "outputs": [],
   "source": [
    "lonlat = df.loc[\n",
    "    valid,\n",
    "    ['long_5_What_are_the_latit', 'lat_5_What_are_the_latit']\n",
    "].values"
   ]
  },
  {
   "cell_type": "code",
   "execution_count": null,
   "id": "8b6c4dad",
   "metadata": {},
   "outputs": [],
   "source": [
    "latlon_crs = pyproj.CRS('EPSG:4326')\n",
    "crs = container.get_service('crs')"
   ]
  },
  {
   "cell_type": "code",
   "execution_count": null,
   "id": "334fbfaa",
   "metadata": {},
   "outputs": [],
   "source": [
    "latlon_to_cart = pyproj.Transformer.from_crs(\n",
    "    latlon_crs,\n",
    "    crs,\n",
    "    always_xy=True\n",
    ")"
   ]
  },
  {
   "cell_type": "code",
   "execution_count": null,
   "id": "9c70795a",
   "metadata": {},
   "outputs": [],
   "source": [
    "latlon_to_image = pyproj.Transformer.from_crs(\n",
    "    latlon_crs,\n",
    "    image_crs,\n",
    "    always_xy=True\n",
    ")\n",
    "image_to_latlon = pyproj.Transformer.from_crs(\n",
    "    image_crs,\n",
    "    latlon_crs,\n",
    "    always_xy=True\n",
    ")"
   ]
  },
  {
   "cell_type": "code",
   "execution_count": null,
   "id": "4ddc864e",
   "metadata": {},
   "outputs": [],
   "source": [
    "xs, ys = latlon_to_image.transform(lonlat[:,0], lonlat[:,1])"
   ]
  },
  {
   "cell_type": "code",
   "execution_count": null,
   "id": "e2f4b94e",
   "metadata": {},
   "outputs": [],
   "source": [
    "plt.scatter(\n",
    "    xs,\n",
    "    ys,\n",
    ")"
   ]
  },
  {
   "cell_type": "code",
   "execution_count": null,
   "id": "07564177",
   "metadata": {},
   "outputs": [],
   "source": [
    "assert (xs >= x_min).all()\n",
    "assert (xs <= x_max).all()\n",
    "assert (ys >= y_min).all()\n",
    "assert (ys <= y_max).all()"
   ]
  },
  {
   "cell_type": "markdown",
   "id": "3a71c54f",
   "metadata": {},
   "source": [
    "## Get Image\n"
   ]
  },
  {
   "cell_type": "code",
   "execution_count": null,
   "id": "4fd39b2f",
   "metadata": {},
   "outputs": [],
   "source": [
    "hypotenuse = np.sqrt((xs.max() - xs.min())**2. + (ys.max() - ys.min())**2.)\n",
    "padding = container.config['padding'] * hypotenuse\n",
    "x_min = xs.min() - padding\n",
    "x_max = xs.max() + padding\n",
    "y_min = ys.min() - padding\n",
    "y_max = ys.max() + padding"
   ]
  },
  {
   "cell_type": "code",
   "execution_count": null,
   "id": "d29085f2",
   "metadata": {},
   "outputs": [],
   "source": [
    "tfer = RasterCoordinateTransformer()\n",
    "tfer.fit_to_dataset(dataset)\n",
    "x_off, y_off, x_size, y_size = tfer.physical_to_pixel(\n",
    "    x_min=x_min,\n",
    "    x_max=x_max,\n",
    "    y_min=y_min,\n",
    "    y_max=y_max\n",
    ")"
   ]
  },
  {
   "cell_type": "code",
   "execution_count": null,
   "id": "c9b101de",
   "metadata": {},
   "outputs": [],
   "source": [
    "img = dataset.ReadAsArray(\n",
    "    int(x_off), int(y_off), int(x_size), int(y_size)\n",
    ")\n",
    "img = img / img.max()"
   ]
  },
  {
   "cell_type": "code",
   "execution_count": null,
   "id": "37d8d3ec",
   "metadata": {},
   "outputs": [],
   "source": [
    "x_edges = np.linspace(x_min, x_max, img.shape[1])\n",
    "y_edges = np.linspace(y_max, y_min, img.shape[0])"
   ]
  },
  {
   "cell_type": "code",
   "execution_count": null,
   "id": "60a6b27f",
   "metadata": {},
   "outputs": [],
   "source": [
    "fig = plt.figure(figsize=(20,20))\n",
    "ax = plt.gca()\n",
    "\n",
    "ax.pcolormesh(\n",
    "    x_edges,\n",
    "    y_edges,\n",
    "    img,\n",
    "    cmap = 'Greys_r',\n",
    "    norm=matplotlib.colors.LogNorm(),\n",
    ")\n",
    "\n",
    "ax.scatter(\n",
    "    xs,\n",
    "    ys,\n",
    "    color='k',\n",
    ")\n",
    "for i, (x_i, y_i) in enumerate(zip(xs, ys)):\n",
    "    ax.annotate(\n",
    "        str(i),\n",
    "        xy = (x_i, y_i),\n",
    "        xycoords = 'data',\n",
    "        xytext = (-1,-1),\n",
    "        textcoords = 'offset points',\n",
    "        color = palette[i],\n",
    "        fontsize = 18,\n",
    "        ha='right',\n",
    "        va='top',\n",
    "    )\n",
    "\n",
    "ax.set_aspect('equal')"
   ]
  },
  {
   "cell_type": "markdown",
   "id": "d3616f58",
   "metadata": {},
   "source": [
    "## Mock Observations\n"
   ]
  },
  {
   "cell_type": "markdown",
   "id": "8f3fbbe9",
   "metadata": {},
   "source": []
  },
  {
   "cell_type": "markdown",
   "id": "eb83a034",
   "metadata": {},
   "source": [
    "### Generate\n"
   ]
  },
  {
   "cell_type": "code",
   "execution_count": null,
   "id": "5c23c22b",
   "metadata": {},
   "outputs": [],
   "source": [
    "# Generate sensors\n",
    "n_sensors = len(xs)\n",
    "sensors = []\n",
    "for i in range(n_sensors):\n",
    "    sensors.append(Sensor(xs[i], ys[i]))\n",
    "s_arr = SensorArray(sensors)"
   ]
  },
  {
   "cell_type": "code",
   "execution_count": null,
   "id": "7696da33",
   "metadata": {},
   "outputs": [],
   "source": [
    "# Have sensors view the sources\n",
    "xs_grid, ys_grid = np.meshgrid(x_edges, y_edges)\n",
    "sensor_fluxs, thetas = s_arr.observe_sources(xs_grid, ys_grid, img)"
   ]
  },
  {
   "cell_type": "markdown",
   "id": "b90bba4a",
   "metadata": {},
   "source": [
    "### Visualize\n"
   ]
  },
  {
   "cell_type": "code",
   "execution_count": null,
   "id": "82de15fc",
   "metadata": {},
   "outputs": [],
   "source": [
    "fig = plt.figure(figsize=(10,len(s_arr.sensors)))\n",
    "ax = plt.gca()\n",
    "\n",
    "s_arr.plot_observations(ax, s_arr.sensor_fluxs, s_arr.thetas)"
   ]
  },
  {
   "cell_type": "code",
   "execution_count": null,
   "id": "6018d66d",
   "metadata": {},
   "outputs": [],
   "source": [
    "subplot_mosaic = [[_, ] for _ in np.arange(len(s_arr.sensors))]\n",
    "\n",
    "fig = plt.figure(figsize=(10, 2 * len(s_arr.sensors)))\n",
    "ax_dict = fig.subplot_mosaic(subplot_mosaic)\n",
    "\n",
    "for i, sensor_i in enumerate(s_arr.sensors):\n",
    "    ax = ax_dict[i]\n",
    "    ax.step(\n",
    "        s_arr.thetas[::-1],\n",
    "        s_arr.sensor_fluxs[i], # / s_arr.sensor_fluxs[i].max(),\n",
    "        color=palette[i],\n",
    "    )\n",
    "\n",
    "    ax.annotate(\n",
    "        'sensor {}'.format(i),\n",
    "        xy = (0.0, 1.0),\n",
    "        xycoords = 'axes fraction',\n",
    "        xytext = (5, -5),\n",
    "        textcoords = 'offset points',\n",
    "        color = palette[i],\n",
    "        ha = 'left',\n",
    "        va = 'top',\n",
    "        fontsize = 14,\n",
    "    )\n",
    "\n",
    "    # ax.set_ylim(0, 150)\n",
    "    # ax.set_yscale('log')\n",
    "\n",
    "for ax_key, ax in ax_dict.items():\n",
    "\n",
    "    # X ticks\n",
    "    dx = 0.25\n",
    "    xtick_multiples = np.array([-1, -0.5, 0., 0.5, 1.])\n",
    "    xticks = xtick_multiples * np.pi\n",
    "    xtick_labels = [ '{:.2g}'.format( -_ ) + r'$\\pi$' for _ in xtick_multiples ]\n",
    "    xticks = ax.set_xticks(xticks, xtick_labels)\n",
    "\n",
    "    # Y labels\n",
    "    ax.tick_params(left=False, labelleft=False)\n",
    "    # for i, sensor_i in enumerate(s_arr.sensors):\n",
    "    #     ax.annotate(\n",
    "    #         'sensor {}'.format(i),\n",
    "    #         xy = (-np.pi,i),\n",
    "    #         xycoords = 'data',\n",
    "    #         xytext = (-5,0),\n",
    "    #         textcoords = 'offset points',\n",
    "    #         color = palette[i],\n",
    "    #         ha = 'right',\n",
    "    #         fontsize = 14,\n",
    "        #)"
   ]
  },
  {
   "cell_type": "markdown",
   "id": "7905f922",
   "metadata": {},
   "source": [
    "- Effective smoothing length is tiny (maybe blur)\n",
    "- The host pixel of the sensor gets a huge boost (and all those very close)\n",
    "  - The direction will also be quantized.\n",
    "- Weird cloud masking if we go farther out.\n",
    "- Show 1/r^2 weighted plots.\n",
    "- Get conway data.\n",
    "- Fit to data to get best r^-alpha scaling\n"
   ]
  },
  {
   "cell_type": "code",
   "execution_count": null,
   "id": "62bc045c",
   "metadata": {},
   "outputs": [],
   "source": [
    "allowed_ls = s_arr.estimate_allowed_luminosities_on_grid()"
   ]
  },
  {
   "cell_type": "code",
   "execution_count": null,
   "id": "b6d30ff4",
   "metadata": {},
   "outputs": [],
   "source": [
    "for i, allowed_l in enumerate(allowed_ls):\n",
    "    \n",
    "    fig = plt.figure()\n",
    "    ax  = plt.gca()\n",
    "\n",
    "    ax.pcolormesh(\n",
    "        s_arr.xs_for_estimate,\n",
    "        s_arr.ys_for_estimate,\n",
    "        allowed_l,\n",
    "        cmap = 'Greys_r',\n",
    "        norm = matplotlib.colors.Normalize(0, 1),\n",
    "    )\n",
    "\n",
    "    ax.scatter(\n",
    "        s_arr.sensors[i].x,\n",
    "        s_arr.sensors[i].y,\n",
    "        color = palette[i],\n",
    "        s = 100,\n",
    "    )\n",
    "\n",
    "    ax.set_aspect('equal')"
   ]
  },
  {
   "cell_type": "markdown",
   "id": "c8a12c84",
   "metadata": {},
   "source": [
    "# Identifying Candidate Deployment Locations\n"
   ]
  },
  {
   "cell_type": "markdown",
   "id": "04eb06b9",
   "metadata": {},
   "source": []
  },
  {
   "cell_type": "code",
   "execution_count": null,
   "id": "01516df4",
   "metadata": {},
   "outputs": [],
   "source": [
    "container.config['search_range'] = 0.5"
   ]
  },
  {
   "cell_type": "code",
   "execution_count": null,
   "id": "ae47c98f",
   "metadata": {},
   "outputs": [],
   "source": [
    "x_min = xs.min() - container.config['search_range']\n",
    "x_max = xs.max() + container.config['search_range']\n",
    "y_min = ys.min() - container.config['search_range']\n",
    "y_max = ys.max() + container.config['search_range']"
   ]
  },
  {
   "cell_type": "code",
   "execution_count": null,
   "id": "e4971589",
   "metadata": {},
   "outputs": [],
   "source": [
    "tfer = RasterCoordinateTransformer()\n",
    "tfer.fit_to_dataset(dataset)\n",
    "x_off, y_off, x_size, y_size = tfer.physical_to_pixel(\n",
    "    x_min=x_min,\n",
    "    x_max=x_max,\n",
    "    y_min=y_min,\n",
    "    y_max=y_max\n",
    ")"
   ]
  },
  {
   "cell_type": "code",
   "execution_count": null,
   "id": "2d9cf310",
   "metadata": {},
   "outputs": [],
   "source": [
    "img = dataset.ReadAsArray(\n",
    "    int(x_off), int(y_off), int(x_size), int(y_size)\n",
    ")"
   ]
  },
  {
   "cell_type": "code",
   "execution_count": null,
   "id": "93d59441",
   "metadata": {},
   "outputs": [],
   "source": [
    "x_edges = np.linspace(x_min, x_max, img.shape[1])\n",
    "y_edges = np.linspace(y_max, y_min, img.shape[0])"
   ]
  },
  {
   "cell_type": "code",
   "execution_count": null,
   "id": "f05c6014",
   "metadata": {},
   "outputs": [],
   "source": [
    "fig = plt.figure(figsize=(20,20))\n",
    "ax = plt.gca()\n",
    "\n",
    "ax.pcolormesh(\n",
    "    x_edges,\n",
    "    y_edges,\n",
    "    img,\n",
    "    cmap = 'Greys_r',\n",
    "    norm=matplotlib.colors.LogNorm(),\n",
    ")\n",
    "\n",
    "ax.scatter(\n",
    "    xs,\n",
    "    ys,\n",
    "    color='k',\n",
    ")\n",
    "for i, (x_i, y_i) in enumerate(zip(xs, ys)):\n",
    "    ax.annotate(\n",
    "        str(i),\n",
    "        xy = (x_i, y_i),\n",
    "        xycoords = 'data',\n",
    "        xytext = (-1,-1),\n",
    "        textcoords = 'offset points',\n",
    "        color = palette[i],\n",
    "        fontsize = 18,\n",
    "        ha='right',\n",
    "        va='top',\n",
    "    )\n",
    "\n",
    "# ax.set_aspect('equal')"
   ]
  },
  {
   "cell_type": "code",
   "execution_count": null,
   "id": "0a8b5667",
   "metadata": {},
   "outputs": [],
   "source": [
    "import cv2\n",
    "blur = cv2.GaussianBlur(img,(5,5),0)"
   ]
  },
  {
   "cell_type": "code",
   "execution_count": null,
   "id": "95331a1e",
   "metadata": {},
   "outputs": [],
   "source": [
    "fig = plt.figure(figsize=(20,20))\n",
    "ax = plt.gca()\n",
    "\n",
    "ax.pcolormesh(\n",
    "    x_edges,\n",
    "    y_edges,\n",
    "    blur,\n",
    "    cmap = 'viridis',\n",
    "    norm=matplotlib.colors.Normalize(1e2, 3e2),\n",
    ")\n",
    "\n",
    "ax.scatter(\n",
    "    xs,\n",
    "    ys,\n",
    "    color='k',\n",
    ")\n",
    "for i, (x_i, y_i) in enumerate(zip(xs, ys)):\n",
    "    ax.annotate(\n",
    "        str(i),\n",
    "        xy = (x_i, y_i),\n",
    "        xycoords = 'data',\n",
    "        xytext = (-1,-1),\n",
    "        textcoords = 'offset points',\n",
    "        color = palette[i],\n",
    "        fontsize = 18,\n",
    "        ha='right',\n",
    "        va='top',\n",
    "    )\n",
    "\n",
    "# ax.set_aspect('equal')"
   ]
  },
  {
   "cell_type": "code",
   "execution_count": null,
   "id": "920df5ce",
   "metadata": {},
   "outputs": [],
   "source": [
    "dx = x_edges[1] - x_edges[0]\n",
    "dy = y_edges[0] - y_edges[1] \n"
   ]
  },
  {
   "cell_type": "code",
   "execution_count": null,
   "id": "7ada81e2",
   "metadata": {},
   "outputs": [],
   "source": [
    "x_min = xs.mean() - dx\n",
    "x_max = xs.mean() + dx\n",
    "y_min = ys.mean() - dy\n",
    "y_max = ys.mean() + dy"
   ]
  },
  {
   "cell_type": "code",
   "execution_count": null,
   "id": "2b649575",
   "metadata": {},
   "outputs": [],
   "source": [
    "tfer = RasterCoordinateTransformer()\n",
    "tfer.fit_to_dataset(dataset)\n",
    "x_off, y_off, x_size, y_size = tfer.physical_to_pixel(\n",
    "    x_min=x_min,\n",
    "    x_max=x_max,\n",
    "    y_min=y_min,\n",
    "    y_max=y_max\n",
    ")"
   ]
  },
  {
   "cell_type": "code",
   "execution_count": null,
   "id": "d01699e2",
   "metadata": {},
   "outputs": [],
   "source": [
    "img_local = dataset.ReadAsArray(\n",
    "    int(x_off), int(y_off), int(x_size), int(y_size)\n",
    ")"
   ]
  },
  {
   "cell_type": "code",
   "execution_count": null,
   "id": "09a34b40",
   "metadata": {},
   "outputs": [],
   "source": [
    "fig = plt.figure()\n",
    "ax = plt.gca()\n",
    "\n",
    "sns.histplot(\n",
    "    blur.flatten(),\n",
    "    ax = ax,\n",
    "    log_scale=True,\n",
    ")\n",
    "\n",
    "ax.axvline(\n",
    "    img_local.mean(),\n",
    "    color='k',\n",
    ")"
   ]
  },
  {
   "cell_type": "markdown",
   "id": "a533713b",
   "metadata": {},
   "source": [
    "# Two Questions for LP Research\n",
    "\n",
    "## 1. How do humans affect the light levels on earth?\n",
    "\n",
    "- What is the difference between local and non-local?\n",
    "- Including what is the length scale at which we switch from local to non-local?\n",
    "- In the model of $R(\\theta) = R_{\\rm local} + R_{\\rm non-local}$,\n",
    "  what is the contribution of $R_{\\rm local}$ vs $R_{\\rm non-local}$?\n",
    "- Can we measure $R(\\theta)$ at fixed $R_{\\rm local}$, and thereby constrain $R_{\\rm non-local}$?\n",
    "\n",
    "## 2. How does nature respond?\n"
   ]
  },
  {
   "cell_type": "markdown",
   "id": "8aedfaaa",
   "metadata": {},
   "source": []
  }
 ],
 "metadata": {
  "kernelspec": {
   "display_name": "Python 3 (ipykernel)",
   "language": "python",
   "name": "python3"
  },
  "language_info": {
   "codemirror_mode": {
    "name": "ipython",
    "version": 3
   },
   "file_extension": ".py",
   "mimetype": "text/x-python",
   "name": "python",
   "nbconvert_exporter": "python",
   "pygments_lexer": "ipython3",
   "version": "3.11.9"
  }
 },
 "nbformat": 4,
 "nbformat_minor": 5
}

{
 "cells": [
  {
   "cell_type": "code",
   "execution_count": null,
   "id": "b761687f-abe3-4493-96c1-de29b019a717",
   "metadata": {
    "tags": []
   },
   "outputs": [],
   "source": [
    "import copy\n",
    "import numpy as np\n",
    "import scipy\n",
    "from scipy.spatial.distance import cdist"
   ]
  },
  {
   "cell_type": "code",
   "execution_count": null,
   "id": "01797088-512b-43ef-bd23-6b5e0b4debea",
   "metadata": {},
   "outputs": [],
   "source": [
    "import matplotlib\n",
    "import matplotlib.pyplot as plt\n",
    "import seaborn as sns"
   ]
  },
  {
   "cell_type": "code",
   "execution_count": null,
   "id": "33502620",
   "metadata": {},
   "outputs": [],
   "source": [
    "from night_horizons.container import DIContainer"
   ]
  },
  {
   "cell_type": "code",
   "execution_count": null,
   "id": "128c61d5-5d34-483d-929f-03e411141034",
   "metadata": {
    "tags": []
   },
   "outputs": [],
   "source": [
    "rng = np.random.default_rng(15234)"
   ]
  },
  {
   "cell_type": "markdown",
   "id": "9f67b8f4-2ec2-4a21-8e50-0e4ef371c5db",
   "metadata": {},
   "source": [
    "## Setup\n"
   ]
  },
  {
   "cell_type": "markdown",
   "id": "bf1ada69",
   "metadata": {},
   "source": [
    "### Parameters\n"
   ]
  },
  {
   "cell_type": "code",
   "execution_count": null,
   "id": "351ebd94",
   "metadata": {},
   "outputs": [],
   "source": [
    "local_options = {\n",
    "    'global': {\n",
    "        'random_state': 12957,\n",
    "    },\n",
    "}"
   ]
  },
  {
   "cell_type": "code",
   "execution_count": null,
   "id": "56317111",
   "metadata": {},
   "outputs": [],
   "source": [
    "container = DIContainer(\n",
    "    config_filepath='./config.yml',\n",
    "    local_options=local_options,\n",
    ")"
   ]
  },
  {
   "cell_type": "code",
   "execution_count": null,
   "id": "c6d33b05",
   "metadata": {},
   "outputs": [],
   "source": [
    "from night_horizons.data_io import DataIO"
   ]
  },
  {
   "cell_type": "code",
   "execution_count": null,
   "id": "fbe0b4e0",
   "metadata": {},
   "outputs": [],
   "source": [
    "import inspect\n",
    "inspect.get_subclasses"
   ]
  },
  {
   "cell_type": "code",
   "execution_count": null,
   "id": "ca506cca",
   "metadata": {},
   "outputs": [],
   "source": [
    "container.register_dataio_services()"
   ]
  },
  {
   "cell_type": "markdown",
   "id": "6ef2e067-86d4-42cc-aa79-a81fe143f144",
   "metadata": {},
   "source": [
    "### Code\n"
   ]
  },
  {
   "cell_type": "code",
   "execution_count": null,
   "id": "a6acc00e-9325-4d1c-b7fb-ba59776df578",
   "metadata": {
    "tags": []
   },
   "outputs": [],
   "source": [
    "class Sensor:\n",
    "    \n",
    "    def __init__(self, x, y):\n",
    "        self.x = x\n",
    "        self.y = y\n",
    "        self.coords = (x, y)\n",
    "        \n",
    "    def observe_sources(self, source_xs, source_ys, source_ls, theta_bins=np.linspace(-np.pi, np.pi, 128)):\n",
    "        \n",
    "        # Center on source\n",
    "        source_xs = copy.copy(source_xs - self.x)\n",
    "        source_ys = copy.copy(source_ys - self.y)\n",
    "        \n",
    "        # Calculate angles\n",
    "        thetas = np.arctan2(source_ys, source_xs)\n",
    "        thetas = thetas.flatten()\n",
    "        \n",
    "        # Calculate brightness scalings\n",
    "        rs = np.sqrt(source_xs**2. + source_ys**2.)\n",
    "        surface_areas = np.pi * rs**2.\n",
    "        \n",
    "        # Get weights\n",
    "        weights = copy.copy(source_ls.flatten())\n",
    "        surface_areas = surface_areas.flatten()\n",
    "        weights[weights>0.] /= surface_areas[weights>0.]\n",
    "        \n",
    "        fluxs, theta_bins = np.histogram(\n",
    "            thetas.flatten(),\n",
    "            bins=theta_bins,\n",
    "            weights=weights,\n",
    "        )\n",
    "        thetas = 0.5 * ( theta_bins[:-1] + theta_bins[1:] )\n",
    "        \n",
    "        return fluxs, thetas\n",
    "    \n",
    "    def map_from_observations(self, thetas, fluxs, xs, ys, kind='nearest'):\n",
    "        \n",
    "        xs = copy.copy(xs - self.x)\n",
    "        ys = copy.copy(ys - self.y)\n",
    "\n",
    "        thetas_per_coord = np.arctan2(ys, xs)\n",
    "        above_bounds = thetas_per_coord > thetas.max()\n",
    "        below_bounds = thetas_per_coord < thetas.min()\n",
    "        in_bounds = np.invert(above_bounds) & np.invert(below_bounds)\n",
    "        \n",
    "        flux_mapping = scipy.interpolate.interp1d(thetas, fluxs, kind=kind)\n",
    "        \n",
    "        fluxs_per_coord = np.full(thetas_per_coord.shape, np.nan)\n",
    "        fluxs_per_coord[above_bounds] = fluxs[-1]\n",
    "        fluxs_per_coord[below_bounds] = fluxs[0]\n",
    "        fluxs_per_coord[in_bounds] = flux_mapping(thetas_per_coord[in_bounds])\n",
    "\n",
    "        rs = np.sqrt(xs**2. + ys**2.)\n",
    "        surface_areas = np.pi * rs**2.\n",
    "\n",
    "        allowable_fluxs = fluxs_per_coord * surface_areas\n",
    "\n",
    "        return allowable_fluxs"
   ]
  },
  {
   "cell_type": "code",
   "execution_count": null,
   "id": "58f87847-d581-447f-85df-5c1abdc07f32",
   "metadata": {
    "tags": []
   },
   "outputs": [],
   "source": [
    "class SensorArray:\n",
    "    \n",
    "    def __init__(self, sensors):\n",
    "        self.sensors = sensors\n",
    "        \n",
    "    def observe_sources(self, source_xs, source_ys, source_ls, theta_bins=np.linspace(-np.pi, np.pi, 128)):\n",
    "        \n",
    "        self.sensor_fluxs = []\n",
    "        for i, sensor_i in enumerate(self.sensors):\n",
    "            fluxs, thetas = sensor_i.observe_sources(source_xs, source_ys, source_ls, theta_bins)\n",
    "            self.sensor_fluxs.append(fluxs)\n",
    "        self.thetas = thetas\n",
    "        \n",
    "        return self.sensor_fluxs, self.thetas\n",
    "        \n",
    "    def plot_observations(self, ax, sensor_fluxs, thetas, **pcolor_kwargs):\n",
    "        \n",
    "        n_sensors = len(sensor_fluxs)\n",
    "        if n_sensors == 1:\n",
    "            fluxs = sensor_fluxs[0]\n",
    "            tileshape = (2,1)\n",
    "            flux_arr = np.tile(fluxs, tileshape)\n",
    "            thetas_tiled = np.tile(thetas, tileshape)\n",
    "            display_ys = np.array( [ [ 0., ] * fluxs.size, [ 1., ] * fluxs.size ] )\n",
    "        else:\n",
    "            flux_arr = np.array(sensor_fluxs)\n",
    "            thetas_tiled = np.tile(thetas,(n_sensors,1))\n",
    "            display_ys = np.tile(np.arange(n_sensors), (flux_arr.shape[1],1)).transpose()\n",
    "            \n",
    "        pcolor_kwargs_used = {\n",
    "            'cmap': 'Greys_r',\n",
    "        }\n",
    "        pcolor_kwargs_used.update(pcolor_kwargs)\n",
    "            \n",
    "        ax.pcolormesh(\n",
    "            -thetas_tiled,\n",
    "            display_ys,\n",
    "            flux_arr,\n",
    "            **pcolor_kwargs_used\n",
    "        )\n",
    "        \n",
    "    def estimate_allowed_luminosities_on_grid(self, grid_res=1024):\n",
    "        \n",
    "        self.xs_for_estimate = np.linspace(xs.min(), xs.max(), grid_res)\n",
    "        self.ys_for_estimate = np.linspace(ys.min(), ys.max(), grid_res)\n",
    "        xs_grid, ys_grid = np.meshgrid(self.xs_for_estimate, self.ys_for_estimate)\n",
    "        \n",
    "        self.allowed_luminosities = []\n",
    "        for i, sensor_i in enumerate(s_arr.sensors):\n",
    "            allowed_luminosities_i = sensor_i.map_from_observations(self.thetas, self.sensor_fluxs[i], xs_grid, ys_grid)\n",
    "            self.allowed_luminosities.append(allowed_luminosities_i)\n",
    "            \n",
    "        return self.allowed_luminosities"
   ]
  },
  {
   "cell_type": "markdown",
   "id": "4ff0f175",
   "metadata": {},
   "source": [
    "# Simplified\n"
   ]
  },
  {
   "cell_type": "markdown",
   "id": "589474af-3180-42aa-bc10-761f29a86529",
   "metadata": {},
   "source": [
    "### Parameters\n"
   ]
  },
  {
   "cell_type": "code",
   "execution_count": null,
   "id": "4481ab9c-ccc6-428d-a558-8e3c521b671c",
   "metadata": {
    "tags": []
   },
   "outputs": [],
   "source": [
    "palette = sns.color_palette('deep')"
   ]
  },
  {
   "cell_type": "code",
   "execution_count": null,
   "id": "dfd2432d-27c9-47d7-876d-f41d2c4a24a7",
   "metadata": {
    "tags": []
   },
   "outputs": [],
   "source": [
    "brightness_norm = matplotlib.colors.LogNorm(vmin=0.001, vmax=1., clip=True)"
   ]
  },
  {
   "cell_type": "code",
   "execution_count": null,
   "id": "d5e8b878-daba-4f4d-9fc4-5e9b55670b91",
   "metadata": {
    "tags": []
   },
   "outputs": [],
   "source": [
    "# Generate source grid\n",
    "source_grid_res = (16,16)\n",
    "source_type = 'point'\n",
    "n_lights = 5\n",
    "light_luminosities = rng.uniform(1., 1., n_lights)\n",
    "\n",
    "source_grid = np.zeros(source_grid_res)\n",
    "xs = np.arange(source_grid.shape[0])\n",
    "ys = np.arange(source_grid.shape[1])\n",
    "x_lights = np.random.choice(xs, n_lights)\n",
    "y_lights = np.random.choice(ys, n_lights)\n",
    "for i in range(n_lights):\n",
    "    \n",
    "    if source_type == 'point':\n",
    "        source_grid[x_lights[i],y_lights[i]] = light_luminosities[i]\n",
    "    elif source_type == 'normal':\n",
    "        x_pdf = scipy.stats.norm(x_lights[i]).pdf(xs)\n",
    "        y_pdf = scipy.stats.norm(y_lights[i]).pdf(ys)\n",
    "        x_pdf_mesh, y_pdf_mesh = np.meshgrid(x_pdf, y_pdf)\n",
    "        source_grid += light_luminosities[i] * (x_pdf_mesh*y_pdf_mesh)"
   ]
  },
  {
   "cell_type": "code",
   "execution_count": null,
   "id": "8963a6ac-77bb-4ed4-83fb-74545508de0a",
   "metadata": {
    "tags": []
   },
   "outputs": [],
   "source": [
    "# Generate sensors\n",
    "n_sensors = 3\n",
    "\n",
    "sensor_xs = np.random.choice(xs, n_sensors)\n",
    "sensor_ys = np.random.choice(ys, n_sensors)\n",
    "sensors = []\n",
    "for i in range(n_sensors):\n",
    "    sensors.append(Sensor(sensor_xs[i], sensor_ys[i]))\n",
    "s_arr = SensorArray(sensors)"
   ]
  },
  {
   "cell_type": "code",
   "execution_count": null,
   "id": "73cc0a80-fd5d-43f2-9226-656a2f2d527d",
   "metadata": {},
   "outputs": [],
   "source": [
    "# Have sensors view the sources\n",
    "xs_grid, ys_grid = np.meshgrid(xs, ys)\n",
    "sensor_fluxs, thetas = s_arr.observe_sources(xs_grid, ys_grid, source_grid)"
   ]
  },
  {
   "cell_type": "markdown",
   "id": "863a761b-e505-4c18-843f-09081a24d68d",
   "metadata": {},
   "source": [
    "## View Sources and Sensors\n"
   ]
  },
  {
   "cell_type": "markdown",
   "id": "007f68cb-45f2-4cc1-8e0e-99dbb1b6ca84",
   "metadata": {},
   "source": [
    "### View\n"
   ]
  },
  {
   "cell_type": "code",
   "execution_count": null,
   "id": "a0bcb397-70d1-49b5-bdcc-b52b92a91b6e",
   "metadata": {
    "tags": []
   },
   "outputs": [],
   "source": [
    "fig = plt.figure()\n",
    "ax  = plt.gca()\n",
    "\n",
    "ax.pcolormesh(\n",
    "    xs,\n",
    "    ys,\n",
    "    source_grid,\n",
    "    cmap = 'Greys_r',\n",
    "    norm = brightness_norm,\n",
    ")\n",
    "\n",
    "for i, sensor_i in enumerate(s_arr.sensors):\n",
    "    ax.scatter(\n",
    "        sensor_i.x,\n",
    "        sensor_i.y,\n",
    "        color = palette[i],\n",
    "        s = 100,\n",
    "    )\n",
    "\n",
    "ax.set_aspect('equal')"
   ]
  },
  {
   "cell_type": "code",
   "execution_count": null,
   "id": "b05e710f-8bc1-47a2-ac3b-3c3bdf84b172",
   "metadata": {
    "tags": []
   },
   "outputs": [],
   "source": [
    "fig = plt.figure(figsize=(10,len(s_arr.sensors)))\n",
    "ax = plt.gca()\n",
    "\n",
    "s_arr.plot_observations(ax, s_arr.sensor_fluxs, s_arr.thetas, norm=brightness_norm)\n",
    "\n",
    "# X ticks\n",
    "dx = 0.25\n",
    "xtick_multiples = np.array([-1, -0.5, 0., 0.5, 1.])\n",
    "xticks = xtick_multiples * np.pi\n",
    "xtick_labels = [ '{:.2g}'.format( -_ ) + r'$\\pi$' for _ in xtick_multiples ]\n",
    "xticks = ax.set_xticks(xticks, xtick_labels)\n",
    "\n",
    "# Y labels\n",
    "ax.tick_params(left=False, labelleft=False)\n",
    "for i, sensor_i in enumerate(s_arr.sensors):\n",
    "    ax.annotate(\n",
    "        'sensor {}'.format(i),\n",
    "        xy = (-np.pi,i),\n",
    "        xycoords = 'data',\n",
    "        xytext = (-5,0),\n",
    "        textcoords = 'offset points',\n",
    "        color = palette[i],\n",
    "        ha = 'right',\n",
    "        fontsize = 14,\n",
    "    )"
   ]
  },
  {
   "cell_type": "markdown",
   "id": "f3db222f-f515-430a-a745-ac98710e238f",
   "metadata": {},
   "source": [
    "## Recreate Light Source\n"
   ]
  },
  {
   "cell_type": "code",
   "execution_count": null,
   "id": "ba67eb19-f32f-499c-b317-43bac1029b43",
   "metadata": {
    "tags": []
   },
   "outputs": [],
   "source": [
    "allowed_ls = s_arr.estimate_allowed_luminosities_on_grid()"
   ]
  },
  {
   "cell_type": "code",
   "execution_count": null,
   "id": "4e44d4fd-82ee-4c99-83c1-4c39388bdad4",
   "metadata": {
    "tags": []
   },
   "outputs": [],
   "source": [
    "for i, allowed_l in enumerate(allowed_ls):\n",
    "    \n",
    "    fig = plt.figure()\n",
    "    ax  = plt.gca()\n",
    "\n",
    "    ax.pcolormesh(\n",
    "        s_arr.xs_for_estimate,\n",
    "        s_arr.ys_for_estimate,\n",
    "        allowed_l,\n",
    "        cmap = 'Greys_r',\n",
    "        norm = matplotlib.colors.Normalize(0, 1),\n",
    "    )\n",
    "\n",
    "    ax.scatter(\n",
    "        s_arr.sensors[i].x,\n",
    "        s_arr.sensors[i].y,\n",
    "        color = palette[i],\n",
    "        s = 100,\n",
    "    )\n",
    "\n",
    "    ax.set_aspect('equal')"
   ]
  },
  {
   "cell_type": "code",
   "execution_count": null,
   "id": "cdf63ddf-b4dc-444d-ae8e-a69342d24400",
   "metadata": {
    "tags": []
   },
   "outputs": [],
   "source": [
    "\n",
    "fig = plt.figure()\n",
    "ax  = plt.gca()\n",
    "\n",
    "ax.pcolormesh(\n",
    "    s_arr.xs_for_estimate,\n",
    "    s_arr.ys_for_estimate,\n",
    "    np.array(allowed_ls).sum(axis=0),\n",
    "    cmap = 'Greys_r',\n",
    "    norm = matplotlib.colors.Normalize(0, 1),\n",
    ")\n",
    "for i, allowed_l in enumerate(allowed_ls):\n",
    "\n",
    "    ax.scatter(\n",
    "        s_arr.sensors[i].x,\n",
    "        s_arr.sensors[i].y,\n",
    "        color = palette[i],\n",
    "        s = 100,\n",
    "    )\n",
    "\n",
    "ax.set_aspect('equal')"
   ]
  },
  {
   "cell_type": "markdown",
   "id": "175e6a9a-fca8-4246-8862-f02bd61ea45f",
   "metadata": {},
   "source": [
    "# Real Data\n"
   ]
  },
  {
   "cell_type": "code",
   "execution_count": null,
   "id": "c45e6c73-31cb-45a6-8299-e81a3e43a1dd",
   "metadata": {},
   "outputs": [],
   "source": [
    "from night_horizons.data_io import GDALDatasetIO"
   ]
  },
  {
   "cell_type": "code",
   "execution_count": null,
   "id": "c8a5da2d-2640-4669-a4c7-2211b7574508",
   "metadata": {},
   "outputs": [],
   "source": [
    "fp = (\n",
    "    '/Users/Shared/data/other/'\n",
    "    'KX10_GIU_20230320_W88.35_N41.09_202300123136_L4A_B_LH.tif'\n",
    ")"
   ]
  },
  {
   "cell_type": "code",
   "execution_count": null,
   "id": "ae7ba5b8",
   "metadata": {},
   "outputs": [],
   "source": [
    "data = GDALDatasetIO().load_data(fp)"
   ]
  },
  {
   "cell_type": "code",
   "execution_count": null,
   "id": "4b1f3a37",
   "metadata": {},
   "outputs": [],
   "source": [
    "data.GetGeoTransform()"
   ]
  },
  {
   "cell_type": "code",
   "execution_count": null,
   "id": "acad53f6",
   "metadata": {},
   "outputs": [],
   "source": []
  }
 ],
 "metadata": {
  "kernelspec": {
   "display_name": "Python 3 (ipykernel)",
   "language": "python",
   "name": "python3"
  },
  "language_info": {
   "codemirror_mode": {
    "name": "ipython",
    "version": 3
   },
   "file_extension": ".py",
   "mimetype": "text/x-python",
   "name": "python",
   "nbconvert_exporter": "python",
   "pygments_lexer": "ipython3",
   "version": "3.11.5"
  }
 },
 "nbformat": 4,
 "nbformat_minor": 5
}

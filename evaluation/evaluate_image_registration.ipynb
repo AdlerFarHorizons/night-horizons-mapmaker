{
 "cells": [
  {
   "cell_type": "markdown",
   "metadata": {},
   "source": [
    "# Set up\n"
   ]
  },
  {
   "cell_type": "code",
   "execution_count": 1,
   "metadata": {},
   "outputs": [],
   "source": [
    "import pandas as pd"
   ]
  },
  {
   "cell_type": "code",
   "execution_count": 2,
   "metadata": {},
   "outputs": [],
   "source": [
    "from night_horizons.pipeline import create_stage"
   ]
  },
  {
   "cell_type": "markdown",
   "metadata": {},
   "source": [
    "## Parameters\n"
   ]
  },
  {
   "cell_type": "code",
   "execution_count": 3,
   "metadata": {},
   "outputs": [],
   "source": [
    "config_fp = \"../configs/query.yaml\""
   ]
  },
  {
   "cell_type": "markdown",
   "metadata": {},
   "source": [
    "## Initialize\n"
   ]
  },
  {
   "cell_type": "code",
   "execution_count": 4,
   "metadata": {},
   "outputs": [],
   "source": [
    "stage = create_stage(config_filepath=config_fp)"
   ]
  },
  {
   "cell_type": "code",
   "execution_count": 5,
   "metadata": {},
   "outputs": [],
   "source": [
    "io_manager = stage.container.get_service(\"io_manager\")"
   ]
  },
  {
   "cell_type": "markdown",
   "metadata": {},
   "source": [
    "## Load Metadata\n"
   ]
  },
  {
   "cell_type": "code",
   "execution_count": 6,
   "metadata": {},
   "outputs": [],
   "source": [
    "metadata = pd.read_csv(io_manager.input_filepaths[\"metadata\"], index_col=0)"
   ]
  },
  {
   "cell_type": "code",
   "execution_count": 7,
   "metadata": {},
   "outputs": [
    {
     "name": "stdout",
     "output_type": "stream",
     "text": [
      "<class 'pandas.core.frame.DataFrame'>\n",
      "Index: 1 entries, 0 to 0\n",
      "Data columns (total 77 columns):\n",
      " #   Column             Non-Null Count  Dtype  \n",
      "---  ------             --------------  -----  \n",
      " 0   ClimbErr           1 non-null      float64\n",
      " 1   GPSAlt             1 non-null      float64\n",
      " 2   GPSClimb           1 non-null      float64\n",
      " 3   GPSHeading         1 non-null      float64\n",
      " 4   GPSLat             1 non-null      float64\n",
      " 5   GPSLong            1 non-null      float64\n",
      " 6   GPSSpeed           1 non-null      float64\n",
      " 7   HeadErr            1 non-null      float64\n",
      " 8   LatErr             1 non-null      float64\n",
      " 9   LonErr             1 non-null      float64\n",
      " 10  SpeerErr           1 non-null      float64\n",
      " 11  TempC              1 non-null      float64\n",
      " 12  camera_num         1 non-null      int64  \n",
      " 13  center_diff        1 non-null      float64\n",
      " 14  distance_to_starting_image        1 non-null      float64\n",
      " 15  duration           1 non-null      float64\n",
      " 16  exposure_time      1 non-null      int64  \n",
      " 17  filename           0 non-null      float64\n",
      " 18  filename_x         1 non-null      object \n",
      " 19  filename_y         1 non-null      object \n",
      " 20  filepath           1 non-null      object \n",
      " 21  imuAccelX          1 non-null      float64\n",
      " 22  imuAccelY          1 non-null      float64\n",
      " 23  imuAccelZ          1 non-null      float64\n",
      " 24  imuGyroMag         1 non-null      float64\n",
      " 25  imuGyroX           1 non-null      float64\n",
      " 26  imuGyroY           1 non-null      float64\n",
      " 27  imuGyroZ           1 non-null      float64\n",
      " 28  imuMagX            1 non-null      float64\n",
      " 29  imuMagY            1 non-null      float64\n",
      " 30  imuMagZ            1 non-null      float64\n",
      " 31  imuPitch           1 non-null      float64\n",
      " 32  imuRoll            1 non-null      float64\n",
      " 33  imuYaw             1 non-null      float64\n",
      " 34  internal_temp      1 non-null      int64  \n",
      " 35  mAltitude          1 non-null      float64\n",
      " 36  obc_filename       1 non-null      object \n",
      " 37  obc_timestamp      1 non-null      object \n",
      " 38  odroid_timestamp   1 non-null      object \n",
      " 39  order              1 non-null      int64  \n",
      " 40  output_filepath    1 non-null      object \n",
      " 41  padding            1 non-null      float64\n",
      " 42  pixel_height       1 non-null      float64\n",
      " 43  pixel_height_diff  1 non-null      float64\n",
      " 44  pixel_width        1 non-null      float64\n",
      " 45  pixel_width_diff   1 non-null      float64\n",
      " 46  pressure           1 non-null      float64\n",
      " 47  return_code        1 non-null      object \n",
      " 48  score              1 non-null      float64\n",
      " 49  sensor_order       1 non-null      int64  \n",
      " 50  sensor_x           1 non-null      float64\n",
      " 51  sensor_y           1 non-null      float64\n",
      " 52  sequence_ind       1 non-null      int64  \n",
      " 53  serial_num         1 non-null      int64  \n",
      " 54  spatial_error      1 non-null      float64\n",
      " 55  timestamp          1 non-null      object \n",
      " 56  timestamp_id       1 non-null      int64  \n",
      " 57  timestamp_int_gps  1 non-null      float64\n",
      " 58  timestamp_int_imu  1 non-null      float64\n",
      " 59  x_center           1 non-null      float64\n",
      " 60  x_max              1 non-null      float64\n",
      " 61  x_max_diff         1 non-null      float64\n",
      " 62  x_min              1 non-null      float64\n",
      " 63  x_min_diff         1 non-null      float64\n",
      " 64  x_off              1 non-null      int64  \n",
      " 65  x_rot              1 non-null      float64\n",
      " 66  x_size             1 non-null      int64  \n",
      " 67  x_size_diff        1 non-null      int64  \n",
      " 68  y_center           1 non-null      float64\n",
      " 69  y_max              1 non-null      float64\n",
      " 70  y_max_diff         1 non-null      float64\n",
      " 71  y_min              1 non-null      float64\n",
      " 72  y_min_diff         1 non-null      float64\n",
      " 73  y_off              1 non-null      int64  \n",
      " 74  y_rot              1 non-null      float64\n",
      " 75  y_size             1 non-null      int64  \n",
      " 76  y_size_diff        1 non-null      int64  \n",
      "dtypes: float64(54), int64(14), object(9)\n",
      "memory usage: 624.0+ bytes\n"
     ]
    }
   ],
   "source": [
    "metadata.info()"
   ]
  },
  {
   "cell_type": "markdown",
   "metadata": {},
   "source": []
  }
 ],
 "metadata": {
  "kernelspec": {
   "display_name": "nitelite-pipeline-conda",
   "language": "python",
   "name": "python3"
  },
  "language_info": {
   "codemirror_mode": {
    "name": "ipython",
    "version": 3
   },
   "file_extension": ".py",
   "mimetype": "text/x-python",
   "name": "python",
   "nbconvert_exporter": "python",
   "pygments_lexer": "ipython3",
   "version": "3.11.9"
  }
 },
 "nbformat": 4,
 "nbformat_minor": 2
}

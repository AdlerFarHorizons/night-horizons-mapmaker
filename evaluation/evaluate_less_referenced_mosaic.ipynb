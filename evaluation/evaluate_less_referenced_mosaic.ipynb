{
 "cells": [
  {
   "cell_type": "markdown",
   "id": "7a998f1c-82e1-4acc-b16a-75de02325873",
   "metadata": {},
   "source": [
    "# Less-Referenced Mosaic Evaluation\n",
    "\n",
    "This notebook provides a cross-section of the Less-Referenced Mosaic creation process.\n"
   ]
  },
  {
   "cell_type": "markdown",
   "id": "5e4ede8c-7fb2-4dcf-9193-928321716c33",
   "metadata": {},
   "source": [
    "# Setup\n"
   ]
  },
  {
   "cell_type": "markdown",
   "id": "af05e098-f19b-45b4-97cc-413ecf0fbdc4",
   "metadata": {},
   "source": [
    "## Imports\n"
   ]
  },
  {
   "cell_type": "code",
   "execution_count": 1,
   "id": "25c75dcb-6592-4a10-a69a-7886c3cb75d0",
   "metadata": {},
   "outputs": [],
   "source": [
    "import copy\n",
    "import os"
   ]
  },
  {
   "cell_type": "code",
   "execution_count": 2,
   "id": "313f249d-f0eb-45ea-8cdc-b8f0d46af6ea",
   "metadata": {},
   "outputs": [],
   "source": [
    "import cv2\n",
    "import numpy as np\n",
    "import pandas as pd\n",
    "import scipy\n",
    "from sklearn.model_selection import train_test_split\n",
    "from sklearn.pipeline import Pipeline\n",
    "from sklearn.utils import check_random_state\n",
    "import yaml"
   ]
  },
  {
   "cell_type": "code",
   "execution_count": 3,
   "id": "876b1622-25b4-4384-b096-f6bd3367e21a",
   "metadata": {},
   "outputs": [],
   "source": [
    "import matplotlib\n",
    "import matplotlib.pyplot as plt\n",
    "import matplotlib.patches as patches\n",
    "import seaborn as sns\n",
    "sns.set_style('white')"
   ]
  },
  {
   "cell_type": "code",
   "execution_count": 4,
   "id": "f7db8f4e-2f00-4d15-96a4-51ebb4eeea23",
   "metadata": {},
   "outputs": [],
   "source": [
    "from night_horizons import utils, preprocess, reference, mosaic, raster, pipelines, features"
   ]
  },
  {
   "cell_type": "markdown",
   "id": "a2d4a814-de45-4c11-975c-43a21ca7b171",
   "metadata": {},
   "source": [
    "## Settings\n"
   ]
  },
  {
   "cell_type": "code",
   "execution_count": 5,
   "id": "e8752436-8f23-42d2-8dc9-3de3659d71cc",
   "metadata": {},
   "outputs": [],
   "source": [
    "with open('./config.yml', \"r\", encoding='UTF-8') as file:\n",
    "    settings = yaml.load(file, Loader=yaml.FullLoader)"
   ]
  },
  {
   "cell_type": "code",
   "execution_count": 6,
   "id": "6513b70e-d592-4bd3-a01b-a3e435a66fe7",
   "metadata": {},
   "outputs": [],
   "source": [
    "local_settings = {\n",
    "    'include_raw_images': True,\n",
    "    'mosaic_filepath': 'mosaics/less_referenced.tiff',\n",
    "    'random_state': 1682142,\n",
    "    'train_size': {\n",
    "        0: 40,\n",
    "        1: 40,\n",
    "        2: 40,\n",
    "    },\n",
    "    'n_loops': None,\n",
    "\n",
    "    # Cuts for movement and altitude\n",
    "    'gyro_mag_cut': 0.02,\n",
    "    'percent_for_cruising': 85.,\n",
    "    \n",
    "    # Choices for search region\n",
    "    'padding': 2.,\n",
    "    'use_approximate_georeferencing': True,\n",
    "    # This set of choices assumes we have really good starting positions.\n",
    "    # This is useful for debugging.\n",
    "    # 'padding': 0.1,\n",
    "    # 'use_approximate_georeferencing': False,\n",
    "\n",
    "    # The fraction of non-nan georeferencings required to claim success.\n",
    "    'acceptance_fraction': 0.85,\n",
    "    'attempted_acceptance_fraction': 0.95,\n",
    "\n",
    "    # Other mosaic options\n",
    "    'mosaic_options': {\n",
    "        'checkpoint_freq': 100,\n",
    "        'memory_snapshot_freq': 100,\n",
    "        'save_return_codes': ['linalg_err', 'opencv_err', 'bad_det'],\n",
    "        'bad_images_dir': '../test/test_data/feature_matching/',\n",
    "\n",
    "        # These values will be logged and checked for consistency.\n",
    "        'log_keys': [\n",
    "            'i',\n",
    "            'ind',\n",
    "            'return_code',\n",
    "            'abs_det_M',\n",
    "            'snapshot',\n",
    "        ],\n",
    "    },\n",
    "\n",
    "    # Choices for how images are combined\n",
    "    'image_joiners_options': {\n",
    "        'defaults': {\n",
    "            'feature_detector': 'AKAZE',\n",
    "            'feature_matcher': 'BFMatcher',\n",
    "        },\n",
    "        'variations': [\n",
    "            {'n_matches_used': 100, },\n",
    "            {'n_matches_used': 500, },\n",
    "            {'n_matches_used': 1000, },\n",
    "            {'n_matches_used': 10, },\n",
    "        ],\n",
    "    },\n",
    "}\n",
    "settings.update(local_settings)"
   ]
  },
  {
   "cell_type": "markdown",
   "id": "3487f510-b4ce-45ed-bb75-40e2eba18806",
   "metadata": {},
   "source": [
    "## Parse Settings\n"
   ]
  },
  {
   "cell_type": "code",
   "execution_count": 7,
   "id": "dd115e86-45c5-458b-9e75-19d40d7186d3",
   "metadata": {},
   "outputs": [],
   "source": [
    "settings['mosaic_filepath'] = os.path.join(settings['data_dir'], settings['mosaic_filepath'])"
   ]
  },
  {
   "cell_type": "code",
   "execution_count": 8,
   "id": "83d5aea6-64b2-4388-bdcc-c1cb7ba3f929",
   "metadata": {},
   "outputs": [],
   "source": [
    "for key, relpath in settings['paths_relative_to_data_dir'].items():\n",
    "    settings[key] = os.path.join(settings['data_dir'], relpath)"
   ]
  },
  {
   "cell_type": "code",
   "execution_count": 9,
   "id": "ef2a5c18-9b75-4eb4-a357-e8a6e33db965",
   "metadata": {},
   "outputs": [],
   "source": [
    "random_state = check_random_state(settings['random_state'])"
   ]
  },
  {
   "cell_type": "code",
   "execution_count": 10,
   "id": "ddb114a1-861a-4ab0-9324-83705e5486d2",
   "metadata": {},
   "outputs": [],
   "source": [
    "palette = sns.color_palette(settings['color_palette'])"
   ]
  },
  {
   "cell_type": "code",
   "execution_count": 11,
   "id": "6767f5db-d232-4569-9196-dd3aef89daa8",
   "metadata": {},
   "outputs": [],
   "source": [
    "crs = settings['crs']"
   ]
  },
  {
   "cell_type": "code",
   "execution_count": 12,
   "metadata": {},
   "outputs": [],
   "source": [
    "constructor_kwargs = dict(\n",
    "    image_joiner=features.ImageJoinerQueue(**settings['image_joiners_options']),\n",
    "    filepath=settings['mosaic_filepath'],\n",
    "    padding=settings['padding'],\n",
    "    crs=crs,\n",
    "    **settings['mosaic_options']\n",
    ")"
   ]
  },
  {
   "cell_type": "markdown",
   "id": "17fbb0d9-fbba-423e-895a-84996baf78cd",
   "metadata": {},
   "source": [
    "# Prepare Data\n",
    "\n",
    "The first part is to prepare the data (AKA extract/transform/load).\n"
   ]
  },
  {
   "cell_type": "markdown",
   "id": "9876f8e3-42e2-4ca1-b1d1-37726c35712c",
   "metadata": {},
   "source": [
    "## Get filepaths\n"
   ]
  },
  {
   "cell_type": "code",
   "execution_count": 13,
   "id": "b4408c5e-dba0-44a3-9cb3-2b5922875880",
   "metadata": {},
   "outputs": [],
   "source": [
    "# Get the referenced filepaths, divided according to camera number\n",
    "referenced_fps = {i: utils.discover_data(settings['referenced_images_dir'], ['tif', 'tiff'], pattern=r'Geo\\s\\d+_' + f'{i}.tif') for i in range(3)}"
   ]
  },
  {
   "cell_type": "code",
   "execution_count": 14,
   "id": "a3c53a0b-ddb9-45a3-af3b-e51e118a46bf",
   "metadata": {},
   "outputs": [],
   "source": [
    "raw_fps = utils.discover_data(settings['images_dir'], ['tif', 'tiff', 'raw'])"
   ]
  },
  {
   "cell_type": "markdown",
   "id": "1dd367ad-5669-4940-a808-7772ff683075",
   "metadata": {},
   "source": [
    "## Train-Test Split\n",
    "\n",
    "We split the data into training data (data that is georeferenced) and test data (data that is not georeferenced, or for which we don't use the georeferencing information when we're building the models).\n",
    "\n",
    "We set the train size to some small number, because ideally the user only needs to georeference a couple of images manually.\n"
   ]
  },
  {
   "cell_type": "code",
   "execution_count": 15,
   "id": "d40450cf-8f61-4614-b106-cfa31cb50fda",
   "metadata": {},
   "outputs": [],
   "source": [
    "# Get the training sample for each camera\n",
    "referenced_fps_train = []\n",
    "referenced_fps_test = []\n",
    "for camera_num, train_size_i in settings['train_size'].items():\n",
    "\n",
    "    # When there's no training for this camera\n",
    "    if train_size_i == 0:\n",
    "        referenced_fps_test.append(referenced_fps[camera_num])\n",
    "        continue\n",
    "        \n",
    "    referenced_fps_train_i, referenced_fps_test_i = train_test_split(\n",
    "        referenced_fps[camera_num],\n",
    "        train_size=train_size_i,\n",
    "        random_state=settings['random_state'],\n",
    "        shuffle=True,\n",
    "    )\n",
    "    referenced_fps_train.append(referenced_fps_train_i)\n",
    "    referenced_fps_test.append(referenced_fps_test_i)\n"
   ]
  },
  {
   "cell_type": "code",
   "execution_count": 16,
   "id": "61dbc68d-a36b-42a4-99a8-9df09fe37e66",
   "metadata": {},
   "outputs": [],
   "source": [
    "referenced_fps_train = pd.concat(referenced_fps_train, ignore_index=True)\n",
    "referenced_fps_test = pd.concat(referenced_fps_test, ignore_index=True)"
   ]
  },
  {
   "cell_type": "markdown",
   "id": "545de3dd-664c-437e-b96f-5841dd203b22",
   "metadata": {},
   "source": [
    "## Combine Referenced and Raw\n"
   ]
  },
  {
   "cell_type": "code",
   "execution_count": 17,
   "id": "bff28db4-a5a1-4366-a38f-b338d19f7240",
   "metadata": {},
   "outputs": [],
   "source": [
    "# Adjust the index so we don't have duplicates\n",
    "raw_fps.index += referenced_fps_test.size"
   ]
  },
  {
   "cell_type": "code",
   "execution_count": 18,
   "id": "322d68c6-4cf2-4dbd-8409-b25742cc9d88",
   "metadata": {},
   "outputs": [],
   "source": [
    "# Actual combination\n",
    "fps_train = referenced_fps_train\n",
    "fps_test = referenced_fps_test\n",
    "if settings['include_raw_images']:\n",
    "    fps = pd.concat([referenced_fps_test, raw_fps])\n",
    "else:\n",
    "    fps = referenced_fps_test"
   ]
  },
  {
   "cell_type": "markdown",
   "id": "1f656506-eac8-4e2b-8daf-87de132190f5",
   "metadata": {},
   "source": [
    "## Preprocessing\n"
   ]
  },
  {
   "cell_type": "markdown",
   "id": "50354b97-1c3c-4d04-819d-e3452128e0d4",
   "metadata": {},
   "source": [
    "### y values\n",
    "\n",
    "We get the y-values first because we use a model fitted to them to get the X values\n"
   ]
  },
  {
   "cell_type": "code",
   "execution_count": 19,
   "id": "7b1cb20e-87fc-47c3-b7b4-5fd8a898f3d2",
   "metadata": {},
   "outputs": [],
   "source": [
    "preprocessing_pipeline_y = preprocess.GeoTIFFPreprocesser(crs=crs)"
   ]
  },
  {
   "cell_type": "code",
   "execution_count": 20,
   "id": "a407f336-0cf1-46d0-81be-5b8dca5e0152",
   "metadata": {},
   "outputs": [
    {
     "name": "stderr",
     "output_type": "stream",
     "text": [
      "100%|████████████████████████████████████████| 120/120 [00:00<00:00, 190.39it/s]\n",
      "100%|██████████████████████████████████████████| 41/41 [00:00<00:00, 209.30it/s]\n"
     ]
    }
   ],
   "source": [
    "# Get the geo-transforms used for training\n",
    "y_train = preprocessing_pipeline_y.fit_transform(fps_train)\n",
    "y_test = preprocessing_pipeline_y.fit_transform(fps_test)"
   ]
  },
  {
   "cell_type": "markdown",
   "id": "44b46bf1-41da-480c-9f9e-821c1a0ea9e6",
   "metadata": {},
   "source": [
    "### X values\n",
    "\n",
    "We use the sensor (high-altitude balloon) positions to provide approximate georeferencing, which will be useful for saving computational time when building the unreferenced mosaic.\n"
   ]
  },
  {
   "cell_type": "code",
   "execution_count": 21,
   "id": "2f76ec89-3fc5-475c-b782-3bcedf2dd1fc",
   "metadata": {},
   "outputs": [
    {
     "data": {
      "text/html": [
       "<style>#sk-container-id-1 {color: black;background-color: white;}#sk-container-id-1 pre{padding: 0;}#sk-container-id-1 div.sk-toggleable {background-color: white;}#sk-container-id-1 label.sk-toggleable__label {cursor: pointer;display: block;width: 100%;margin-bottom: 0;padding: 0.3em;box-sizing: border-box;text-align: center;}#sk-container-id-1 label.sk-toggleable__label-arrow:before {content: \"▸\";float: left;margin-right: 0.25em;color: #696969;}#sk-container-id-1 label.sk-toggleable__label-arrow:hover:before {color: black;}#sk-container-id-1 div.sk-estimator:hover label.sk-toggleable__label-arrow:before {color: black;}#sk-container-id-1 div.sk-toggleable__content {max-height: 0;max-width: 0;overflow: hidden;text-align: left;background-color: #f0f8ff;}#sk-container-id-1 div.sk-toggleable__content pre {margin: 0.2em;color: black;border-radius: 0.25em;background-color: #f0f8ff;}#sk-container-id-1 input.sk-toggleable__control:checked~div.sk-toggleable__content {max-height: 200px;max-width: 100%;overflow: auto;}#sk-container-id-1 input.sk-toggleable__control:checked~label.sk-toggleable__label-arrow:before {content: \"▾\";}#sk-container-id-1 div.sk-estimator input.sk-toggleable__control:checked~label.sk-toggleable__label {background-color: #d4ebff;}#sk-container-id-1 div.sk-label input.sk-toggleable__control:checked~label.sk-toggleable__label {background-color: #d4ebff;}#sk-container-id-1 input.sk-hidden--visually {border: 0;clip: rect(1px 1px 1px 1px);clip: rect(1px, 1px, 1px, 1px);height: 1px;margin: -1px;overflow: hidden;padding: 0;position: absolute;width: 1px;}#sk-container-id-1 div.sk-estimator {font-family: monospace;background-color: #f0f8ff;border: 1px dotted black;border-radius: 0.25em;box-sizing: border-box;margin-bottom: 0.5em;}#sk-container-id-1 div.sk-estimator:hover {background-color: #d4ebff;}#sk-container-id-1 div.sk-parallel-item::after {content: \"\";width: 100%;border-bottom: 1px solid gray;flex-grow: 1;}#sk-container-id-1 div.sk-label:hover label.sk-toggleable__label {background-color: #d4ebff;}#sk-container-id-1 div.sk-serial::before {content: \"\";position: absolute;border-left: 1px solid gray;box-sizing: border-box;top: 0;bottom: 0;left: 50%;z-index: 0;}#sk-container-id-1 div.sk-serial {display: flex;flex-direction: column;align-items: center;background-color: white;padding-right: 0.2em;padding-left: 0.2em;position: relative;}#sk-container-id-1 div.sk-item {position: relative;z-index: 1;}#sk-container-id-1 div.sk-parallel {display: flex;align-items: stretch;justify-content: center;background-color: white;position: relative;}#sk-container-id-1 div.sk-item::before, #sk-container-id-1 div.sk-parallel-item::before {content: \"\";position: absolute;border-left: 1px solid gray;box-sizing: border-box;top: 0;bottom: 0;left: 50%;z-index: -1;}#sk-container-id-1 div.sk-parallel-item {display: flex;flex-direction: column;z-index: 1;position: relative;background-color: white;}#sk-container-id-1 div.sk-parallel-item:first-child::after {align-self: flex-end;width: 50%;}#sk-container-id-1 div.sk-parallel-item:last-child::after {align-self: flex-start;width: 50%;}#sk-container-id-1 div.sk-parallel-item:only-child::after {width: 0;}#sk-container-id-1 div.sk-dashed-wrapped {border: 1px dashed gray;margin: 0 0.4em 0.5em 0.4em;box-sizing: border-box;padding-bottom: 0.4em;background-color: white;}#sk-container-id-1 div.sk-label label {font-family: monospace;font-weight: bold;display: inline-block;line-height: 1.2em;}#sk-container-id-1 div.sk-label-container {text-align: center;}#sk-container-id-1 div.sk-container {/* jupyter's `normalize.less` sets `[hidden] { display: none; }` but bootstrap.min.css set `[hidden] { display: none !important; }` so we also need the `!important` here to be able to override the default hidden behavior on the sphinx rendered scikit-learn.org. See: https://github.com/scikit-learn/scikit-learn/issues/21755 */display: inline-block !important;position: relative;}#sk-container-id-1 div.sk-text-repr-fallback {display: none;}</style><div id=\"sk-container-id-1\" class=\"sk-top-container\"><div class=\"sk-text-repr-fallback\"><pre>Pipeline(steps=[(&#x27;metadata&#x27;, NITELitePreprocesser()),\n",
       "                (&#x27;select_deployment_phase&#x27;, AltitudeFilter(column=&#x27;mAltitude&#x27;)),\n",
       "                (&#x27;select_steady&#x27;,\n",
       "                 SteadyFilter(columns=[&#x27;imuGyroX&#x27;, &#x27;imuGyroY&#x27;, &#x27;imuGyroZ&#x27;])),\n",
       "                (&#x27;georeference&#x27;,\n",
       "                 SensorGeoreferencer(passthrough=[&#x27;filepath&#x27;, &#x27;camera_num&#x27;])),\n",
       "                (&#x27;order&#x27;, SensorAndDistanceOrder())])</pre><b>In a Jupyter environment, please rerun this cell to show the HTML representation or trust the notebook. <br />On GitHub, the HTML representation is unable to render, please try loading this page with nbviewer.org.</b></div><div class=\"sk-container\" hidden><div class=\"sk-item sk-dashed-wrapped\"><div class=\"sk-label-container\"><div class=\"sk-label sk-toggleable\"><input class=\"sk-toggleable__control sk-hidden--visually\" id=\"sk-estimator-id-1\" type=\"checkbox\" ><label for=\"sk-estimator-id-1\" class=\"sk-toggleable__label sk-toggleable__label-arrow\">Pipeline</label><div class=\"sk-toggleable__content\"><pre>Pipeline(steps=[(&#x27;metadata&#x27;, NITELitePreprocesser()),\n",
       "                (&#x27;select_deployment_phase&#x27;, AltitudeFilter(column=&#x27;mAltitude&#x27;)),\n",
       "                (&#x27;select_steady&#x27;,\n",
       "                 SteadyFilter(columns=[&#x27;imuGyroX&#x27;, &#x27;imuGyroY&#x27;, &#x27;imuGyroZ&#x27;])),\n",
       "                (&#x27;georeference&#x27;,\n",
       "                 SensorGeoreferencer(passthrough=[&#x27;filepath&#x27;, &#x27;camera_num&#x27;])),\n",
       "                (&#x27;order&#x27;, SensorAndDistanceOrder())])</pre></div></div></div><div class=\"sk-serial\"><div class=\"sk-item\"><div class=\"sk-estimator sk-toggleable\"><input class=\"sk-toggleable__control sk-hidden--visually\" id=\"sk-estimator-id-2\" type=\"checkbox\" ><label for=\"sk-estimator-id-2\" class=\"sk-toggleable__label sk-toggleable__label-arrow\">NITELitePreprocesser</label><div class=\"sk-toggleable__content\"><pre>NITELitePreprocesser()</pre></div></div></div><div class=\"sk-item\"><div class=\"sk-estimator sk-toggleable\"><input class=\"sk-toggleable__control sk-hidden--visually\" id=\"sk-estimator-id-3\" type=\"checkbox\" ><label for=\"sk-estimator-id-3\" class=\"sk-toggleable__label sk-toggleable__label-arrow\">AltitudeFilter</label><div class=\"sk-toggleable__content\"><pre>AltitudeFilter(column=&#x27;mAltitude&#x27;)</pre></div></div></div><div class=\"sk-item\"><div class=\"sk-estimator sk-toggleable\"><input class=\"sk-toggleable__control sk-hidden--visually\" id=\"sk-estimator-id-4\" type=\"checkbox\" ><label for=\"sk-estimator-id-4\" class=\"sk-toggleable__label sk-toggleable__label-arrow\">SteadyFilter</label><div class=\"sk-toggleable__content\"><pre>SteadyFilter(columns=[&#x27;imuGyroX&#x27;, &#x27;imuGyroY&#x27;, &#x27;imuGyroZ&#x27;])</pre></div></div></div><div class=\"sk-item\"><div class=\"sk-estimator sk-toggleable\"><input class=\"sk-toggleable__control sk-hidden--visually\" id=\"sk-estimator-id-5\" type=\"checkbox\" ><label for=\"sk-estimator-id-5\" class=\"sk-toggleable__label sk-toggleable__label-arrow\">SensorGeoreferencer</label><div class=\"sk-toggleable__content\"><pre>SensorGeoreferencer(passthrough=[&#x27;filepath&#x27;, &#x27;camera_num&#x27;])</pre></div></div></div><div class=\"sk-item\"><div class=\"sk-estimator sk-toggleable\"><input class=\"sk-toggleable__control sk-hidden--visually\" id=\"sk-estimator-id-6\" type=\"checkbox\" ><label for=\"sk-estimator-id-6\" class=\"sk-toggleable__label sk-toggleable__label-arrow\">SensorAndDistanceOrder</label><div class=\"sk-toggleable__content\"><pre>SensorAndDistanceOrder()</pre></div></div></div></div></div></div></div>"
      ],
      "text/plain": [
       "Pipeline(steps=[('metadata', NITELitePreprocesser()),\n",
       "                ('select_deployment_phase', AltitudeFilter(column='mAltitude')),\n",
       "                ('select_steady',\n",
       "                 SteadyFilter(columns=['imuGyroX', 'imuGyroY', 'imuGyroZ'])),\n",
       "                ('georeference',\n",
       "                 SensorGeoreferencer(passthrough=['filepath', 'camera_num'])),\n",
       "                ('order', SensorAndDistanceOrder())])"
      ]
     },
     "execution_count": 21,
     "metadata": {},
     "output_type": "execute_result"
    }
   ],
   "source": [
    "# This is the pipeline for approximate georeferencing\n",
    "preprocessing_steps = pipelines.PreprocessingPipelines.nitelite_preprocessing_steps(\n",
    "    crs=crs,\n",
    "    use_approximate_georeferencing=settings['use_approximate_georeferencing'],\n",
    ")\n",
    "preprocessing_pipeline = Pipeline(preprocessing_steps)\n",
    "preprocessing_pipeline"
   ]
  },
  {
   "cell_type": "code",
   "execution_count": 22,
   "id": "cb331bb1-8883-4163-8351-7105b86e5db9",
   "metadata": {},
   "outputs": [],
   "source": [
    "# Fit the pipeline\n",
    "preprocessing_pipeline = preprocessing_pipeline.fit(\n",
    "    fps_train,\n",
    "    y_train,\n",
    "    metadata__img_log_fp=settings['img_log_fp'],\n",
    "    metadata__imu_log_fp=settings['imu_log_fp'],\n",
    "    metadata__gps_log_fp=settings['gps_log_fp'],\n",
    ")"
   ]
  },
  {
   "cell_type": "code",
   "execution_count": 23,
   "id": "ddab08a1-6129-4330-9a31-1b55f1be9090",
   "metadata": {},
   "outputs": [
    {
     "name": "stderr",
     "output_type": "stream",
     "text": [
      "/Users/Shared/repos/night-horizons-mapmaker/night_horizons/preprocess.py:152: UserWarning: Did not successfully correlate all filepaths. n_uncorrelated = 2\n",
      "  warnings.warn(w_message)\n"
     ]
    }
   ],
   "source": [
    "# Get out the X values we'll use for the mosaic\n",
    "X_train = preprocessing_pipeline.transform(fps_train)\n",
    "X = preprocessing_pipeline.transform(fps)"
   ]
  },
  {
   "cell_type": "code",
   "execution_count": 24,
   "metadata": {},
   "outputs": [],
   "source": [
    "# Truncate according to n_loops\n",
    "if settings['n_loops'] is None:\n",
    "    n_loops = X.index.size\n",
    "else:\n",
    "    n_loops = settings['n_loops']\n",
    "X_full = X.copy()\n",
    "X = X.iloc[:n_loops]"
   ]
  },
  {
   "cell_type": "code",
   "execution_count": 25,
   "id": "14064a89-5973-4dcf-859f-6e36d1e621a3",
   "metadata": {},
   "outputs": [],
   "source": [
    "# Drop the y values and filepaths that were filtered out\n",
    "fps = fps.loc[X.index]\n",
    "X_test = X.loc[X.index.isin(y_test.index)]\n",
    "y_test = y_test.loc[X_test.index]"
   ]
  },
  {
   "cell_type": "markdown",
   "id": "071155d1-07ca-4e9a-83f3-7c6506d06e88",
   "metadata": {},
   "source": [
    "# Build the Mosaic\n"
   ]
  },
  {
   "cell_type": "markdown",
   "id": "bf13bb96-1286-4cb7-8789-e0681c6d1b29",
   "metadata": {},
   "source": [
    "## Initialization\n"
   ]
  },
  {
   "cell_type": "code",
   "execution_count": 26,
   "id": "9427438d-171e-41a5-a402-77e65831788c",
   "metadata": {},
   "outputs": [],
   "source": [
    "less_reffed_mosaic = mosaic.LessReferencedMosaic(\n",
    "    **constructor_kwargs\n",
    ")"
   ]
  },
  {
   "cell_type": "code",
   "execution_count": 27,
   "id": "a5b3b750-1c67-4dea-ba3b-78028b817501",
   "metadata": {},
   "outputs": [
    {
     "name": "stdout",
     "output_type": "stream",
     "text": [
      "Found checkpoint file. Will fast forward to i=1601\n"
     ]
    }
   ],
   "source": [
    "# This creates the dataset and adds the referenced mosaic.\n",
    "less_reffed_mosaic.fit(\n",
    "    X=y_train,\n",
    "    approx_y=X_full,\n",
    ")"
   ]
  },
  {
   "cell_type": "markdown",
   "id": "04c8faea-db3e-4bbf-a58f-a9de615598f1",
   "metadata": {},
   "source": [
    "## Run\n"
   ]
  },
  {
   "cell_type": "code",
   "execution_count": 29,
   "id": "5908cf18-7ef8-4e2e-bbe0-c81dd0f8da5d",
   "metadata": {},
   "outputs": [
    {
     "name": "stderr",
     "output_type": "stream",
     "text": [
      " 10%|███▉                                  | 1613/15806 [00:18<02:46, 85.41it/s]\n"
     ]
    },
    {
     "ename": "UnboundLocalError",
     "evalue": "cannot access local variable 'return_code' where it is not associated with a value",
     "output_type": "error",
     "traceback": [
      "\u001b[0;31m---------------------------------------------------------------------------\u001b[0m",
      "\u001b[0;31mKeyboardInterrupt\u001b[0m                         Traceback (most recent call last)",
      "File \u001b[0;32m/Users/Shared/repos/night-horizons-mapmaker/night_horizons/features.py:94\u001b[0m, in \u001b[0;36mImageJoiner.join\u001b[0;34m(self, src_img, dst_img, warp_and_blend)\u001b[0m\n\u001b[1;32m     92\u001b[0m \u001b[39mtry\u001b[39;00m:\n\u001b[1;32m     93\u001b[0m     \u001b[39m# Try to get a valid homography\u001b[39;00m\n\u001b[0;32m---> 94\u001b[0m     results \u001b[39m=\u001b[39m \u001b[39mself\u001b[39m\u001b[39m.\u001b[39mfind_valid_homography(src_img, dst_img)\n\u001b[1;32m     96\u001b[0m     \u001b[39mif\u001b[39;00m warp_and_blend:\n\u001b[1;32m     97\u001b[0m \n\u001b[1;32m     98\u001b[0m         \u001b[39m# Warp image\u001b[39;00m\n",
      "File \u001b[0;32m/Users/Shared/repos/night-horizons-mapmaker/night_horizons/features.py:147\u001b[0m, in \u001b[0;36mImageJoiner.find_valid_homography\u001b[0;34m(self, src_img, dst_img)\u001b[0m\n\u001b[1;32m    146\u001b[0m src_kp, src_des \u001b[39m=\u001b[39m \u001b[39mself\u001b[39m\u001b[39m.\u001b[39mdetect_and_compute(src_img)\n\u001b[0;32m--> 147\u001b[0m dst_kp, dst_des \u001b[39m=\u001b[39m \u001b[39mself\u001b[39m\u001b[39m.\u001b[39mdetect_and_compute(dst_img)\n\u001b[1;32m    148\u001b[0m results[\u001b[39m'\u001b[39m\u001b[39msrc_kp\u001b[39m\u001b[39m'\u001b[39m] \u001b[39m=\u001b[39m src_kp\n",
      "File \u001b[0;32m/Users/Shared/repos/night-horizons-mapmaker/night_horizons/features.py:170\u001b[0m, in \u001b[0;36mImageJoiner.detect_and_compute\u001b[0;34m(self, img)\u001b[0m\n\u001b[1;32m    168\u001b[0m \u001b[39mdef\u001b[39;00m \u001b[39mdetect_and_compute\u001b[39m(\u001b[39mself\u001b[39m, img):\n\u001b[0;32m--> 170\u001b[0m     \u001b[39mreturn\u001b[39;00m \u001b[39mself\u001b[39m\u001b[39m.\u001b[39mfeature_detector\u001b[39m.\u001b[39mdetectAndCompute(img, \u001b[39mNone\u001b[39;00m)\n",
      "\u001b[0;31mKeyboardInterrupt\u001b[0m: ",
      "\nDuring handling of the above exception, another exception occurred:\n",
      "\u001b[0;31mUnboundLocalError\u001b[0m                         Traceback (most recent call last)",
      "\u001b[1;32m/Users/Shared/repos/night-horizons-mapmaker/evaluation/evaluate_less_referenced_mosaic.ipynb Cell 43\u001b[0m line \u001b[0;36m1\n\u001b[0;32m----> <a href='vscode-notebook-cell:/Users/Shared/repos/night-horizons-mapmaker/evaluation/evaluate_less_referenced_mosaic.ipynb#X61sZmlsZQ%3D%3D?line=0'>1</a>\u001b[0m y_pred \u001b[39m=\u001b[39m less_reffed_mosaic\u001b[39m.\u001b[39mpredict(\n\u001b[1;32m      <a href='vscode-notebook-cell:/Users/Shared/repos/night-horizons-mapmaker/evaluation/evaluate_less_referenced_mosaic.ipynb#X61sZmlsZQ%3D%3D?line=1'>2</a>\u001b[0m     X,\n\u001b[1;32m      <a href='vscode-notebook-cell:/Users/Shared/repos/night-horizons-mapmaker/evaluation/evaluate_less_referenced_mosaic.ipynb#X61sZmlsZQ%3D%3D?line=2'>3</a>\u001b[0m )\n",
      "File \u001b[0;32m/Users/Shared/repos/night-horizons-mapmaker/night_horizons/utils.py:423\u001b[0m, in \u001b[0;36menable_passthrough.<locals>.wrapper\u001b[0;34m(self, X, *args, **kwargs)\u001b[0m\n\u001b[1;32m    420\u001b[0m X_in \u001b[39m=\u001b[39m X[\u001b[39mself\u001b[39m\u001b[39m.\u001b[39mrequired_columns]\u001b[39m.\u001b[39mcopy()\n\u001b[1;32m    422\u001b[0m \u001b[39m# Call function\u001b[39;00m\n\u001b[0;32m--> 423\u001b[0m X_out \u001b[39m=\u001b[39m func(\u001b[39mself\u001b[39m, X_in, \u001b[39m*\u001b[39margs, \u001b[39m*\u001b[39m\u001b[39m*\u001b[39mkwargs)\n\u001b[1;32m    425\u001b[0m \u001b[39m# When there's nothing to passthrough\u001b[39;00m\n\u001b[1;32m    426\u001b[0m \u001b[39mif\u001b[39;00m \u001b[39mlen\u001b[39m(passthrough) \u001b[39m==\u001b[39m \u001b[39m0\u001b[39m:\n",
      "File \u001b[0;32m/Users/Shared/repos/night-horizons-mapmaker/night_horizons/mosaic.py:787\u001b[0m, in \u001b[0;36mLessReferencedMosaic.predict\u001b[0;34m(self, X, y)\u001b[0m\n\u001b[1;32m    783\u001b[0m     \u001b[39mcontinue\u001b[39;00m\n\u001b[1;32m    785\u001b[0m row \u001b[39m=\u001b[39m X\u001b[39m.\u001b[39mloc[ind]\n\u001b[0;32m--> 787\u001b[0m return_code, results, log \u001b[39m=\u001b[39m \u001b[39mself\u001b[39m\u001b[39m.\u001b[39mincorporate_image(\n\u001b[1;32m    788\u001b[0m     dataset,\n\u001b[1;32m    789\u001b[0m     row,\n\u001b[1;32m    790\u001b[0m     dsframe_dst_pts,\n\u001b[1;32m    791\u001b[0m     dsframe_dst_des,\n\u001b[1;32m    792\u001b[0m )\n\u001b[1;32m    794\u001b[0m \u001b[39mif\u001b[39;00m return_code \u001b[39m==\u001b[39m \u001b[39m'\u001b[39m\u001b[39msuccess\u001b[39m\u001b[39m'\u001b[39m:\n\u001b[1;32m    795\u001b[0m \n\u001b[1;32m    796\u001b[0m     \u001b[39m# Store the transformed points for the next loop\u001b[39;00m\n\u001b[1;32m    797\u001b[0m     \u001b[39mif\u001b[39;00m \u001b[39mself\u001b[39m\u001b[39m.\u001b[39mfeature_mode \u001b[39m==\u001b[39m \u001b[39m'\u001b[39m\u001b[39mstore\u001b[39m\u001b[39m'\u001b[39m:\n",
      "File \u001b[0;32m/Users/Shared/repos/night-horizons-mapmaker/night_horizons/mosaic.py:928\u001b[0m, in \u001b[0;36mLessReferencedMosaic.incorporate_image\u001b[0;34m(self, dataset, row, dsframe_dst_pts, dsframe_dst_des)\u001b[0m\n\u001b[1;32m    918\u001b[0m src_img \u001b[39m=\u001b[39m utils\u001b[39m.\u001b[39mload_image(\n\u001b[1;32m    919\u001b[0m     row[\u001b[39m'\u001b[39m\u001b[39mfilepath\u001b[39m\u001b[39m'\u001b[39m],\n\u001b[1;32m    920\u001b[0m     dtype\u001b[39m=\u001b[39m\u001b[39mself\u001b[39m\u001b[39m.\u001b[39mdtype,\n\u001b[1;32m    921\u001b[0m )\n\u001b[1;32m    923\u001b[0m \u001b[39m# Main function\u001b[39;00m\n\u001b[1;32m    924\u001b[0m \u001b[39m# TODO: Return codes may not actually be particularly Pythonic.\u001b[39;00m\n\u001b[1;32m    925\u001b[0m \u001b[39m#    However, we need to track *how* the failures happened somehow,\u001b[39;00m\n\u001b[1;32m    926\u001b[0m \u001b[39m#    so we need some sort of flag, which is basically a return code.\u001b[39;00m\n\u001b[1;32m    927\u001b[0m \u001b[39m#    That said, there may be a better alternative to this.\u001b[39;00m\n\u001b[0;32m--> 928\u001b[0m return_code, result, image_joiner_log \u001b[39m=\u001b[39m \u001b[39mself\u001b[39m\u001b[39m.\u001b[39mimage_joiner\u001b[39m.\u001b[39mjoin(\n\u001b[1;32m    929\u001b[0m     src_img, dst_img)\n\u001b[1;32m    930\u001b[0m log \u001b[39m=\u001b[39m \u001b[39mself\u001b[39m\u001b[39m.\u001b[39mupdate_log(image_joiner_log, target\u001b[39m=\u001b[39mlog)\n\u001b[1;32m    932\u001b[0m \u001b[39m# TODO: Clean this up\u001b[39;00m\n",
      "File \u001b[0;32m/Users/Shared/repos/night-horizons-mapmaker/night_horizons/features.py:368\u001b[0m, in \u001b[0;36mImageJoinerQueue.join\u001b[0;34m(self, src_img, dst_img)\u001b[0m\n\u001b[1;32m    364\u001b[0m \u001b[39mdef\u001b[39;00m \u001b[39mjoin\u001b[39m(\u001b[39mself\u001b[39m, src_img, dst_img):\n\u001b[1;32m    366\u001b[0m     \u001b[39mfor\u001b[39;00m i, image_joiner \u001b[39min\u001b[39;00m \u001b[39menumerate\u001b[39m(\u001b[39mself\u001b[39m\u001b[39m.\u001b[39mimage_joiners):\n\u001b[0;32m--> 368\u001b[0m         result_code, result, log \u001b[39m=\u001b[39m image_joiner\u001b[39m.\u001b[39mjoin(\n\u001b[1;32m    369\u001b[0m             src_img,\n\u001b[1;32m    370\u001b[0m             dst_img\n\u001b[1;32m    371\u001b[0m         )\n\u001b[1;32m    372\u001b[0m         \u001b[39mif\u001b[39;00m result_code \u001b[39m==\u001b[39m \u001b[39m'\u001b[39m\u001b[39msuccess\u001b[39m\u001b[39m'\u001b[39m:\n\u001b[1;32m    373\u001b[0m             \u001b[39mbreak\u001b[39;00m\n",
      "File \u001b[0;32m/Users/Shared/repos/night-horizons-mapmaker/night_horizons/features.py:125\u001b[0m, in \u001b[0;36mImageJoiner.join\u001b[0;34m(self, src_img, dst_img, warp_and_blend)\u001b[0m\n\u001b[1;32m    122\u001b[0m \u001b[39m# Log\u001b[39;00m\n\u001b[1;32m    123\u001b[0m \u001b[39mself\u001b[39m\u001b[39m.\u001b[39mupdate_log(\u001b[39mlocals\u001b[39m())\n\u001b[0;32m--> 125\u001b[0m \u001b[39mreturn\u001b[39;00m return_code, results, \u001b[39mself\u001b[39m\u001b[39m.\u001b[39mlog\n",
      "\u001b[0;31mUnboundLocalError\u001b[0m: cannot access local variable 'return_code' where it is not associated with a value"
     ]
    }
   ],
   "source": [
    "y_pred = less_reffed_mosaic.predict(\n",
    "    X,\n",
    ")"
   ]
  },
  {
   "cell_type": "markdown",
   "id": "2537311e-cec8-4b96-b44d-8e52d2fa748b",
   "metadata": {},
   "source": [
    "# Evaluate\n"
   ]
  },
  {
   "cell_type": "markdown",
   "id": "6ff9717f-c6d8-42de-b030-6e6b793d956f",
   "metadata": {},
   "source": [
    "## Return Codes\n"
   ]
  },
  {
   "cell_type": "code",
   "execution_count": null,
   "id": "74e705c9-85b4-4a97-a8c9-33f6b1e1b011",
   "metadata": {},
   "outputs": [],
   "source": [
    "# Check how many were successful\n",
    "return_codes = pd.Series([log['return_code'] for log in less_reffed_mosaic.logs])\n",
    "n_good = (return_codes == 'success').sum()\n",
    "n_bad = n_loops - n_good\n",
    "print(\n",
    "    f\"{n_bad} failures, for a success rate of {n_good / n_loops:.2g}. \"\n",
    "    f\"Requested success rate is {settings['acceptance_fraction']}. \"\n",
    "    f'Return codes are...\\n{return_codes.value_counts()}'\n",
    ")\n",
    "if n_good / n_loops < settings['acceptance_fraction']:\n",
    "    print('Success rate not met!')\n"
   ]
  },
  {
   "cell_type": "code",
   "execution_count": null,
   "id": "e39fafad-2491-45ac-8f56-37c9e122bd00",
   "metadata": {},
   "outputs": [],
   "source": [
    "# Check how many were successful, and how many attempted were successful\n",
    "attempted_return_codes = return_codes.loc[return_codes != 'dark_frame']\n",
    "n_attempted = len(attempted_return_codes)\n",
    "n_good = (attempted_return_codes == 'success').sum()\n",
    "n_bad = n_attempted - n_good\n",
    "print(\n",
    "    f\"Of the {n_attempted} attempted joins, {n_bad} failures, for a success rate of {n_good / n_attempted:.2g}. \"\n",
    "    f\"Requested success rate is {settings['attempted_acceptance_fraction']}. \"\n",
    "    f'Return codes are...\\n{attempted_return_codes.value_counts()}'\n",
    ")\n",
    "if n_good / n_attempted < settings['attempted_acceptance_fraction']:\n",
    "    print('Success rate not met!')"
   ]
  },
  {
   "cell_type": "code",
   "execution_count": null,
   "metadata": {},
   "outputs": [],
   "source": [
    "i_first_failure = np.argmin(attempted_return_codes == 'success')\n",
    "print(f'First failure at i={i_first_failure}')"
   ]
  },
  {
   "cell_type": "markdown",
   "id": "1f616df5-254f-4e19-8002-18af0dd66e5a",
   "metadata": {},
   "source": [
    "## Locations of Images\n"
   ]
  },
  {
   "cell_type": "code",
   "execution_count": null,
   "metadata": {},
   "outputs": [],
   "source": [
    "center_coords = preprocessing_pipeline.named_steps['order'].center_\n",
    "y_pred['d_to_center'] = np.linalg.norm(\n",
    "    y_pred[['x_center', 'y_center']] - center_coords,\n",
    "    axis=1,\n",
    ")"
   ]
  },
  {
   "cell_type": "code",
   "execution_count": null,
   "metadata": {},
   "outputs": [],
   "source": [
    "# Merge into a comparison dataframe\n",
    "y_pred_for_eval = y_pred.reindex(y_test.index)"
   ]
  },
  {
   "cell_type": "code",
   "execution_count": null,
   "metadata": {},
   "outputs": [],
   "source": [
    "fig = plt.figure(figsize=(10,10))\n",
    "ax = plt.gca()\n",
    "\n",
    "s = ax.scatter(\n",
    "    y_pred['x_center'],\n",
    "    y_pred['y_center'],\n",
    "    c=y_pred['d_to_center'],\n",
    "    cmap='viridis_r',\n",
    "    label='predicted',\n",
    "    s=10,\n",
    ")\n",
    "plt.colorbar(s)\n",
    "\n",
    "ax.scatter(\n",
    "    y_pred_for_eval['x_center'],\n",
    "    y_pred_for_eval['y_center'],\n",
    "    color=palette[1],\n",
    "    label='referenced-predicted',\n",
    "    s=50,\n",
    ")\n",
    "\n",
    "ax.scatter(\n",
    "    y_test['x_center'],\n",
    "    y_test['y_center'],\n",
    "    color=palette[3],\n",
    "    label='referenced-test',\n",
    "    s=50,\n",
    ")\n",
    "\n",
    "ax.set_xlabel('x_center [m]')\n",
    "ax.set_ylabel('y_center [m]')\n",
    "\n",
    "ax.legend()\n",
    "\n",
    "ax.set_aspect('equal')"
   ]
  },
  {
   "cell_type": "markdown",
   "metadata": {},
   "source": [
    "## Georeference Accuracy\n"
   ]
  },
  {
   "cell_type": "code",
   "execution_count": null,
   "metadata": {},
   "outputs": [],
   "source": [
    "# Estimate the consistency with the manual geotransforms\n",
    "y_err = y_test - y_pred_for_eval\n",
    "y_err['d_to_center'] = y_pred_for_eval['d_to_center']\n",
    "y_err['offset'] = np.sqrt(y_err['x_center']**2. + y_err['y_center']**2.)"
   ]
  },
  {
   "cell_type": "code",
   "execution_count": null,
   "metadata": {},
   "outputs": [],
   "source": [
    "# Visualize the errors\n",
    "fig = plt.figure()\n",
    "ax = plt.gca()\n",
    "\n",
    "sns.scatterplot(\n",
    "    data=y_err,\n",
    "    x='d_to_center',\n",
    "    y='offset',\n",
    "    ax=ax,\n",
    ")\n",
    "\n",
    "ax.set_ylim(0, ax.get_ylim()[1])"
   ]
  },
  {
   "cell_type": "markdown",
   "metadata": {},
   "source": [
    "## Memory Usage\n"
   ]
  },
  {
   "cell_type": "code",
   "execution_count": null,
   "metadata": {},
   "outputs": [],
   "source": [
    "snapshots = [\n",
    "    log['snapshot'] for log in less_reffed_mosaic.logs\n",
    "    if 'snapshot' in log\n",
    "]"
   ]
  },
  {
   "cell_type": "code",
   "execution_count": null,
   "metadata": {},
   "outputs": [],
   "source": [
    "diffs = [_.compare_to(snapshots[0], 'lineno') for _ in snapshots]\n",
    "sizes = np.array([sum([_.size_diff for _ in diff]) for diff in diffs])\n",
    "sizes_GB = sizes / (1024)**3\n",
    "iterations = np.arange(sizes_GB.size) * less_reffed_mosaic.memory_snapshot_freq"
   ]
  },
  {
   "cell_type": "code",
   "execution_count": null,
   "metadata": {},
   "outputs": [],
   "source": [
    "fig = plt.figure(figsize=(10,5))\n",
    "ax = plt.gca()\n",
    "\n",
    "ax.scatter(\n",
    "    iterations,\n",
    "    sizes_GB,\n",
    ")\n",
    "\n",
    "ax.set_xlabel('iteration')\n",
    "ax.set_ylabel('total memory usage (GB)')\n",
    "\n",
    "ax.set_xlim(0, n_loops)\n",
    "ax.set_ylim(0, ax.get_ylim()[1])\n"
   ]
  },
  {
   "cell_type": "code",
   "execution_count": null,
   "metadata": {},
   "outputs": [],
   "source": [
    "delta_mem_per_checkpoint = scipy.interpolate.interp1d(iterations, sizes_GB)(less_reffed_mosaic.checkpoint_freq)\n",
    "delta_mem_per_iteration = delta_mem_per_checkpoint / less_reffed_mosaic.checkpoint_freq\n",
    "highest_possible_iteration = 16. / delta_mem_per_iteration\n",
    "print(\n",
    "    f'The memory increases at an average of {delta_mem_per_iteration:.2g} GB per iteration,\\n'\n",
    "    f'    and the highest possible iteration is expected to be {int(highest_possible_iteration)}'\n",
    ")\n",
    "\n"
   ]
  },
  {
   "cell_type": "code",
   "execution_count": null,
   "metadata": {},
   "outputs": [],
   "source": [
    "snap_sizes_GB = np.array([_.size for _ in diffs[-1]]) / (1024)**3"
   ]
  },
  {
   "cell_type": "code",
   "execution_count": null,
   "metadata": {},
   "outputs": [],
   "source": [
    "fig = plt.figure(figsize=(10,5))\n",
    "ax = plt.gca()\n",
    "\n",
    "log_snap_sizes_GB = np.log10(snap_sizes_GB[snap_sizes_GB > 0])\n",
    "bins = np.logspace(\n",
    "    np.nanmin(log_snap_sizes_GB),\n",
    "    np.nanmax(log_snap_sizes_GB),\n",
    "    16,\n",
    ")\n",
    "\n",
    "ax.hist(\n",
    "    snap_sizes_GB,\n",
    "    bins,\n",
    ")\n",
    "\n",
    "ax.set_xscale('log')\n",
    "ax.set_yscale('log')\n",
    "\n",
    "ax.set_xlabel('memory usage [GB]')\n",
    "ax.set_ylabel('count of objects')"
   ]
  },
  {
   "cell_type": "markdown",
   "metadata": {},
   "source": [
    "## Correlation Coefficient Analysis\n"
   ]
  },
  {
   "cell_type": "markdown",
   "metadata": {},
   "source": [
    "### Training Data Correlation Coefficient\n"
   ]
  },
  {
   "cell_type": "code",
   "execution_count": null,
   "metadata": {},
   "outputs": [],
   "source": [
    "# Perform scoring\n",
    "total_score_train = less_reffed_mosaic.score(X_train)\n",
    "score_train = less_reffed_mosaic.scores_\n"
   ]
  },
  {
   "cell_type": "code",
   "execution_count": null,
   "metadata": {},
   "outputs": [],
   "source": [
    "# Get the distance to the center\n",
    "y_train['d_to_center'] = np.linalg.norm(\n",
    "    y_train[['x_center', 'y_center']] - center_coords,\n",
    "    axis=1,\n",
    ")"
   ]
  },
  {
   "cell_type": "code",
   "execution_count": null,
   "metadata": {},
   "outputs": [],
   "source": [
    "fig = plt.figure(figsize=(10,5))\n",
    "ax = plt.gca()\n",
    "\n",
    "ax.scatter(\n",
    "    y_train['d_to_center'],\n",
    "    score_train,\n",
    ")\n",
    "\n",
    "ax.set_ylim(0, 1)\n",
    "\n",
    "ax.set_xlabel('distance to center [m]')\n",
    "ax.set_ylabel(f'normalized correlation coefficient')\n",
    "ax.set_title('training set accuracy')"
   ]
  }
 ],
 "metadata": {
  "kernelspec": {
   "display_name": "Python 3 (ipykernel)",
   "language": "python",
   "name": "python3"
  },
  "language_info": {
   "codemirror_mode": {
    "name": "ipython",
    "version": 3
   },
   "file_extension": ".py",
   "mimetype": "text/x-python",
   "name": "python",
   "nbconvert_exporter": "python",
   "pygments_lexer": "ipython3",
   "version": "3.11.5"
  }
 },
 "nbformat": 4,
 "nbformat_minor": 5
}

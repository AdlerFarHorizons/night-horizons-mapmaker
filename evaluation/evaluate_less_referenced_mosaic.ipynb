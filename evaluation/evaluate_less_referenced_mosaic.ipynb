{
 "cells": [
  {
   "cell_type": "markdown",
   "id": "7a998f1c-82e1-4acc-b16a-75de02325873",
   "metadata": {},
   "source": [
    "# Less-Referenced Mosaic Evaluation\n",
    "\n",
    "This notebook provides a cross-section of the Less-Referenced Mosaic creation process.\n"
   ]
  },
  {
   "cell_type": "markdown",
   "id": "5e4ede8c-7fb2-4dcf-9193-928321716c33",
   "metadata": {},
   "source": [
    "# Setup\n"
   ]
  },
  {
   "cell_type": "markdown",
   "id": "af05e098-f19b-45b4-97cc-413ecf0fbdc4",
   "metadata": {},
   "source": [
    "## Imports\n"
   ]
  },
  {
   "cell_type": "code",
   "execution_count": null,
   "id": "25c75dcb-6592-4a10-a69a-7886c3cb75d0",
   "metadata": {},
   "outputs": [],
   "source": [
    "import os"
   ]
  },
  {
   "cell_type": "code",
   "execution_count": null,
   "id": "313f249d-f0eb-45ea-8cdc-b8f0d46af6ea",
   "metadata": {},
   "outputs": [],
   "source": [
    "import numpy as np\n",
    "import pandas as pd\n",
    "import scipy\n",
    "from sklearn.model_selection import train_test_split\n",
    "from sklearn.pipeline import Pipeline\n",
    "from sklearn.utils import check_random_state\n",
    "import yaml"
   ]
  },
  {
   "cell_type": "code",
   "execution_count": null,
   "id": "876b1622-25b4-4384-b096-f6bd3367e21a",
   "metadata": {},
   "outputs": [],
   "source": [
    "import matplotlib\n",
    "import matplotlib.pyplot as plt\n",
    "import matplotlib.patches as patches\n",
    "import seaborn as sns\n",
    "sns.set_style('white')"
   ]
  },
  {
   "cell_type": "code",
   "execution_count": null,
   "id": "f7db8f4e-2f00-4d15-96a4-51ebb4eeea23",
   "metadata": {},
   "outputs": [],
   "source": [
    "from night_horizons import utils, preprocess, reference, mosaic, raster, pipelines, features"
   ]
  },
  {
   "cell_type": "markdown",
   "id": "a2d4a814-de45-4c11-975c-43a21ca7b171",
   "metadata": {},
   "source": [
    "## Settings\n"
   ]
  },
  {
   "cell_type": "code",
   "execution_count": null,
   "id": "e8752436-8f23-42d2-8dc9-3de3659d71cc",
   "metadata": {},
   "outputs": [],
   "source": [
    "with open('./config.yml', \"r\", encoding='UTF-8') as file:\n",
    "    settings = yaml.load(file, Loader=yaml.FullLoader)"
   ]
  },
  {
   "cell_type": "code",
   "execution_count": null,
   "id": "6513b70e-d592-4bd3-a01b-a3e435a66fe7",
   "metadata": {},
   "outputs": [],
   "source": [
    "local_settings = {\n",
    "    'include_raw_images': False,\n",
    "    'mosaic_filepath': 'mosaics/lessreffed.tiff',\n",
    "    'random_state': 1682142,\n",
    "    'train_size': {\n",
    "        0: 5,\n",
    "        1: 5,\n",
    "        2: 5,\n",
    "    },\n",
    "    'n_loops': None,\n",
    "\n",
    "    # Cuts for movement and altitude\n",
    "    'gyro_mag_cut': 0.02,\n",
    "    'percent_for_cruising': 85.,\n",
    "    \n",
    "    # Choices for search region\n",
    "    # 'padding_fraction': 1.0,\n",
    "    # 'use_approximate_georeferencing': True,\n",
    "    # This set of choices assumes we have really good starting positions.\n",
    "    # This is useful for debugging.\n",
    "    'padding_fraction': 0.1,\n",
    "    'use_approximate_georeferencing': False,\n",
    "\n",
    "    # The fraction of non-nan georeferencings required to claim success.\n",
    "    'acceptance_fraction': 0.85,\n",
    "    'attempted_acceptance_fraction': 0.95,\n",
    "\n",
    "    # Other mosaic options\n",
    "    'mosaic_options': {\n",
    "        'checkpoint_freq': 50,\n",
    "        'memory_snapshot_freq': 50,\n",
    "        'save_return_codes': ['linalg_err', 'opencv_err', 'bad_det'],\n",
    "        'progress_images_dir': '../test/test_data/feature_matching/',\n",
    "\n",
    "        # These values will be logged and checked for consistency.\n",
    "        'log_keys': [\n",
    "            'i',\n",
    "            'ind',\n",
    "            'return_code',\n",
    "            'abs_det_M',\n",
    "            'snapshot',\n",
    "            'duration',\n",
    "            'iter_duration',\n",
    "        ],\n",
    "    },\n",
    "\n",
    "    # Choices for how images are combined\n",
    "    'image_joiners_options': {\n",
    "        'defaults': {\n",
    "            'feature_detector': 'AKAZE',\n",
    "            'feature_matcher': 'BFMatcher',\n",
    "            'n_matches_used': 100,\n",
    "        },\n",
    "        'variations': [\n",
    "            {},\n",
    "            {'n_matches_used': 500},\n",
    "            {'n_matches_used': 1000},\n",
    "            {'n_matches_used': 10},\n",
    "            {'image_transformer': 'CLEAN_LOGSCALE_IMAGE_PIPELINE'},\n",
    "        ],\n",
    "    },\n",
    "}\n",
    "settings.update(local_settings)"
   ]
  },
  {
   "cell_type": "markdown",
   "id": "3487f510-b4ce-45ed-bb75-40e2eba18806",
   "metadata": {},
   "source": [
    "## Parse Settings\n"
   ]
  },
  {
   "cell_type": "code",
   "execution_count": null,
   "id": "dd115e86-45c5-458b-9e75-19d40d7186d3",
   "metadata": {},
   "outputs": [],
   "source": [
    "if not settings['include_raw_images']:\n",
    "    settings['mosaic_filepath'] = settings['mosaic_filepath'].replace(\n",
    "        '.tiff', '_testonly.tiff')\n",
    "if not settings['use_approximate_georeferencing']:\n",
    "    settings['mosaic_filepath'] = settings['mosaic_filepath'].replace(\n",
    "        '.tiff', '_exactgeo.tiff')\n",
    "settings['mosaic_filepath'] = os.path.join(\n",
    "    settings['data_dir'], settings['mosaic_filepath'])"
   ]
  },
  {
   "cell_type": "code",
   "execution_count": null,
   "id": "83d5aea6-64b2-4388-bdcc-c1cb7ba3f929",
   "metadata": {},
   "outputs": [],
   "source": [
    "for key, relpath in settings['paths_relative_to_data_dir'].items():\n",
    "    settings[key] = os.path.join(settings['data_dir'], relpath)"
   ]
  },
  {
   "cell_type": "code",
   "execution_count": null,
   "id": "ef2a5c18-9b75-4eb4-a357-e8a6e33db965",
   "metadata": {},
   "outputs": [],
   "source": [
    "random_state = check_random_state(settings['random_state'])"
   ]
  },
  {
   "cell_type": "code",
   "execution_count": null,
   "id": "ddb114a1-861a-4ab0-9324-83705e5486d2",
   "metadata": {},
   "outputs": [],
   "source": [
    "palette = sns.color_palette(settings['color_palette'])"
   ]
  },
  {
   "cell_type": "code",
   "execution_count": null,
   "id": "6767f5db-d232-4569-9196-dd3aef89daa8",
   "metadata": {},
   "outputs": [],
   "source": [
    "crs = settings['crs']"
   ]
  },
  {
   "cell_type": "code",
   "execution_count": null,
   "metadata": {},
   "outputs": [],
   "source": [
    "constructor_kwargs = dict(\n",
    "    image_joiner=features.ImageJoinerQueue(**settings['image_joiners_options']),\n",
    "    filepath=settings['mosaic_filepath'],\n",
    "    crs=crs,\n",
    "    **settings['mosaic_options']\n",
    ")"
   ]
  },
  {
   "cell_type": "markdown",
   "id": "17fbb0d9-fbba-423e-895a-84996baf78cd",
   "metadata": {},
   "source": [
    "# Prepare Data\n",
    "\n",
    "The first part is to prepare the data (AKA extract/transform/load).\n"
   ]
  },
  {
   "cell_type": "markdown",
   "id": "9876f8e3-42e2-4ca1-b1d1-37726c35712c",
   "metadata": {},
   "source": [
    "## Get filepaths\n"
   ]
  },
  {
   "cell_type": "code",
   "execution_count": null,
   "id": "b4408c5e-dba0-44a3-9cb3-2b5922875880",
   "metadata": {},
   "outputs": [],
   "source": [
    "# Get the referenced filepaths, divided according to camera number\n",
    "referenced_fps = {i: utils.discover_data(settings['referenced_images_dir'], ['tif', 'tiff'], pattern=r'Geo\\s\\d+_' + f'{i}.tif') for i in range(3)}"
   ]
  },
  {
   "cell_type": "code",
   "execution_count": null,
   "id": "a3c53a0b-ddb9-45a3-af3b-e51e118a46bf",
   "metadata": {},
   "outputs": [],
   "source": [
    "raw_fps = utils.discover_data(settings['images_dir'], ['tif', 'tiff', 'raw'])"
   ]
  },
  {
   "cell_type": "markdown",
   "id": "1dd367ad-5669-4940-a808-7772ff683075",
   "metadata": {},
   "source": [
    "## Train-Test Split\n",
    "\n",
    "We split the data into training data (data that is georeferenced) and test data (data that is not georeferenced, or for which we don't use the georeferencing information when we're building the models).\n",
    "\n",
    "We set the train size to some small number, because ideally the user only needs to georeference a couple of images manually.\n"
   ]
  },
  {
   "cell_type": "code",
   "execution_count": null,
   "id": "d40450cf-8f61-4614-b106-cfa31cb50fda",
   "metadata": {},
   "outputs": [],
   "source": [
    "# Get the training sample for each camera\n",
    "referenced_fps_train = []\n",
    "referenced_fps_test = []\n",
    "for camera_num, train_size_i in settings['train_size'].items():\n",
    "\n",
    "    # When there's no training for this camera\n",
    "    if train_size_i == 0:\n",
    "        referenced_fps_test.append(referenced_fps[camera_num])\n",
    "        continue\n",
    "        \n",
    "    referenced_fps_train_i, referenced_fps_test_i = train_test_split(\n",
    "        referenced_fps[camera_num],\n",
    "        train_size=train_size_i,\n",
    "        random_state=settings['random_state'],\n",
    "        shuffle=True,\n",
    "    )\n",
    "    referenced_fps_train.append(referenced_fps_train_i)\n",
    "    referenced_fps_test.append(referenced_fps_test_i)\n"
   ]
  },
  {
   "cell_type": "code",
   "execution_count": null,
   "id": "61dbc68d-a36b-42a4-99a8-9df09fe37e66",
   "metadata": {},
   "outputs": [],
   "source": [
    "referenced_fps_train = pd.concat(referenced_fps_train, ignore_index=True)\n",
    "referenced_fps_test = pd.concat(referenced_fps_test, ignore_index=True)"
   ]
  },
  {
   "cell_type": "markdown",
   "id": "545de3dd-664c-437e-b96f-5841dd203b22",
   "metadata": {},
   "source": [
    "## Combine Referenced and Raw\n"
   ]
  },
  {
   "cell_type": "code",
   "execution_count": null,
   "id": "bff28db4-a5a1-4366-a38f-b338d19f7240",
   "metadata": {},
   "outputs": [],
   "source": [
    "# Adjust the index so we don't have duplicates\n",
    "raw_fps.index += referenced_fps_test.size"
   ]
  },
  {
   "cell_type": "code",
   "execution_count": null,
   "id": "322d68c6-4cf2-4dbd-8409-b25742cc9d88",
   "metadata": {},
   "outputs": [],
   "source": [
    "# Actual combination\n",
    "fps_train = referenced_fps_train\n",
    "fps_test = referenced_fps_test\n",
    "if settings['include_raw_images']:\n",
    "    fps = pd.concat([referenced_fps_test, raw_fps])\n",
    "else:\n",
    "    fps = referenced_fps_test"
   ]
  },
  {
   "cell_type": "markdown",
   "id": "1f656506-eac8-4e2b-8daf-87de132190f5",
   "metadata": {},
   "source": [
    "## Preprocessing\n"
   ]
  },
  {
   "cell_type": "markdown",
   "id": "50354b97-1c3c-4d04-819d-e3452128e0d4",
   "metadata": {},
   "source": [
    "### y values\n",
    "\n",
    "We get the y-values first because we use a model fitted to them to get the X values\n"
   ]
  },
  {
   "cell_type": "code",
   "execution_count": null,
   "id": "7b1cb20e-87fc-47c3-b7b4-5fd8a898f3d2",
   "metadata": {},
   "outputs": [],
   "source": [
    "preprocessing_pipeline_y = preprocess.GeoTIFFPreprocesser(crs=crs)"
   ]
  },
  {
   "cell_type": "code",
   "execution_count": null,
   "id": "a407f336-0cf1-46d0-81be-5b8dca5e0152",
   "metadata": {},
   "outputs": [],
   "source": [
    "# Get the geo-transforms used for training\n",
    "y_train = preprocessing_pipeline_y.fit_transform(fps_train)\n",
    "y_test = preprocessing_pipeline_y.fit_transform(fps_test)"
   ]
  },
  {
   "cell_type": "markdown",
   "id": "44b46bf1-41da-480c-9f9e-821c1a0ea9e6",
   "metadata": {},
   "source": [
    "### X values\n",
    "\n",
    "We use the sensor (high-altitude balloon) positions to provide approximate georeferencing, which will be useful for saving computational time when building the unreferenced mosaic.\n"
   ]
  },
  {
   "cell_type": "code",
   "execution_count": null,
   "id": "2f76ec89-3fc5-475c-b782-3bcedf2dd1fc",
   "metadata": {},
   "outputs": [],
   "source": [
    "# This is the pipeline for approximate georeferencing\n",
    "preprocessing_steps = pipelines.PreprocessingPipelines.nitelite_preprocessing_steps(\n",
    "    crs=crs,\n",
    "    use_approximate_georeferencing=settings['use_approximate_georeferencing'],\n",
    "    padding_fraction=settings['padding_fraction'],\n",
    ")\n",
    "preprocessing_pipeline = Pipeline(preprocessing_steps)\n",
    "preprocessing_pipeline"
   ]
  },
  {
   "cell_type": "code",
   "execution_count": null,
   "id": "cb331bb1-8883-4163-8351-7105b86e5db9",
   "metadata": {},
   "outputs": [],
   "source": [
    "# Fit the pipeline\n",
    "preprocessing_pipeline = preprocessing_pipeline.fit(\n",
    "    fps_train,\n",
    "    y_train,\n",
    "    metadata__img_log_fp=settings['img_log_fp'],\n",
    "    metadata__imu_log_fp=settings['imu_log_fp'],\n",
    "    metadata__gps_log_fp=settings['gps_log_fp'],\n",
    ")"
   ]
  },
  {
   "cell_type": "code",
   "execution_count": null,
   "id": "ddab08a1-6129-4330-9a31-1b55f1be9090",
   "metadata": {},
   "outputs": [],
   "source": [
    "# Get out the X values we'll use for the mosaic\n",
    "X_train = preprocessing_pipeline.transform(fps_train)\n",
    "X = preprocessing_pipeline.transform(fps)"
   ]
  },
  {
   "cell_type": "code",
   "execution_count": null,
   "metadata": {},
   "outputs": [],
   "source": [
    "# Truncate according to n_loops\n",
    "if settings['n_loops'] is None:\n",
    "    n_loops = X.index.size\n",
    "else:\n",
    "    n_loops = settings['n_loops']\n",
    "X_full = X.copy()\n",
    "X = X.iloc[:n_loops]"
   ]
  },
  {
   "cell_type": "code",
   "execution_count": null,
   "id": "14064a89-5973-4dcf-859f-6e36d1e621a3",
   "metadata": {},
   "outputs": [],
   "source": [
    "# Drop the y values and filepaths that were filtered out\n",
    "fps = fps.loc[X.index]\n",
    "X_test = X.loc[X.index.isin(y_test.index)]\n",
    "y_test = y_test.loc[X_test.index]"
   ]
  },
  {
   "cell_type": "markdown",
   "id": "071155d1-07ca-4e9a-83f3-7c6506d06e88",
   "metadata": {},
   "source": [
    "# Build the Mosaic\n"
   ]
  },
  {
   "cell_type": "markdown",
   "id": "bf13bb96-1286-4cb7-8789-e0681c6d1b29",
   "metadata": {},
   "source": [
    "## Initialize and Fit\n"
   ]
  },
  {
   "cell_type": "code",
   "execution_count": null,
   "id": "9427438d-171e-41a5-a402-77e65831788c",
   "metadata": {},
   "outputs": [],
   "source": [
    "less_reffed_mosaic = mosaic.LessReferencedMosaic(\n",
    "    **constructor_kwargs\n",
    ")"
   ]
  },
  {
   "cell_type": "code",
   "execution_count": null,
   "id": "a5b3b750-1c67-4dea-ba3b-78028b817501",
   "metadata": {},
   "outputs": [],
   "source": [
    "# This creates the dataset and adds the referenced mosaic.\n",
    "less_reffed_mosaic.fit(\n",
    "    X=y_train,\n",
    "    approx_y=X_full,\n",
    ")\n",
    "print(f'Saving at {less_reffed_mosaic.filepath_}')"
   ]
  },
  {
   "cell_type": "markdown",
   "id": "04c8faea-db3e-4bbf-a58f-a9de615598f1",
   "metadata": {},
   "source": [
    "## Run\n"
   ]
  },
  {
   "cell_type": "code",
   "execution_count": null,
   "id": "5908cf18-7ef8-4e2e-bbe0-c81dd0f8da5d",
   "metadata": {},
   "outputs": [],
   "source": [
    "y_pred = less_reffed_mosaic.predict(\n",
    "    X,\n",
    ")"
   ]
  },
  {
   "cell_type": "markdown",
   "id": "2537311e-cec8-4b96-b44d-8e52d2fa748b",
   "metadata": {},
   "source": [
    "# Evaluate\n"
   ]
  },
  {
   "cell_type": "markdown",
   "id": "6ff9717f-c6d8-42de-b030-6e6b793d956f",
   "metadata": {},
   "source": [
    "## Return Codes\n"
   ]
  },
  {
   "cell_type": "code",
   "execution_count": null,
   "id": "74e705c9-85b4-4a97-a8c9-33f6b1e1b011",
   "metadata": {},
   "outputs": [],
   "source": [
    "# Check how many were successful\n",
    "return_codes = pd.Series([log['return_code'] for log in less_reffed_mosaic.logs])\n",
    "n_good = (return_codes == 'success').sum()\n",
    "n_bad = n_loops - n_good\n",
    "print(\n",
    "    f\"{n_bad} failures, for a success rate of {n_good / n_loops:.2g}. \"\n",
    "    f\"Requested success rate is {settings['acceptance_fraction']}. \"\n",
    "    f'Return codes are...\\n{return_codes.value_counts()}'\n",
    ")\n",
    "if n_good / n_loops < settings['acceptance_fraction']:\n",
    "    print('Success rate not met!')\n"
   ]
  },
  {
   "cell_type": "code",
   "execution_count": null,
   "id": "e39fafad-2491-45ac-8f56-37c9e122bd00",
   "metadata": {},
   "outputs": [],
   "source": [
    "# Check how many were successful, and how many attempted were successful\n",
    "attempted_return_codes = return_codes.loc[return_codes != 'dark_frame']\n",
    "n_attempted = len(attempted_return_codes)\n",
    "n_good = (attempted_return_codes == 'success').sum()\n",
    "n_bad = n_attempted - n_good\n",
    "print(\n",
    "    f\"Of the {n_attempted} attempted joins, {n_bad} failures, for a success rate of {n_good / n_attempted:.2g}. \"\n",
    "    f\"Requested success rate is {settings['attempted_acceptance_fraction']}. \"\n",
    "    f'Return codes are...\\n{attempted_return_codes.value_counts()}'\n",
    ")\n",
    "if n_good / n_attempted < settings['attempted_acceptance_fraction']:\n",
    "    print('Success rate not met!')"
   ]
  },
  {
   "cell_type": "code",
   "execution_count": null,
   "metadata": {},
   "outputs": [],
   "source": [
    "i_first_failure = np.argmin(attempted_return_codes == 'success')\n",
    "print(f'First failure at i={i_first_failure}')"
   ]
  },
  {
   "cell_type": "markdown",
   "id": "1f616df5-254f-4e19-8002-18af0dd66e5a",
   "metadata": {},
   "source": [
    "## Locations of Images\n"
   ]
  },
  {
   "cell_type": "code",
   "execution_count": null,
   "metadata": {},
   "outputs": [],
   "source": [
    "center_coords = preprocessing_pipeline.named_steps['order'].center_\n",
    "y_pred['d_to_center'] = np.linalg.norm(\n",
    "    y_pred[['x_center', 'y_center']] - center_coords,\n",
    "    axis=1,\n",
    ")"
   ]
  },
  {
   "cell_type": "code",
   "execution_count": null,
   "metadata": {},
   "outputs": [],
   "source": [
    "# Merge into a comparison dataframe\n",
    "y_pred_for_eval = y_pred.reindex(y_test.index)"
   ]
  },
  {
   "cell_type": "code",
   "execution_count": null,
   "metadata": {},
   "outputs": [],
   "source": [
    "fig = plt.figure(figsize=(10,10))\n",
    "ax = plt.gca()\n",
    "\n",
    "s = ax.scatter(\n",
    "    y_pred['x_center'],\n",
    "    y_pred['y_center'],\n",
    "    c=y_pred['d_to_center'],\n",
    "    cmap='viridis_r',\n",
    "    label='predicted',\n",
    "    s=10,\n",
    ")\n",
    "plt.colorbar(s)\n",
    "\n",
    "ax.scatter(\n",
    "    y_pred_for_eval['x_center'],\n",
    "    y_pred_for_eval['y_center'],\n",
    "    color=palette[1],\n",
    "    label='referenced-predicted',\n",
    "    s=50,\n",
    ")\n",
    "\n",
    "ax.scatter(\n",
    "    y_test['x_center'],\n",
    "    y_test['y_center'],\n",
    "    color=palette[3],\n",
    "    label='referenced-test',\n",
    "    s=50,\n",
    ")\n",
    "\n",
    "ax.set_xlabel('x_center [m]')\n",
    "ax.set_ylabel('y_center [m]')\n",
    "\n",
    "ax.legend()\n",
    "\n",
    "ax.set_aspect('equal')"
   ]
  },
  {
   "cell_type": "markdown",
   "metadata": {},
   "source": [
    "## Georeference Accuracy\n"
   ]
  },
  {
   "cell_type": "code",
   "execution_count": null,
   "metadata": {},
   "outputs": [],
   "source": [
    "# Estimate the consistency with the manual geotransforms\n",
    "y_err = y_test - y_pred_for_eval\n",
    "y_err['d_to_center'] = y_pred_for_eval['d_to_center']\n",
    "y_err['offset'] = np.sqrt(y_err['x_center']**2. + y_err['y_center']**2.)\n",
    "y_err['order'] = X.loc[y_pred_for_eval.index, 'order']"
   ]
  },
  {
   "cell_type": "code",
   "execution_count": null,
   "id": "586b7318",
   "metadata": {},
   "outputs": [],
   "source": [
    "# Store offset in y_test\n",
    "y_test['offset'] = y_err['offset']"
   ]
  },
  {
   "cell_type": "code",
   "execution_count": null,
   "metadata": {},
   "outputs": [],
   "source": [
    "# Visualize the errors\n",
    "fig = plt.figure()\n",
    "ax = plt.gca()\n",
    "\n",
    "sns.scatterplot(\n",
    "    data=y_err,\n",
    "    x='order',\n",
    "    y='offset',\n",
    "    ax=ax,\n",
    ")\n",
    "\n",
    "ax.set_yscale('log')\n",
    "ax.set_ylabel('offset [m]')\n",
    "ax.axhline(\n",
    "    less_reffed_mosaic.pixel_width_,\n",
    ")\n",
    "\n",
    "ax2 = ax.twinx()\n",
    "ax2.set_yscale('log')\n",
    "ax2.set_ylim(np.array(ax.get_ylim()) / less_reffed_mosaic.pixel_width_)\n",
    "ax2.set_ylabel('offset [pixels]')"
   ]
  },
  {
   "cell_type": "markdown",
   "metadata": {},
   "source": [
    "## Memory Usage\n"
   ]
  },
  {
   "cell_type": "code",
   "execution_count": null,
   "metadata": {},
   "outputs": [],
   "source": [
    "snapshots = [\n",
    "    log['snapshot'] for log in less_reffed_mosaic.logs\n",
    "    if 'snapshot' in log\n",
    "]"
   ]
  },
  {
   "cell_type": "code",
   "execution_count": null,
   "metadata": {},
   "outputs": [],
   "source": [
    "diffs = [_.compare_to(snapshots[0], 'lineno') for _ in snapshots ]\n",
    "sizes = np.array([sum([_.size_diff for _ in diff]) for diff in diffs])\n",
    "sizes_GB = sizes / (1024)**3\n",
    "iterations = np.arange(sizes_GB.size) * less_reffed_mosaic.memory_snapshot_freq"
   ]
  },
  {
   "cell_type": "code",
   "execution_count": null,
   "metadata": {},
   "outputs": [],
   "source": [
    "fig = plt.figure(figsize=(10,5))\n",
    "ax = plt.gca()\n",
    "\n",
    "ax.scatter(\n",
    "    iterations,\n",
    "    sizes_GB,\n",
    ")\n",
    "\n",
    "ax.set_xlabel('iteration')\n",
    "ax.set_ylabel('total memory usage (GB)')\n",
    "\n",
    "ax.set_xlim(0, n_loops)\n",
    "ax.set_ylim(0, ax.get_ylim()[1])\n"
   ]
  },
  {
   "cell_type": "code",
   "execution_count": null,
   "metadata": {},
   "outputs": [],
   "source": [
    "delta_mem_per_checkpoint = scipy.interpolate.interp1d(iterations, sizes_GB)(less_reffed_mosaic.checkpoint_freq)\n",
    "delta_mem_per_iteration = delta_mem_per_checkpoint / less_reffed_mosaic.checkpoint_freq\n",
    "highest_possible_iteration = 16. / delta_mem_per_iteration\n",
    "print(\n",
    "    f'The memory increases at an average of {delta_mem_per_iteration:.2g} GB per iteration,\\n'\n",
    "    f'    and the highest possible iteration is expected to be {int(highest_possible_iteration)}'\n",
    ")\n",
    "\n"
   ]
  },
  {
   "cell_type": "code",
   "execution_count": null,
   "metadata": {},
   "outputs": [],
   "source": [
    "snap_sizes_GB = np.array([_.size for _ in diffs[-1]]) / (1024)**3"
   ]
  },
  {
   "cell_type": "code",
   "execution_count": null,
   "metadata": {},
   "outputs": [],
   "source": [
    "fig = plt.figure(figsize=(10,5))\n",
    "ax = plt.gca()\n",
    "\n",
    "log_snap_sizes_GB = np.log10(snap_sizes_GB[snap_sizes_GB > 0])\n",
    "bins = np.logspace(\n",
    "    np.nanmin(log_snap_sizes_GB),\n",
    "    np.nanmax(log_snap_sizes_GB),\n",
    "    16,\n",
    ")\n",
    "\n",
    "ax.hist(\n",
    "    snap_sizes_GB,\n",
    "    bins,\n",
    ")\n",
    "\n",
    "ax.set_xscale('log')\n",
    "ax.set_yscale('log')\n",
    "\n",
    "ax.set_xlabel('memory usage [GB]')\n",
    "ax.set_ylabel('count of objects')"
   ]
  },
  {
   "cell_type": "markdown",
   "id": "f699a08c",
   "metadata": {},
   "source": [
    "# Save Output\n"
   ]
  },
  {
   "cell_type": "code",
   "execution_count": null,
   "id": "004345a5",
   "metadata": {},
   "outputs": [],
   "source": [
    "# Save the notebook settings\n",
    "settings_fp = less_reffed_mosaic.settings_filepath_.replace(\n",
    "    'settings',\n",
    "    'nbsettings'\n",
    ")\n",
    "with open(settings_fp, 'w') as file:\n",
    "    yaml.dump(settings, file)"
   ]
  },
  {
   "cell_type": "code",
   "execution_count": null,
   "id": "d50568c6",
   "metadata": {},
   "outputs": [],
   "source": [
    "# Save the training and test data\n",
    "for var_name in ['y_train', 'y_test', 'X_train', 'X_test']:\n",
    "    fp = less_reffed_mosaic.y_pred_filepath_.replace('y_pred', var_name)\n",
    "    obj = locals()[var_name]\n",
    "    obj.to_csv(fp)"
   ]
  },
  {
   "cell_type": "markdown",
   "metadata": {},
   "source": [
    "# Correlation Coefficient Analysis\n",
    "\n",
    "We do this last because it takes a lot of time without always being necessary.\n"
   ]
  },
  {
   "cell_type": "markdown",
   "metadata": {},
   "source": [
    "### Training Data Correlation Coefficient\n"
   ]
  },
  {
   "cell_type": "code",
   "execution_count": null,
   "metadata": {},
   "outputs": [],
   "source": [
    "# Perform scoring\n",
    "total_score_train = less_reffed_mosaic.score(X_train)\n",
    "score_train = less_reffed_mosaic.scores_\n"
   ]
  },
  {
   "cell_type": "code",
   "execution_count": null,
   "metadata": {},
   "outputs": [],
   "source": [
    "# Get the distance to the center\n",
    "y_train['d_to_center'] = np.linalg.norm(\n",
    "    y_train[['x_center', 'y_center']] - center_coords,\n",
    "    axis=1,\n",
    ")"
   ]
  },
  {
   "cell_type": "code",
   "execution_count": null,
   "metadata": {},
   "outputs": [],
   "source": [
    "fig = plt.figure(figsize=(10,5))\n",
    "ax = plt.gca()\n",
    "\n",
    "ax.scatter(\n",
    "    y_train['d_to_center'],\n",
    "    score_train,\n",
    ")\n",
    "\n",
    "ax.set_ylim(0, 1)\n",
    "\n",
    "ax.set_xlabel('distance to center [m]')\n",
    "ax.set_ylabel(f'normalized correlation coefficient')\n",
    "ax.set_title('training set accuracy')"
   ]
  },
  {
   "cell_type": "markdown",
   "metadata": {},
   "source": [
    "### Test Scores\n"
   ]
  },
  {
   "cell_type": "code",
   "execution_count": null,
   "metadata": {},
   "outputs": [],
   "source": [
    "# Perform scoring\n",
    "total_score = less_reffed_mosaic.score(X)\n",
    "score = less_reffed_mosaic.scores_\n"
   ]
  },
  {
   "cell_type": "code",
   "execution_count": null,
   "metadata": {},
   "outputs": [],
   "source": [
    "# Get the distance to the center\n",
    "y_test['d_to_center'] = np.linalg.norm(\n",
    "    y_test[['x_center', 'y_center']] - center_coords,\n",
    "    axis=1,\n",
    ")"
   ]
  },
  {
   "cell_type": "code",
   "execution_count": null,
   "metadata": {},
   "outputs": [],
   "source": [
    "fig = plt.figure(figsize=(10,5))\n",
    "ax = plt.gca()\n",
    "\n",
    "ax.scatter(\n",
    "    np.arange(len(score)),\n",
    "    score,\n",
    ")\n",
    "\n",
    "ax.set_ylim(0, 1)\n",
    "\n",
    "ax.set_xlabel('distance to center [m]')\n",
    "ax.set_ylabel(f'normalized correlation coefficient')\n",
    "ax.set_title('test set accuracy')"
   ]
  },
  {
   "cell_type": "markdown",
   "metadata": {},
   "source": [
    "Potential plots to consider:\n",
    "\n",
    "- Distribution of metrics\n",
    "- Boolean mask of \"raw\" or \"referenced\"\n",
    "- Boolean mask showing what is the image source\n",
    "- Colored squares showing contiguous images\n"
   ]
  },
  {
   "cell_type": "markdown",
   "metadata": {},
   "source": []
  }
 ],
 "metadata": {
  "kernelspec": {
   "display_name": "Python 3 (ipykernel)",
   "language": "python",
   "name": "python3"
  },
  "language_info": {
   "codemirror_mode": {
    "name": "ipython",
    "version": 3
   },
   "file_extension": ".py",
   "mimetype": "text/x-python",
   "name": "python",
   "nbconvert_exporter": "python",
   "pygments_lexer": "ipython3",
   "version": "3.11.5"
  }
 },
 "nbformat": 4,
 "nbformat_minor": 5
}

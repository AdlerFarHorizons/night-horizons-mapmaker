{
 "cells": [
  {
   "cell_type": "markdown",
   "id": "87932ece-4bf6-48ba-954e-2f27f08ab938",
   "metadata": {},
   "source": [
    "# Sensor-based Georeferencing"
   ]
  },
  {
   "cell_type": "markdown",
   "id": "b498c2c7-54bb-43e7-9b40-7dd099f8d7c1",
   "metadata": {},
   "source": [
    "# Setup"
   ]
  },
  {
   "cell_type": "markdown",
   "id": "c442d333-49a2-4113-b5c3-2c448cdca34d",
   "metadata": {},
   "source": [
    "## Imports"
   ]
  },
  {
   "cell_type": "code",
   "execution_count": null,
   "id": "74468eac-4447-4478-afcc-487ce85daaaa",
   "metadata": {},
   "outputs": [],
   "source": [
    "from night_horizons import preprocess, reference"
   ]
  },
  {
   "cell_type": "markdown",
   "id": "703a379f-9310-4115-b9f4-066f5426f97c",
   "metadata": {},
   "source": [
    "## Settings"
   ]
  },
  {
   "cell_type": "code",
   "execution_count": null,
   "id": "b04aafab-d614-4044-a313-49b8a267747e",
   "metadata": {},
   "outputs": [],
   "source": [
    "settings = {\n",
    "    'img_log_fp': '/Users/Shared/data/nitelite/metadata/220513-FH135/image.log',\n",
    "    'imu_log_fp': '/Users/Shared/data/nitelite/metadata/220513-FH135/PresIMULog.csv',\n",
    "    'gps_log_fp': '/Users/Shared/data/nitelite/metadata/220513-FH135/GPSLog.csv',\n",
    "}"
   ]
  }
 ],
 "metadata": {
  "kernelspec": {
   "display_name": "Python 3 (ipykernel)",
   "language": "python",
   "name": "python3"
  },
  "language_info": {
   "codemirror_mode": {
    "name": "ipython",
    "version": 3
   },
   "file_extension": ".py",
   "mimetype": "text/x-python",
   "name": "python",
   "nbconvert_exporter": "python",
   "pygments_lexer": "ipython3",
   "version": "3.11.5"
  }
 },
 "nbformat": 4,
 "nbformat_minor": 5
}

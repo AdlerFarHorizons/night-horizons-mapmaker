{
 "cells": [
  {
   "cell_type": "markdown",
   "id": "87932ece-4bf6-48ba-954e-2f27f08ab938",
   "metadata": {},
   "source": [
    "# Sensor-based Georeferencing"
   ]
  },
  {
   "cell_type": "markdown",
   "id": "b498c2c7-54bb-43e7-9b40-7dd099f8d7c1",
   "metadata": {},
   "source": [
    "# Setup"
   ]
  },
  {
   "cell_type": "markdown",
   "id": "c442d333-49a2-4113-b5c3-2c448cdca34d",
   "metadata": {},
   "source": [
    "## Imports"
   ]
  },
  {
   "cell_type": "code",
   "execution_count": null,
   "id": "6f43ac75-0f33-47e6-b867-b2d81f3b933f",
   "metadata": {},
   "outputs": [],
   "source": [
    "import os"
   ]
  },
  {
   "cell_type": "code",
   "execution_count": null,
   "id": "f2e350bf-d952-4b84-9ded-84833607043e",
   "metadata": {},
   "outputs": [],
   "source": [
    "import numpy as np\n",
    "from sklearn.model_selection import train_test_split\n",
    "from sklearn.pipeline import Pipeline"
   ]
  },
  {
   "cell_type": "code",
   "execution_count": null,
   "id": "d97f7d94-61b8-4c0a-a0fb-40c0e52cd6e7",
   "metadata": {},
   "outputs": [],
   "source": [
    "import matplotlib\n",
    "import matplotlib.pyplot as plt\n",
    "import seaborn as sns\n",
    "sns.set_style('whitegrid')"
   ]
  },
  {
   "cell_type": "code",
   "execution_count": null,
   "id": "74468eac-4447-4478-afcc-487ce85daaaa",
   "metadata": {},
   "outputs": [],
   "source": [
    "from night_horizons import preprocess, reference"
   ]
  },
  {
   "cell_type": "markdown",
   "id": "703a379f-9310-4115-b9f4-066f5426f97c",
   "metadata": {},
   "source": [
    "## Settings"
   ]
  },
  {
   "cell_type": "code",
   "execution_count": null,
   "id": "b04aafab-d614-4044-a313-49b8a267747e",
   "metadata": {},
   "outputs": [],
   "source": [
    "settings = {\n",
    "    'image_dir': '/Users/Shared/data/nitelite/images/220513-FH135/raw',\n",
    "    'referenced_image_dir': '/Users/Shared/data/nitelite/images/220513-FH135/referenced',\n",
    "    'img_log_fp': '/Users/Shared/data/nitelite/metadata/220513-FH135/image.log',\n",
    "    'imu_log_fp': '/Users/Shared/data/nitelite/metadata/220513-FH135/PresIMULog.csv',\n",
    "    'gps_log_fp': '/Users/Shared/data/nitelite/metadata/220513-FH135/GPSLog.csv',\n",
    "}"
   ]
  },
  {
   "cell_type": "markdown",
   "id": "5a990810-3957-42ec-aa9e-f8cc8e56992a",
   "metadata": {},
   "source": [
    "## Parse Settings"
   ]
  },
  {
   "cell_type": "code",
   "execution_count": null,
   "id": "e3e0b3be-b6e6-49ed-9345-14d58ca17b4d",
   "metadata": {},
   "outputs": [],
   "source": [
    "fps = preprocess.discover_data(settings['image_dir'], ['raw', 'tif', 'tiff'])\n",
    "referenced_fps = preprocess.discover_data(settings['referenced_image_dir'], ['tif', 'tiff'], pattern=r'Geo\\s\\d+_\\d.tif')"
   ]
  },
  {
   "cell_type": "markdown",
   "id": "51c5fa37-4471-44d7-82c6-5f7e8bf6e31e",
   "metadata": {},
   "source": [
    "# Extract/Transform/Load"
   ]
  },
  {
   "cell_type": "markdown",
   "id": "d96f5c09-dddb-48bf-9096-e34b2799c4c3",
   "metadata": {},
   "source": [
    "## X values"
   ]
  },
  {
   "cell_type": "code",
   "execution_count": null,
   "id": "e93b2c51-565e-4d94-b76c-b38e8f43fc27",
   "metadata": {},
   "outputs": [],
   "source": [
    "metadata_preprocessing = preprocess.NITELitePreprocesser(['filepath', 'sensor_x', 'sensor_y'])"
   ]
  },
  {
   "cell_type": "code",
   "execution_count": null,
   "id": "8206fb03-c630-4d76-a78e-31e16c284e92",
   "metadata": {},
   "outputs": [],
   "source": [
    "X = metadata_preprocessing.fit_transform(\n",
    "    referenced_fps,\n",
    "    img_log_fp = settings['img_log_fp'],\n",
    "    imu_log_fp = settings['imu_log_fp'],\n",
    "    gps_log_fp = settings['gps_log_fp'],\n",
    ")"
   ]
  },
  {
   "cell_type": "markdown",
   "id": "8fdc1e52-7b0f-4154-8f19-089d63efb401",
   "metadata": {},
   "source": [
    "## Y values\n",
    "We use X['filepath'] as input because not all the referenced filepaths pass through successfully.\n",
    "We only want to look at ys for which have xs."
   ]
  },
  {
   "cell_type": "code",
   "execution_count": null,
   "id": "42435d46-ff74-43e0-9f61-d40e9d17ec9d",
   "metadata": {},
   "outputs": [],
   "source": [
    "y_pipeline = preprocess.GeoTIFFPreprocesser()"
   ]
  },
  {
   "cell_type": "code",
   "execution_count": null,
   "id": "a70afd87-8e7a-4ef6-9e57-59df61823cc8",
   "metadata": {},
   "outputs": [],
   "source": [
    "y = y_pipeline.fit_transform(X['filepath'])"
   ]
  },
  {
   "cell_type": "markdown",
   "id": "54134ff7-40a9-4772-8559-092537cd3d20",
   "metadata": {},
   "source": [
    "# Model"
   ]
  },
  {
   "cell_type": "code",
   "execution_count": null,
   "id": "06cab763-82cc-42fd-8498-b50b8c199a14",
   "metadata": {},
   "outputs": [],
   "source": [
    "train_inds, test_inds = train_test_split(X.index, test_size=0.2)"
   ]
  },
  {
   "cell_type": "code",
   "execution_count": null,
   "id": "97947051-63f7-4f0b-9263-ffc6869c3b1a",
   "metadata": {},
   "outputs": [],
   "source": [
    "model = reference.SensorGeoreferencer()"
   ]
  },
  {
   "cell_type": "code",
   "execution_count": null,
   "id": "06bbe681-f99b-45c4-b4c7-45a9e84e7f49",
   "metadata": {},
   "outputs": [],
   "source": [
    "model.fit(\n",
    "    X=X.loc[train_inds, ['sensor_x', 'sensor_y']],\n",
    "    y=y.loc[train_inds, preprocess.GEOTRANSFORM_COLS],\n",
    ")"
   ]
  },
  {
   "cell_type": "code",
   "execution_count": null,
   "id": "f21e78c0-ddc3-4bd6-9065-ab07727dc77a",
   "metadata": {},
   "outputs": [],
   "source": [
    "y_pred = model.predict(X.loc[test_inds, ['sensor_x', 'sensor_y']])"
   ]
  },
  {
   "cell_type": "markdown",
   "id": "d5cd3cab-0ba9-4d8d-82b3-922c326acb7e",
   "metadata": {},
   "source": [
    "# Evaluate"
   ]
  },
  {
   "cell_type": "code",
   "execution_count": null,
   "id": "bf6873d0-fbfa-470b-80c7-e2e56f90f842",
   "metadata": {},
   "outputs": [],
   "source": [
    "diffs = y_pred[['x_min', 'y_max']] - y.loc[test_inds, ['x_min', 'y_max']]\n",
    "offsets = np.sqrt((diffs**2.).sum(axis=1))"
   ]
  },
  {
   "cell_type": "code",
   "execution_count": null,
   "id": "b06f24f1-8474-4b8b-8328-b8a21a6e3a43",
   "metadata": {},
   "outputs": [],
   "source": [
    "sns.histplot(offsets)"
   ]
  },
  {
   "cell_type": "code",
   "execution_count": null,
   "id": "98c07e09-0ee2-4301-863f-597c593d484f",
   "metadata": {},
   "outputs": [],
   "source": [
    "fig = plt.figure()\n",
    "ax = plt.gca()\n",
    "\n",
    "sns.scatterplot(\n",
    "    y_pred,\n",
    "    x = 'x_min',\n",
    "    y = 'y_max',\n",
    "    label='predicted',\n",
    "    ax=ax,\n",
    ")\n",
    "sns.scatterplot(\n",
    "    y.loc[test_inds],\n",
    "    x = 'x_min',\n",
    "    y = 'y_max',\n",
    "    label='actual',\n",
    "    ax=ax,\n",
    ")\n",
    "\n",
    "ax.set_aspect('equal')"
   ]
  },
  {
   "cell_type": "code",
   "execution_count": null,
   "id": "de56d8dd-9927-456a-b92d-d6f95697e9e1",
   "metadata": {},
   "outputs": [],
   "source": []
  }
 ],
 "metadata": {
  "kernelspec": {
   "display_name": "Python 3 (ipykernel)",
   "language": "python",
   "name": "python3"
  },
  "language_info": {
   "codemirror_mode": {
    "name": "ipython",
    "version": 3
   },
   "file_extension": ".py",
   "mimetype": "text/x-python",
   "name": "python",
   "nbconvert_exporter": "python",
   "pygments_lexer": "ipython3",
   "version": "3.11.5"
  }
 },
 "nbformat": 4,
 "nbformat_minor": 5
}

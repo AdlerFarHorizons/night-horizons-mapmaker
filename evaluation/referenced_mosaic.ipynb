{
 "cells": [
  {
   "cell_type": "markdown",
   "id": "070a496d-6231-4f7e-9f5b-372b883ec596",
   "metadata": {},
   "source": [
    "# Referenced Mosaic"
   ]
  },
  {
   "cell_type": "markdown",
   "id": "54e06c13-2725-48b5-9fcc-2f50e7cc7fbe",
   "metadata": {},
   "source": [
    "# Setup"
   ]
  },
  {
   "cell_type": "markdown",
   "id": "8431f2d1-c71f-49fb-9389-0e5eed180553",
   "metadata": {},
   "source": [
    "## Imports"
   ]
  },
  {
   "cell_type": "code",
   "execution_count": null,
   "id": "1672404f-2f12-47cc-b182-1043a69dda8c",
   "metadata": {},
   "outputs": [],
   "source": [
    "import os"
   ]
  },
  {
   "cell_type": "code",
   "execution_count": null,
   "id": "eaf166db-7118-4f23-b9e9-418029afd5fd",
   "metadata": {},
   "outputs": [],
   "source": [
    "import numpy as np\n",
    "from sklearn.model_selection import train_test_split\n",
    "from sklearn.pipeline import Pipeline"
   ]
  },
  {
   "cell_type": "code",
   "execution_count": null,
   "id": "4ae386da-1cf7-4a55-b826-e17632498776",
   "metadata": {},
   "outputs": [],
   "source": [
    "import matplotlib\n",
    "import matplotlib.pyplot as plt\n",
    "import seaborn as sns\n",
    "sns.set_style('whitegrid')"
   ]
  },
  {
   "cell_type": "code",
   "execution_count": null,
   "id": "ab62500d-ea26-4123-820b-56863db24d73",
   "metadata": {},
   "outputs": [],
   "source": [
    "from night_horizons import preprocess, mosaic"
   ]
  },
  {
   "cell_type": "markdown",
   "id": "33b586b1-a52a-4018-98c2-73031d05474e",
   "metadata": {},
   "source": [
    "## Settings"
   ]
  },
  {
   "cell_type": "code",
   "execution_count": null,
   "id": "83e5b697-7aa5-4224-956c-f84fa660d29d",
   "metadata": {},
   "outputs": [],
   "source": [
    "settings = {\n",
    "    'referenced_image_dir': '/Users/Shared/data/nitelite/images/220513-FH135/referenced',\n",
    "    'img_log_fp': '/Users/Shared/data/nitelite/metadata/220513-FH135/image.log',\n",
    "    'imu_log_fp': '/Users/Shared/data/nitelite/metadata/220513-FH135/PresIMULog.csv',\n",
    "    'gps_log_fp': '/Users/Shared/data/nitelite/metadata/220513-FH135/GPSLog.csv',\n",
    "}"
   ]
  },
  {
   "cell_type": "markdown",
   "id": "c9739ef1-038d-44c1-8c75-3dcd6d6c1add",
   "metadata": {},
   "source": [
    "## Parse Settings"
   ]
  },
  {
   "cell_type": "code",
   "execution_count": null,
   "id": "b4408c5e-dba0-44a3-9cb3-2b5922875880",
   "metadata": {},
   "outputs": [],
   "source": [
    "referenced_fps = preprocess.discover_data(settings['referenced_image_dir'], ['tif', 'tiff'], pattern=r'Geo\\s\\d+_\\d.tif')"
   ]
  }
 ],
 "metadata": {
  "kernelspec": {
   "display_name": "Python 3 (ipykernel)",
   "language": "python",
   "name": "python3"
  },
  "language_info": {
   "codemirror_mode": {
    "name": "ipython",
    "version": 3
   },
   "file_extension": ".py",
   "mimetype": "text/x-python",
   "name": "python",
   "nbconvert_exporter": "python",
   "pygments_lexer": "ipython3",
   "version": "3.11.5"
  }
 },
 "nbformat": 4,
 "nbformat_minor": 5
}

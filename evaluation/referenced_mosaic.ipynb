{
 "cells": [
  {
   "cell_type": "markdown",
   "id": "070a496d-6231-4f7e-9f5b-372b883ec596",
   "metadata": {},
   "source": [
    "# Referenced Mosaic"
   ]
  },
  {
   "cell_type": "markdown",
   "id": "54e06c13-2725-48b5-9fcc-2f50e7cc7fbe",
   "metadata": {},
   "source": [
    "# Setup"
   ]
  },
  {
   "cell_type": "markdown",
   "id": "8431f2d1-c71f-49fb-9389-0e5eed180553",
   "metadata": {},
   "source": [
    "## Imports"
   ]
  },
  {
   "cell_type": "code",
   "execution_count": null,
   "id": "1672404f-2f12-47cc-b182-1043a69dda8c",
   "metadata": {},
   "outputs": [],
   "source": [
    "import os"
   ]
  },
  {
   "cell_type": "code",
   "execution_count": null,
   "id": "eaf166db-7118-4f23-b9e9-418029afd5fd",
   "metadata": {},
   "outputs": [],
   "source": [
    "import numpy as np\n",
    "from sklearn.model_selection import train_test_split\n",
    "from sklearn.pipeline import Pipeline"
   ]
  },
  {
   "cell_type": "code",
   "execution_count": null,
   "id": "4ae386da-1cf7-4a55-b826-e17632498776",
   "metadata": {},
   "outputs": [],
   "source": [
    "import matplotlib\n",
    "import matplotlib.pyplot as plt\n",
    "import seaborn as sns\n",
    "sns.set_style('whitegrid')"
   ]
  },
  {
   "cell_type": "code",
   "execution_count": null,
   "id": "ab62500d-ea26-4123-820b-56863db24d73",
   "metadata": {},
   "outputs": [],
   "source": [
    "from night_horizons import utils, preprocess, mosaic"
   ]
  },
  {
   "cell_type": "markdown",
   "id": "33b586b1-a52a-4018-98c2-73031d05474e",
   "metadata": {},
   "source": [
    "## Settings"
   ]
  },
  {
   "cell_type": "code",
   "execution_count": null,
   "id": "83e5b697-7aa5-4224-956c-f84fa660d29d",
   "metadata": {},
   "outputs": [],
   "source": [
    "settings = {\n",
    "    'referenced_image_dir': '/Users/Shared/data/nitelite/images/220513-FH135/referenced',\n",
    "    'mosaic_filepath': '/Users/Shared/data/nitelite/mosaics/220513-FH135/referenced2.tiff',\n",
    "    'overwrite': True,\n",
    "}"
   ]
  },
  {
   "cell_type": "markdown",
   "id": "c9739ef1-038d-44c1-8c75-3dcd6d6c1add",
   "metadata": {},
   "source": [
    "## Parse Settings"
   ]
  },
  {
   "cell_type": "code",
   "execution_count": null,
   "id": "b4408c5e-dba0-44a3-9cb3-2b5922875880",
   "metadata": {},
   "outputs": [],
   "source": [
    "referenced_fps = utils.discover_data(settings['referenced_image_dir'], ['tif', 'tiff'], pattern=r'Geo\\s\\d+_\\d.tif')"
   ]
  },
  {
   "cell_type": "markdown",
   "id": "551c26e9-853e-46a2-8d36-c0d11a3d2fd3",
   "metadata": {},
   "source": [
    "# Extract/Transform/Load"
   ]
  },
  {
   "cell_type": "code",
   "execution_count": null,
   "id": "e93b2c51-565e-4d94-b76c-b38e8f43fc27",
   "metadata": {},
   "outputs": [],
   "source": [
    "preprocessing = Pipeline([\n",
    "    ('geotiff', preprocess.GeoTIFFPreprocesser()),\n",
    "    ('geobounds', preprocess.GeoBoundsPreprocesser(passthrough=['filepath'])),\n",
    "])"
   ]
  },
  {
   "cell_type": "code",
   "execution_count": null,
   "id": "8206fb03-c630-4d76-a78e-31e16c284e92",
   "metadata": {},
   "outputs": [],
   "source": [
    "X = preprocessing.fit_transform(\n",
    "    referenced_fps,\n",
    ")"
   ]
  },
  {
   "cell_type": "markdown",
   "id": "626532fe-d463-4830-ac4e-aaf8a3840902",
   "metadata": {},
   "source": [
    "# Build Mosaic"
   ]
  },
  {
   "cell_type": "code",
   "execution_count": null,
   "id": "2b04e42e-b05a-4ea5-9ba3-c254f35f5ce2",
   "metadata": {},
   "outputs": [],
   "source": [
    "if os.path.isfile(settings['mosaic_filepath']) and settings['overwrite']:\n",
    "    os.remove(settings['mosaic_filepath'])"
   ]
  },
  {
   "cell_type": "code",
   "execution_count": null,
   "id": "97947051-63f7-4f0b-9263-ffc6869c3b1a",
   "metadata": {},
   "outputs": [],
   "source": [
    "model = mosaic.ReferencedMosaic(settings['mosaic_filepath'])"
   ]
  },
  {
   "cell_type": "code",
   "execution_count": null,
   "id": "06bbe681-f99b-45c4-b4c7-45a9e84e7f49",
   "metadata": {},
   "outputs": [],
   "source": [
    "model.fit_transform(X)"
   ]
  },
  {
   "cell_type": "markdown",
   "id": "c743e7a6-abd9-40de-bf4b-b318339ff369",
   "metadata": {},
   "source": [
    "# Evaluate"
   ]
  }
 ],
 "metadata": {
  "kernelspec": {
   "display_name": "Python 3 (ipykernel)",
   "language": "python",
   "name": "python3"
  },
  "language_info": {
   "codemirror_mode": {
    "name": "ipython",
    "version": 3
   },
   "file_extension": ".py",
   "mimetype": "text/x-python",
   "name": "python",
   "nbconvert_exporter": "python",
   "pygments_lexer": "ipython3",
   "version": "3.11.5"
  }
 },
 "nbformat": 4,
 "nbformat_minor": 5
}

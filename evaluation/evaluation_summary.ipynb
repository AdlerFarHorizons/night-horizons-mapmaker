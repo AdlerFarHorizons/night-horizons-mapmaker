{
 "cells": [
  {
   "cell_type": "markdown",
   "metadata": {},
   "source": [
    "# Notes\n",
    "\n",
    "If using perfect approximate georeferencing (exactgeo),\n",
    "everything works perfectly,\n",
    "even for large paddings (up to 2).\n"
   ]
  },
  {
   "cell_type": "markdown",
   "metadata": {},
   "source": [
    "With the following settings we can get some pretty good results.\n",
    "\n",
    "- Only referenced images.\n",
    "- Exact georeferencing with small padding.\n",
    "\n",
    "The following variations on training sample.\n",
    "\n",
    "- Near perfect: 10 training samples per camera.\n",
    "- Very good: 10 training samples for the nadir camera. 1 training sample per other camera.\n",
    "- Good: 10 training samples for the nadir camera only.\n",
    "- Okay: 5 training samples per camera.\n"
   ]
  },
  {
   "cell_type": "markdown",
   "metadata": {},
   "source": [
    "With the following settings we can get some pretty good results.\n",
    "\n",
    "- Only referenced images.\n",
    "- Approximate georeferencing with 0.5 padding.\n",
    "- 10 training samples per camera\n",
    "\n",
    "The following variations on training sample.\n",
    "\n",
    "- 1.0 padding\n"
   ]
  },
  {
   "cell_type": "markdown",
   "metadata": {},
   "source": [
    "# Setup\n"
   ]
  },
  {
   "cell_type": "markdown",
   "metadata": {},
   "source": [
    "## Imports\n"
   ]
  },
  {
   "cell_type": "code",
   "execution_count": null,
   "metadata": {},
   "outputs": [],
   "source": [
    "import os"
   ]
  },
  {
   "cell_type": "code",
   "execution_count": null,
   "metadata": {},
   "outputs": [],
   "source": [
    "import pandas as pd\n",
    "import yaml"
   ]
  },
  {
   "cell_type": "code",
   "execution_count": null,
   "metadata": {},
   "outputs": [],
   "source": [
    "from night_horizons import utils"
   ]
  },
  {
   "cell_type": "markdown",
   "metadata": {},
   "source": [
    "## Settings\n"
   ]
  },
  {
   "cell_type": "code",
   "execution_count": null,
   "metadata": {},
   "outputs": [],
   "source": [
    "with open('./config.yml', \"r\", encoding='UTF-8') as file:\n",
    "    settings = yaml.load(file, Loader=yaml.FullLoader)"
   ]
  },
  {
   "cell_type": "markdown",
   "metadata": {},
   "source": [
    "# Prepare Data\n"
   ]
  },
  {
   "cell_type": "markdown",
   "metadata": {},
   "source": [
    "## Load Data\n"
   ]
  },
  {
   "cell_type": "code",
   "execution_count": null,
   "metadata": {},
   "outputs": [],
   "source": [
    "# Discover y pred data\n",
    "data = {}\n",
    "y_pred_fps = utils.discover_data(settings['data_dir'], ['csv'], 'y_pred')\n",
    "data['y_pred'] = [pd.read_csv(_, index_col=0) for _ in y_pred_fps]"
   ]
  },
  {
   "cell_type": "code",
   "execution_count": null,
   "metadata": {},
   "outputs": [],
   "source": [
    "# Get the other data\n",
    "for var_name in ['y_train', 'y_test', 'X_train', 'X_test', 'y_pred']:\n",
    "    var_fps = y_pred_fps.str.replace('y_pred', var_name)\n",
    "    data[var_name] = [pd.read_csv(_, index_col=0) for _ in var_fps]"
   ]
  },
  {
   "cell_type": "code",
   "execution_count": null,
   "metadata": {},
   "outputs": [],
   "source": [
    "# Now get settings\n",
    "mosaic_settings_fps = y_pred_fps.str.replace('y_pred.csv', 'settings.yaml')\n",
    "nb_settings_fps = y_pred_fps.str.replace('y_pred.csv', 'settings.yaml')\n",
    "\n",
    "mosaic_settings = []\n",
    "nb_settings = []\n",
    "for i, settings_fp in enumerate(mosaic_settings_fps):\n",
    "    with open(settings_fp, \"r\", encoding='UTF-8') as file:\n",
    "        mosaic_settings_i = yaml.load(file, Loader=yaml.FullLoader)\n",
    "    mosaic_settings.append(mosaic_settings_i)\n",
    "\n",
    "    with open(nb_settings_fps.iloc[i], \"r\", encoding='UTF-8') as file:\n",
    "        nb_settings_i = yaml.load(file, Loader=yaml.FullLoader)\n",
    "    nb_settings.append(nb_settings_i)\n",
    "    "
   ]
  },
  {
   "cell_type": "code",
   "execution_count": null,
   "metadata": {},
   "outputs": [],
   "source": [
    "# Finally, the logs\n",
    "log_fps = y_pred_fps.str.replace('y_pred.csv', 'log.csv')\n",
    "logs = [pd.read_csv(_, index_col=0) for _ in log_fps]"
   ]
  },
  {
   "cell_type": "markdown",
   "metadata": {},
   "source": [
    "## Extract Stats\n"
   ]
  },
  {
   "cell_type": "markdown",
   "metadata": {},
   "source": []
  }
 ],
 "metadata": {
  "kernelspec": {
   "display_name": "night-horizons",
   "language": "python",
   "name": "python3"
  },
  "language_info": {
   "codemirror_mode": {
    "name": "ipython",
    "version": 3
   },
   "file_extension": ".py",
   "mimetype": "text/x-python",
   "name": "python",
   "nbconvert_exporter": "python",
   "pygments_lexer": "ipython3",
   "version": "3.11.5"
  }
 },
 "nbformat": 4,
 "nbformat_minor": 2
}

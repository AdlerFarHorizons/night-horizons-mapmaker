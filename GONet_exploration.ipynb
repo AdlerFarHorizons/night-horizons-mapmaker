{
 "cells": [
  {
   "cell_type": "markdown",
   "id": "727fd192-91f1-40cd-95a7-aa94787abaee",
   "metadata": {},
   "source": [
    "# GONet Exploration\n",
    "Notebook for scratch exploration."
   ]
  },
  {
   "cell_type": "markdown",
   "id": "c2685b24-78c7-44d3-a528-5165d9ecb0d6",
   "metadata": {},
   "source": [
    "# Imports"
   ]
  },
  {
   "cell_type": "code",
   "execution_count": null,
   "id": "d977202b-bdc4-4742-8104-9b422c1c4a36",
   "metadata": {},
   "outputs": [],
   "source": [
    "# stdlib\n",
    "import os"
   ]
  },
  {
   "cell_type": "code",
   "execution_count": null,
   "id": "114443b9-49a8-4114-aa36-294d27aaeef8",
   "metadata": {},
   "outputs": [],
   "source": [
    "# External libraries\n",
    "import cv2\n",
    "import h5py\n",
    "import numpy as np\n",
    "import tqdm"
   ]
  },
  {
   "cell_type": "code",
   "execution_count": null,
   "id": "f6879d1d-0bcc-4595-bc40-129794e213c1",
   "metadata": {},
   "outputs": [],
   "source": [
    "# Plotting libraries\n",
    "import matplotlib\n",
    "import matplotlib.pyplot as plt\n",
    "import matplotlib.patches as patches\n",
    "\n",
    "import seaborn as sns\n",
    "sns.set_style('white')"
   ]
  },
  {
   "cell_type": "markdown",
   "id": "fd85a972-3691-49e8-847d-b9e4b0b5e5e6",
   "metadata": {},
   "source": [
    "# Settings"
   ]
  },
  {
   "cell_type": "code",
   "execution_count": null,
   "id": "99f42812-a70e-4414-a718-5a9dcbc713e7",
   "metadata": {},
   "outputs": [],
   "source": [
    "rng = np.random.default_rng(1371239871)"
   ]
  },
  {
   "cell_type": "code",
   "execution_count": null,
   "id": "dfc9651d-2a3a-41fc-8641-4d153bcd33e0",
   "metadata": {},
   "outputs": [],
   "source": [
    "# Palos #2\n",
    "image_dirs = {\n",
    "    'palos': '/Users/zhafensaavedra/Library/CloudStorage/GoogleDrive-zhafensaavedra@adlerplanetarium.org/Shared drives/GONet/Version 2/Data/Field Results/230517 Palos Triangulation/230517 Synced Images',\n",
    "    'conway': '/Users/zhafensaavedra/Library/CloudStorage/GoogleDrive-zhafensaavedra@adlerplanetarium.org/Shared drives/Far Horizons Program/Presentations Publications/Triangulation Experiment/Tri Exp GONet Data/221218 Conway Experiment/221218 Conway GONet Images',\n",
    "}\n",
    "deployment = 'conway'\n",
    "image_dir = image_dirs[deployment]"
   ]
  },
  {
   "cell_type": "code",
   "execution_count": null,
   "id": "3873bd20-9d74-4497-9763-3049d726c15d",
   "metadata": {},
   "outputs": [],
   "source": [
    "savedir = '/Users/zhafensaavedra/Library/CloudStorage/GoogleDrive-zhafensaavedra@adlerplanetarium.org/Shared drives/Far Horizons Program/Presentations Publications/Triangulation Experiment/Remote Sensed Data/packaged_image_data'"
   ]
  },
  {
   "cell_type": "code",
   "execution_count": null,
   "id": "270592a2-0107-4c67-bf14-b61fc79a0c14",
   "metadata": {},
   "outputs": [],
   "source": [
    "max_angle = 90. # In degrees\n",
    "dtheta = 5. # Bin size in degrees"
   ]
  },
  {
   "cell_type": "markdown",
   "id": "392d187f-3a07-4092-9282-ba507037a7f9",
   "metadata": {},
   "source": [
    "# Explore"
   ]
  },
  {
   "cell_type": "code",
   "execution_count": null,
   "id": "a951cdb6-3a5c-4846-aec6-f038563b762b",
   "metadata": {},
   "outputs": [],
   "source": [
    "fns = os.listdir(image_dir)"
   ]
  },
  {
   "cell_type": "code",
   "execution_count": null,
   "id": "ba313cc1-0c06-40a1-ae93-f4e6dfcc772f",
   "metadata": {},
   "outputs": [],
   "source": [
    "fp = os.path.join(image_dir, rng.choice(fns))"
   ]
  },
  {
   "cell_type": "code",
   "execution_count": null,
   "id": "0eec48d3-5d72-456c-9ded-97e127a2d802",
   "metadata": {},
   "outputs": [],
   "source": [
    "img = cv2.imread(fp)\n",
    "img = img[:, :, ::-1]"
   ]
  },
  {
   "cell_type": "code",
   "execution_count": null,
   "id": "759fe37a-7168-4f81-ae51-cfae9d65e611",
   "metadata": {},
   "outputs": [],
   "source": [
    "plt.imshow(\n",
    "    img,\n",
    ")"
   ]
  },
  {
   "cell_type": "markdown",
   "id": "f91adce3-ba0c-4fb4-811a-91b6cdab501c",
   "metadata": {},
   "source": [
    "## Identify region where data is"
   ]
  },
  {
   "cell_type": "code",
   "execution_count": null,
   "id": "f78ee7a8-7495-4cef-a12f-6d9c890ca839",
   "metadata": {},
   "outputs": [],
   "source": [
    "zero = (img < 16).astype(float)\n",
    "center = (zero.shape[1]//2, zero.shape[0]//2)\n",
    "radius = center[1]"
   ]
  },
  {
   "cell_type": "code",
   "execution_count": null,
   "id": "359d727c-9d09-46e0-af45-52059d0c44e3",
   "metadata": {},
   "outputs": [],
   "source": [
    "fig = plt.figure(figsize=(21,7))\n",
    "ax_dict = fig.subplot_mosaic([['r', 'g', 'b']])\n",
    "\n",
    "for i, band in enumerate('rgb'):\n",
    "    ax = ax_dict[band]\n",
    "    ax.imshow(zero[:,:,i], cmap='Greys', vmin=0, vmax=1)\n",
    "    \n",
    "    ax.axvline(center[0])\n",
    "    ax.axhline(center[1])\n",
    "    \n",
    "    for r in [10, center[1]]:\n",
    "        circle = patches.Circle(center, radius=r, fill=False, edgecolor='k', linewidth=2)\n",
    "        ax.add_patch(circle)\n"
   ]
  },
  {
   "cell_type": "markdown",
   "id": "ad1a1c34-a1a6-4639-af40-04df74391520",
   "metadata": {},
   "source": [
    "## Perform Crude Resampling"
   ]
  },
  {
   "cell_type": "markdown",
   "id": "0e2bc7ab-7a35-4b68-b286-ce1cb3b7aadc",
   "metadata": {},
   "source": [
    "### Example"
   ]
  },
  {
   "cell_type": "code",
   "execution_count": null,
   "id": "dca96551-15d3-423b-b516-9ece94955cea",
   "metadata": {},
   "outputs": [],
   "source": [
    "xs = np.arange(zero.shape[1])\n",
    "ys = np.arange(zero.shape[0])\n",
    "xs, ys = np.meshgrid(xs, ys)\n",
    "# Center\n",
    "xs = xs - center[0]\n",
    "ys = ys - center[1]"
   ]
  },
  {
   "cell_type": "code",
   "execution_count": null,
   "id": "96c0e4dd-ea32-4810-8c96-77d8beb657c0",
   "metadata": {},
   "outputs": [],
   "source": [
    "# Transform coords\n",
    "s = np.sqrt(xs**2. + ys**2.)\n",
    "# Scale to assume that the fisheye is in even steps\n",
    "theta = s / radius * max_angle\n",
    "phi = np.arctan2(ys, xs) * (180/np.pi)"
   ]
  },
  {
   "cell_type": "code",
   "execution_count": null,
   "id": "7fc88729-2761-478a-894c-f1fd30d36a13",
   "metadata": {},
   "outputs": [],
   "source": [
    "# Flatten and toss out filler\n",
    "theta_flat = theta.flatten()\n",
    "valid = theta_flat < max_angle\n",
    "theta_flat = theta_flat[valid]\n",
    "phi_flat = phi.flatten()[valid]\n",
    "img_flat = [img[:,:,i].flatten()[valid] for i, band in enumerate('rgb')]"
   ]
  },
  {
   "cell_type": "code",
   "execution_count": null,
   "id": "6f77b047-dfc0-470f-8f4f-228599678dcd",
   "metadata": {},
   "outputs": [],
   "source": [
    "# Nearest-grid-point resample (histogram bin)\n",
    "theta_bins = np.arange(0., 90. + dtheta, dtheta)\n",
    "phi_bins = np.arange(-180., 180. + dtheta, dtheta)\n",
    "theta_centers = 0.5 * (theta_bins[:-1] + theta_bins[1:])\n",
    "phi_centers = 0.5 * (phi_bins[:-1] + phi_bins[1:])"
   ]
  },
  {
   "cell_type": "code",
   "execution_count": null,
   "id": "c8ebb978-2ca0-4401-bde8-78787f4f66c1",
   "metadata": {},
   "outputs": [],
   "source": [
    "mosaic = [ [f'r_{type}', f'g_{type}', f'b_{type}'] for type in ['count', 'sum', 'average']] + [ ['final', '.', '.' ], ]"
   ]
  },
  {
   "cell_type": "code",
   "execution_count": null,
   "id": "03004194-91d5-4de4-91db-cac7880e01f3",
   "metadata": {},
   "outputs": [],
   "source": [
    "fig = plt.figure(figsize=(21,21))\n",
    "ax_dict = fig.subplot_mosaic(mosaic)\n",
    "\n",
    "resampled = []\n",
    "for i, band in enumerate('rgb'):    \n",
    "\n",
    "    img_float_i = img_flat[i] / 255\n",
    "    \n",
    "    ax = ax_dict[f'{band}_count']\n",
    "    counts, _, _, _ = ax.hist2d(\n",
    "        phi_flat,\n",
    "        theta_flat,\n",
    "        bins=(phi_bins, theta_bins),\n",
    "    )\n",
    "    \n",
    "    ax = ax_dict[f'{band}_sum']\n",
    "    sums, _, _, _ = ax.hist2d(\n",
    "        phi_flat,\n",
    "        theta_flat,\n",
    "        weights=img_float_i,\n",
    "        bins=(phi_bins, theta_bins),\n",
    "    )\n",
    "    \n",
    "    averages = sums / counts\n",
    "    resampled.append(averages)\n",
    "    \n",
    "    ax = ax_dict[f'{band}_average']\n",
    "    ax.pcolormesh(\n",
    "        phi_bins,\n",
    "        theta_bins,\n",
    "        averages.transpose(),\n",
    "        vmin=0,\n",
    "        vmax=1,\n",
    "    )\n",
    "resampled = np.array(resampled).transpose()\n",
    "    \n",
    "ax = ax_dict['final']\n",
    "ax.pcolormesh(\n",
    "    phi_bins,\n",
    "    theta_bins,\n",
    "    resampled\n",
    ")\n",
    "    \n",
    "for ax_key, ax in ax_dict.items():\n",
    "    ax.set_ylim(90, 0)"
   ]
  },
  {
   "cell_type": "markdown",
   "id": "6fa794ce-6aa5-43b8-83ee-ee18230dc5d5",
   "metadata": {},
   "source": [
    "### Resample all files and package up "
   ]
  },
  {
   "cell_type": "code",
   "execution_count": null,
   "id": "e5a6ad6b-d56b-4e4a-94e4-576c010e68d7",
   "metadata": {},
   "outputs": [],
   "source": [
    "# Bins for resampling\n",
    "theta_bins = np.arange(0., 90. + dtheta, dtheta)\n",
    "phi_bins = np.arange(-180., 180. + dtheta, dtheta)\n",
    "theta_centers = 0.5 * (theta_bins[:-1] + theta_bins[1:])\n",
    "phi_centers = 0.5 * (phi_bins[:-1] + phi_bins[1:])"
   ]
  },
  {
   "cell_type": "code",
   "execution_count": null,
   "id": "8b33c7a5-6dbb-4e59-b1b7-35565488d51f",
   "metadata": {},
   "outputs": [],
   "source": [
    "imgs = {}\n",
    "for fn in tqdm.tqdm(fns):\n",
    "    \n",
    "    fp =  os.path.join(image_dir, fn)\n",
    "\n",
    "    # Load the image\n",
    "    img = cv2.imread(fp)\n",
    "    img = img[:, :, ::-1]\n",
    "\n",
    "    # Pixel dimensions\n",
    "    center = (img.shape[1]//2, img.shape[0]//2)\n",
    "    radius = center[1]\n",
    "\n",
    "    # Pixel coords\n",
    "    xs = np.arange(zero.shape[1])\n",
    "    ys = np.arange(zero.shape[0])\n",
    "    xs, ys = np.meshgrid(xs, ys)\n",
    "\n",
    "    # Center coords\n",
    "    xs = xs - center[0]\n",
    "    ys = ys - center[1]\n",
    "\n",
    "    # Transform coords\n",
    "    s = np.sqrt(xs**2. + ys**2.)\n",
    "    # Scale to assume that the fisheye is in even steps\n",
    "    theta = s / radius * max_angle\n",
    "    phi = np.arctan2(ys, xs) * (180/np.pi)\n",
    "\n",
    "    # Flatten and toss out filler\n",
    "    theta_flat = theta.flatten()\n",
    "    valid = theta_flat < max_angle\n",
    "    theta_flat = theta_flat[valid]\n",
    "    phi_flat = phi.flatten()[valid]\n",
    "    img_flat = [img[:,:,i].flatten()[valid] for i, band in enumerate('rgb')]\n",
    "\n",
    "    # Perform resampling\n",
    "    resampled = []\n",
    "    for i, band in enumerate('rgb'):    \n",
    "\n",
    "        img_float_i = img_flat[i] / 255\n",
    "\n",
    "        counts, _, _ = np.histogram2d(\n",
    "            phi_flat,\n",
    "            theta_flat,\n",
    "            bins=(phi_bins, theta_bins),\n",
    "        )\n",
    "\n",
    "        ax = ax_dict[f'{band}_sum']\n",
    "        sums, _, _ = np.histogram2d(\n",
    "            phi_flat,\n",
    "            theta_flat,\n",
    "            weights=img_float_i,\n",
    "            bins=(phi_bins, theta_bins),\n",
    "        )\n",
    "\n",
    "        averages = sums / counts\n",
    "        resampled.append(averages)\n",
    "    resampled = np.array(resampled).transpose()\n",
    "    \n",
    "    # Store\n",
    "    key = os.path.splitext(fn)[0]\n",
    "    imgs[key] = resampled"
   ]
  },
  {
   "cell_type": "code",
   "execution_count": null,
   "id": "1e69754b-1ec9-477a-aa5c-385cbb7ba040",
   "metadata": {},
   "outputs": [],
   "source": [
    "# Plot the last image\n",
    "plt.pcolormesh(\n",
    "    phi_bins,\n",
    "    theta_bins[::-1],\n",
    "    resampled\n",
    ")"
   ]
  },
  {
   "cell_type": "code",
   "execution_count": null,
   "id": "a652d833-2c8d-4221-b957-eb3433fe5aff",
   "metadata": {},
   "outputs": [],
   "source": [
    "savefp = os.path.join(savedir, f'{deployment}.h5')"
   ]
  },
  {
   "cell_type": "code",
   "execution_count": null,
   "id": "90ed4b08-83a6-4cf0-a073-2be4cf67eb7d",
   "metadata": {},
   "outputs": [],
   "source": [
    "with h5py.File(savefp, 'w') as f:\n",
    "    \n",
    "    # Loop through to save images\n",
    "    for key, img in imgs.items():\n",
    "        f.create_dataset(key, data=img, dtype=img.dtype)\n",
    "        \n",
    "    # Save attributes\n",
    "    f.attrs.create('azimuthal_angle_bins_in_degrees', data=phi_bins)\n",
    "    f.attrs.create('vertical_angle_bins_in_degrees', data=theta_bins)"
   ]
  },
  {
   "cell_type": "code",
   "execution_count": null,
   "id": "66ef1b41-cd3e-4cca-965e-ba32451a94e7",
   "metadata": {},
   "outputs": [],
   "source": [
    "# Snippet for reloading the data\n",
    "import h5py\n",
    "\n",
    "f = h5py.File(savefp, 'r')\n",
    "\n",
    "imgs = {}\n",
    "for key in f.keys():\n",
    "    imgs[key] = f[key][:]\n",
    "\n",
    "azimuthal_bins = f.attrs['azimuthal_angle_bins_in_degrees'][:]\n",
    "vertical_bins = f.attrs['vertical_angle_bins_in_degrees'][:]"
   ]
  }
 ],
 "metadata": {
  "kernelspec": {
   "display_name": "Python 3 (ipykernel)",
   "language": "python",
   "name": "python3"
  },
  "language_info": {
   "codemirror_mode": {
    "name": "ipython",
    "version": 3
   },
   "file_extension": ".py",
   "mimetype": "text/x-python",
   "name": "python",
   "nbconvert_exporter": "python",
   "pygments_lexer": "ipython3",
   "version": "3.11.5"
  }
 },
 "nbformat": 4,
 "nbformat_minor": 5
}

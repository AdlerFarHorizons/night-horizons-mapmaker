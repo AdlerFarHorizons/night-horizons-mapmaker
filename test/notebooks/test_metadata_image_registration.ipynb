{
 "cells": [
  {
   "cell_type": "markdown",
   "id": "87932ece-4bf6-48ba-954e-2f27f08ab938",
   "metadata": {},
   "source": [
    "# Sensor-based Georeferencing"
   ]
  },
  {
   "cell_type": "markdown",
   "id": "b498c2c7-54bb-43e7-9b40-7dd099f8d7c1",
   "metadata": {},
   "source": [
    "# Setup"
   ]
  },
  {
   "cell_type": "markdown",
   "id": "c442d333-49a2-4113-b5c3-2c448cdca34d",
   "metadata": {},
   "source": [
    "## Imports"
   ]
  },
  {
   "cell_type": "code",
   "execution_count": null,
   "id": "6f43ac75-0f33-47e6-b867-b2d81f3b933f",
   "metadata": {},
   "outputs": [],
   "source": [
    "import os"
   ]
  },
  {
   "cell_type": "code",
   "execution_count": null,
   "id": "f2e350bf-d952-4b84-9ded-84833607043e",
   "metadata": {},
   "outputs": [],
   "source": [
    "import numpy as np\n",
    "from sklearn.model_selection import train_test_split\n",
    "from sklearn.pipeline import Pipeline\n",
    "from sklearn.utils import check_random_state\n",
    "import yaml"
   ]
  },
  {
   "cell_type": "code",
   "execution_count": null,
   "id": "d97f7d94-61b8-4c0a-a0fb-40c0e52cd6e7",
   "metadata": {},
   "outputs": [],
   "source": [
    "import matplotlib\n",
    "import matplotlib.pyplot as plt\n",
    "import seaborn as sns\n",
    "sns.set_style('whitegrid')"
   ]
  },
  {
   "cell_type": "code",
   "execution_count": null,
   "id": "74468eac-4447-4478-afcc-487ce85daaaa",
   "metadata": {},
   "outputs": [],
   "source": [
    "from night_horizons import utils, preprocess, reference"
   ]
  },
  {
   "cell_type": "markdown",
   "id": "703a379f-9310-4115-b9f4-066f5426f97c",
   "metadata": {},
   "source": [
    "## Settings"
   ]
  },
  {
   "cell_type": "code",
   "execution_count": null,
   "id": "3b7a428a-1808-4526-8b47-f4044425203e",
   "metadata": {},
   "outputs": [],
   "source": [
    "with open('./config.yml', \"r\", encoding='UTF-8') as file:\n",
    "    settings = yaml.load(file, Loader=yaml.FullLoader)"
   ]
  },
  {
   "cell_type": "code",
   "execution_count": null,
   "id": "d9439f12-9a3d-4ccd-8f3a-9fd0b1a34adb",
   "metadata": {},
   "outputs": [],
   "source": [
    "local_options = {\n",
    "    'random_state': 16849,\n",
    "    'train_size': 0.8,\n",
    "}\n",
    "settings.update(local_options)"
   ]
  },
  {
   "cell_type": "markdown",
   "id": "0bf16c1e-ca9c-4b42-8645-7f751a71b074",
   "metadata": {},
   "source": [
    "## Parse Settings"
   ]
  },
  {
   "cell_type": "code",
   "execution_count": null,
   "id": "1dff26f3-41ed-4d03-a39e-334cca0dcba6",
   "metadata": {},
   "outputs": [],
   "source": [
    "for key, relpath in settings['paths_relative_to_data_dir'].items():\n",
    "    settings[key] = os.path.join(settings['data_dir'], relpath)"
   ]
  },
  {
   "cell_type": "code",
   "execution_count": null,
   "id": "f612adfe-6012-43c8-8b6b-aba1b3ceced1",
   "metadata": {},
   "outputs": [],
   "source": [
    "random_state = check_random_state(settings['random_state'])"
   ]
  },
  {
   "cell_type": "code",
   "execution_count": null,
   "id": "534030e4-80f6-40b8-98ed-e5200d76379d",
   "metadata": {},
   "outputs": [],
   "source": [
    "referenced_fps = utils.discover_data(settings['referenced_images_dir'], ['tif', 'tiff'], pattern=r'Geo\\s\\d+_\\d.tif')"
   ]
  },
  {
   "cell_type": "code",
   "execution_count": null,
   "id": "f1190795-f29b-4b43-933e-ff4697b78515",
   "metadata": {},
   "outputs": [],
   "source": [
    "palette = sns.color_palette(settings['color_palette'])"
   ]
  },
  {
   "cell_type": "code",
   "execution_count": null,
   "id": "362c4dee-f54d-4b76-9158-050650f9c3e8",
   "metadata": {},
   "outputs": [],
   "source": [
    "crs = settings['crs']"
   ]
  },
  {
   "cell_type": "markdown",
   "id": "51c5fa37-4471-44d7-82c6-5f7e8bf6e31e",
   "metadata": {},
   "source": [
    "# Extract/Transform/Load"
   ]
  },
  {
   "cell_type": "markdown",
   "id": "d96f5c09-dddb-48bf-9096-e34b2799c4c3",
   "metadata": {},
   "source": [
    "## X values"
   ]
  },
  {
   "cell_type": "code",
   "execution_count": null,
   "id": "e93b2c51-565e-4d94-b76c-b38e8f43fc27",
   "metadata": {},
   "outputs": [],
   "source": [
    "metadata_preprocessing = preprocess.NITELitePreprocessor(\n",
    "    unhandled_files='warn and drop',\n",
    ")\n"
   ]
  },
  {
   "cell_type": "code",
   "execution_count": null,
   "id": "8206fb03-c630-4d76-a78e-31e16c284e92",
   "metadata": {},
   "outputs": [],
   "source": [
    "X = metadata_preprocessing.fit_transform(\n",
    "    referenced_fps,\n",
    "    img_log_fp = settings['img_log_fp'],\n",
    "    imu_log_fp = settings['imu_log_fp'],\n",
    "    gps_log_fp = settings['gps_log_fp'],\n",
    ")"
   ]
  },
  {
   "cell_type": "markdown",
   "id": "8fdc1e52-7b0f-4154-8f19-089d63efb401",
   "metadata": {},
   "source": [
    "## Y values\n",
    "We use X['filepath'] as input because not all the referenced filepaths pass through successfully.\n",
    "We only want to look at ys for which have xs."
   ]
  },
  {
   "cell_type": "code",
   "execution_count": null,
   "id": "42435d46-ff74-43e0-9f61-d40e9d17ec9d",
   "metadata": {},
   "outputs": [],
   "source": [
    "y_pipeline = preprocess.GeoTIFFPreprocessor()"
   ]
  },
  {
   "cell_type": "code",
   "execution_count": null,
   "id": "a70afd87-8e7a-4ef6-9e57-59df61823cc8",
   "metadata": {},
   "outputs": [],
   "source": [
    "y = y_pipeline.fit_transform(X['filepath'])"
   ]
  },
  {
   "cell_type": "markdown",
   "id": "fbdd8e1a-073f-4c4b-b804-8ced14b3af5a",
   "metadata": {},
   "source": [
    "# Data Split"
   ]
  },
  {
   "cell_type": "code",
   "execution_count": null,
   "id": "06cab763-82cc-42fd-8498-b50b8c199a14",
   "metadata": {},
   "outputs": [],
   "source": [
    "train_inds, test_inds = train_test_split(X.index, train_size=settings['train_size'])"
   ]
  },
  {
   "cell_type": "markdown",
   "id": "54134ff7-40a9-4772-8559-092537cd3d20",
   "metadata": {},
   "source": [
    "# Model"
   ]
  },
  {
   "cell_type": "markdown",
   "id": "b131832b-6aa1-40bf-ab5d-9cd9304ce3ae",
   "metadata": {},
   "source": [
    "## Sensor Georeferencing"
   ]
  },
  {
   "cell_type": "code",
   "execution_count": null,
   "id": "97947051-63f7-4f0b-9263-ffc6869c3b1a",
   "metadata": {},
   "outputs": [],
   "source": [
    "model = reference.SensorGeoreferencer()"
   ]
  },
  {
   "cell_type": "code",
   "execution_count": null,
   "id": "06bbe681-f99b-45c4-b4c7-45a9e84e7f49",
   "metadata": {},
   "outputs": [],
   "source": [
    "model.fit(\n",
    "    X=X.loc[train_inds],\n",
    "    y=y.loc[train_inds, preprocess.GEOTRANSFORM_COLS],\n",
    ")"
   ]
  },
  {
   "cell_type": "code",
   "execution_count": null,
   "id": "f21e78c0-ddc3-4bd6-9065-ab07727dc77a",
   "metadata": {},
   "outputs": [],
   "source": [
    "y_pred = model.predict(X.loc[test_inds])"
   ]
  },
  {
   "cell_type": "markdown",
   "id": "1c1f4daa-8430-43d2-894c-5a4d6763a679",
   "metadata": {},
   "source": [
    "## Sensor Georeferencing, No Direct Estimate"
   ]
  },
  {
   "cell_type": "code",
   "execution_count": null,
   "id": "102fc5f8-5d1d-4a6a-a577-543627db2d7c",
   "metadata": {},
   "outputs": [],
   "source": [
    "model_nod = reference.SensorGeoreferencer(use_direct_estimate=False)"
   ]
  },
  {
   "cell_type": "code",
   "execution_count": null,
   "id": "88a0fec6-181d-44fa-ba0f-d31b7dc07fac",
   "metadata": {},
   "outputs": [],
   "source": [
    "model_nod.fit(\n",
    "    X=X.loc[train_inds],\n",
    "    y=y.loc[train_inds, preprocess.GEOTRANSFORM_COLS],\n",
    ")"
   ]
  },
  {
   "cell_type": "code",
   "execution_count": null,
   "id": "b32b25d7-b47d-40be-915b-e01b6940c3ee",
   "metadata": {},
   "outputs": [],
   "source": [
    "y_pred_nod = model_nod.predict(X.loc[test_inds])"
   ]
  },
  {
   "cell_type": "markdown",
   "id": "d5cd3cab-0ba9-4d8d-82b3-922c326acb7e",
   "metadata": {},
   "source": [
    "# Evaluate"
   ]
  },
  {
   "cell_type": "markdown",
   "id": "603079e3-2bcb-4876-8f15-fe5edd9e4d33",
   "metadata": {},
   "source": [
    "## Predictions"
   ]
  },
  {
   "cell_type": "code",
   "execution_count": null,
   "id": "98c07e09-0ee2-4301-863f-597c593d484f",
   "metadata": {},
   "outputs": [],
   "source": [
    "fig = plt.figure()\n",
    "ax = plt.gca()\n",
    "\n",
    "sns.scatterplot(\n",
    "    y_pred,\n",
    "    x = 'x_min',\n",
    "    y = 'y_max',\n",
    "    label='predicted',\n",
    "    ax=ax,\n",
    ")\n",
    "sns.scatterplot(\n",
    "    y.loc[test_inds],\n",
    "    x = 'x_min',\n",
    "    y = 'y_max',\n",
    "    label='actual',\n",
    "    ax=ax,\n",
    ")\n",
    "\n",
    "ax.set_aspect('equal')"
   ]
  },
  {
   "cell_type": "markdown",
   "id": "7f107d24-86c1-46f8-87f8-bce8bf0905da",
   "metadata": {},
   "source": [
    "## Error"
   ]
  },
  {
   "cell_type": "code",
   "execution_count": null,
   "id": "bf6873d0-fbfa-470b-80c7-e2e56f90f842",
   "metadata": {},
   "outputs": [],
   "source": [
    "diffs = y_pred[['x_min', 'y_max']] - y.loc[test_inds, ['x_min', 'y_max']]\n",
    "y_pred['offset'] = np.sqrt((diffs**2.).sum(axis=1))"
   ]
  },
  {
   "cell_type": "code",
   "execution_count": null,
   "id": "b06f24f1-8474-4b8b-8328-b8a21a6e3a43",
   "metadata": {},
   "outputs": [],
   "source": [
    "sns.histplot(\n",
    "    y_pred,\n",
    "    x='offset',\n",
    ")"
   ]
  },
  {
   "cell_type": "markdown",
   "id": "d26a7dcc-4342-49ec-8a75-239ad8e4a09b",
   "metadata": {},
   "source": [
    "## Error Estimate"
   ]
  },
  {
   "cell_type": "code",
   "execution_count": null,
   "id": "cb85d46a-effd-427a-8c72-7abdeebad796",
   "metadata": {},
   "outputs": [],
   "source": [
    "y_pred['offset_error'] = np.abs(y_pred['spatial_error'] - y_pred['offset'])"
   ]
  },
  {
   "cell_type": "code",
   "execution_count": null,
   "id": "6de1a2b7-e0af-43fa-8837-4d2f746a6a9c",
   "metadata": {},
   "outputs": [],
   "source": [
    "sns.swarmplot(\n",
    "    y_pred,\n",
    "    x='camera_num',\n",
    "    y='offset_error',\n",
    "    palette=palette,\n",
    ")"
   ]
  },
  {
   "cell_type": "markdown",
   "id": "50e2d16d-961e-4bb6-8922-b89ceb9099ea",
   "metadata": {},
   "source": [
    "## Error Estimate, No Direct Estimate"
   ]
  },
  {
   "cell_type": "code",
   "execution_count": null,
   "id": "ef31b348-a051-4397-a658-df071955c168",
   "metadata": {},
   "outputs": [],
   "source": [
    "diffs = y_pred_nod[['x_min', 'y_max']] - y.loc[test_inds, ['x_min', 'y_max']]\n",
    "y_pred_nod['offset'] = np.sqrt((diffs**2.).sum(axis=1))\n",
    "y_pred_nod['offset_error'] = np.abs(y_pred_nod['spatial_error'] - y_pred_nod['offset'])"
   ]
  },
  {
   "cell_type": "code",
   "execution_count": null,
   "id": "0ecdc5ec-a0d9-44f1-9e08-e7ab628bc747",
   "metadata": {},
   "outputs": [],
   "source": [
    "sns.swarmplot(\n",
    "    y_pred_nod,\n",
    "    x='camera_num',\n",
    "    y='offset_error',\n",
    "    palette=palette,\n",
    ")"
   ]
  },
  {
   "cell_type": "code",
   "execution_count": null,
   "id": "a43fea54-83f9-4b0a-92d3-6174fdcb0a2f",
   "metadata": {},
   "outputs": [],
   "source": []
  }
 ],
 "metadata": {
  "kernelspec": {
   "display_name": "Python 3 (ipykernel)",
   "language": "python",
   "name": "python3"
  },
  "language_info": {
   "codemirror_mode": {
    "name": "ipython",
    "version": 3
   },
   "file_extension": ".py",
   "mimetype": "text/x-python",
   "name": "python",
   "nbconvert_exporter": "python",
   "pygments_lexer": "ipython3",
   "version": "3.11.5"
  }
 },
 "nbformat": 4,
 "nbformat_minor": 5
}

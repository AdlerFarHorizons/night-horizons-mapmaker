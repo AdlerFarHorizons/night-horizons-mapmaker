{
 "cells": [
  {
   "cell_type": "markdown",
   "id": "7a998f1c-82e1-4acc-b16a-75de02325873",
   "metadata": {
    "jp-MarkdownHeadingCollapsed": true
   },
   "source": [
    "# Sequential Mosaic Testing\n",
    "\n",
    "This notebook provides a cross-section of the Less-Referenced Mosaic creation process.\n"
   ]
  },
  {
   "cell_type": "markdown",
   "id": "5e4ede8c-7fb2-4dcf-9193-928321716c33",
   "metadata": {},
   "source": [
    "# Setup\n"
   ]
  },
  {
   "cell_type": "markdown",
   "id": "af05e098-f19b-45b4-97cc-413ecf0fbdc4",
   "metadata": {},
   "source": [
    "## Imports\n"
   ]
  },
  {
   "cell_type": "code",
   "execution_count": null,
   "id": "25c75dcb-6592-4a10-a69a-7886c3cb75d0",
   "metadata": {},
   "outputs": [],
   "source": [
    "import copy\n",
    "import glob\n",
    "import inspect\n",
    "import os\n",
    "import shutil\n",
    "import sys\n",
    "import unittest"
   ]
  },
  {
   "cell_type": "code",
   "execution_count": null,
   "id": "313f249d-f0eb-45ea-8cdc-b8f0d46af6ea",
   "metadata": {},
   "outputs": [],
   "source": [
    "import cv2\n",
    "import numpy as np\n",
    "import pandas as pd\n",
    "from sklearn.model_selection import train_test_split\n",
    "from sklearn.pipeline import Pipeline\n",
    "from sklearn.utils import check_random_state\n",
    "import yaml"
   ]
  },
  {
   "cell_type": "code",
   "execution_count": null,
   "id": "876b1622-25b4-4384-b096-f6bd3367e21a",
   "metadata": {},
   "outputs": [],
   "source": [
    "import matplotlib\n",
    "import matplotlib.pyplot as plt\n",
    "import matplotlib.patches as patches\n",
    "import seaborn as sns\n",
    "sns.set_style('white')"
   ]
  },
  {
   "cell_type": "code",
   "execution_count": null,
   "id": "abb4353c",
   "metadata": {},
   "outputs": [],
   "source": [
    "from night_horizons import utils, raster\n",
    "from night_horizons.image_processing import mosaicking\n",
    "from night_horizons.mapmake import SequentialMosaicMaker"
   ]
  },
  {
   "cell_type": "markdown",
   "id": "a2d4a814-de45-4c11-975c-43a21ca7b171",
   "metadata": {},
   "source": [
    "## Settings\n"
   ]
  },
  {
   "cell_type": "code",
   "execution_count": null,
   "id": "8bfffacf-be23-45a5-91fb-5c1d69b8dbd0",
   "metadata": {},
   "outputs": [],
   "source": [
    "local_options = {\n",
    "    # General settings\n",
    "    'random_state': 1682142,\n",
    "    'show_images': False,\n",
    "\n",
    "    # Evaluation settings\n",
    "    'use_raw_images': False,\n",
    "    'train_size': {\n",
    "        0: 0,\n",
    "        1: 1,\n",
    "        2: 0,\n",
    "    },\n",
    "    'n_loops': 6,\n",
    "    # The fraction of non-nan georeferencings required to claim success.\n",
    "    # We only require a bare minimum here. Performance beyond approximate\n",
    "    # functionality should be evaluated elsewhere\n",
    "    'acceptance_fraction': 0.8,\n",
    "\n",
    "    ###########################################################################\n",
    "    # Below are arguments for specific services defined in the container\n",
    "    'io_manager': {\n",
    "        'output_dir': 'mosaics/sequential',\n",
    "        'file_exists': 'overwrite',\n",
    "        'checkpoint_freq': 4,\n",
    "    },\n",
    "\n",
    "    'geotiff_preprocessor': {\n",
    "        'padding_fraction': 0.3,\n",
    "    },\n",
    "\n",
    "    'preprocessor': {\n",
    "        'steps': [\n",
    "            'metadata_preprocessor',\n",
    "            'altitude_filter',\n",
    "            'steady_filter',\n",
    "            # 'metadata_image_registrar',\n",
    "            'geotiff_preprocessor',\n",
    "            'order',\n",
    "        ],\n",
    "    },\n",
    "\n",
    "    'processor': {\n",
    "        'save_return_codes': ['success'],\n",
    "    },\n",
    "\n",
    "    'mosaicker': {\n",
    "        'memory_snapshot_freq': 1,\n",
    "    },\n",
    "\n",
    "    'image_scorer': {\n",
    "        'acceptance_threshold': 0.95,\n",
    "    },\n",
    "}"
   ]
  },
  {
   "cell_type": "code",
   "execution_count": null,
   "id": "a253e411",
   "metadata": {},
   "outputs": [],
   "source": [
    "# Because thiks is a test notebook, we log way more than usual.\n",
    "comprehensive_log_keys = [\n",
    "    'i',\n",
    "    'ind',\n",
    "    'x_off',\n",
    "    'y_off',\n",
    "    'x_size',\n",
    "    'y_size',\n",
    "    'dst_img',\n",
    "    'dst_pts',\n",
    "    'src_pts',\n",
    "    'snapshot',\n",
    "    'abs_det_M',\n",
    "    'mask',\n",
    "]\n",
    "for obj_key in ['image_operator', 'processor', 'mosaicker']:\n",
    "    local_options.setdefault(obj_key, {})['log_keys'] = comprehensive_log_keys"
   ]
  },
  {
   "cell_type": "code",
   "execution_count": null,
   "id": "76f87b62",
   "metadata": {},
   "outputs": [],
   "source": [
    "# This is a pre-built factory to make the objects needed for mosaicking,\n",
    "# updated to use the config.\n",
    "mosaic_maker = SequentialMosaicMaker(\n",
    "    config_filepath='./config.yml',\n",
    "    local_options=local_options,\n",
    ")"
   ]
  },
  {
   "cell_type": "code",
   "execution_count": null,
   "id": "bf28598b",
   "metadata": {},
   "outputs": [],
   "source": [
    "# For ease of access\n",
    "settings = mosaic_maker.container.config"
   ]
  },
  {
   "cell_type": "code",
   "execution_count": null,
   "id": "14c22696",
   "metadata": {},
   "outputs": [],
   "source": [
    "palette = sns.color_palette(settings['color_palette'])\n"
   ]
  },
  {
   "cell_type": "markdown",
   "id": "a5298c5a-a5d4-46be-93ce-fcbe2f1e6e71",
   "metadata": {},
   "source": [
    "## Parse Settings\n"
   ]
  },
  {
   "cell_type": "code",
   "execution_count": null,
   "id": "d5c1c2fb",
   "metadata": {},
   "outputs": [],
   "source": [
    "io_manager = mosaic_maker.container.get_service('io_manager')"
   ]
  },
  {
   "cell_type": "code",
   "execution_count": null,
   "id": "3720ebe4",
   "metadata": {},
   "outputs": [],
   "source": [
    "# Remove any existing files\n",
    "test_filenames = {\n",
    "    'mosaic': 'mosaic.tiff',\n",
    "    'y_pred': 'y_pred.csv',\n",
    "    'settings': 'settings.yaml', \n",
    "    'log': 'log.csv',\n",
    "    'checkpoint': os.path.join(\n",
    "        'checkpoints',\n",
    "        f\"mosaic_i{io_manager.checkpoint_freq:06d}.tiff\"\n",
    "    ),\n",
    "    'initial_checkpoint': 'mosaic_fit.tiff',\n",
    "    'reffed_settings': 'settings_train.yaml',\n",
    "    'progress_img': 'progress_images/000000_src.tiff',\n",
    "}\n",
    "check_fps = {\n",
    "    key: os.path.join(io_manager.output_dir, value)\n",
    "    for key, value in test_filenames.items()\n",
    "}\n",
    "def clear_files():\n",
    "    if os.path.exists(io_manager.output_dir):\n",
    "        shutil.rmtree(io_manager.output_dir)"
   ]
  },
  {
   "cell_type": "markdown",
   "id": "17fbb0d9-fbba-423e-895a-84996baf78cd",
   "metadata": {},
   "source": [
    "# Prepare Data\n",
    "\n",
    "The first part is to prepare the data (AKA extract/transform/load).\n"
   ]
  },
  {
   "cell_type": "markdown",
   "id": "8b4037a6-269d-4f48-af96-1be12d8a431c",
   "metadata": {},
   "source": [
    "## Train-Test Split\n",
    "\n",
    "We split the data into training data (data that is georeferenced) and test data (data that is not georeferenced, or for which we don't use the georeferencing information when we're building the models).\n",
    "\n",
    "We set the train size to some small number, because ideally the user only needs to georeference a couple of images manually.\n"
   ]
  },
  {
   "cell_type": "code",
   "execution_count": null,
   "id": "dc77cb27",
   "metadata": {},
   "outputs": [],
   "source": [
    "fps_train, fps_test, fps = io_manager.train_test_production_split(\n",
    "    train_size=settings['train_size'],\n",
    "    random_state=settings['random_state'],\n",
    "    use_raw_images=settings['use_raw_images'],\n",
    ")"
   ]
  },
  {
   "cell_type": "code",
   "execution_count": null,
   "id": "98d4d437-6c81-4614-bd50-ccedbdd4a4cd",
   "metadata": {},
   "outputs": [],
   "source": [
    "# Expected number of training files\n",
    "assert (\n",
    "    len(pd.unique(fps_train.index)) == \n",
    "    np.sum(list(settings['train_size'].values()))\n",
    ")\n",
    "# Consistent indices for test set\n",
    "assert len(pd.unique(fps_test.index)) == len(fps_test.index)"
   ]
  },
  {
   "cell_type": "markdown",
   "id": "e0d02fdd-61f6-4c96-b389-3ab0a0dad71e",
   "metadata": {},
   "source": [
    "## Preprocessing\n"
   ]
  },
  {
   "cell_type": "markdown",
   "id": "b79a600a-d441-4f06-b07e-f2e3c0da5808",
   "metadata": {},
   "source": [
    "### y values\n",
    "\n",
    "We get the y-values first because we use a model fitted to them to get the X values\n"
   ]
  },
  {
   "cell_type": "code",
   "execution_count": null,
   "id": "7b1cb20e-87fc-47c3-b7b4-5fd8a898f3d2",
   "metadata": {},
   "outputs": [],
   "source": [
    "preprocessor_y = mosaic_maker.container.get_service('preprocessor_y')"
   ]
  },
  {
   "cell_type": "code",
   "execution_count": null,
   "id": "a407f336-0cf1-46d0-81be-5b8dca5e0152",
   "metadata": {},
   "outputs": [],
   "source": [
    "# Get the geo-transforms used for training\n",
    "y_train = preprocessor_y.fit_transform(fps_train)\n",
    "y_test = preprocessor_y.fit_transform(fps_test)"
   ]
  },
  {
   "cell_type": "markdown",
   "id": "5c10f5a8-1e38-4d88-96d5-1725f08797fa",
   "metadata": {},
   "source": [
    "### X values\n",
    "\n",
    "We use the sensor (high-altitude balloon) positions to provide approximate georeferencing, which will be useful for saving computational time when building the unreferenced mosaic.\n"
   ]
  },
  {
   "cell_type": "code",
   "execution_count": null,
   "id": "318f77a6",
   "metadata": {},
   "outputs": [],
   "source": [
    "preprocessor = mosaic_maker.container.get_service('preprocessor')"
   ]
  },
  {
   "cell_type": "code",
   "execution_count": null,
   "id": "cb331bb1-8883-4163-8351-7105b86e5db9",
   "metadata": {},
   "outputs": [],
   "source": [
    "# Fit the pipeline\n",
    "preprocessor = preprocessor.fit(\n",
    "    X=fps_train,\n",
    "    y=y_train,\n",
    "    metadata_preprocessor__img_log_fp=io_manager.input_filepaths['img_log'],\n",
    "    metadata_preprocessor__imu_log_fp=io_manager.input_filepaths['imu_log'],\n",
    "    metadata_preprocessor__gps_log_fp=io_manager.input_filepaths['gps_log'],\n",
    ")"
   ]
  },
  {
   "cell_type": "code",
   "execution_count": null,
   "id": "ddab08a1-6129-4330-9a31-1b55f1be9090",
   "metadata": {},
   "outputs": [],
   "source": [
    "# TODO: This isn't showing a progress bar right now\n",
    "# Get out the X values we'll use for the mosaic\n",
    "X_train = preprocessor.transform(fps_train)\n",
    "X = preprocessor.transform(fps)"
   ]
  },
  {
   "cell_type": "code",
   "execution_count": null,
   "id": "32955ac7-67c6-424f-80f0-cd546bc213a2",
   "metadata": {},
   "outputs": [],
   "source": [
    "# Check the camera numbers\n",
    "for camera_num in range(3):\n",
    "    n_camera = (X_train['camera_num'] == camera_num).sum()\n",
    "    assert n_camera == settings['train_size'][camera_num], \\\n",
    "        'Camera numbers are not as expected'"
   ]
  },
  {
   "cell_type": "code",
   "execution_count": null,
   "id": "2ad21bc4-39fa-4cb9-a48d-0d4c7652152f",
   "metadata": {},
   "outputs": [],
   "source": [
    "# Check the order\n",
    "np.testing.assert_allclose(X['order'], np.arange(len(X)))\n",
    "assert X.loc[X['camera_num'] == 1, 'order'].max() < X.loc[X['camera_num'] == 0, 'order'].min(), 'Some camera 1 images come before camera 0 images.'\n",
    "assert (np.diff(X.loc[X['camera_num'] == 1, 'd_to_center']) < 0).sum() == 0, 'Some smaller distances appear out of order.'"
   ]
  },
  {
   "cell_type": "markdown",
   "id": "230c6bda-a437-4e50-84a4-48fc53a7eb67",
   "metadata": {},
   "source": [
    "### Check consistency\n"
   ]
  },
  {
   "cell_type": "code",
   "execution_count": null,
   "id": "ffd31a56-46bf-433c-98e7-0dfebad9513e",
   "metadata": {},
   "outputs": [],
   "source": [
    "# We don't want to drop more than a few files when we're working\n",
    "# with the referenced dataset\n",
    "if not settings['use_raw_images']:\n",
    "    assert y_test.index.size - X.index.size < 3, 'Too many files dropped.'"
   ]
  },
  {
   "cell_type": "code",
   "execution_count": null,
   "id": "14064a89-5973-4dcf-859f-6e36d1e621a3",
   "metadata": {},
   "outputs": [],
   "source": [
    "# Drop the y values and filepaths that were filtered out\n",
    "fps = fps.loc[X.index]\n",
    "X_test = X.loc[X.index.isin(y_test.index)]\n",
    "y_test = y_test.loc[X_test.index]"
   ]
  },
  {
   "cell_type": "code",
   "execution_count": null,
   "id": "067d765b-280f-4e9d-8145-ee397fcb84a0",
   "metadata": {},
   "outputs": [],
   "source": [
    "# Check that our test Xs and ys align\n",
    "n_bad = (y_test['filepath'] != X_test['filepath']).sum()\n",
    "assert n_bad == 0, f'{n_bad} wrong filepaths'"
   ]
  },
  {
   "cell_type": "markdown",
   "id": "9b63dda6-6821-4302-9e7b-05ff9bc5ee83",
   "metadata": {},
   "source": [
    "### Look at Order\n"
   ]
  },
  {
   "cell_type": "code",
   "execution_count": null,
   "id": "b9f0eb35-ecdc-47ab-afb2-57f56010abdd",
   "metadata": {},
   "outputs": [],
   "source": [
    "# Let's take a look.\n",
    "if settings['show_images']:\n",
    "    sp = sns.scatterplot(\n",
    "        data=X,\n",
    "        x='x_center',\n",
    "        y='y_center',\n",
    "        hue='camera_num',\n",
    "    )\n",
    "    sp.set_aspect('equal')"
   ]
  },
  {
   "cell_type": "markdown",
   "id": "071155d1-07ca-4e9a-83f3-7c6506d06e88",
   "metadata": {},
   "source": [
    "# Step-by-Step Mosaicking\n"
   ]
  },
  {
   "cell_type": "markdown",
   "id": "bf13bb96-1286-4cb7-8789-e0681c6d1b29",
   "metadata": {},
   "source": [
    "### Initialization\n"
   ]
  },
  {
   "cell_type": "markdown",
   "id": "d7321abc-b164-4cf6-9c1d-ec9ab0ea8b46",
   "metadata": {},
   "source": [
    "#### Test\n",
    "\n",
    "Check that initialization works, first with a mosaic that only uses the training data.\n"
   ]
  },
  {
   "cell_type": "code",
   "execution_count": null,
   "id": "212e6cd9",
   "metadata": {},
   "outputs": [],
   "source": [
    "clear_files()"
   ]
  },
  {
   "cell_type": "code",
   "execution_count": null,
   "id": "04f80078",
   "metadata": {},
   "outputs": [],
   "source": [
    "# Add enough padding to be visible\n",
    "y_fitcheck = y_train.copy()\n",
    "y_fitcheck['padding'] = 0.5 * (y_train['x_max'] - y_train['x_min'])"
   ]
  },
  {
   "cell_type": "code",
   "execution_count": null,
   "id": "a8425ba3",
   "metadata": {},
   "outputs": [],
   "source": [
    "small_mosaicker = mosaic_maker.container.get_service('mosaicker')"
   ]
  },
  {
   "cell_type": "code",
   "execution_count": null,
   "id": "c94fdbde-8b57-4974-9a98-55ecd2292109",
   "metadata": {},
   "outputs": [],
   "source": [
    "small_mosaicker.fit(\n",
    "    X=y_fitcheck,\n",
    "    approx_y=y_fitcheck,\n",
    ")"
   ]
  },
  {
   "cell_type": "code",
   "execution_count": null,
   "id": "f702865e-729c-469d-a6bb-c82477690bc5",
   "metadata": {},
   "outputs": [],
   "source": [
    "# The full mosaic image that's saved\n",
    "dataset = small_mosaicker.io_manager.open_dataset()\n",
    "mosaic_img = dataset.ReadAsArray().transpose(1, 2, 0)\n",
    "mosaic_image = raster.ReferencedImage(\n",
    "    mosaic_img[:, :, :3],\n",
    "    [small_mosaicker.transformer.x_min_, small_mosaicker.transformer.x_max_],\n",
    "    [small_mosaicker.transformer.y_min_, small_mosaicker.transformer.y_max_]\n",
    ")"
   ]
  },
  {
   "cell_type": "code",
   "execution_count": null,
   "id": "7f7be67a",
   "metadata": {},
   "outputs": [],
   "source": [
    "# Check that there is empty space on the edges,\n",
    "# as expected if padding is working right\n",
    "summed_mosaic_img = mosaic_img[:,:,:3].sum(axis=2)\n",
    "expected_empty_px = int(np.abs(np.round(\n",
    "    y_fitcheck['padding'].max()\n",
    "    / small_mosaicker.transformer.pixel_width_\n",
    ")))\n",
    "assert summed_mosaic_img[:, :expected_empty_px].sum() == 0\n",
    "assert summed_mosaic_img[:, -expected_empty_px:].sum() == 0\n",
    "expected_empty_py = int(np.abs(np.round(\n",
    "    y_fitcheck['padding'].max()\n",
    "    / small_mosaicker.transformer.pixel_height_\n",
    ")))\n",
    "assert summed_mosaic_img[:expected_empty_py].sum() == 0\n",
    "assert summed_mosaic_img[-expected_empty_py:].sum() == 0"
   ]
  },
  {
   "cell_type": "code",
   "execution_count": null,
   "id": "7a10d9ff-c277-426c-8b48-2c56e4158f36",
   "metadata": {},
   "outputs": [],
   "source": [
    "# The actual image used to make the mosaic\n",
    "original_image = raster.ReferencedImage.open(y_train.iloc[0]['filepath'])"
   ]
  },
  {
   "cell_type": "code",
   "execution_count": null,
   "id": "0c7325a4-d0b5-4515-9ae9-1e70c315af9c",
   "metadata": {},
   "outputs": [],
   "source": [
    "if settings['show_images']:\n",
    "    subplot_mosaic = [['original', 'mosaic']]\n",
    "    fig = plt.figure(figsize=(20,10))\n",
    "    ax_dict = fig.subplot_mosaic(subplot_mosaic)\n",
    "\n",
    "    original_image.show(\n",
    "        crs='cartesian',\n",
    "        img='semitransparent_img',\n",
    "        ax=ax_dict['original'],\n",
    "    )\n",
    "\n",
    "    mosaic_image.show(\n",
    "        crs='cartesian',\n",
    "        img='semitransparent_img',\n",
    "        ax=ax_dict['mosaic'],\n",
    "    )\n",
    "\n",
    "    for ax_key, ax in ax_dict.items():\n",
    "        ax.set_title(ax_key)"
   ]
  },
  {
   "cell_type": "code",
   "execution_count": null,
   "id": "e2cdec05",
   "metadata": {},
   "outputs": [],
   "source": [
    "if settings['show_images']:\n",
    "    fig = plt.figure(figsize=(10,10))\n",
    "    ax = plt.gca()\n",
    "\n",
    "    original_image.plot_bounds(ax, set_limits=True, label='original')\n",
    "    mosaic_image.plot_bounds(\n",
    "        ax, set_limits=True, edgecolor=palette[0], label='mosaic')\n",
    "    \n",
    "    ax.legend()"
   ]
  },
  {
   "cell_type": "code",
   "execution_count": null,
   "id": "0b97be03-0ed7-419b-afd5-16e28c10864f",
   "metadata": {},
   "outputs": [],
   "source": [
    "# Check the centers\n",
    "mosaic_center = np.array(mosaic_image.cart_bounds).mean(axis=1)\n",
    "original_center = np.array(original_image.cart_bounds).mean(axis=1)\n",
    "d_between_centers = np.linalg.norm(mosaic_center - original_center)\n",
    "np.testing.assert_allclose(d_between_centers, 0.)"
   ]
  },
  {
   "cell_type": "code",
   "execution_count": null,
   "id": "9cb140e0-533e-49be-8b6b-4a178b8463f9",
   "metadata": {
    "scrolled": true
   },
   "outputs": [],
   "source": [
    "# Check the widths\n",
    "mosaic_width, mosaic_height = np.diff(mosaic_image.cart_bounds, axis=1).flatten()\n",
    "original_width, original_height = np.diff(original_image.cart_bounds, axis=1).flatten()\n",
    "np.testing.assert_allclose(mosaic_width, original_width + 2. * y_fitcheck['padding'])\n",
    "np.testing.assert_allclose(mosaic_height, original_height + 2. * y_fitcheck['padding'])"
   ]
  },
  {
   "cell_type": "code",
   "execution_count": null,
   "id": "723df725",
   "metadata": {},
   "outputs": [],
   "source": [
    "# Delete the temporary initialization\n",
    "dataset.FlushCache()\n",
    "dataset = None"
   ]
  },
  {
   "cell_type": "code",
   "execution_count": null,
   "id": "962444fe",
   "metadata": {},
   "outputs": [],
   "source": [
    "clear_files()"
   ]
  },
  {
   "cell_type": "markdown",
   "id": "f9c287ae-e3b1-487c-a0fd-31027d6f587e",
   "metadata": {},
   "source": [
    "#### Actual full initialization and fit\n"
   ]
  },
  {
   "cell_type": "code",
   "execution_count": null,
   "id": "9427438d-171e-41a5-a402-77e65831788c",
   "metadata": {},
   "outputs": [],
   "source": [
    "mosaicker = mosaic_maker.container.get_service('mosaicker')"
   ]
  },
  {
   "cell_type": "code",
   "execution_count": null,
   "id": "a5b3b750-1c67-4dea-ba3b-78028b817501",
   "metadata": {},
   "outputs": [],
   "source": [
    "# This creates the dataset and adds the referenced mosaic.\n",
    "mosaicker.fit(\n",
    "    X=y_train,\n",
    "    approx_y=X,\n",
    ")"
   ]
  },
  {
   "cell_type": "code",
   "execution_count": null,
   "id": "1e0997e2",
   "metadata": {},
   "outputs": [],
   "source": [
    "# Check consistent values between the referenced and less-referenced mosaics.\n",
    "for key in ['x_min_', 'x_max_', 'y_min_', 'y_max_', 'x_size_', 'y_size_' ]:\n",
    "    assert np.isclose(\n",
    "        getattr(mosaicker.transformer, key),\n",
    "        getattr(mosaicker.mosaicker_train.transformer, key),\n",
    "    )"
   ]
  },
  {
   "cell_type": "code",
   "execution_count": null,
   "id": "7540e4e0",
   "metadata": {},
   "outputs": [],
   "source": [
    "# Check the mosiacker bounds are as expected\n",
    "padding = X['padding'].max()\n",
    "assert padding > 0.\n",
    "for axis in ['x', 'y']:\n",
    "    np.testing.assert_allclose(\n",
    "        X[f'{axis}_min'].min() - padding,\n",
    "        getattr(mosaicker.transformer, f'{axis}_min_'),\n",
    "    )\n",
    "    np.testing.assert_allclose(\n",
    "        X[f'{axis}_max'].max() + padding,\n",
    "        getattr(mosaicker.transformer, f'{axis}_max_'),\n",
    "    )"
   ]
  },
  {
   "cell_type": "code",
   "execution_count": null,
   "id": "3fc3365e",
   "metadata": {},
   "outputs": [],
   "source": [
    "assert mosaicker.i_start_ == 0, \\\n",
    "    f'Not starting fresh: i_start = {mosaicker.i_start_}'"
   ]
  },
  {
   "cell_type": "markdown",
   "id": "c2417009",
   "metadata": {},
   "source": [
    "#### Validate settings saving\n"
   ]
  },
  {
   "cell_type": "code",
   "execution_count": null,
   "id": "13dd134c",
   "metadata": {},
   "outputs": [],
   "source": [
    "# Open the file\n",
    "settings_fp = mosaicker.io_manager.output_filepaths['settings']\n",
    "with open(settings_fp, 'r', encoding='UTF-8') as file:\n",
    "    saved_settings = yaml.load(file, Loader=yaml.BaseLoader)"
   ]
  },
  {
   "cell_type": "code",
   "execution_count": null,
   "id": "bf8011a0",
   "metadata": {},
   "outputs": [],
   "source": [
    "# Check that all the values exist\n",
    "fullargspec = inspect.getfullargspec(mosaicking.SequentialMosaicker.__init__)\n",
    "expected_args = fullargspec.args\n",
    "for key in expected_args:\n",
    "    if (key == 'self'):\n",
    "        continue\n",
    "    assert key in saved_settings, f'attr {key} not found in settings'"
   ]
  },
  {
   "cell_type": "markdown",
   "id": "f0a8af12-6d12-42d7-9877-5bafcd2bbbae",
   "metadata": {},
   "source": [
    "## In-Mosaicker Preprocessing\n",
    "\n",
    "The coordinate conversions to pixel frame are necessarily part of the Mosaicker\n",
    "preprocessing.\n"
   ]
  },
  {
   "cell_type": "code",
   "execution_count": null,
   "id": "9fdf64aa",
   "metadata": {},
   "outputs": [],
   "source": [
    "# Start by making a copy of X, which we'll work with throughout\n",
    "X_t = X.copy()"
   ]
  },
  {
   "cell_type": "markdown",
   "id": "1ad0b539",
   "metadata": {},
   "source": [
    "### Check No-Pad Coordinate Conversion\n"
   ]
  },
  {
   "cell_type": "code",
   "execution_count": null,
   "id": "73add51a",
   "metadata": {},
   "outputs": [],
   "source": [
    "tfer = mosaicker.transformer"
   ]
  },
  {
   "cell_type": "code",
   "execution_count": null,
   "id": "bc0e17e9",
   "metadata": {},
   "outputs": [],
   "source": [
    "X_t_nopad = tfer.transform_to_pixel(X_t)"
   ]
  },
  {
   "cell_type": "code",
   "execution_count": null,
   "id": "37b2fd56",
   "metadata": {},
   "outputs": [],
   "source": [
    "# Ensure that the conversion back and forth is self-consistent\n",
    "physical_recovered = np.array(tfer.pixel_to_physical(\n",
    "    X_t_nopad['x_off'], X_t_nopad['y_off'],\n",
    "    X_t_nopad['x_size'], X_t_nopad['y_size']\n",
    "))\n",
    "np.testing.assert_allclose(\n",
    "    X_t[['x_min', 'x_max', 'y_min', 'y_max']].values.transpose(),\n",
    "    physical_recovered,\n",
    "    rtol=1e-6,\n",
    ")"
   ]
  },
  {
   "cell_type": "markdown",
   "id": "fc0c7d5f",
   "metadata": {},
   "source": [
    "### Check Simplified Conversions\n"
   ]
  },
  {
   "cell_type": "code",
   "execution_count": null,
   "id": "062a08ba",
   "metadata": {},
   "outputs": [],
   "source": [
    "# Case where we should be getting the full dimensions plus some padding\n",
    "padding_px = 100\n",
    "padding = tfer.pixel_width_ * padding_px\n",
    "actual = tfer.physical_to_pixel(\n",
    "    tfer.x_min_ - padding, tfer.x_max_ + padding,\n",
    "    tfer.y_min_ - padding, tfer.y_max_ + padding,\n",
    ")\n",
    "padding_py = int(np.abs(np.round(padding_px * (\n",
    "    tfer.pixel_width_ / tfer.pixel_height_\n",
    "))))\n",
    "expected = np.array([\n",
    "    -padding_px, -padding_py,\n",
    "    tfer.x_size_ + 2 * padding_px,\n",
    "    tfer.y_size_ + 2 * padding_py,\n",
    "])\n",
    "np.testing.assert_allclose(expected, actual)"
   ]
  },
  {
   "cell_type": "markdown",
   "id": "b0fbff92",
   "metadata": {},
   "source": [
    "### Actual Conversion and Check\n"
   ]
  },
  {
   "cell_type": "code",
   "execution_count": null,
   "id": "e3b070f5",
   "metadata": {},
   "outputs": [],
   "source": [
    "y_train = tfer.transform_to_pixel(y_train)"
   ]
  },
  {
   "cell_type": "code",
   "execution_count": null,
   "id": "182c6c45-6a23-4d51-b8d9-54abeb42e5ed",
   "metadata": {},
   "outputs": [],
   "source": [
    "# Convert units\n",
    "X_t = mosaicker.get_search_zone(X_t)\n",
    "X_t = tfer.transform_to_pixel(X_t)"
   ]
  },
  {
   "cell_type": "code",
   "execution_count": null,
   "id": "6bc944d3",
   "metadata": {},
   "outputs": [],
   "source": [
    "# Ensure that the conversion back and forth is self-consistent\n",
    "physical_recovered = tfer.transform_to_physical(X_t).copy()\n",
    "physical_recovered['padding'] *= -1\n",
    "physical_recovered = mosaicker.get_search_zone(physical_recovered)\n",
    "np.testing.assert_allclose(\n",
    "    X[['x_min', 'x_max', 'y_min', 'y_max']].values,\n",
    "    physical_recovered[['x_min', 'x_max', 'y_min', 'y_max']].values,\n",
    "    rtol=1e-6,\n",
    ")"
   ]
  },
  {
   "cell_type": "code",
   "execution_count": null,
   "id": "ea4dc653",
   "metadata": {},
   "outputs": [],
   "source": [
    "# Trimming also happens. However, this shouldn't actually do anything\n",
    "# if we made our mosaic large enough, so we check that.\n",
    "trimmed = tfer.handle_out_of_bounds(\n",
    "    X_t['x_off'], X_t['y_off'],\n",
    "    X_t['x_size'], X_t['y_size']\n",
    ")\n",
    "np.testing.assert_allclose(\n",
    "    X_t[['x_off', 'y_off', 'x_size', 'y_size']].values.transpose(),\n",
    "    trimmed,\n",
    ")"
   ]
  },
  {
   "cell_type": "markdown",
   "id": "04c8faea-db3e-4bbf-a58f-a9de615598f1",
   "metadata": {},
   "source": [
    "## First Image\n",
    "\n",
    "We'll test the first loop in greater detail than the others.\n"
   ]
  },
  {
   "cell_type": "code",
   "execution_count": null,
   "id": "ac71b3a1-0b40-43ba-a96d-b8e1005579f0",
   "metadata": {},
   "outputs": [],
   "source": [
    "i = 0\n",
    "row = X_t.iloc[i]\n",
    "dataset = mosaicker.io_manager.open_dataset()"
   ]
  },
  {
   "cell_type": "code",
   "execution_count": null,
   "id": "95d91a9d-e4c4-4313-8c6d-96615f940b3b",
   "metadata": {},
   "outputs": [],
   "source": [
    "mosaic_img = dataset.ReadAsArray().transpose(1, 2, 0)"
   ]
  },
  {
   "cell_type": "code",
   "execution_count": null,
   "id": "5e0cc717-4e10-4d8d-8e6b-2150ea0d8b3e",
   "metadata": {},
   "outputs": [],
   "source": [
    "image_operator = mosaicker.processor.image_operator"
   ]
  },
  {
   "cell_type": "markdown",
   "id": "6347222c-f560-4d1e-baea-d6b45f0f3157",
   "metadata": {},
   "source": [
    "### Search Region in the Context of the Full Mosaic\n"
   ]
  },
  {
   "cell_type": "code",
   "execution_count": null,
   "id": "4a8dbf46-b78c-4f55-bd28-e223611715eb",
   "metadata": {},
   "outputs": [],
   "source": [
    "# Expected bounds\n",
    "x_off = row['x_off']\n",
    "y_off = row['y_off']\n",
    "x_size = row['x_size']\n",
    "y_size = row['y_size']"
   ]
  },
  {
   "cell_type": "code",
   "execution_count": null,
   "id": "c4d9a11f-7a7e-47cb-b642-517eb24c962c",
   "metadata": {},
   "outputs": [],
   "source": [
    "row_nopad = X.copy().iloc[i]\n",
    "(\n",
    "    x_off_nopad, y_off_nopad,\n",
    "    x_size_nopad, y_size_nopad,\n",
    ") = tfer.physical_to_pixel(\n",
    "    row_nopad['x_min'], row_nopad['x_max'],\n",
    "    row_nopad['y_min'], row_nopad['y_max'],\n",
    ")"
   ]
  },
  {
   "cell_type": "code",
   "execution_count": null,
   "id": "7fb53ec7",
   "metadata": {},
   "outputs": [],
   "source": [
    "# Ensure that the with-padding and without-padding versions are not the same\n",
    "assert not np.array_equal(\n",
    "    np.array([\n",
    "        x_off, y_off,\n",
    "        x_size, y_size,\n",
    "    ]),\n",
    "    np.array([\n",
    "        x_off_nopad, y_off_nopad,\n",
    "        x_size_nopad, y_size_nopad,\n",
    "    ]),\n",
    ")"
   ]
  },
  {
   "cell_type": "code",
   "execution_count": null,
   "id": "a1755780",
   "metadata": {},
   "outputs": [],
   "source": [
    "# Check that the conversion back and forth is self-consistent\n",
    "physical_nopad = tfer.pixel_to_physical(\n",
    "    x_off_nopad, y_off_nopad,\n",
    "    x_size_nopad, y_size_nopad,\n",
    ")\n",
    "np.testing.assert_allclose(\n",
    "    row_nopad[['x_min', 'x_max', 'y_min', 'y_max']].values.astype(float),\n",
    "    np.array(physical_nopad),\n",
    "    rtol=1e-6,\n",
    ")"
   ]
  },
  {
   "cell_type": "code",
   "execution_count": null,
   "id": "f300c306-7ffc-4816-825a-9dbedfb64671",
   "metadata": {},
   "outputs": [],
   "source": [
    "if settings['show_images']:\n",
    "    fig = plt.figure(figsize=(20,10))\n",
    "    ax = plt.gca()\n",
    "\n",
    "    # Current mosaic\n",
    "    ax.imshow(mosaic_img)\n",
    "\n",
    "    # The first image location\n",
    "    rect = patches.Rectangle(\n",
    "        (x_off, y_off),\n",
    "        x_size,\n",
    "        y_size,\n",
    "        linewidth = 3,\n",
    "        facecolor = 'none',\n",
    "        edgecolor = palette[0],\n",
    "        label='with padding',\n",
    "    )\n",
    "    ax.add_patch(rect)\n",
    "\n",
    "    # The non-padded first image location\n",
    "    rect = patches.Rectangle(\n",
    "        (x_off_nopad, y_off_nopad),\n",
    "        x_size_nopad,\n",
    "        y_size_nopad,\n",
    "        linewidth = 3,\n",
    "        facecolor = 'none',\n",
    "        edgecolor = palette[1],\n",
    "        label='no padding',\n",
    "    )\n",
    "    ax.add_patch(rect)\n",
    "\n",
    "    ax.set_aspect('equal')\n",
    "\n",
    "    ax.legend()"
   ]
  },
  {
   "cell_type": "markdown",
   "id": "ca2701b6-7813-40e7-bd3f-cf7b8ef4d5be",
   "metadata": {},
   "source": [
    "### Search Region Image\n"
   ]
  },
  {
   "cell_type": "code",
   "execution_count": null,
   "id": "7915ac8d-305f-4e53-896e-8e959aa132ed",
   "metadata": {},
   "outputs": [],
   "source": [
    "# The existing mosaic at this location\n",
    "dst_img = mosaicker.processor.get_image_from_dataset(\n",
    "    dataset, x_off, y_off, x_size, y_size)"
   ]
  },
  {
   "cell_type": "markdown",
   "id": "3cf2117b-02f7-41bd-b626-db43314674e8",
   "metadata": {},
   "source": [
    "This is plotted below with matched features.\n"
   ]
  },
  {
   "cell_type": "code",
   "execution_count": null,
   "id": "95c18e9a-7384-461a-a90c-3f6947ead37e",
   "metadata": {},
   "outputs": [],
   "source": [
    "# At this time we expect all data added to the mosaic to be within the bounds\n",
    "# of the search region, if we're using approximate georeferencing\n",
    "use_approximate_georeferencing = (\n",
    "    'metadata_image_registrar' in preprocessor.named_steps\n",
    ")\n",
    "if use_approximate_georeferencing:\n",
    "    assert dst_img.sum() == mosaic_img.sum()"
   ]
  },
  {
   "cell_type": "code",
   "execution_count": null,
   "id": "76c4743a-5bd3-483a-9090-26e85fff056e",
   "metadata": {},
   "outputs": [],
   "source": [
    "# Here's a zoomed in version, so we know what we're looking at\n",
    "row_train = y_train.iloc[0]\n",
    "training_img = mosaicker.processor.get_image_from_dataset(\n",
    "    dataset,\n",
    "    row_train['x_off'], row_train['y_off'],\n",
    "    row_train['x_size'], row_train['y_size']\n",
    ")\n",
    "if settings['show_images']:\n",
    "    plt.imshow(training_img)"
   ]
  },
  {
   "cell_type": "code",
   "execution_count": null,
   "id": "1cec8341",
   "metadata": {},
   "outputs": [],
   "source": [
    "if settings['show_images']:\n",
    "    plt.imshow(dst_img)"
   ]
  },
  {
   "cell_type": "code",
   "execution_count": null,
   "id": "16acea2b",
   "metadata": {},
   "outputs": [],
   "source": [
    "assert training_img.sum() == dst_img.sum(), (\n",
    "    'Search region (dst_img) should encompass the training image'\n",
    ")"
   ]
  },
  {
   "cell_type": "markdown",
   "id": "69b4339a-3833-4b76-bcbb-344dcb1cab11",
   "metadata": {},
   "source": [
    "### Search Region KeyPoints\n",
    "\n",
    "We get these for later.\n"
   ]
  },
  {
   "cell_type": "code",
   "execution_count": null,
   "id": "e174455b-a537-43b0-ab9d-496b7ce22410",
   "metadata": {},
   "outputs": [],
   "source": [
    "# Get the features from the original mosaic\n",
    "dst_kp, dst_des = image_operator.detect_and_compute(dst_img)"
   ]
  },
  {
   "cell_type": "code",
   "execution_count": null,
   "id": "9f057a40-5a18-408e-8902-a374ebe6687b",
   "metadata": {},
   "outputs": [],
   "source": [
    "# Transform the dst keypoints to mosaic frame\n",
    "dst_pts = cv2.KeyPoint_convert(dst_kp)\n",
    "dsframe_dst_pts = dst_pts + np.array([x_off, y_off])\n",
    "dsframe_dst_des = copy.copy(dst_des)"
   ]
  },
  {
   "cell_type": "code",
   "execution_count": null,
   "id": "bf4e011b-d73b-44a3-a2de-374a75967131",
   "metadata": {},
   "outputs": [],
   "source": [
    "if settings['show_images']:\n",
    "    # Look at the image and its keypoints\n",
    "    raster.Image(dst_img).show()\n",
    "\n",
    "    fig = plt.gcf()\n",
    "    ax = plt.gca()\n",
    "\n",
    "    ax.scatter(\n",
    "        dst_pts[:,0],\n",
    "        dst_pts[:,1],\n",
    "        color='none',\n",
    "        edgecolor='w',\n",
    "        linewidth=3,\n",
    "        s=150,\n",
    "    )"
   ]
  },
  {
   "cell_type": "markdown",
   "id": "5178b10a-4785-4122-ab54-bbea96f1ad92",
   "metadata": {},
   "source": [
    "### New Image\n"
   ]
  },
  {
   "cell_type": "code",
   "execution_count": null,
   "id": "cedc4f19-3436-40e2-bed0-6a59580a862a",
   "metadata": {},
   "outputs": [],
   "source": [
    "src_img = utils.load_image(\n",
    "    row['filepath'],\n",
    "    dtype=mosaicker.dtype,\n",
    ")"
   ]
  },
  {
   "cell_type": "code",
   "execution_count": null,
   "id": "74ddd58f-c6fe-4aa5-b55b-6ea10a153310",
   "metadata": {},
   "outputs": [],
   "source": [
    "src_kp, src_des = image_operator.detect_and_compute(src_img)\n",
    "src_pts = cv2.KeyPoint_convert(src_kp)"
   ]
  },
  {
   "cell_type": "code",
   "execution_count": null,
   "id": "974ff806-b90a-4c72-a97a-1cba994bfa99",
   "metadata": {},
   "outputs": [],
   "source": [
    "if settings['show_images']:\n",
    "    # Look at the image and its keypoints\n",
    "    raster.Image(src_img).show()\n",
    "\n",
    "    fig = plt.gcf()\n",
    "    ax = plt.gca()\n",
    "\n",
    "    ax.scatter(\n",
    "        src_pts[:,0],\n",
    "        src_pts[:,1],\n",
    "        color='none',\n",
    "        edgecolor='w',\n",
    "        linewidth=3,\n",
    "        s=150,\n",
    "    )"
   ]
  },
  {
   "cell_type": "markdown",
   "id": "29c1b394-d2c1-4c18-9b98-a31328d2ce8e",
   "metadata": {},
   "source": [
    "### Feature Matching\n"
   ]
  },
  {
   "cell_type": "code",
   "execution_count": null,
   "id": "b955443d-5846-4583-a2b5-e901ce608ca6",
   "metadata": {},
   "outputs": [],
   "source": [
    "# Get and validate the transform predicted from feature matching\n",
    "M = image_operator.find_homography(src_kp, src_des, dst_kp, dst_des)"
   ]
  },
  {
   "cell_type": "code",
   "execution_count": null,
   "id": "721048c3-56cd-4089-a3b1-305ba68ae622",
   "metadata": {},
   "outputs": [],
   "source": [
    "# Inspect relationship\n",
    "mask = image_operator.log['mask'].astype(bool)\n",
    "valid_src_pts = image_operator.log['src_pts'][mask].reshape((mask.sum(), 2))\n",
    "valid_dst_pts = image_operator.log['dst_pts'][mask].reshape((mask.sum(), 2))"
   ]
  },
  {
   "cell_type": "code",
   "execution_count": null,
   "id": "08ad10e3-864d-41e0-9270-ac54a18c1f40",
   "metadata": {},
   "outputs": [],
   "source": [
    "if settings['show_images']:\n",
    "    subplot_mosaic = [['dst_img', 'src_img']]\n",
    "    fig = plt.figure(figsize=(20,10))\n",
    "    ax_dict = fig.subplot_mosaic(subplot_mosaic)\n",
    "\n",
    "    ax = ax_dict['dst_img']\n",
    "    ax.imshow(dst_img)\n",
    "\n",
    "    ax = ax_dict['src_img']\n",
    "    ax.imshow(src_img)\n",
    "\n",
    "    for i in range(valid_src_pts.shape[0]):\n",
    "\n",
    "        con = patches.ConnectionPatch(\n",
    "            xyA=valid_dst_pts[i],\n",
    "            xyB=valid_src_pts[i],\n",
    "            coordsA='data',\n",
    "            coordsB='data',\n",
    "            axesA=ax_dict['dst_img'],\n",
    "            axesB=ax_dict['src_img'],\n",
    "            color=palette[1],\n",
    "            linewidth=3,\n",
    "        )\n",
    "        ax.add_artist(con)"
   ]
  },
  {
   "cell_type": "code",
   "execution_count": null,
   "id": "6f963992-f540-45d5-84f4-519d79669537",
   "metadata": {},
   "outputs": [],
   "source": [
    "# raster.Image(src_img).save('../test_data/feature_matching/src_0.tiff')\n",
    "# raster.Image(dst_img).save('../test_data/feature_matching/dst_0.tiff')"
   ]
  },
  {
   "cell_type": "code",
   "execution_count": null,
   "id": "4a228dc2-5dcd-4dbd-9fe6-bb1bc76a7ac2",
   "metadata": {},
   "outputs": [],
   "source": [
    "image_operator.validate_homography(M)"
   ]
  },
  {
   "cell_type": "markdown",
   "id": "16442e71-4b08-4fd6-ac5c-8f779218e59b",
   "metadata": {},
   "source": [
    "### Warp the Source Image\n"
   ]
  },
  {
   "cell_type": "code",
   "execution_count": null,
   "id": "1b8c42ea-d003-4245-96a8-96e2aab0faf7",
   "metadata": {},
   "outputs": [],
   "source": [
    "# Warp the image being fit\n",
    "warped_img = image_operator.warp(src_img, dst_img, M)"
   ]
  },
  {
   "cell_type": "code",
   "execution_count": null,
   "id": "4a3a9e95-fbcc-43ed-b258-a68909bc5259",
   "metadata": {},
   "outputs": [],
   "source": [
    "if settings['show_images']:\n",
    "    raster.Image(warped_img[:, :, :3]).show(img='semitransparent_img')"
   ]
  },
  {
   "cell_type": "code",
   "execution_count": null,
   "id": "4adb8e6b-9f50-42a2-b7ac-ed865c0e8ce0",
   "metadata": {},
   "outputs": [],
   "source": [
    "# The warped image should have the same dimensions as the dst img\n",
    "assert warped_img.shape[:2] == dst_img.shape[:2]"
   ]
  },
  {
   "cell_type": "markdown",
   "id": "fc2b6a90-5c19-4932-8cce-0d5d87ba3a16",
   "metadata": {},
   "source": [
    "### Blend the images\n"
   ]
  },
  {
   "cell_type": "code",
   "execution_count": null,
   "id": "ca91177e-ea40-4e0b-9da2-781bd8a07c7d",
   "metadata": {},
   "outputs": [],
   "source": [
    "blended_img = image_operator.blend(\n",
    "    src_img=warped_img,\n",
    "    dst_img=dst_img,\n",
    ")"
   ]
  },
  {
   "cell_type": "code",
   "execution_count": null,
   "id": "0073ec92-f928-400d-8ef7-eac40444c7c3",
   "metadata": {},
   "outputs": [],
   "source": [
    "# Show\n",
    "if settings['show_images']:\n",
    "    raster.Image(blended_img[:, :, :3]).show(img='semitransparent_img')"
   ]
  },
  {
   "cell_type": "markdown",
   "id": "0d198f0a-6990-42af-870c-264348a5945c",
   "metadata": {},
   "source": [
    "### Save and look at the mosaic\n"
   ]
  },
  {
   "cell_type": "code",
   "execution_count": null,
   "id": "c32be657-c624-480e-8cec-96e91b72d2c2",
   "metadata": {},
   "outputs": [],
   "source": [
    "mosaicker.processor.save_image_to_dataset(\n",
    "    dataset, blended_img, x_off, y_off)"
   ]
  },
  {
   "cell_type": "code",
   "execution_count": null,
   "id": "61bb0d44-b5a4-4301-856e-495916ef0e83",
   "metadata": {},
   "outputs": [],
   "source": [
    "# Get the region of just the first image for comparison from before\n",
    "training_img_region_after = mosaicker.processor.get_image_from_dataset(\n",
    "    dataset,\n",
    "    row_train['x_off'], row_train['y_off'],\n",
    "    row_train['x_size'], row_train['y_size'],\n",
    ")"
   ]
  },
  {
   "cell_type": "code",
   "execution_count": null,
   "id": "f4c74871-8acc-4249-8b8b-f69d4e5021ec",
   "metadata": {},
   "outputs": [],
   "source": [
    "# More content should have been added\n",
    "assert training_img_region_after.sum() > training_img.sum()"
   ]
  },
  {
   "cell_type": "code",
   "execution_count": null,
   "id": "20b972e0-0573-4d15-879a-eab640932258",
   "metadata": {},
   "outputs": [],
   "source": [
    "# View\n",
    "if settings['show_images']:\n",
    "    subplot_mosaic = [['before', 'after']]\n",
    "    fig = plt.figure(figsize=(20,10))\n",
    "    ax_dict = fig.subplot_mosaic(subplot_mosaic)\n",
    "\n",
    "    ax = ax_dict['before']\n",
    "    raster.Image(training_img[:, :, :3]).show(img='semitransparent_img', ax=ax)\n",
    "\n",
    "    ax = ax_dict['after']\n",
    "    raster.Image(training_img_region_after[:, :, :3]).show(img='semitransparent_img', ax=ax)"
   ]
  },
  {
   "cell_type": "markdown",
   "id": "b0db6059-5892-4141-a023-2de41dc0c12c",
   "metadata": {},
   "source": [
    "### Warp the Keypoints\n"
   ]
  },
  {
   "cell_type": "code",
   "execution_count": null,
   "id": "7a0d44af-62a0-4852-8553-f9cd63354ec1",
   "metadata": {},
   "outputs": [],
   "source": [
    "# Transform to local frame and then the full mosaic frame\n",
    "src_pts = cv2.KeyPoint_convert(src_kp)\n",
    "global_src_pts = cv2.perspectiveTransform(src_pts.reshape(-1, 1, 2), M).reshape(-1, 2)\n",
    "global_src_pts += np.array([x_off, y_off])"
   ]
  },
  {
   "cell_type": "code",
   "execution_count": null,
   "id": "1c1cdb8f-5d5d-4ab6-bf17-2a221deca0bb",
   "metadata": {},
   "outputs": [],
   "source": [
    "# Store the transformed points for the next loop\n",
    "dsframe_dst_pts = np.append(dsframe_dst_pts, global_src_pts, axis=0)\n",
    "dsframe_dst_des = np.append(dsframe_dst_des, src_des, axis=0)"
   ]
  },
  {
   "cell_type": "code",
   "execution_count": null,
   "id": "8da416e1-f5bd-49ba-a59e-b79bf8fd722b",
   "metadata": {},
   "outputs": [],
   "source": [
    "if settings['show_images']:\n",
    "    fig = plt.figure()\n",
    "    ax = plt.gca()\n",
    "\n",
    "    sns.scatterplot(\n",
    "        x=dsframe_dst_pts[:,0],\n",
    "        y=dsframe_dst_pts[:,1],\n",
    "        ax = ax,\n",
    "    )\n",
    "\n",
    "    rect = patches.Rectangle(\n",
    "        (x_off, y_off),\n",
    "        x_size,\n",
    "        y_size,\n",
    "        linewidth = 3,\n",
    "        facecolor = 'none',\n",
    "        edgecolor = palette[0],\n",
    "    )\n",
    "    ax.add_patch(rect)\n",
    "\n",
    "    ax.set_xlim(0, dataset.RasterXSize)\n",
    "    ax.set_ylim(dataset.RasterYSize, 0)\n",
    "    ax.set_aspect('equal')"
   ]
  },
  {
   "cell_type": "code",
   "execution_count": null,
   "id": "d1218056-9fcd-42e8-a0f7-684ccbf30404",
   "metadata": {},
   "outputs": [],
   "source": [
    "# Automated check that everything's in bounds\n",
    "not_in_bounds = ~(\n",
    "    (x_off <= dsframe_dst_pts[:,0] )\n",
    "    & (dsframe_dst_pts[:,0] <= x_off + x_size)\n",
    "    & (y_off <= dsframe_dst_pts[:,1] )\n",
    "    & (dsframe_dst_pts[:,1] <= y_off + y_size)\n",
    ")\n",
    "assert not_in_bounds.sum() == 0"
   ]
  },
  {
   "cell_type": "markdown",
   "id": "e6f30fe0-bea5-4e61-a8a9-59ee5cb2b301",
   "metadata": {},
   "source": [
    "### Check the georeferencing\n"
   ]
  },
  {
   "cell_type": "code",
   "execution_count": null,
   "id": "8a32d396-56aa-47ed-b05e-e341aa3dc71a",
   "metadata": {},
   "outputs": [],
   "source": [
    "# Call the fn\n",
    "warped_x_off, warped_y_off, warped_x_size, warped_y_size = \\\n",
    "    image_operator.warp_bounds(src_img, M)\n",
    "warped_x_off += x_off\n",
    "warped_y_off += y_off"
   ]
  },
  {
   "cell_type": "code",
   "execution_count": null,
   "id": "80aebf5d-e7c0-4af8-81b0-4baa4cbf6afa",
   "metadata": {},
   "outputs": [],
   "source": [
    "# Convert to physical\n",
    "warped_x_min, warped_x_max, warped_y_min, warped_y_max = tfer.pixel_to_physical(\n",
    "    warped_x_off, warped_y_off, warped_x_size, warped_y_size)"
   ]
  },
  {
   "cell_type": "code",
   "execution_count": null,
   "id": "71b5155d-8c1f-48fb-b39d-93fb508496e7",
   "metadata": {},
   "outputs": [],
   "source": [
    "warped_center = np.array([\n",
    "    0.5 * (warped_x_min + warped_x_max),\n",
    "    0.5 * (warped_y_min + warped_y_max),\n",
    "])"
   ]
  },
  {
   "cell_type": "code",
   "execution_count": null,
   "id": "e6897df3-4f18-4437-b699-bd6939f061d5",
   "metadata": {},
   "outputs": [],
   "source": [
    "# Compare to recorded\n",
    "if not settings['use_raw_images']:\n",
    "\n",
    "    # Get the recorded bounds\n",
    "    recorded_x_min, recorded_x_max, recorded_y_min, recorded_y_max = \\\n",
    "        y_test.loc[row.name, ['x_min', 'x_max', 'y_min', 'y_max']]\n",
    "    \n",
    "    # Get the center\n",
    "    recorded_center = np.array([\n",
    "        0.5 * (recorded_x_min + recorded_x_max),\n",
    "        0.5 * (recorded_y_min + recorded_y_max),\n",
    "    ])\n",
    "    \n",
    "    # Check the centers\n",
    "    assert np.linalg.norm(warped_center - recorded_center) < 600."
   ]
  },
  {
   "cell_type": "code",
   "execution_count": null,
   "id": "7de07f96-b388-44ee-b7f6-2e1c1b96480f",
   "metadata": {},
   "outputs": [],
   "source": [
    "if settings['show_images']:\n",
    "    fig = plt.figure(figsize=(20,10))\n",
    "    ax = plt.gca()\n",
    "\n",
    "    # The warped image location\n",
    "    width = warped_x_max - warped_x_min\n",
    "    height = warped_y_max - warped_y_min\n",
    "    rect = patches.Rectangle(\n",
    "        (warped_x_min, warped_y_min),\n",
    "        width,\n",
    "        height,\n",
    "        linewidth = 3,\n",
    "        facecolor = 'none',\n",
    "        edgecolor = palette[0],\n",
    "    )\n",
    "    ax.add_patch(rect)\n",
    "    ax.scatter(\n",
    "        *warped_center,\n",
    "        s=100,\n",
    "        color=palette[0],\n",
    "    )\n",
    "\n",
    "    # The actual image location\n",
    "    if not settings['use_raw_images']:\n",
    "        rect = patches.Rectangle(\n",
    "            (recorded_x_min, recorded_y_min),\n",
    "            recorded_x_max - recorded_x_min,\n",
    "            recorded_y_max - recorded_y_min,\n",
    "            linewidth = 3,\n",
    "            facecolor = 'none',\n",
    "            edgecolor = palette[1],\n",
    "        )\n",
    "        ax.add_patch(rect)\n",
    "        ax.scatter(\n",
    "            *recorded_center,\n",
    "            s=100,\n",
    "            color=palette[1],\n",
    "        )\n",
    "\n",
    "    padding_for_this_plot = 0.1 * width\n",
    "    ax.set_xlim(warped_x_min - padding_for_this_plot, warped_x_max + padding_for_this_plot)\n",
    "    ax.set_ylim(warped_y_min - padding_for_this_plot, warped_y_max + padding_for_this_plot)\n",
    "\n",
    "    ax.set_aspect('equal')"
   ]
  },
  {
   "cell_type": "markdown",
   "id": "2212ccbe-c7d9-4ab7-a2a5-fbfcb4bb0949",
   "metadata": {},
   "source": [
    "### Log Values\n"
   ]
  },
  {
   "cell_type": "code",
   "execution_count": null,
   "id": "ab89896b-120b-4655-8e99-f6978f54eca0",
   "metadata": {},
   "outputs": [],
   "source": [
    "# Store for later comparison\n",
    "log = {}\n",
    "mosaicker.update_log(image_operator.log, target=log)\n",
    "mosaicker.update_log(locals(), target=log)\n",
    "log['i'] = 0\n",
    "log['ind'] = row.name\n",
    "log['return_code'] = 'success'"
   ]
  },
  {
   "cell_type": "code",
   "execution_count": null,
   "id": "fed80677-09cc-42b0-8c4d-bc9313bc005b",
   "metadata": {},
   "outputs": [],
   "source": [
    "fit_values = {\n",
    "    key: getattr(mosaicker, key)\n",
    "    for key in mosaicker.__dir__()\n",
    "    if key[-1] == '_' if isinstance(getattr(mosaicker, key), float)\n",
    "}"
   ]
  },
  {
   "cell_type": "markdown",
   "id": "3d29fab6-a135-4988-b446-546531539677",
   "metadata": {},
   "source": [
    "## Next Image\n"
   ]
  },
  {
   "cell_type": "code",
   "execution_count": null,
   "id": "67631862-c4d9-4b1a-8b3c-099ee495a5c3",
   "metadata": {},
   "outputs": [],
   "source": [
    "i = 1\n",
    "row1 = X_t.iloc[i]"
   ]
  },
  {
   "cell_type": "markdown",
   "id": "f410123f-4e23-4943-a152-e149fcc1c4c7",
   "metadata": {},
   "source": [
    "### Preview keypoint selection\n"
   ]
  },
  {
   "cell_type": "code",
   "execution_count": null,
   "id": "1610d3ca-1b19-4b33-be37-9707207f54c0",
   "metadata": {},
   "outputs": [],
   "source": [
    "x_off1 = row1['x_off']\n",
    "y_off1 = row1['y_off']\n",
    "x_size1 = row1['x_size']\n",
    "y_size1 = row1['y_size']"
   ]
  },
  {
   "cell_type": "code",
   "execution_count": null,
   "id": "a3995f81-023c-480e-99ad-ca00ecffd0aa",
   "metadata": {},
   "outputs": [],
   "source": [
    "in_bounds1 = (\n",
    "    (dsframe_dst_pts[:,0] >= x_off1)\n",
    "    & (dsframe_dst_pts[:,1] >= y_off1)\n",
    "    & (dsframe_dst_pts[:,0] <= x_off1 + x_size1)\n",
    "    & (dsframe_dst_pts[:,1] <= y_off1 + y_size1)\n",
    ")"
   ]
  },
  {
   "cell_type": "code",
   "execution_count": null,
   "id": "31c26cfd-316a-48f1-8f60-c0d1c30e0752",
   "metadata": {},
   "outputs": [],
   "source": [
    "assert in_bounds1.sum() > 0, \\\n",
    "    f'No image data in the search zone for index {row.name}'"
   ]
  },
  {
   "cell_type": "code",
   "execution_count": null,
   "id": "95ec1096-5e10-43da-b1d4-d099ba14619c",
   "metadata": {},
   "outputs": [],
   "source": [
    "dst_pts1 = dsframe_dst_pts[in_bounds1]\n",
    "dst_des1 = dsframe_dst_des[in_bounds1]"
   ]
  },
  {
   "cell_type": "code",
   "execution_count": null,
   "id": "cb37b6eb-4e7a-44ef-8ee6-a4d6f299a7e8",
   "metadata": {},
   "outputs": [],
   "source": [
    "# At this point in the loops, *all* the points should be in bounds, if we're doing approximate georeferencing\n",
    "if use_approximate_georeferencing:\n",
    "    assert (~in_bounds1).sum() == 0"
   ]
  },
  {
   "cell_type": "markdown",
   "id": "58b8afc8-53a0-4cba-a44e-dde9441c6116",
   "metadata": {},
   "source": [
    "### Call the typical function\n"
   ]
  },
  {
   "cell_type": "code",
   "execution_count": null,
   "id": "ff02d4b5-cc08-48c9-9a63-2ef73a8d637a",
   "metadata": {},
   "outputs": [],
   "source": [
    "row1_out = mosaicker.processor.process_row(\n",
    "    1,\n",
    "    row1.copy(),\n",
    "    {\n",
    "        'dataset': dataset,\n",
    "        'transformer': tfer,\n",
    "    },\n",
    ")\n",
    "log1 = mosaicker.processor.log\n",
    "log1['i'] = 1\n",
    "log1['ind'] = row1.name"
   ]
  },
  {
   "cell_type": "code",
   "execution_count": null,
   "id": "5610619a",
   "metadata": {},
   "outputs": [],
   "source": [
    "# Freeze logging here so we can compare\n",
    "mosaicker.processor.stop_logging()"
   ]
  },
  {
   "cell_type": "code",
   "execution_count": null,
   "id": "8398fdd6-f578-4335-bc4e-0ddc6d189b67",
   "metadata": {},
   "outputs": [],
   "source": [
    "assert row1_out['return_code'] == 'success', \\\n",
    "    'Image was not successfully combined.'"
   ]
  },
  {
   "cell_type": "code",
   "execution_count": null,
   "id": "b7927692-7e98-4821-a1a5-8202165a613d",
   "metadata": {},
   "outputs": [],
   "source": [
    "training_img_region_after2 = mosaicker.processor.get_image_from_dataset(\n",
    "    dataset,\n",
    "    row_train['x_off'], row_train['y_off'],\n",
    "    row_train['x_size'], row_train['y_size'],\n",
    ")"
   ]
  },
  {
   "cell_type": "code",
   "execution_count": null,
   "id": "337c82dd-ec3e-4078-ba8f-fe80966557e3",
   "metadata": {},
   "outputs": [],
   "source": [
    "if settings['show_images']:\n",
    "    subplot_mosaic = [['before', 'after']]\n",
    "    fig = plt.figure(figsize=(20,10))\n",
    "    ax_dict = fig.subplot_mosaic(subplot_mosaic)\n",
    "\n",
    "    ax = ax_dict['before']\n",
    "    raster.Image(training_img_region_after[:, :, :3]).show(img='semitransparent_img', ax=ax)\n",
    "\n",
    "    ax = ax_dict['after']\n",
    "    raster.Image(training_img_region_after2[:, :, :3]).show(img='semitransparent_img', ax=ax)"
   ]
  },
  {
   "cell_type": "code",
   "execution_count": null,
   "id": "33d8a9d6",
   "metadata": {},
   "outputs": [],
   "source": [
    "# Close dataset out\n",
    "dataset.FlushCache()\n",
    "dataset = None"
   ]
  },
  {
   "cell_type": "code",
   "execution_count": null,
   "id": "5f978849",
   "metadata": {},
   "outputs": [],
   "source": [
    "# Clear out any existing files\n",
    "clear_files()"
   ]
  },
  {
   "cell_type": "markdown",
   "id": "d4dc7ef5-1a32-4186-be8c-10e99d8cf430",
   "metadata": {},
   "source": [
    "# Full Process\n",
    "\n",
    "Now we'll check if it runs for a subset\n"
   ]
  },
  {
   "cell_type": "markdown",
   "id": "dd47a783",
   "metadata": {},
   "source": [
    "## Run\n"
   ]
  },
  {
   "cell_type": "code",
   "execution_count": null,
   "id": "84fbe274-9a13-4a43-abd5-3cb86bdc9812",
   "metadata": {},
   "outputs": [],
   "source": [
    "i = 0\n",
    "n_loops = settings['n_loops']"
   ]
  },
  {
   "cell_type": "code",
   "execution_count": null,
   "id": "ed4f5462",
   "metadata": {},
   "outputs": [],
   "source": [
    "# The actual calls\n",
    "mosaicker2: mosaicking.SequentialMosaicker = \\\n",
    "    mosaic_maker.container.get_service('mosaicker')"
   ]
  },
  {
   "cell_type": "code",
   "execution_count": null,
   "id": "5b89720d",
   "metadata": {},
   "outputs": [],
   "source": [
    "mosaicker2.fit(\n",
    "    X=y_train,\n",
    "    approx_y=X,\n",
    ")"
   ]
  },
  {
   "cell_type": "code",
   "execution_count": null,
   "id": "0c36477a",
   "metadata": {},
   "outputs": [],
   "source": [
    "assert mosaicker2.io_manager.output_filepaths['mosaic'] == check_fps['mosaic'],\\\n",
    "    'Mosaic filepath not correct'"
   ]
  },
  {
   "cell_type": "code",
   "execution_count": null,
   "id": "62c1e20f-0bfe-4a7f-b581-57791d5367c0",
   "metadata": {},
   "outputs": [],
   "source": [
    "y_pred = mosaicker2.predict(\n",
    "    X.iloc[:n_loops],\n",
    ")"
   ]
  },
  {
   "cell_type": "markdown",
   "id": "5d587667",
   "metadata": {},
   "source": [
    "## Evaluate\n"
   ]
  },
  {
   "cell_type": "markdown",
   "id": "08cefc84",
   "metadata": {},
   "source": [
    "### File Existence\n"
   ]
  },
  {
   "cell_type": "code",
   "execution_count": null,
   "id": "75c8de13",
   "metadata": {},
   "outputs": [],
   "source": [
    "# Check for output files\n",
    "for key, fp in check_fps.items():\n",
    "    print(f'Checking for {key} ({fp})...')\n",
    "    assert os.path.isfile(fp), f'File {key} ({fp}) not found.'"
   ]
  },
  {
   "cell_type": "markdown",
   "id": "82a9c40e",
   "metadata": {},
   "source": [
    "### Consistency with Above\n"
   ]
  },
  {
   "cell_type": "code",
   "execution_count": null,
   "id": "a5d9f974-1dc7-4370-85fe-8d16a174d0ab",
   "metadata": {},
   "outputs": [],
   "source": [
    "# Check for consistency for fit values\n",
    "for key, value in fit_values.items():\n",
    "    print(f'Checking for {key}...')\n",
    "    np.testing.assert_allclose(value, getattr(mosaicker2, key))"
   ]
  },
  {
   "cell_type": "code",
   "execution_count": null,
   "id": "a041cc18-fd45-4331-9c9c-c757bc63335a",
   "metadata": {},
   "outputs": [],
   "source": [
    "# Check for consistency for calculated values\n",
    "# We skip these because they're referred to in multiple spots.\n",
    "skip_check = ['dst_pts', 'src_pts']\n",
    "for log_key in mosaicker2.log_keys:\n",
    "\n",
    "    if log_key in skip_check:\n",
    "        continue\n",
    "    \n",
    "    print(f'Checking {log_key}...')\n",
    "\n",
    "    if log_key == 'snapshot':\n",
    "        assert 'snapshot' in mosaicker2.logs[0]\n",
    "        continue\n",
    "\n",
    "    actual = [mosaicker2.logs[0][log_key], mosaicker2.logs[1][log_key]]\n",
    "    expected = [log[log_key], log1[log_key]]\n",
    "    \n",
    "    try:\n",
    "        np.testing.assert_allclose(actual, expected)\n",
    "    except ValueError:\n",
    "        for j, actual_j in enumerate(actual):\n",
    "            try:\n",
    "                np.testing.assert_allclose(actual_j, expected[j])\n",
    "            except TypeError:\n",
    "                actual_j = cv2.KeyPoint_convert(actual_j)\n",
    "                expected_j = cv2.KeyPoint_convert(expected[j])\n",
    "                np.testing.assert_allclose(actual_j, expected_j)   \n",
    "    except np.exceptions.DTypePromotionError:\n",
    "        for j, actual_j in enumerate(actual):\n",
    "            assert actual_j == expected[j]"
   ]
  },
  {
   "cell_type": "markdown",
   "id": "23539915",
   "metadata": {},
   "source": [
    "### Reported Success\n"
   ]
  },
  {
   "cell_type": "code",
   "execution_count": null,
   "id": "e39fafad-2491-45ac-8f56-37c9e122bd00",
   "metadata": {},
   "outputs": [],
   "source": [
    "# Check how many were successful\n",
    "return_codes = y_pred['return_code']\n",
    "n_good = (return_codes == 'success').sum()\n",
    "n_bad = n_loops - n_good\n",
    "assert n_good / n_loops > settings['acceptance_fraction'], (\n",
    "    f\"{n_bad} failures, success rate of {settings['acceptance_fraction']} \"\n",
    "    f'not met. Return codes are...\\n{return_codes}'\n",
    ")"
   ]
  },
  {
   "cell_type": "markdown",
   "id": "67538c07",
   "metadata": {},
   "source": [
    "### Referenced Positions\n"
   ]
  },
  {
   "cell_type": "code",
   "execution_count": null,
   "id": "c7695780-f11c-4093-b95a-1b8ec6d3d2fd",
   "metadata": {},
   "outputs": [],
   "source": [
    "if y_pred.index.isin(y_test.index).sum() > 0:\n",
    "\n",
    "    # Merge into a comparison dataframe\n",
    "    y_pred_for_eval = y_pred.reindex(y_test.index)\n",
    "\n",
    "    # Estimate the consistency with the manual geotransforms\n",
    "    comp_cols = ['x_center', 'y_center']\n",
    "    y_err = y_test[comp_cols] - y_pred_for_eval[comp_cols]\n",
    "    err = np.sqrt((y_err['x_center']**2. + y_err['y_center']**2.).astype(float))\n",
    "\n",
    "    if settings['show_images']:\n",
    "        # Visualize the errors\n",
    "        fig = plt.figure()\n",
    "        ax = plt.gca()\n",
    "\n",
    "        sns.scatterplot(\n",
    "            x=np.arange(y_err.index.size),\n",
    "            y=err,\n",
    "            hue=np.arange(len(y_err)),\n",
    "            ax=ax,\n",
    "        )\n",
    "\n",
    "        ax.set_ylim(0, ax.get_ylim()[1])\n",
    "\n",
    "    # Check how bad the errors are\n",
    "    n_egregious = (err > 300.).sum()\n",
    "    assert n_egregious == 0, f'Found {n_egregious} egregious errors.'"
   ]
  },
  {
   "cell_type": "markdown",
   "id": "ac2de8f0",
   "metadata": {},
   "source": [
    "### Log\n"
   ]
  },
  {
   "cell_type": "code",
   "execution_count": null,
   "id": "d3acbc2b",
   "metadata": {},
   "outputs": [],
   "source": [
    "log_df = pd.DataFrame(mosaicker2.logs)\n",
    "log_df.set_index('ind')\n",
    "assert len(log_df) == n_loops, (\n",
    "    'Different number of log entries and loops. '\n",
    "    f'{n_loops} loops, {len(log_df)} log entries'\n",
    ")"
   ]
  },
  {
   "cell_type": "code",
   "execution_count": null,
   "id": "f951a2a3",
   "metadata": {},
   "outputs": [],
   "source": [
    "# Check the saved log\n",
    "log_df = pd.read_csv(check_fps['log'], index_col=0)\n",
    "for col in ['ind', ]:\n",
    "    assert len(log_df) == pd.unique(log_df[col]).size, \\\n",
    "        f'{col} values are non-unique: {log_df[col]}'\n",
    "assert len(log_df) == n_loops, 'Log was not completely saved.'"
   ]
  },
  {
   "cell_type": "markdown",
   "id": "075c0c03",
   "metadata": {},
   "source": [
    "### Referenced Images\n"
   ]
  },
  {
   "cell_type": "code",
   "execution_count": null,
   "id": "d0459c85",
   "metadata": {},
   "outputs": [],
   "source": [
    "# Check that the referenced image files exist and agree well-enough with\n",
    "# the existing images\n",
    "image_scorer = mosaic_maker.container.get_service('image_scorer')\n",
    "for ind in y_pred.index:\n",
    "    output_fp = io_manager.output_filepaths['referenced_images'].format(ind)\n",
    "    input_fp = X.loc[ind, 'filepath']\n",
    "\n",
    "    assert os.path.isfile(output_fp), f'File {output_fp} not found.'\n",
    "    actual_image = raster.ReferencedImage.open(\n",
    "        output_fp,\n",
    "        cart_crs_code=settings['global']['crs'],\n",
    "    )\n",
    "\n",
    "    expected_image = raster.ReferencedImage.open(\n",
    "        input_fp,\n",
    "        cart_crs_code=settings['global']['crs'],\n",
    "    )\n",
    "\n",
    "    # Compare image shape\n",
    "    np.testing.assert_allclose(\n",
    "        actual_image.img_shape,\n",
    "        expected_image.img_shape,\n",
    "    )\n",
    "\n",
    "    # Compare image bounds\n",
    "    np.testing.assert_allclose(\n",
    "        actual_image.cart_bounds,\n",
    "        expected_image.cart_bounds,\n",
    "    )\n",
    "\n",
    "    # Compare image contents\n",
    "    score_results = image_scorer.operate(\n",
    "        actual_image.img_int, expected_image.img_int)\n",
    "    score = score_results['score']\n",
    "    assert score > settings['acceptance_threshold'], f'Image has a score of {score}'"
   ]
  },
  {
   "cell_type": "markdown",
   "id": "2736516e",
   "metadata": {},
   "source": [
    "# Restarting From Checkpoint\n"
   ]
  },
  {
   "cell_type": "code",
   "execution_count": null,
   "id": "dfac3790",
   "metadata": {},
   "outputs": [],
   "source": [
    "# Remove final file\n",
    "os.remove(check_fps['mosaic'])"
   ]
  },
  {
   "cell_type": "code",
   "execution_count": null,
   "id": "d1ce9968",
   "metadata": {},
   "outputs": [],
   "source": [
    "mosaicker2 = mosaic_maker.container.get_service('mosaicker')"
   ]
  },
  {
   "cell_type": "code",
   "execution_count": null,
   "id": "d8753f08",
   "metadata": {},
   "outputs": [],
   "source": [
    "# Remove things that save poorly as strings\n",
    "bad_rep_keys = ['dst_img', 'src_img', 'dst_kp', 'src_kp', 'M']\n",
    "mosaicker2.log_keys = [_ for _ in mosaicker2.log_keys if _ not in bad_rep_keys]"
   ]
  },
  {
   "cell_type": "code",
   "execution_count": null,
   "id": "b0f65a6e",
   "metadata": {},
   "outputs": [],
   "source": [
    "mosaicker2.fit(\n",
    "    X=y_train,\n",
    "    approx_y=X_t,\n",
    ")"
   ]
  },
  {
   "cell_type": "code",
   "execution_count": null,
   "id": "7dd46ef9",
   "metadata": {},
   "outputs": [],
   "source": [
    "assert mosaicker2.i_start_ != 0, 'Not successfully starting from a later point.'"
   ]
  },
  {
   "cell_type": "code",
   "execution_count": null,
   "id": "9e40df13",
   "metadata": {},
   "outputs": [],
   "source": [
    "y_pred_checkpoint = mosaicker2.predict(\n",
    "    X_t.iloc[:n_loops],\n",
    ")"
   ]
  },
  {
   "cell_type": "markdown",
   "id": "9c8c39e7",
   "metadata": {},
   "source": [
    "## Check output\n"
   ]
  },
  {
   "cell_type": "code",
   "execution_count": null,
   "id": "e747c312",
   "metadata": {},
   "outputs": [],
   "source": [
    "# Check for output files\n",
    "for key, fp in check_fps.items():\n",
    "    print(f'Checking for {key} ({fp})...')\n",
    "    assert os.path.isfile(fp), f'File {key} ({fp}) not found.'"
   ]
  },
  {
   "cell_type": "code",
   "execution_count": null,
   "id": "a9c85c29",
   "metadata": {},
   "outputs": [],
   "source": [
    "# Check for consistency for fit values\n",
    "for key, value in fit_values.items():\n",
    "    np.testing.assert_allclose(value, getattr(mosaicker2, key))"
   ]
  },
  {
   "cell_type": "code",
   "execution_count": null,
   "id": "044dde81",
   "metadata": {},
   "outputs": [],
   "source": [
    "# Check for consistency for calculated values\n",
    "skip_check = ['dst_pts', 'src_pts', 'mask']\n",
    "for log_key in mosaicker2.log_keys:\n",
    "\n",
    "    if log_key in skip_check:\n",
    "        continue\n",
    "    \n",
    "    print(f'Checking {log_key}...')\n",
    "\n",
    "    if log_key == 'snapshot':\n",
    "        assert 'snapshot' in mosaicker2.logs[0]\n",
    "        continue\n",
    "\n",
    "    actual = [mosaicker2.logs[0][log_key], mosaicker2.logs[1][log_key]]\n",
    "    expected = [log[log_key], log1[log_key]]\n",
    "    \n",
    "    try:\n",
    "        np.testing.assert_allclose(actual, expected)\n",
    "    except ValueError:\n",
    "        for j, actual_j in enumerate(actual):\n",
    "            try:\n",
    "                np.testing.assert_allclose(actual_j, expected[j])\n",
    "            except TypeError:\n",
    "                actual_j = cv2.KeyPoint_convert(actual_j)\n",
    "                expected_j = cv2.KeyPoint_convert(expected[j])\n",
    "                np.testing.assert_allclose(actual_j, expected_j)   \n",
    "    except np.exceptions.DTypePromotionError:\n",
    "        for j, actual_j in enumerate(actual):\n",
    "            assert actual_j == expected[j]"
   ]
  },
  {
   "cell_type": "code",
   "execution_count": null,
   "id": "70b85f7c",
   "metadata": {},
   "outputs": [],
   "source": [
    "pd.testing.assert_frame_equal(y_pred, y_pred_checkpoint)"
   ]
  },
  {
   "cell_type": "code",
   "execution_count": null,
   "id": "4b4432f3",
   "metadata": {},
   "outputs": [],
   "source": [
    "return_codes = y_pred_checkpoint['return_code']\n",
    "assert len(return_codes) == n_loops, (\n",
    "    f'Different number of return codes and loops. {n_loops} loops, '\n",
    "    f'{len(return_codes)} return codes'\n",
    ")"
   ]
  },
  {
   "cell_type": "markdown",
   "id": "7310b502",
   "metadata": {},
   "source": [
    "# Cleanup\n"
   ]
  },
  {
   "cell_type": "code",
   "execution_count": null,
   "id": "847a8e5f",
   "metadata": {},
   "outputs": [],
   "source": [
    "clear_files()"
   ]
  }
 ],
 "metadata": {
  "kernelspec": {
   "display_name": "Python 3 (ipykernel)",
   "language": "python",
   "name": "python3"
  },
  "language_info": {
   "codemirror_mode": {
    "name": "ipython",
    "version": 3
   },
   "file_extension": ".py",
   "mimetype": "text/x-python",
   "name": "python",
   "nbconvert_exporter": "python",
   "pygments_lexer": "ipython3",
   "version": "3.11.5"
  }
 },
 "nbformat": 4,
 "nbformat_minor": 5
}

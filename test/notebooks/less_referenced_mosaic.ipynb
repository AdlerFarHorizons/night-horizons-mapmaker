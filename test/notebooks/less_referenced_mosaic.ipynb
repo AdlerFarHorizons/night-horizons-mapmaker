{
 "cells": [
  {
   "cell_type": "markdown",
   "id": "7a998f1c-82e1-4acc-b16a-75de02325873",
   "metadata": {},
   "source": [
    "# Less-Referenced Mosaic\n",
    "\n",
    "This notebook provides a cross-section of the Less-Referenced Mosaic creation process."
   ]
  },
  {
   "cell_type": "markdown",
   "id": "5e4ede8c-7fb2-4dcf-9193-928321716c33",
   "metadata": {},
   "source": [
    "# Setup"
   ]
  },
  {
   "cell_type": "markdown",
   "id": "af05e098-f19b-45b4-97cc-413ecf0fbdc4",
   "metadata": {},
   "source": [
    "## Imports"
   ]
  },
  {
   "cell_type": "code",
   "execution_count": null,
   "id": "25c75dcb-6592-4a10-a69a-7886c3cb75d0",
   "metadata": {},
   "outputs": [],
   "source": [
    "import copy\n",
    "import os"
   ]
  },
  {
   "cell_type": "code",
   "execution_count": null,
   "id": "313f249d-f0eb-45ea-8cdc-b8f0d46af6ea",
   "metadata": {},
   "outputs": [],
   "source": [
    "import cv2\n",
    "import numpy as np\n",
    "import pandas as pd\n",
    "from sklearn.model_selection import train_test_split\n",
    "from sklearn.pipeline import Pipeline\n",
    "from sklearn.utils import check_random_state\n",
    "import yaml"
   ]
  },
  {
   "cell_type": "code",
   "execution_count": null,
   "id": "876b1622-25b4-4384-b096-f6bd3367e21a",
   "metadata": {},
   "outputs": [],
   "source": [
    "import matplotlib\n",
    "import matplotlib.pyplot as plt\n",
    "import matplotlib.patches as patches\n",
    "import seaborn as sns\n",
    "sns.set_style('white')"
   ]
  },
  {
   "cell_type": "code",
   "execution_count": null,
   "id": "f7db8f4e-2f00-4d15-96a4-51ebb4eeea23",
   "metadata": {},
   "outputs": [],
   "source": [
    "from night_horizons import utils, preprocess, reference, mosaic, raster, pipelines"
   ]
  },
  {
   "cell_type": "markdown",
   "id": "a2d4a814-de45-4c11-975c-43a21ca7b171",
   "metadata": {},
   "source": [
    "## Settings"
   ]
  },
  {
   "cell_type": "code",
   "execution_count": null,
   "id": "e8752436-8f23-42d2-8dc9-3de3659d71cc",
   "metadata": {},
   "outputs": [],
   "source": [
    "with open('./config.yml', \"r\", encoding='UTF-8') as file:\n",
    "    settings = yaml.load(file, Loader=yaml.FullLoader)"
   ]
  },
  {
   "cell_type": "code",
   "execution_count": null,
   "id": "8bfffacf-be23-45a5-91fb-5c1d69b8dbd0",
   "metadata": {},
   "outputs": [],
   "source": [
    "local_settings = {\n",
    "    'mosaic_filepath': 'mosaics/referenced3.tiff',\n",
    "    'random_state': 16849,\n",
    "    'train_size': 1,\n",
    "\n",
    "    # This set of choices assumes we have really good starting positions.\n",
    "    # This is useful for debugging.\n",
    "    # 'padding_factor': 0.05,\n",
    "    'padding_factor': 0.1,\n",
    "    'use_approximate_georeferencing': False,\n",
    "}\n",
    "settings.update(local_settings)"
   ]
  },
  {
   "cell_type": "markdown",
   "id": "a5298c5a-a5d4-46be-93ce-fcbe2f1e6e71",
   "metadata": {},
   "source": [
    "## Parse Settings"
   ]
  },
  {
   "cell_type": "code",
   "execution_count": null,
   "id": "dd115e86-45c5-458b-9e75-19d40d7186d3",
   "metadata": {},
   "outputs": [],
   "source": [
    "settings['mosaic_filepath'] = os.path.join(settings['data_dir'], settings['mosaic_filepath'])"
   ]
  },
  {
   "cell_type": "code",
   "execution_count": null,
   "id": "83d5aea6-64b2-4388-bdcc-c1cb7ba3f929",
   "metadata": {},
   "outputs": [],
   "source": [
    "for key, relpath in settings['paths_relative_to_data_dir'].items():\n",
    "    settings[key] = os.path.join(settings['data_dir'], relpath)"
   ]
  },
  {
   "cell_type": "code",
   "execution_count": null,
   "id": "ef2a5c18-9b75-4eb4-a357-e8a6e33db965",
   "metadata": {},
   "outputs": [],
   "source": [
    "random_state = check_random_state(settings['random_state'])"
   ]
  },
  {
   "cell_type": "code",
   "execution_count": null,
   "id": "b4408c5e-dba0-44a3-9cb3-2b5922875880",
   "metadata": {},
   "outputs": [],
   "source": [
    "referenced_fps = utils.discover_data(settings['referenced_images_dir'], ['tif', 'tiff'], pattern=r'Geo\\s\\d+_\\d.tif')"
   ]
  },
  {
   "cell_type": "code",
   "execution_count": null,
   "id": "ddb114a1-861a-4ab0-9324-83705e5486d2",
   "metadata": {},
   "outputs": [],
   "source": [
    "palette = sns.color_palette(settings['color_palette'])"
   ]
  },
  {
   "cell_type": "code",
   "execution_count": null,
   "id": "6767f5db-d232-4569-9196-dd3aef89daa8",
   "metadata": {},
   "outputs": [],
   "source": [
    "crs = settings['crs']"
   ]
  },
  {
   "cell_type": "markdown",
   "id": "17fbb0d9-fbba-423e-895a-84996baf78cd",
   "metadata": {},
   "source": [
    "# Prepare Data\n",
    "The first part is to prepare the data (AKA extract/transform/load)."
   ]
  },
  {
   "cell_type": "markdown",
   "id": "28a8eecf-3852-40af-a8d5-891281989cef",
   "metadata": {},
   "source": [
    "## Train-Test Split\n",
    "\n",
    "We split the data into training data (data that is georeferenced) and test data (data that is not georeferenced, or for which we don't use the georeferencing information when we're building the models).\n",
    "\n",
    "We set the train size to some small number, because ideally the user only needs to georeference a couple of images manually."
   ]
  },
  {
   "cell_type": "code",
   "execution_count": null,
   "id": "1a4089fd-f097-4f47-b8c1-3c5f54cb0720",
   "metadata": {},
   "outputs": [],
   "source": [
    "settings['train_size']"
   ]
  },
  {
   "cell_type": "code",
   "execution_count": null,
   "id": "3fa2f20e-57f7-40cf-b26f-9bdd71249b88",
   "metadata": {},
   "outputs": [],
   "source": [
    "fps_train, fps_test = train_test_split(referenced_fps, train_size=settings['train_size'], random_state=settings['random_state'])"
   ]
  },
  {
   "cell_type": "markdown",
   "id": "f511240f-6c02-4250-a6c0-ce5c5fd3f684",
   "metadata": {},
   "source": [
    "## Initial, Approximate Georeferencing\n",
    "We use the sensor (high-altitude balloon) positions to provide approximate georeferencing, which will be useful for saving computational time when building the unreferenced mosaic."
   ]
  },
  {
   "cell_type": "code",
   "execution_count": null,
   "id": "2f76ec89-3fc5-475c-b782-3bcedf2dd1fc",
   "metadata": {},
   "outputs": [],
   "source": [
    "# This is the pipeline for approximate georeferencing\n",
    "sensor_georeference_pipeline = Pipeline([\n",
    "    ('nitelite', preprocess.NITELitePreprocesser(\n",
    "        output_columns=['filepath', 'sensor_x', 'sensor_y', 'camera_num'],\n",
    "        crs=crs\n",
    "    )),\n",
    "    ('sensor_georeference', reference.SensorGeoreferencer(crs=crs, passthrough=['filepath', 'camera_num'])),\n",
    "])\n",
    "\n",
    "sensor_georeference_pipeline_y = preprocess.GeoTIFFPreprocesser(crs=crs)"
   ]
  },
  {
   "cell_type": "code",
   "execution_count": null,
   "id": "a407f336-0cf1-46d0-81be-5b8dca5e0152",
   "metadata": {},
   "outputs": [],
   "source": [
    "# Get the geo-transforms used for training\n",
    "y_train = sensor_georeference_pipeline_y.fit_transform(fps_train)\n",
    "y_test = sensor_georeference_pipeline_y.fit_transform(fps_test)"
   ]
  },
  {
   "cell_type": "code",
   "execution_count": null,
   "id": "cb331bb1-8883-4163-8351-7105b86e5db9",
   "metadata": {},
   "outputs": [],
   "source": [
    "# Train the pipeline\n",
    "sensor_georeference_pipeline.fit(\n",
    "    fps_train,\n",
    "    y_train,\n",
    "    nitelite__img_log_fp=settings['img_log_fp'],\n",
    "    nitelite__imu_log_fp=settings['imu_log_fp'],\n",
    "    nitelite__gps_log_fp=settings['gps_log_fp'],\n",
    ")"
   ]
  },
  {
   "cell_type": "code",
   "execution_count": null,
   "id": "a10bffb3-55fd-43f9-bb28-046d618c442c",
   "metadata": {},
   "outputs": [],
   "source": [
    "# Get the approximate georeferences for the data we'll be testing\n",
    "if settings['use_approximate_georeferencing']:\n",
    "    X_test = sensor_georeference_pipeline.predict(fps_test)\n",
    "else:\n",
    "    georeference_pipeline = Pipeline([\n",
    "        ('nitelite', preprocess.NITELitePreprocesser(\n",
    "            output_columns=['filepath', 'camera_num'],\n",
    "            crs=crs,\n",
    "            unhandled_files='warn and drop',\n",
    "        )),\n",
    "        ('georeference', preprocess.GeoTIFFPreprocesser(crs=crs, passthrough=['camera_num'])),\n",
    "    ])\n",
    "    X_test = georeference_pipeline.fit_transform(\n",
    "        fps_test,\n",
    "        nitelite__img_log_fp=settings['img_log_fp'],\n",
    "        nitelite__imu_log_fp=settings['imu_log_fp'],\n",
    "        nitelite__gps_log_fp=settings['gps_log_fp'],\n",
    "    )"
   ]
  },
  {
   "cell_type": "code",
   "execution_count": null,
   "id": "14064a89-5973-4dcf-859f-6e36d1e621a3",
   "metadata": {},
   "outputs": [],
   "source": [
    "# Drop the files that were bad from the test data entirely\n",
    "fps_test = fps_test.loc[X_test.index]\n",
    "y_test = y_test.loc[X_test.index]"
   ]
  },
  {
   "cell_type": "code",
   "execution_count": null,
   "id": "2510f825-7cee-4d15-96fb-a328ffeb8fa1",
   "metadata": {},
   "outputs": [],
   "source": [
    "# The score for the fit gives us an estimate of the error from the approximate georeferencing\n",
    "first_pass_error = sensor_georeference_pipeline.score(fps_train, y_train)\n",
    "padding = settings['padding_factor'] * first_pass_error"
   ]
  },
  {
   "cell_type": "code",
   "execution_count": null,
   "id": "067d765b-280f-4e9d-8145-ee397fcb84a0",
   "metadata": {},
   "outputs": [],
   "source": [
    "# Check that our test Xs and ys align\n",
    "n_bad = (y_test['filepath'] != X_test['filepath']).sum()\n",
    "assert n_bad == 0, f'{n_bad} wrong filepaths'"
   ]
  },
  {
   "cell_type": "markdown",
   "id": "071155d1-07ca-4e9a-83f3-7c6506d06e88",
   "metadata": {},
   "source": [
    "# The Mosaic"
   ]
  },
  {
   "cell_type": "markdown",
   "id": "bf13bb96-1286-4cb7-8789-e0681c6d1b29",
   "metadata": {},
   "source": [
    "### Initialization"
   ]
  },
  {
   "cell_type": "markdown",
   "id": "d7321abc-b164-4cf6-9c1d-ec9ab0ea8b46",
   "metadata": {},
   "source": [
    "#### Test\n",
    "Check that initialization works, first with a mosaic that only uses the training data."
   ]
  },
  {
   "cell_type": "code",
   "execution_count": null,
   "id": "005cadce-1a8d-4996-b8fc-b6be93c7be54",
   "metadata": {},
   "outputs": [],
   "source": [
    "small_less_reffed_mosaic = mosaic.LessReferencedMosaic(\n",
    "    filepath=settings['mosaic_filepath'],\n",
    "    padding=padding,\n",
    "    file_exists='overwrite',\n",
    ")"
   ]
  },
  {
   "cell_type": "code",
   "execution_count": null,
   "id": "c94fdbde-8b57-4974-9a98-55ecd2292109",
   "metadata": {},
   "outputs": [],
   "source": [
    "small_less_reffed_mosaic.fit(\n",
    "    X=y_train,\n",
    "    approx_y=y_train,\n",
    ")"
   ]
  },
  {
   "cell_type": "code",
   "execution_count": null,
   "id": "f702865e-729c-469d-a6bb-c82477690bc5",
   "metadata": {},
   "outputs": [],
   "source": [
    "# The full mosaic image that's saved\n",
    "mosaic_img = small_less_reffed_mosaic.dataset_.ReadAsArray().transpose(1, 2, 0)\n",
    "mosaic_image = raster.ReferencedImage(\n",
    "    mosaic_img[:, :, :3],\n",
    "    [small_less_reffed_mosaic.x_min_, small_less_reffed_mosaic.x_max_],\n",
    "    [small_less_reffed_mosaic.y_min_, small_less_reffed_mosaic.y_max_]\n",
    ")"
   ]
  },
  {
   "cell_type": "code",
   "execution_count": null,
   "id": "7a10d9ff-c277-426c-8b48-2c56e4158f36",
   "metadata": {},
   "outputs": [],
   "source": [
    "# The actual image used to make it\n",
    "original_image = raster.ReferencedImage.open(y_train.iloc[0]['filepath'])"
   ]
  },
  {
   "cell_type": "code",
   "execution_count": null,
   "id": "0c7325a4-d0b5-4515-9ae9-1e70c315af9c",
   "metadata": {},
   "outputs": [],
   "source": [
    "# Compare the mosaic to the actual\n",
    "mosaic_image.show(crs='cartesian', img='semitransparent_img')\n",
    "\n",
    "fig = plt.gcf()\n",
    "ax = plt.gca()\n",
    "\n",
    "original_image.show(crs='cartesian', img='semitransparent_img', ax=ax)   "
   ]
  },
  {
   "cell_type": "code",
   "execution_count": null,
   "id": "0b97be03-0ed7-419b-afd5-16e28c10864f",
   "metadata": {},
   "outputs": [],
   "source": [
    "# Check the centers\n",
    "mosaic_center = np.array(mosaic_image.cart_bounds).mean(axis=1)\n",
    "original_center = np.array(original_image.cart_bounds).mean(axis=1)\n",
    "d_between_centers = np.linalg.norm(mosaic_center - original_center)\n",
    "np.testing.assert_allclose(d_between_centers, 0.)"
   ]
  },
  {
   "cell_type": "code",
   "execution_count": null,
   "id": "9cb140e0-533e-49be-8b6b-4a178b8463f9",
   "metadata": {
    "scrolled": true
   },
   "outputs": [],
   "source": [
    "# Check the widths\n",
    "mosaic_width, mosaic_height = np.diff(mosaic_image.cart_bounds, axis=1).flatten()\n",
    "original_width, original_height = np.diff(original_image.cart_bounds, axis=1).flatten()\n",
    "np.testing.assert_allclose(mosaic_width, original_width + 2. * padding)\n",
    "np.testing.assert_allclose(mosaic_height, original_height + 2. * padding)"
   ]
  },
  {
   "cell_type": "markdown",
   "id": "f9c287ae-e3b1-487c-a0fd-31027d6f587e",
   "metadata": {},
   "source": [
    "#### Actual full initialization and fit"
   ]
  },
  {
   "cell_type": "code",
   "execution_count": null,
   "id": "9427438d-171e-41a5-a402-77e65831788c",
   "metadata": {},
   "outputs": [],
   "source": [
    "less_reffed_mosaic = mosaic.LessReferencedMosaic(\n",
    "    filepath=settings['mosaic_filepath'],\n",
    "    padding=padding,\n",
    "    file_exists='overwrite',\n",
    ")"
   ]
  },
  {
   "cell_type": "code",
   "execution_count": null,
   "id": "a5b3b750-1c67-4dea-ba3b-78028b817501",
   "metadata": {},
   "outputs": [],
   "source": [
    "# This creates the dataset and adds the referenced mosaic.\n",
    "less_reffed_mosaic.fit(\n",
    "    X=y_train,\n",
    "    approx_y=X_test[['filepath'] + preprocess.GEOTRANSFORM_COLS],\n",
    ")"
   ]
  },
  {
   "cell_type": "markdown",
   "id": "f0a8af12-6d12-42d7-9877-5bafcd2bbbae",
   "metadata": {},
   "source": [
    "## Convert geotransforms to pixel offsets and counts"
   ]
  },
  {
   "cell_type": "code",
   "execution_count": null,
   "id": "182c6c45-6a23-4d51-b8d9-54abeb42e5ed",
   "metadata": {},
   "outputs": [],
   "source": [
    "(\n",
    "    X_test['x_off'], X_test['y_off'],\n",
    "    X_test['x_size'], X_test['y_size']\n",
    ") = less_reffed_mosaic.physical_to_pixel(\n",
    "    X_test['x_min'], X_test['x_max'],\n",
    "    X_test['y_min'], X_test['y_max'],\n",
    "    padding = less_reffed_mosaic.padding\n",
    ")"
   ]
  },
  {
   "cell_type": "code",
   "execution_count": null,
   "id": "41be5c9a-a105-4cb9-988b-de3bbadf9b68",
   "metadata": {},
   "outputs": [],
   "source": [
    "(\n",
    "    y_train['x_off'], y_train['y_off'],\n",
    "    y_train['x_size'], y_train['y_size']\n",
    ") = less_reffed_mosaic.physical_to_pixel(\n",
    "    y_train['x_min'], y_train['x_max'],\n",
    "    y_train['y_min'], y_train['y_max'],\n",
    "    padding = less_reffed_mosaic.padding\n",
    ")"
   ]
  },
  {
   "cell_type": "markdown",
   "id": "57f30588-8fee-4a76-a005-5c6cda849d67",
   "metadata": {},
   "source": [
    "## Determine order of iteration"
   ]
  },
  {
   "cell_type": "code",
   "execution_count": null,
   "id": "e9ab34d3-2150-4eb0-802d-d243a8a5aab9",
   "metadata": {},
   "outputs": [],
   "source": [
    "# Camera order of iteration--1 is the nader camera, so that's first\n",
    "X_test['camera_order'] = X_test['camera_num'].map({0: 1, 1: 0, 2: 2})"
   ]
  },
  {
   "cell_type": "code",
   "execution_count": null,
   "id": "1dd16687-04b5-4f80-bcfe-9ebad5783370",
   "metadata": {},
   "outputs": [],
   "source": [
    "# Proximity order of iteration\n",
    "center_coords = y_train[['x_center', 'y_center']].mean()\n",
    "offset = X_test[['x_center', 'y_center']] - center_coords\n",
    "X_test['d_to_center'] = np.linalg.norm(offset, axis=1)"
   ]
  },
  {
   "cell_type": "code",
   "execution_count": null,
   "id": "fa2182af-256a-45fe-bc2f-b106e8502f10",
   "metadata": {},
   "outputs": [],
   "source": [
    "# Actual sort\n",
    "X_iter = X_test.sort_values(['camera_order', 'd_to_center'])\n",
    "X_iter['order'] = np.arange(len(X_iter))\n",
    "iter_inds = X_iter.index"
   ]
  },
  {
   "cell_type": "code",
   "execution_count": null,
   "id": "b9f0eb35-ecdc-47ab-afb2-57f56010abdd",
   "metadata": {},
   "outputs": [],
   "source": [
    "# Let's take a look.\n",
    "sp = sns.scatterplot(\n",
    "    data=X_iter,\n",
    "    x='x_center',\n",
    "    y='y_center',\n",
    "    hue='order',\n",
    ")\n",
    "sp.set_aspect('equal')"
   ]
  },
  {
   "cell_type": "markdown",
   "id": "04c8faea-db3e-4bbf-a58f-a9de615598f1",
   "metadata": {},
   "source": [
    "## First Image\n",
    "We'll test the first loop in greater detail than the others."
   ]
  },
  {
   "cell_type": "code",
   "execution_count": null,
   "id": "ac71b3a1-0b40-43ba-a96d-b8e1005579f0",
   "metadata": {},
   "outputs": [],
   "source": [
    "i = 0\n",
    "row = X_iter.iloc[i]"
   ]
  },
  {
   "cell_type": "code",
   "execution_count": null,
   "id": "95d91a9d-e4c4-4313-8c6d-96615f940b3b",
   "metadata": {},
   "outputs": [],
   "source": [
    "mosaic_img = less_reffed_mosaic.dataset_.ReadAsArray().transpose(1, 2, 0)"
   ]
  },
  {
   "cell_type": "markdown",
   "id": "6347222c-f560-4d1e-baea-d6b45f0f3157",
   "metadata": {},
   "source": [
    "### Search Region in the Context of the Full Mosaic"
   ]
  },
  {
   "cell_type": "code",
   "execution_count": null,
   "id": "4a8dbf46-b78c-4f55-bd28-e223611715eb",
   "metadata": {},
   "outputs": [],
   "source": [
    "# Expected bounds\n",
    "x_off = row['x_off']\n",
    "y_off = row['y_off']\n",
    "x_size = row['x_size']\n",
    "y_size = row['y_size']"
   ]
  },
  {
   "cell_type": "code",
   "execution_count": null,
   "id": "c4d9a11f-7a7e-47cb-b642-517eb24c962c",
   "metadata": {},
   "outputs": [],
   "source": [
    "(\n",
    "x_off_nopad, y_off_nopad,\n",
    "x_size_nopad, y_size_nopad,\n",
    ") = less_reffed_mosaic.physical_to_pixel(\n",
    "    row['x_min'], row['x_max'],\n",
    "    row['y_min'], row['y_max'],\n",
    ")"
   ]
  },
  {
   "cell_type": "code",
   "execution_count": null,
   "id": "f300c306-7ffc-4816-825a-9dbedfb64671",
   "metadata": {},
   "outputs": [],
   "source": [
    "fig = plt.figure(figsize=(20,10))\n",
    "ax = plt.gca()\n",
    "\n",
    "# Current mosaic\n",
    "ax.imshow(mosaic_img)\n",
    "\n",
    "# The first image location\n",
    "rect = patches.Rectangle(\n",
    "    (x_off, y_off),\n",
    "    x_size,\n",
    "    y_size,\n",
    "    linewidth = 3,\n",
    "    facecolor = 'none',\n",
    "    edgecolor = palette[0],\n",
    ")\n",
    "ax.add_patch(rect)\n",
    "\n",
    "# The non-padded first image location\n",
    "rect = patches.Rectangle(\n",
    "    (x_off_nopad, y_off_nopad),\n",
    "    x_size_nopad,\n",
    "    y_size_nopad,\n",
    "    linewidth = 3,\n",
    "    facecolor = 'none',\n",
    "    edgecolor = palette[1],\n",
    ")\n",
    "ax.add_patch(rect)\n",
    "\n",
    "# ax.set_xlim(6000, 10000)\n",
    "# ax.set_ylim(13000, 9000)\n",
    "\n",
    "ax.set_aspect('equal')"
   ]
  },
  {
   "cell_type": "markdown",
   "id": "ca2701b6-7813-40e7-bd3f-cf7b8ef4d5be",
   "metadata": {},
   "source": [
    "### Search Region Image "
   ]
  },
  {
   "cell_type": "code",
   "execution_count": null,
   "id": "7915ac8d-305f-4e53-896e-8e959aa132ed",
   "metadata": {},
   "outputs": [],
   "source": [
    "# The existing mosaic at this location\n",
    "dst_img = less_reffed_mosaic.get_image(x_off, y_off, x_size, y_size)"
   ]
  },
  {
   "cell_type": "code",
   "execution_count": null,
   "id": "95c18e9a-7384-461a-a90c-3f6947ead37e",
   "metadata": {},
   "outputs": [],
   "source": [
    "# At this time we expect all data added to the mosaic to be within the bounds of the search region, if we're using approximate georeferencing\n",
    "if settings['use_approximate_georeferencing']:\n",
    "    assert dst_img.sum() == mosaic_img.sum()"
   ]
  },
  {
   "cell_type": "markdown",
   "id": "c5a10e67-ada1-4a12-8360-a62f75d8ffd4",
   "metadata": {},
   "source": [
    "This is plotted below with matched features."
   ]
  },
  {
   "cell_type": "code",
   "execution_count": null,
   "id": "76c4743a-5bd3-483a-9090-26e85fff056e",
   "metadata": {},
   "outputs": [],
   "source": [
    "# Here's a zoomed in version so we know what we should be looking at.\n",
    "row_train = y_train.iloc[0]\n",
    "zoom_dst_img = less_reffed_mosaic.get_image(\n",
    "    row_train['x_off'], row_train['y_off'],\n",
    "    row_train['x_size'], row_train['y_size']\n",
    ")\n",
    "plt.imshow(zoom_dst_img)"
   ]
  },
  {
   "cell_type": "markdown",
   "id": "69b4339a-3833-4b76-bcbb-344dcb1cab11",
   "metadata": {},
   "source": [
    "### Search Region KeyPoints\n",
    "We get these for later."
   ]
  },
  {
   "cell_type": "code",
   "execution_count": null,
   "id": "e174455b-a537-43b0-ab9d-496b7ce22410",
   "metadata": {},
   "outputs": [],
   "source": [
    "# Get the features from the original mosaic\n",
    "dst_kp, dst_des = less_reffed_mosaic.feature_detector_.detectAndCompute(dst_img, None)"
   ]
  },
  {
   "cell_type": "code",
   "execution_count": null,
   "id": "9f057a40-5a18-408e-8902-a374ebe6687b",
   "metadata": {},
   "outputs": [],
   "source": [
    "# Transform the dst keypoints to mosaic frame\n",
    "dsframe_dst_pts = cv2.KeyPoint_convert(dst_kp) + np.array([x_off, y_off])\n",
    "dsframe_dst_des = copy.copy(dst_des)"
   ]
  },
  {
   "cell_type": "markdown",
   "id": "5178b10a-4785-4122-ab54-bbea96f1ad92",
   "metadata": {},
   "source": [
    "### New Image"
   ]
  },
  {
   "cell_type": "code",
   "execution_count": null,
   "id": "cedc4f19-3436-40e2-bed0-6a59580a862a",
   "metadata": {},
   "outputs": [],
   "source": [
    "src_img = utils.load_image(\n",
    "    row['filepath'],\n",
    "    dtype=less_reffed_mosaic.dtype,\n",
    ")"
   ]
  },
  {
   "cell_type": "markdown",
   "id": "6e8ed231-00d6-4079-a01e-208fb793c4f2",
   "metadata": {},
   "source": [
    "This is plotted below with matched features."
   ]
  },
  {
   "cell_type": "markdown",
   "id": "29c1b394-d2c1-4c18-9b98-a31328d2ce8e",
   "metadata": {},
   "source": [
    "### Feature Matching"
   ]
  },
  {
   "cell_type": "code",
   "execution_count": null,
   "id": "74ddd58f-c6fe-4aa5-b55b-6ea10a153310",
   "metadata": {},
   "outputs": [],
   "source": [
    "src_kp, src_des = less_reffed_mosaic.feature_detector_.detectAndCompute(src_img, None)"
   ]
  },
  {
   "cell_type": "code",
   "execution_count": null,
   "id": "b955443d-5846-4583-a2b5-e901ce608ca6",
   "metadata": {},
   "outputs": [],
   "source": [
    "# Get and validate the transform predicted from feature matching\n",
    "M, info = utils.calc_warp_transform(src_kp, src_des, dst_kp, dst_des)\n",
    "assert utils.validate_warp_transform(M, less_reffed_mosaic.homography_det_min)"
   ]
  },
  {
   "cell_type": "code",
   "execution_count": null,
   "id": "721048c3-56cd-4089-a3b1-305ba68ae622",
   "metadata": {},
   "outputs": [],
   "source": [
    "# Inspect relationship\n",
    "mask = info['mask'].reshape(info['mask'].size).astype(bool)\n",
    "valid_src_pts = info['matched_src_pts'].reshape((mask.size, 2))[mask]\n",
    "valid_dst_pts = info['matched_dst_pts'].reshape((mask.size, 2))[mask]"
   ]
  },
  {
   "cell_type": "code",
   "execution_count": null,
   "id": "08ad10e3-864d-41e0-9270-ac54a18c1f40",
   "metadata": {},
   "outputs": [],
   "source": [
    "subplot_mosaic = [['dst_img', 'src_img']]\n",
    "fig = plt.figure(figsize=(20,10))\n",
    "ax_dict = fig.subplot_mosaic(subplot_mosaic)\n",
    "\n",
    "ax = ax_dict['dst_img']\n",
    "ax.imshow(dst_img)\n",
    "\n",
    "ax = ax_dict['src_img']\n",
    "ax.imshow(src_img)\n",
    "\n",
    "for i in range(valid_src_pts.shape[0]):\n",
    "\n",
    "    con = patches.ConnectionPatch(\n",
    "        xyA=valid_dst_pts[i],\n",
    "        xyB=valid_src_pts[i],\n",
    "        coordsA='data',\n",
    "        coordsB='data',\n",
    "        axesA=ax_dict['dst_img'],\n",
    "        axesB=ax_dict['src_img'],\n",
    "        color=palette[1],\n",
    "        linewidth=3,\n",
    "    )\n",
    "    ax.add_artist(con)"
   ]
  },
  {
   "cell_type": "markdown",
   "id": "e67d2d0c-9091-4d18-b623-3af3a235168f",
   "metadata": {},
   "source": [
    "The feature matching above should look pretty good. It does as I'm writing this."
   ]
  },
  {
   "cell_type": "markdown",
   "id": "16442e71-4b08-4fd6-ac5c-8f779218e59b",
   "metadata": {},
   "source": [
    "### Warp the Source Image"
   ]
  },
  {
   "cell_type": "code",
   "execution_count": null,
   "id": "1b8c42ea-d003-4245-96a8-96e2aab0faf7",
   "metadata": {},
   "outputs": [],
   "source": [
    "# Warp the image being fit\n",
    "warped_img = utils.warp_image(src_img, dst_img, M)"
   ]
  },
  {
   "cell_type": "code",
   "execution_count": null,
   "id": "4a3a9e95-fbcc-43ed-b258-a68909bc5259",
   "metadata": {},
   "outputs": [],
   "source": [
    "raster.Image(warped_img[:, :, :3]).show(img='semitransparent_img')"
   ]
  },
  {
   "cell_type": "code",
   "execution_count": null,
   "id": "4adb8e6b-9f50-42a2-b7ac-ed865c0e8ce0",
   "metadata": {},
   "outputs": [],
   "source": [
    "# The warped image should have the same dimensions as the dst img\n",
    "assert warped_img.shape[:2] == dst_img.shape[:2]"
   ]
  },
  {
   "cell_type": "markdown",
   "id": "fc2b6a90-5c19-4932-8cce-0d5d87ba3a16",
   "metadata": {},
   "source": [
    "### Blend the images"
   ]
  },
  {
   "cell_type": "code",
   "execution_count": null,
   "id": "ca91177e-ea40-4e0b-9da2-781bd8a07c7d",
   "metadata": {},
   "outputs": [],
   "source": [
    "blended_img = less_reffed_mosaic.blend_images(\n",
    "    src_img=warped_img,\n",
    "    dst_img=dst_img,\n",
    ")"
   ]
  },
  {
   "cell_type": "markdown",
   "id": "0d198f0a-6990-42af-870c-264348a5945c",
   "metadata": {},
   "source": [
    "### Save and look at the mosaic"
   ]
  },
  {
   "cell_type": "code",
   "execution_count": null,
   "id": "c32be657-c624-480e-8cec-96e91b72d2c2",
   "metadata": {},
   "outputs": [],
   "source": [
    "less_reffed_mosaic.save_image(blended_img, x_off, y_off)"
   ]
  },
  {
   "cell_type": "code",
   "execution_count": null,
   "id": "61bb0d44-b5a4-4301-856e-495916ef0e83",
   "metadata": {},
   "outputs": [],
   "source": [
    "# Get the region of just the first image for comparison from before\n",
    "zoom_dst_img_after = less_reffed_mosaic.get_image(\n",
    "    row_train['x_off'], row_train['y_off'],\n",
    "    row_train['x_size'], row_train['y_size'],\n",
    ")"
   ]
  },
  {
   "cell_type": "code",
   "execution_count": null,
   "id": "f4c74871-8acc-4249-8b8b-f69d4e5021ec",
   "metadata": {},
   "outputs": [],
   "source": [
    "# More content should have been added\n",
    "assert zoom_dst_img_after.sum() > zoom_dst_img.sum()"
   ]
  },
  {
   "cell_type": "code",
   "execution_count": null,
   "id": "20b972e0-0573-4d15-879a-eab640932258",
   "metadata": {},
   "outputs": [],
   "source": [
    "# View\n",
    "subplot_mosaic = [['before', 'after']]\n",
    "fig = plt.figure(figsize=(20,10))\n",
    "ax_dict = fig.subplot_mosaic(subplot_mosaic)\n",
    "\n",
    "ax = ax_dict['before']\n",
    "raster.Image(zoom_dst_img[:, :, :3]).show(img='semitransparent_img', ax=ax)\n",
    "\n",
    "ax = ax_dict['after']\n",
    "raster.Image(zoom_dst_img_after[:, :, :3]).show(img='semitransparent_img', ax=ax)"
   ]
  },
  {
   "cell_type": "markdown",
   "id": "b0db6059-5892-4141-a023-2de41dc0c12c",
   "metadata": {},
   "source": [
    "### Warp the Keypoints"
   ]
  },
  {
   "cell_type": "code",
   "execution_count": null,
   "id": "7a0d44af-62a0-4852-8553-f9cd63354ec1",
   "metadata": {},
   "outputs": [],
   "source": [
    "# Transform to local frame and then the full mosaic frame\n",
    "src_pts = cv2.KeyPoint_convert(src_kp)\n",
    "global_src_pts = cv2.perspectiveTransform(src_pts.reshape(-1, 1, 2), M).reshape(-1, 2)\n",
    "global_src_pts += np.array([x_off, y_off])"
   ]
  },
  {
   "cell_type": "code",
   "execution_count": null,
   "id": "1c1cdb8f-5d5d-4ab6-bf17-2a221deca0bb",
   "metadata": {},
   "outputs": [],
   "source": [
    "# Store the transformed points for the next loop\n",
    "dsframe_dst_pts = np.append(dsframe_dst_pts, global_src_pts, axis=0)\n",
    "dsframe_dst_des = np.append(dsframe_dst_des, src_des, axis=0)"
   ]
  },
  {
   "cell_type": "code",
   "execution_count": null,
   "id": "8da416e1-f5bd-49ba-a59e-b79bf8fd722b",
   "metadata": {},
   "outputs": [],
   "source": [
    "fig = plt.figure()\n",
    "ax = plt.gca()\n",
    "\n",
    "sns.scatterplot(\n",
    "    x=dsframe_dst_pts[:,0],\n",
    "    y=dsframe_dst_pts[:,1],\n",
    "    ax = ax,\n",
    ")\n",
    "\n",
    "rect = patches.Rectangle(\n",
    "    (x_off, y_off),\n",
    "    x_size,\n",
    "    y_size,\n",
    "    linewidth = 3,\n",
    "    facecolor = 'none',\n",
    "    edgecolor = palette[0],\n",
    ")\n",
    "ax.add_patch(rect)\n",
    "\n",
    "ax.set_xlim(0, less_reffed_mosaic.dataset_.RasterXSize)\n",
    "ax.set_ylim(less_reffed_mosaic.dataset_.RasterYSize, 0)\n",
    "ax.set_aspect('equal')"
   ]
  },
  {
   "cell_type": "code",
   "execution_count": null,
   "id": "d1218056-9fcd-42e8-a0f7-684ccbf30404",
   "metadata": {},
   "outputs": [],
   "source": [
    "# Automated check that everything's in bounds\n",
    "not_in_bounds = ~(\n",
    "    (x_off <= dsframe_dst_pts[:,0] )\n",
    "    & (dsframe_dst_pts[:,0] <= x_off + x_size)\n",
    "    & (y_off <= dsframe_dst_pts[:,1] )\n",
    "    & (dsframe_dst_pts[:,1] <= y_off + y_size)\n",
    ")\n",
    "assert not_in_bounds.sum() == 0"
   ]
  },
  {
   "cell_type": "markdown",
   "id": "e6f30fe0-bea5-4e61-a8a9-59ee5cb2b301",
   "metadata": {},
   "source": [
    "### Check the georeferencing"
   ]
  },
  {
   "cell_type": "code",
   "execution_count": null,
   "id": "8a32d396-56aa-47ed-b05e-e341aa3dc71a",
   "metadata": {},
   "outputs": [],
   "source": [
    "# Call the fn\n",
    "warped_x_off, warped_y_off, warped_x_size, warped_y_size = utils.warp_bounds(src_img, M)\n",
    "warped_x_off += x_off\n",
    "warped_y_off += y_off"
   ]
  },
  {
   "cell_type": "code",
   "execution_count": null,
   "id": "80aebf5d-e7c0-4af8-81b0-4baa4cbf6afa",
   "metadata": {},
   "outputs": [],
   "source": [
    "# Convert to physical\n",
    "warped_x_min, warped_x_max, warped_y_min, warped_y_max = less_reffed_mosaic.pixel_to_physical(\n",
    "    warped_x_off, warped_y_off, warped_x_size, warped_y_size)"
   ]
  },
  {
   "cell_type": "code",
   "execution_count": null,
   "id": "e3d44d69-0a1e-4bbb-99bb-7720929276e9",
   "metadata": {},
   "outputs": [],
   "source": [
    "# Get the recorded bounds\n",
    "recorded_x_min, recorded_x_max, recorded_y_min, recorded_y_max = y_test.loc[row.name, ['x_min', 'x_max', 'y_min', 'y_max']]"
   ]
  },
  {
   "cell_type": "code",
   "execution_count": null,
   "id": "69005d6e-7ea7-4e29-a788-03a25b15a762",
   "metadata": {},
   "outputs": [],
   "source": [
    "# Get the centers\n",
    "warped_center = np.array([\n",
    "    0.5 * (warped_x_min + warped_x_max),\n",
    "    0.5 * (warped_y_min + warped_y_max),\n",
    "])\n",
    "recorded_center = np.array([\n",
    "    0.5 * (recorded_x_min + recorded_x_max),\n",
    "    0.5 * (recorded_y_min + recorded_y_max),\n",
    "])"
   ]
  },
  {
   "cell_type": "code",
   "execution_count": null,
   "id": "6ad69415-bbe4-48b8-8b8a-25a79620f34b",
   "metadata": {},
   "outputs": [],
   "source": [
    "# Check the centers\n",
    "assert np.linalg.norm(warped_center - recorded_center) < 100."
   ]
  },
  {
   "cell_type": "code",
   "execution_count": null,
   "id": "7de07f96-b388-44ee-b7f6-2e1c1b96480f",
   "metadata": {},
   "outputs": [],
   "source": [
    "fig = plt.figure(figsize=(20,10))\n",
    "ax = plt.gca()\n",
    "\n",
    "# The warped image location\n",
    "width = warped_x_max - warped_x_min\n",
    "height = warped_y_max - warped_y_min\n",
    "rect = patches.Rectangle(\n",
    "    (warped_x_min, warped_y_min),\n",
    "    width,\n",
    "    height,\n",
    "    linewidth = 3,\n",
    "    facecolor = 'none',\n",
    "    edgecolor = palette[0],\n",
    ")\n",
    "ax.add_patch(rect)\n",
    "ax.scatter(\n",
    "    *warped_center,\n",
    "    s=100,\n",
    "    color=palette[0],\n",
    ")\n",
    "\n",
    "# The actual image location\n",
    "rect = patches.Rectangle(\n",
    "    (recorded_x_min, recorded_y_min),\n",
    "    recorded_x_max - recorded_x_min,\n",
    "    recorded_y_max - recorded_y_min,\n",
    "    linewidth = 3,\n",
    "    facecolor = 'none',\n",
    "    edgecolor = palette[1],\n",
    ")\n",
    "ax.add_patch(rect)\n",
    "ax.scatter(\n",
    "    *recorded_center,\n",
    "    s=100,\n",
    "    color=palette[1],\n",
    ")\n",
    "\n",
    "padding_for_this_plot = 0.1 * width\n",
    "ax.set_xlim(warped_x_min - padding_for_this_plot, warped_x_max + padding_for_this_plot)\n",
    "ax.set_ylim(warped_y_min - padding_for_this_plot, warped_y_max + padding_for_this_plot)\n",
    "\n",
    "ax.set_aspect('equal')"
   ]
  },
  {
   "cell_type": "markdown",
   "id": "3d29fab6-a135-4988-b446-546531539677",
   "metadata": {},
   "source": [
    "## Next Image"
   ]
  },
  {
   "cell_type": "code",
   "execution_count": null,
   "id": "67631862-c4d9-4b1a-8b3c-099ee495a5c3",
   "metadata": {},
   "outputs": [],
   "source": [
    "i = 1\n",
    "row = X_iter.iloc[i]"
   ]
  },
  {
   "cell_type": "markdown",
   "id": "f410123f-4e23-4943-a152-e149fcc1c4c7",
   "metadata": {},
   "source": [
    "### Preview keypoint selection"
   ]
  },
  {
   "cell_type": "code",
   "execution_count": null,
   "id": "1610d3ca-1b19-4b33-be37-9707207f54c0",
   "metadata": {},
   "outputs": [],
   "source": [
    "x_off = row['x_off']\n",
    "y_off = row['y_off']\n",
    "x_size = row['x_size']\n",
    "y_size = row['y_size']"
   ]
  },
  {
   "cell_type": "code",
   "execution_count": null,
   "id": "a3995f81-023c-480e-99ad-ca00ecffd0aa",
   "metadata": {},
   "outputs": [],
   "source": [
    "in_bounds = less_reffed_mosaic.check_bounds(\n",
    "    dsframe_dst_pts,\n",
    "    x_off, y_off, x_size, y_size,\n",
    ")"
   ]
  },
  {
   "cell_type": "code",
   "execution_count": null,
   "id": "31c26cfd-316a-48f1-8f60-c0d1c30e0752",
   "metadata": {},
   "outputs": [],
   "source": [
    "assert in_bounds.sum() > 0, \\\n",
    "    f'No image data in the search zone for index {row.name}'"
   ]
  },
  {
   "cell_type": "code",
   "execution_count": null,
   "id": "95ec1096-5e10-43da-b1d4-d099ba14619c",
   "metadata": {},
   "outputs": [],
   "source": [
    "dst_pts = dsframe_dst_pts[in_bounds]\n",
    "dst_des = dsframe_dst_des[in_bounds]"
   ]
  },
  {
   "cell_type": "code",
   "execution_count": null,
   "id": "cb37b6eb-4e7a-44ef-8ee6-a4d6f299a7e8",
   "metadata": {},
   "outputs": [],
   "source": [
    "# At this point in the loops, *all* the points should be in bounds, if we're doing approximate georeferencing\n",
    "if settings['use_approximate_georeferencing']:\n",
    "    assert (~in_bounds).sum() == 0"
   ]
  },
  {
   "cell_type": "markdown",
   "id": "58b8afc8-53a0-4cba-a44e-dde9441c6116",
   "metadata": {},
   "source": [
    "### Call the typical function"
   ]
  },
  {
   "cell_type": "code",
   "execution_count": null,
   "id": "ff02d4b5-cc08-48c9-9a63-2ef73a8d637a",
   "metadata": {},
   "outputs": [],
   "source": [
    "return_code, info = less_reffed_mosaic.incorporate_image(\n",
    "    row,\n",
    "    dsframe_dst_pts,\n",
    "    dsframe_dst_des,\n",
    ")"
   ]
  },
  {
   "cell_type": "code",
   "execution_count": null,
   "id": "8398fdd6-f578-4335-bc4e-0ddc6d189b67",
   "metadata": {},
   "outputs": [],
   "source": [
    "assert return_code == 0, 'Image combined unsuccessfully.'"
   ]
  },
  {
   "cell_type": "code",
   "execution_count": null,
   "id": "b7927692-7e98-4821-a1a5-8202165a613d",
   "metadata": {},
   "outputs": [],
   "source": [
    "zoom_dst_img_after2 = less_reffed_mosaic.get_image(\n",
    "    row_train['x_off'], row_train['y_off'],\n",
    "    row_train['x_size'], row_train['y_size'],\n",
    ")"
   ]
  },
  {
   "cell_type": "code",
   "execution_count": null,
   "id": "337c82dd-ec3e-4078-ba8f-fe80966557e3",
   "metadata": {},
   "outputs": [],
   "source": [
    "subplot_mosaic = [['before', 'after']]\n",
    "fig = plt.figure(figsize=(20,10))\n",
    "ax_dict = fig.subplot_mosaic(subplot_mosaic)\n",
    "\n",
    "ax = ax_dict['before']\n",
    "raster.Image(zoom_dst_img_after[:, :, :3]).show(img='semitransparent_img', ax=ax)\n",
    "\n",
    "ax = ax_dict['after']\n",
    "raster.Image(zoom_dst_img_after2[:, :, :3]).show(img='semitransparent_img', ax=ax)"
   ]
  },
  {
   "cell_type": "markdown",
   "id": "93a983f1-6077-4a5d-9a93-c2a592660197",
   "metadata": {},
   "source": [
    "### Check georeferencing"
   ]
  },
  {
   "cell_type": "code",
   "execution_count": null,
   "id": "968f95df-f75f-441a-ae1a-5eb29eaa07da",
   "metadata": {},
   "outputs": [],
   "source": [
    "# Get the recorded bounds\n",
    "recorded_x_min, recorded_x_max, recorded_y_min, recorded_y_max = y_test.loc[row.name, ['x_min', 'x_max', 'y_min', 'y_max']]"
   ]
  },
  {
   "cell_type": "code",
   "execution_count": null,
   "id": "c13b25e1-01d7-4cf2-861d-b9a2ca27bbb6",
   "metadata": {},
   "outputs": [],
   "source": [
    "# Get the warped bounds\n",
    "(\n",
    "    warped_x_min, warped_x_max,\n",
    "    warped_y_min, warped_y_max,\n",
    ") = less_reffed_mosaic.pixel_to_physical(\n",
    "    info['x_off'], info['y_off'],\n",
    "    info['x_size'], info['y_size'],\n",
    ")"
   ]
  },
  {
   "cell_type": "code",
   "execution_count": null,
   "id": "3dee60ec-a8b2-43ee-a1c1-b52cb85686eb",
   "metadata": {},
   "outputs": [],
   "source": [
    "# Get the centers\n",
    "warped_center = np.array([\n",
    "    0.5 * (warped_x_min + warped_x_max),\n",
    "    0.5 * (warped_y_min + warped_y_max),\n",
    "])\n",
    "recorded_center = np.array([\n",
    "    0.5 * (recorded_x_min + recorded_x_max),\n",
    "    0.5 * (recorded_y_min + recorded_y_max),\n",
    "])"
   ]
  },
  {
   "cell_type": "code",
   "execution_count": null,
   "id": "3df19d91-0337-4a72-8639-4db311c92f62",
   "metadata": {},
   "outputs": [],
   "source": [
    "# Check the centers\n",
    "d_between_centers = np.linalg.norm(warped_center - recorded_center)\n",
    "assert d_between_centers < 100."
   ]
  },
  {
   "cell_type": "code",
   "execution_count": null,
   "id": "760c99b8-fac4-4382-8c2b-4ea3f59b1cf4",
   "metadata": {},
   "outputs": [],
   "source": [
    "src_image = raster.ReferencedImage.open(row['filepath'])"
   ]
  },
  {
   "cell_type": "code",
   "execution_count": null,
   "id": "8e3dd8d6-d900-4939-bb30-2b5f17cfcc52",
   "metadata": {},
   "outputs": [],
   "source": [
    "blended_img = less_reffed_mosaic.get_image(row['x_off'], row['y_off'], row['x_size'], row['y_size'])\n",
    "blended_image = raster.ReferencedImage(blended_img[:, :, :3], [row['x_min'], row['x_max']], [row['y_min'], row['y_max']])"
   ]
  },
  {
   "cell_type": "code",
   "execution_count": null,
   "id": "87156785-c00e-417c-8ed2-3758100d959c",
   "metadata": {},
   "outputs": [],
   "source": [
    "fig = plt.figure(figsize=(20,10))\n",
    "ax = plt.gca()\n",
    "\n",
    "blended_image.show(crs='cartesian', img='semitransparent_img', ax=ax)\n",
    "\n",
    "src_image.show(crs='cartesian', img='semitransparent_img', ax=ax)\n",
    "\n",
    "# The warped image location\n",
    "width = warped_x_max - warped_x_min\n",
    "height = warped_y_max - warped_y_min\n",
    "rect = patches.Rectangle(\n",
    "    (warped_x_min, warped_y_min),\n",
    "    width,\n",
    "    height,\n",
    "    linewidth = 3,\n",
    "    facecolor = 'none',\n",
    "    edgecolor = palette[0],\n",
    ")\n",
    "ax.add_patch(rect)\n",
    "ax.scatter(\n",
    "    *warped_center,\n",
    "    s=100,\n",
    "    color=palette[0],\n",
    "    label='found',\n",
    ")\n",
    "\n",
    "# The actual image location\n",
    "rect = patches.Rectangle(\n",
    "    (recorded_x_min, recorded_y_min),\n",
    "    recorded_x_max - recorded_x_min,\n",
    "    recorded_y_max - recorded_y_min,\n",
    "    linewidth = 3,\n",
    "    facecolor = 'none',\n",
    "    edgecolor = palette[1],\n",
    ")\n",
    "ax.add_patch(rect)\n",
    "ax.scatter(\n",
    "    *recorded_center,\n",
    "    s=100,\n",
    "    color=palette[1],\n",
    "    label='recorded',\n",
    ")\n",
    "\n",
    "padding_for_this_plot = 0.1 * width\n",
    "ax.set_xlim(warped_x_min - padding_for_this_plot, warped_x_max + padding_for_this_plot)\n",
    "ax.set_ylim(warped_y_min - padding_for_this_plot, warped_y_max + padding_for_this_plot)\n",
    "\n",
    "ax.set_aspect('equal')\n",
    "ax.legend()"
   ]
  },
  {
   "cell_type": "markdown",
   "id": "d4dc7ef5-1a32-4186-be8c-10e99d8cf430",
   "metadata": {},
   "source": [
    "## Run for a Subset\n",
    "\n",
    "Now we'll check if it runs for a subset"
   ]
  },
  {
   "cell_type": "code",
   "execution_count": null,
   "id": "84fbe274-9a13-4a43-abd5-3cb86bdc9812",
   "metadata": {},
   "outputs": [],
   "source": [
    "i = 0\n",
    "n_loops = 10\n",
    "iter_inds_subset = iter_inds[i:i + n_loops]\n",
    "X_iter = X_test.loc[iter_inds_subset]"
   ]
  },
  {
   "cell_type": "code",
   "execution_count": null,
   "id": "62c1e20f-0bfe-4a7f-b581-57791d5367c0",
   "metadata": {},
   "outputs": [],
   "source": [
    "less_reffed_mosaic = mosaic.LessReferencedMosaic(\n",
    "    filepath=settings['mosaic_filepath'],\n",
    "    padding=padding,\n",
    "    file_exists='overwrite',\n",
    "    feature_detector_kwargs={},\n",
    ")\n",
    "\n",
    "less_reffed_mosaic.fit(\n",
    "    X=y_train[['filepath'] + preprocess.GEOTRANSFORM_COLS],\n",
    "    approx_y=X_iter[['filepath'] + preprocess.GEOTRANSFORM_COLS],\n",
    ")\n",
    "\n",
    "y_pred = less_reffed_mosaic.predict(\n",
    "    X_iter[['filepath', ] + preprocess.GEOTRANSFORM_COLS],\n",
    "    iteration_indices=iter_inds_subset\n",
    ")\n",
    "\n",
    "less_reffed_mosaic.close()"
   ]
  },
  {
   "cell_type": "code",
   "execution_count": null,
   "id": "0f5d27b9-dec2-47fc-9fc3-a16b665d7319",
   "metadata": {},
   "outputs": [],
   "source": [
    "n_bad = y_pred.isna().sum().sum()\n",
    "assert n_bad == 0, f'Found {n_bad} nan values, i.e. {n_bad//len(y_pred.columns)} rows.'"
   ]
  },
  {
   "cell_type": "code",
   "execution_count": null,
   "id": "a7864375-61c5-4c9e-86f7-b972266a2ee1",
   "metadata": {},
   "outputs": [],
   "source": [
    "# Estimate the consistency with the manual geotransforms\n",
    "y_test = sensor_georeference_pipeline_y.fit_transform(fps_test)\n",
    "y_iter = y_test.loc[iter_inds_subset]\n",
    "y_err = y_iter - y_pred\n",
    "err = np.sqrt(y_err['x_min']**2. + y_err['y_max']**2.)"
   ]
  },
  {
   "cell_type": "code",
   "execution_count": null,
   "id": "76b61541-5462-4d6c-bc8d-1cbcff26855d",
   "metadata": {},
   "outputs": [],
   "source": [
    "# Check how bad the errors are\n",
    "n_egregious = (err > 200.).sum()\n",
    "assert n_egregious == 0, f'Found {n_egregious} egregious errors.'"
   ]
  },
  {
   "cell_type": "code",
   "execution_count": null,
   "id": "ad69a3fb-d998-41a0-97fd-2b6573e91d0f",
   "metadata": {},
   "outputs": [],
   "source": [
    "# Visualize the errors\n",
    "fig = plt.figure()\n",
    "ax = plt.gca()\n",
    "\n",
    "sns.scatterplot(\n",
    "    x=np.arange(y_err.index.size),\n",
    "    y=err,\n",
    "    hue=np.arange(len(y_err)),\n",
    "    ax=ax,\n",
    ")\n",
    "\n",
    "ax.set_ylim(0, ax.get_ylim()[1])"
   ]
  },
  {
   "cell_type": "markdown",
   "id": "8ce0151d-6c9f-4926-b886-df44702f6303",
   "metadata": {},
   "source": [
    "# Hyperparameter exploration"
   ]
  },
  {
   "cell_type": "code",
   "execution_count": null,
   "id": "9fa57d85-389f-44f0-acc5-7f7b2ac9f6b3",
   "metadata": {},
   "outputs": [],
   "source": [
    "import itertools\n",
    "import tqdm.notebook\n",
    "\n",
    "# Input: dictionary of lists\n",
    "input_dict = {\n",
    "    'nfeatures': [500,],\n",
    "    'patchSize': [31, 51, 101],\n",
    "    'nlevels': [2, 4, 8],\n",
    "    'firstLevel': [0, 2, 4, 6, 8],\n",
    "    'WTA_K': [3, 4],\n",
    "}\n",
    "\n",
    "# Generate all permutations of values\n",
    "keys, values = zip(*input_dict.items())\n",
    "permutations = itertools.product(*values)\n",
    "\n",
    "# Convert permutations into a list of dictionaries\n",
    "list_of_kwargs = [dict(zip(keys, permutation)) for permutation in permutations]"
   ]
  },
  {
   "cell_type": "code",
   "execution_count": null,
   "id": "f97bc29b-22bf-4af0-81ab-05ce87f690d3",
   "metadata": {},
   "outputs": [],
   "source": [
    "# Loop to see if there's some combination of parameters we can tweak that works better\n",
    "n_bad = []\n",
    "last_i = []\n",
    "for i, kwargs in enumerate(tqdm.notebook.tqdm(list_of_kwargs)):\n",
    "\n",
    "    print(f'i={i}')\n",
    " \n",
    "    less_reffed_mosaic = mosaic.LessReferencedMosaic(\n",
    "        filepath=settings['mosaic_filepath'],\n",
    "        padding=padding,\n",
    "        file_exists='overwrite',\n",
    "        feature_detector_kwargs=kwargs,\n",
    "        verbose=False,\n",
    "    )\n",
    "    \n",
    "    less_reffed_mosaic.fit(\n",
    "        X=y_train[['filepath'] + preprocess.GEOTRANSFORM_COLS],\n",
    "        approx_y=X_test[['filepath'] + preprocess.GEOTRANSFORM_COLS],\n",
    "    )\n",
    "\n",
    "    # Actual call\n",
    "    try:\n",
    "        less_reffed_mosaic.predict(\n",
    "            X_test[['filepath', ] + preprocess.GEOTRANSFORM_COLS],\n",
    "            iteration_indices=iter_inds_subset\n",
    "        )\n",
    "    \n",
    "        n_bad.append(len(less_reffed_mosaic.log_['bad_inds']))\n",
    "    except:\n",
    "        n_bad.append(np.nan)\n",
    "\n",
    "    last_i.append(less_reffed_mosaic.log_['last_i'])"
   ]
  },
  {
   "cell_type": "code",
   "execution_count": null,
   "id": "f1eb835d-d472-4677-a34d-7b1af70001f9",
   "metadata": {},
   "outputs": [],
   "source": [
    "n_bad = np.array(n_bad)\n",
    "good_inds = np.arange(n_bad.size)[n_bad == 0]"
   ]
  },
  {
   "cell_type": "code",
   "execution_count": null,
   "id": "fe498016-acf1-4232-abdb-634a3695cd09",
   "metadata": {},
   "outputs": [],
   "source": [
    "pd.Series(n_bad).unique()"
   ]
  },
  {
   "cell_type": "code",
   "execution_count": null,
   "id": "fa9c3c1f-96ef-4e6a-9773-bb911d1b494b",
   "metadata": {},
   "outputs": [],
   "source": [
    "(n_bad==0).sum()"
   ]
  },
  {
   "cell_type": "markdown",
   "id": "d0208891-fac7-435d-a652-afc19436100a",
   "metadata": {},
   "source": [
    "# DEBUG"
   ]
  },
  {
   "cell_type": "markdown",
   "id": "7caec1c9-257c-4215-9f39-d9560578773e",
   "metadata": {},
   "source": [
    "#### Specific Bad Ind"
   ]
  },
  {
   "cell_type": "code",
   "execution_count": null,
   "id": "63c705a1-97d1-4f76-8c9b-61fdeeae85ab",
   "metadata": {},
   "outputs": [],
   "source": [
    "i = n_loops\n",
    "row = X_iter.iloc[i]"
   ]
  },
  {
   "cell_type": "markdown",
   "id": "f1928624-0078-4cdc-b9ff-fef22ab08552",
   "metadata": {},
   "source": [
    "#### Search Region in the Context of the Full Mosaic"
   ]
  },
  {
   "cell_type": "code",
   "execution_count": null,
   "id": "2b7e5dd6-7893-4aff-9a79-65bd8b0bf6d6",
   "metadata": {},
   "outputs": [],
   "source": [
    "# Expected bounds\n",
    "x_off = row['x_off']\n",
    "y_off = row['y_off']\n",
    "x_size = row['x_size']\n",
    "y_size = row['y_size']"
   ]
  },
  {
   "cell_type": "code",
   "execution_count": null,
   "id": "6d47e713-6364-4f5d-962d-381e25e7923b",
   "metadata": {},
   "outputs": [],
   "source": [
    "fig = plt.figure(figsize=(20,10))\n",
    "ax = plt.gca()\n",
    "\n",
    "# Current mosaic\n",
    "ax.imshow(mosaic_img)\n",
    "\n",
    "# The first image location\n",
    "rect = patches.Rectangle(\n",
    "    (x_off, y_off),\n",
    "    x_size,\n",
    "    y_size,\n",
    "    linewidth = 3,\n",
    "    facecolor = 'none',\n",
    "    edgecolor = palette[0],\n",
    ")\n",
    "ax.add_patch(rect)"
   ]
  },
  {
   "cell_type": "markdown",
   "id": "26940b8b-87fe-4d11-836a-5153e102940b",
   "metadata": {},
   "source": [
    "#### Search Region Image and Keypoints"
   ]
  },
  {
   "cell_type": "code",
   "execution_count": null,
   "id": "e6f0fd00-7f07-420b-b728-330f8291c687",
   "metadata": {},
   "outputs": [],
   "source": [
    "# The existing mosaic at this location\n",
    "dst_img = less_reffed_mosaic.get_image(x_off, y_off, x_size, y_size)"
   ]
  },
  {
   "cell_type": "code",
   "execution_count": null,
   "id": "0a212b8c-67cc-4c13-8458-47b95cdf16ac",
   "metadata": {},
   "outputs": [],
   "source": [
    "in_bounds = less_reffed_mosaic.check_bounds(\n",
    "    dsframe_dst_pts,\n",
    "    x_off, y_off, x_size, y_size,\n",
    ")"
   ]
  },
  {
   "cell_type": "code",
   "execution_count": null,
   "id": "4e4bac12-721d-4b24-8c7e-9b7deea4e300",
   "metadata": {},
   "outputs": [],
   "source": [
    "assert in_bounds.sum() > 0, \\\n",
    "    f'No image data in the search zone for index {row.name}'"
   ]
  },
  {
   "cell_type": "code",
   "execution_count": null,
   "id": "adaaa63e-635b-40d9-b067-04b42f321964",
   "metadata": {},
   "outputs": [],
   "source": [
    "dst_pts = dsframe_dst_pts[in_bounds] - np.array([x_off, y_off])\n",
    "dst_kp = cv2.KeyPoint_convert(dst_pts)\n",
    "dst_des = dsframe_dst_des[in_bounds]"
   ]
  },
  {
   "cell_type": "markdown",
   "id": "1e217437-ad92-4b72-84a8-e08030ac43e1",
   "metadata": {},
   "source": [
    "#### Image to Add and Keypoints"
   ]
  },
  {
   "cell_type": "code",
   "execution_count": null,
   "id": "64da78be-bed8-4d4c-86ca-aeca0db005cc",
   "metadata": {},
   "outputs": [],
   "source": [
    "src_img = utils.load_image(\n",
    "    row['filepath'],\n",
    "    dtype=less_reffed_mosaic.dtype,\n",
    ")"
   ]
  },
  {
   "cell_type": "code",
   "execution_count": null,
   "id": "52083b80-1d46-4e4d-8c70-d73087395144",
   "metadata": {},
   "outputs": [],
   "source": [
    "src_kp, src_des = less_reffed_mosaic.feature_detector.detectAndCompute(src_img, None)\n",
    "src_pts = cv2.KeyPoint_convert(src_kp)"
   ]
  },
  {
   "cell_type": "markdown",
   "id": "84999e4a-99e0-4994-b86c-9597c40e22a6",
   "metadata": {},
   "source": [
    "#### Side-by-side"
   ]
  },
  {
   "cell_type": "code",
   "execution_count": null,
   "id": "0e4a5317-8e19-444e-8282-4e339bb98554",
   "metadata": {},
   "outputs": [],
   "source": [
    "subplot_mosaic = [['dst_img', 'src_img']]\n",
    "fig = plt.figure(figsize=(20,10))\n",
    "ax_dict = fig.subplot_mosaic(subplot_mosaic)\n",
    "\n",
    "ax = ax_dict['dst_img']\n",
    "ax.imshow(dst_img)\n",
    "ax.scatter(\n",
    "    dst_pts[:,0],\n",
    "    dst_pts[:,1],\n",
    "    color = palette[0],\n",
    ")\n",
    "\n",
    "ax = ax_dict['src_img']\n",
    "ax.imshow(src_img)\n",
    "ax.scatter(\n",
    "    src_pts[:,0],\n",
    "    src_pts[:,1],\n",
    "    color = palette[1],\n",
    ")\n"
   ]
  },
  {
   "cell_type": "markdown",
   "id": "2d41d9be-5539-4f75-adb6-68ecc94bc238",
   "metadata": {},
   "source": [
    "#### What if we only included the keypoints that actually might match?"
   ]
  },
  {
   "cell_type": "code",
   "execution_count": null,
   "id": "20bb8b64-a0bd-4d1c-a246-77c3853ae240",
   "metadata": {},
   "outputs": [],
   "source": [
    "# in_bounds_src = src_pts[:,1] > 1250\n",
    "# src_kp = cv2.KeyPoint_convert(src_pts[in_bounds_src])\n",
    "# src_des = src_des[in_bounds_src]"
   ]
  },
  {
   "cell_type": "markdown",
   "id": "b39c6f36-dd41-40f4-a01e-f9a388a0aa2a",
   "metadata": {},
   "source": [
    "#### Feature Matching"
   ]
  },
  {
   "cell_type": "code",
   "execution_count": null,
   "id": "6187db59-dd52-4081-83aa-cbbc6557b42a",
   "metadata": {},
   "outputs": [],
   "source": [
    "# Get and validate the transform predicted from feature matching\n",
    "M, info = utils.calc_warp_transform(src_kp, src_des, dst_kp, dst_des)\n",
    "assert utils.validate_warp_transform(M, 1e-4)"
   ]
  },
  {
   "cell_type": "markdown",
   "id": "4e39f755-525e-4614-a441-40c312b4d048",
   "metadata": {},
   "source": [
    "#### Incorporation"
   ]
  },
  {
   "cell_type": "code",
   "execution_count": null,
   "id": "342890e1-7b37-4789-b2d9-13299e2c383f",
   "metadata": {},
   "outputs": [],
   "source": [
    "# Convert to the dataset frame\n",
    "src_pts = cv2.KeyPoint_convert(src_kp)\n",
    "dsframe_src_pts = cv2.perspectiveTransform(\n",
    "    src_pts.reshape(-1, 1, 2),\n",
    "    M,\n",
    ").reshape(-1, 2)\n",
    "dsframe_src_pts += np.array([x_off, y_off])\n",
    "\n",
    "# Warp the source image\n",
    "warped_img = cv2.warpPerspective(src_img, M, (x_size, y_size))\n",
    "\n",
    "# Combine the images\n",
    "blended_img = less_reffed_mosaic.blend_images(\n",
    "    src_img=warped_img,\n",
    "    dst_img=dst_img,\n",
    ")"
   ]
  },
  {
   "cell_type": "code",
   "execution_count": null,
   "id": "82e59378-e42e-498a-9927-0d240a13dee9",
   "metadata": {},
   "outputs": [],
   "source": [
    "plt.imshow(blended_img)"
   ]
  },
  {
   "cell_type": "code",
   "execution_count": null,
   "id": "c3bc57cc-775a-4d86-9de1-8b6c5f4a2e33",
   "metadata": {},
   "outputs": [],
   "source": [
    "np.linalg.det(M)"
   ]
  },
  {
   "cell_type": "markdown",
   "id": "0e0ee3f3-ee43-4674-bbf7-32ac5d2bea3f",
   "metadata": {},
   "source": [
    "### Search Region Keypoints"
   ]
  },
  {
   "cell_type": "code",
   "execution_count": null,
   "id": "ead4338d-83e0-4390-a2d1-b0b683183245",
   "metadata": {},
   "outputs": [],
   "source": [
    "# Inspect relationship\n",
    "mask = info['mask'].reshape(info['mask'].size).astype(bool)\n",
    "valid_src_pts = info['matched_src_pts'].reshape((mask.size, 2))[mask]\n",
    "valid_dst_pts = info['matched_dst_pts'].reshape((mask.size, 2))[mask]"
   ]
  },
  {
   "cell_type": "code",
   "execution_count": null,
   "id": "43598a52-3cbd-4690-82d8-38eb0bbfc24f",
   "metadata": {},
   "outputs": [],
   "source": [
    "subplot_mosaic = [['dst_img', 'src_img']]\n",
    "fig = plt.figure(figsize=(20,10))\n",
    "ax_dict = fig.subplot_mosaic(subplot_mosaic)\n",
    "\n",
    "ax = ax_dict['dst_img']\n",
    "ax.imshow(dst_img)\n",
    "\n",
    "ax = ax_dict['src_img']\n",
    "ax.imshow(src_img)\n",
    "\n",
    "for i in range(valid_src_pts.shape[0]):\n",
    "\n",
    "    con = patches.ConnectionPatch(\n",
    "        xyA=valid_dst_pts[i],\n",
    "        xyB=valid_src_pts[i],\n",
    "        coordsA='data',\n",
    "        coordsB='data',\n",
    "        axesA=ax_dict['dst_img'],\n",
    "        axesB=ax_dict['src_img'],\n",
    "        color=palette[1],\n",
    "        linewidth=3,\n",
    "    )\n",
    "    ax.add_artist(con)"
   ]
  },
  {
   "cell_type": "markdown",
   "id": "5b001009-fdbb-4e89-bccb-fa022e3fa6e8",
   "metadata": {},
   "source": [
    "### DEBUG"
   ]
  },
  {
   "cell_type": "code",
   "execution_count": null,
   "id": "5bf02d30-ac09-4754-b0c1-f0a15b65e73f",
   "metadata": {},
   "outputs": [],
   "source": [
    "less_reffed_mosaic.close()"
   ]
  },
  {
   "cell_type": "code",
   "execution_count": null,
   "id": "e8cd7bd3-b88d-40d0-9123-028286db8a56",
   "metadata": {},
   "outputs": [],
   "source": [
    "x_off = row['x_off']\n",
    "y_off = row['y_off']\n",
    "x_size = row['x_size']\n",
    "y_size = row['y_size']"
   ]
  },
  {
   "cell_type": "code",
   "execution_count": null,
   "id": "ae33e2df-ac8e-40a8-90ad-195b4c0edcbf",
   "metadata": {},
   "outputs": [],
   "source": [
    "# The empty image at the time of the first loop\n",
    "mosaic_img = less_reffed_mosaic.dataset_.ReadAsArray().transpose(1, 2, 0)"
   ]
  },
  {
   "cell_type": "code",
   "execution_count": null,
   "id": "e44e4855-aa51-4eab-a6f2-5c65127304c3",
   "metadata": {},
   "outputs": [],
   "source": [
    "fig = plt.figure(figsize=(20,10))\n",
    "ax = plt.gca()\n",
    "\n",
    "# Current mosaic\n",
    "ax.imshow(mosaic_img)\n",
    "\n",
    "# The first image location\n",
    "rect = patches.Rectangle(\n",
    "    (x_off, y_off),\n",
    "    x_size,\n",
    "    y_size,\n",
    "    linewidth = 3,\n",
    "    facecolor = 'none',\n",
    "    edgecolor = palette[0],\n",
    ")\n",
    "ax.add_patch(rect)"
   ]
  },
  {
   "cell_type": "code",
   "execution_count": null,
   "id": "789fbe35-f3ee-43ff-b24d-868a6d583230",
   "metadata": {},
   "outputs": [],
   "source": [
    "src_img = utils.load_image(\n",
    "    row['filepath'],\n",
    "    dtype=less_reffed_mosaic.dtype,\n",
    ")\n",
    "src_kp, src_des = less_reffed_mosaic.feature_detector.detectAndCompute(src_img, None)"
   ]
  },
  {
   "cell_type": "code",
   "execution_count": null,
   "id": "12ed052a-23a5-4529-a61d-24a212108acd",
   "metadata": {},
   "outputs": [],
   "source": [
    "# Get dst features\n",
    "in_bounds = less_reffed_mosaic.check_bounds(\n",
    "    dsframe_dst_pts,\n",
    "    x_off, y_off, x_size, y_size\n",
    ")\n",
    "assert in_bounds.sum() > 0, \\\n",
    "    f'No image data in the search zone for index {row.name}'\n",
    "dst_pts = dsframe_dst_pts[in_bounds] - np.array([x_off, y_off])\n",
    "dst_kp = cv2.KeyPoint_convert(dst_pts)\n",
    "dst_des = dsframe_dst_des[in_bounds]"
   ]
  },
  {
   "cell_type": "code",
   "execution_count": null,
   "id": "5009e622-45ef-41b0-b0ce-0af113677962",
   "metadata": {},
   "outputs": [],
   "source": [
    "# Feature matching\n",
    "M, info = utils.calc_warp_transform(\n",
    "    src_kp,\n",
    "    src_des,\n",
    "    dst_kp,\n",
    "    dst_des,\n",
    "    less_reffed_mosaic.feature_matcher,\n",
    ")\n",
    "np.linalg.det(M)"
   ]
  },
  {
   "cell_type": "code",
   "execution_count": null,
   "id": "f21365f4-afb4-4dfc-9009-dc190e530e50",
   "metadata": {},
   "outputs": [],
   "source": [
    "# Inspect relationship\n",
    "mask = info['mask'].reshape(info['mask'].size).astype(bool)\n",
    "valid_src_pts = info['matched_src_pts'].reshape((mask.size, 2))[mask]\n",
    "valid_dst_pts = info['matched_dst_pts'].reshape((mask.size, 2))[mask]"
   ]
  },
  {
   "cell_type": "code",
   "execution_count": null,
   "id": "fa64f0ad-b3fc-499d-ae6b-b85f839d342c",
   "metadata": {},
   "outputs": [],
   "source": [
    "dst_img = less_reffed_mosaic.get_image(x_min, x_max, y_min, y_max)"
   ]
  },
  {
   "cell_type": "code",
   "execution_count": null,
   "id": "1e2ea2b6-4713-409f-9356-3a299a2bcdaf",
   "metadata": {},
   "outputs": [],
   "source": [
    "subplot_mosaic = [['dst_img', 'src_img']]\n",
    "fig = plt.figure(figsize=(20,10))\n",
    "ax_dict = fig.subplot_mosaic(subplot_mosaic)\n",
    "\n",
    "ax = ax_dict['dst_img']\n",
    "ax.imshow(dst_img)\n",
    "\n",
    "ax = ax_dict['src_img']\n",
    "ax.imshow(src_img)\n",
    "\n",
    "for i in range(valid_src_pts.shape[0]):\n",
    "\n",
    "    con = patches.ConnectionPatch(\n",
    "        xyA=valid_dst_pts[i],\n",
    "        xyB=valid_src_pts[i],\n",
    "        coordsA='data',\n",
    "        coordsB='data',\n",
    "        axesA=ax_dict['dst_img'],\n",
    "        axesB=ax_dict['src_img'],\n",
    "        color=palette[1],\n",
    "        linewidth=3,\n",
    "    )\n",
    "    ax.add_artist(con)"
   ]
  },
  {
   "cell_type": "markdown",
   "id": "bffde259-4c71-4e0c-8f3c-6f942a53a5cc",
   "metadata": {},
   "source": [
    "### DEBUG"
   ]
  },
  {
   "cell_type": "code",
   "execution_count": null,
   "id": "3efa43f9-e581-4a71-98b5-ac7b76c6c873",
   "metadata": {},
   "outputs": [],
   "source": [
    "dst_img_zoom_after3 = less_reffed_mosaic.get_image(\n",
    "    row_train['x_min'], row_train['x_max'],\n",
    "    row_train['y_min'], row_train['y_max']\n",
    ")"
   ]
  },
  {
   "cell_type": "code",
   "execution_count": null,
   "id": "abe5466e-5f1b-47fe-80d6-508af0040033",
   "metadata": {},
   "outputs": [],
   "source": [
    "subplot_mosaic = [['before', 'after']]\n",
    "fig = plt.figure(figsize=(20,10))\n",
    "ax_dict = fig.subplot_mosaic(subplot_mosaic)\n",
    "\n",
    "ax = ax_dict['before']\n",
    "ax.imshow(dst_img_zoom_after2)\n",
    "\n",
    "ax = ax_dict['after']\n",
    "ax.imshow(dst_img_zoom_after3)"
   ]
  },
  {
   "cell_type": "markdown",
   "id": "5f76367b-1f83-4e23-a160-d04dde575868",
   "metadata": {},
   "source": [
    "## Full Mosaic\n",
    "\n",
    "Now that we've checked the process, we'll do the full loop."
   ]
  },
  {
   "cell_type": "code",
   "execution_count": null,
   "id": "2a89b10b-beed-49cf-a173-87bdd63441c7",
   "metadata": {},
   "outputs": [],
   "source": [
    "less_reffed_mosaic.predict(X_test[['filepath'] + preprocess.GEOTRANSFORM_COLS], iteration_indices=iter_inds)"
   ]
  },
  {
   "cell_type": "code",
   "execution_count": null,
   "id": "4a88d348-4b19-4b8c-9711-25aead235002",
   "metadata": {},
   "outputs": [],
   "source": [
    "less_reffed_mosaic.log['return_codes']"
   ]
  },
  {
   "cell_type": "code",
   "execution_count": null,
   "id": "66ea7e5c-581f-47f0-9c6a-3bf552a6ae80",
   "metadata": {},
   "outputs": [],
   "source": []
  }
 ],
 "metadata": {
  "kernelspec": {
   "display_name": "Python 3 (ipykernel)",
   "language": "python",
   "name": "python3"
  },
  "language_info": {
   "codemirror_mode": {
    "name": "ipython",
    "version": 3
   },
   "file_extension": ".py",
   "mimetype": "text/x-python",
   "name": "python",
   "nbconvert_exporter": "python",
   "pygments_lexer": "ipython3",
   "version": "3.11.5"
  }
 },
 "nbformat": 4,
 "nbformat_minor": 5
}

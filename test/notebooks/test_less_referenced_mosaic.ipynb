{
 "cells": [
  {
   "cell_type": "markdown",
   "id": "7a998f1c-82e1-4acc-b16a-75de02325873",
   "metadata": {
    "jp-MarkdownHeadingCollapsed": true
   },
   "source": [
    "# Less-Referenced Mosaic Testing\n",
    "\n",
    "This notebook provides a cross-section of the Less-Referenced Mosaic creation process.\n"
   ]
  },
  {
   "cell_type": "markdown",
   "id": "5e4ede8c-7fb2-4dcf-9193-928321716c33",
   "metadata": {},
   "source": [
    "# Setup\n"
   ]
  },
  {
   "cell_type": "markdown",
   "id": "af05e098-f19b-45b4-97cc-413ecf0fbdc4",
   "metadata": {},
   "source": [
    "## Imports\n"
   ]
  },
  {
   "cell_type": "code",
   "execution_count": null,
   "id": "25c75dcb-6592-4a10-a69a-7886c3cb75d0",
   "metadata": {},
   "outputs": [],
   "source": [
    "import copy\n",
    "import glob\n",
    "import inspect\n",
    "import os\n",
    "import shutil"
   ]
  },
  {
   "cell_type": "code",
   "execution_count": null,
   "id": "313f249d-f0eb-45ea-8cdc-b8f0d46af6ea",
   "metadata": {},
   "outputs": [],
   "source": [
    "import cv2\n",
    "import numpy as np\n",
    "import pandas as pd\n",
    "from sklearn.model_selection import train_test_split\n",
    "from sklearn.pipeline import Pipeline\n",
    "from sklearn.utils import check_random_state\n",
    "import yaml"
   ]
  },
  {
   "cell_type": "code",
   "execution_count": null,
   "id": "876b1622-25b4-4384-b096-f6bd3367e21a",
   "metadata": {},
   "outputs": [],
   "source": [
    "import matplotlib\n",
    "import matplotlib.pyplot as plt\n",
    "import matplotlib.patches as patches\n",
    "import seaborn as sns\n",
    "sns.set_style('white')"
   ]
  },
  {
   "cell_type": "code",
   "execution_count": null,
   "id": "f7db8f4e-2f00-4d15-96a4-51ebb4eeea23",
   "metadata": {},
   "outputs": [],
   "source": [
    "from night_horizons import utils, preprocess, reference, mosaic, raster, pipelines, features"
   ]
  },
  {
   "cell_type": "markdown",
   "id": "a2d4a814-de45-4c11-975c-43a21ca7b171",
   "metadata": {},
   "source": [
    "## Settings\n"
   ]
  },
  {
   "cell_type": "code",
   "execution_count": null,
   "id": "e8752436-8f23-42d2-8dc9-3de3659d71cc",
   "metadata": {},
   "outputs": [],
   "source": [
    "with open('./config.yml', \"r\", encoding='UTF-8') as file:\n",
    "    settings = yaml.load(file, Loader=yaml.FullLoader)"
   ]
  },
  {
   "cell_type": "code",
   "execution_count": null,
   "id": "8bfffacf-be23-45a5-91fb-5c1d69b8dbd0",
   "metadata": {},
   "outputs": [],
   "source": [
    "local_settings = {\n",
    "    'include_raw_images': True,\n",
    "    'mosaic_filepath': 'mosaics/less_referenced_test.tiff',\n",
    "    'random_state': 1682142,\n",
    "    'train_size': {\n",
    "        0: 0,\n",
    "        1: 1,\n",
    "        2: 0,\n",
    "    },\n",
    "\n",
    "    'show_images': False,\n",
    "\n",
    "    'n_loops': 6,\n",
    "    'checkpoint_freq': 4,\n",
    "    'save_bad_images': True,\n",
    "    'bad_images_dir': '../test_data/feature_matching/',\n",
    "\n",
    "    'image_joiners_options': {\n",
    "        'defaults': {\n",
    "            'feature_detector': 'AKAZE',\n",
    "            'feature_matcher': 'BFMatcher',\n",
    "            'log_keys': ['dst_kp', 'dst_pts', 'src_kp', 'src_pts', 'mask', 'abs_det_M'],\n",
    "            'debug_mode': True,\n",
    "        },\n",
    "        'variations': [\n",
    "            {'n_matches_used': 100, },\n",
    "        ],\n",
    "    },\n",
    "\n",
    "    'padding': 2.,\n",
    "    'use_approximate_georeferencing': True,\n",
    "    # This set of choices assumes we have really good starting positions.\n",
    "    # This is useful for debugging.\n",
    "    # 'padding': 0.1,\n",
    "    # 'use_approximate_georeferencing': False,\n",
    "\n",
    "    # The fraction of non-nan georeferencings required to claim success.\n",
    "    # We only require a bare minimum here. Performance beyond approximate\n",
    "    # functionality should be evaluated elsewhere\n",
    "    'acceptance_fraction': 0.8,\n",
    "\n",
    "    # These values will be logged and checked for consistency.\n",
    "    'log_keys': ['x_off', 'y_off', 'x_size', 'y_size', 'dst_img', 'dst_kp', 'src_kp', 'abs_det_M', 'return_code'],\n",
    "}\n",
    "settings.update(local_settings)"
   ]
  },
  {
   "cell_type": "markdown",
   "id": "a5298c5a-a5d4-46be-93ce-fcbe2f1e6e71",
   "metadata": {},
   "source": [
    "## Parse Settings\n"
   ]
  },
  {
   "cell_type": "code",
   "execution_count": null,
   "id": "dd115e86-45c5-458b-9e75-19d40d7186d3",
   "metadata": {},
   "outputs": [],
   "source": [
    "settings['mosaic_filepath'] = os.path.join(settings['data_dir'], settings['mosaic_filepath'])"
   ]
  },
  {
   "cell_type": "code",
   "execution_count": null,
   "id": "83d5aea6-64b2-4388-bdcc-c1cb7ba3f929",
   "metadata": {},
   "outputs": [],
   "source": [
    "for key, relpath in settings['paths_relative_to_data_dir'].items():\n",
    "    settings[key] = os.path.join(settings['data_dir'], relpath)"
   ]
  },
  {
   "cell_type": "code",
   "execution_count": null,
   "id": "ef2a5c18-9b75-4eb4-a357-e8a6e33db965",
   "metadata": {},
   "outputs": [],
   "source": [
    "random_state = check_random_state(settings['random_state'])"
   ]
  },
  {
   "cell_type": "code",
   "execution_count": null,
   "id": "ddb114a1-861a-4ab0-9324-83705e5486d2",
   "metadata": {},
   "outputs": [],
   "source": [
    "palette = sns.color_palette(settings['color_palette'])"
   ]
  },
  {
   "cell_type": "code",
   "execution_count": null,
   "id": "6767f5db-d232-4569-9196-dd3aef89daa8",
   "metadata": {},
   "outputs": [],
   "source": [
    "crs = settings['crs']"
   ]
  },
  {
   "cell_type": "code",
   "execution_count": null,
   "id": "a302d5b8-7947-46d0-a6e8-4a88ab395993",
   "metadata": {},
   "outputs": [],
   "source": [
    "constructor_kwargs = dict(\n",
    "    image_joiner=features.ImageJoinerQueue(**settings['image_joiners_options']),\n",
    "    filepath=settings['mosaic_filepath'],\n",
    "    padding=settings['padding'],\n",
    "    file_exists='error',\n",
    "    log_keys=settings['log_keys'],\n",
    "    crs=crs,\n",
    "    debug_mode=True,\n",
    "    bad_images_dir=settings['bad_images_dir'],\n",
    "    checkpoint_freq=settings['checkpoint_freq'],\n",
    ")"
   ]
  },
  {
   "cell_type": "code",
   "execution_count": null,
   "metadata": {},
   "outputs": [],
   "source": [
    "# Remove any existing files\n",
    "base_fp = settings['mosaic_filepath']\n",
    "test_fps = {\n",
    "    'mosaic': base_fp,\n",
    "    'y_pred': base_fp.replace('.tiff', '_y_pred.csv'),\n",
    "    'settings': base_fp.replace('.tiff', '_settings.yaml'), \n",
    "    'log': base_fp.replace('.tiff', '_log.csv'), \n",
    "    'checkpoint': base_fp.replace(\n",
    "        '.tiff', f\"_i{settings['checkpoint_freq']:06d}.tiff\")\n",
    "}\n",
    "def clear_files():\n",
    "    for key, fp in test_fps.items():\n",
    "        if os.path.isfile(fp):\n",
    "            os.remove(fp)\n",
    "clear_files()"
   ]
  },
  {
   "cell_type": "markdown",
   "id": "17fbb0d9-fbba-423e-895a-84996baf78cd",
   "metadata": {},
   "source": [
    "# Prepare Data\n",
    "\n",
    "The first part is to prepare the data (AKA extract/transform/load).\n"
   ]
  },
  {
   "cell_type": "markdown",
   "id": "f1e36665-a5bd-46b6-bf63-981b81a26e26",
   "metadata": {},
   "source": [
    "## Get filepaths\n"
   ]
  },
  {
   "cell_type": "code",
   "execution_count": null,
   "id": "b4408c5e-dba0-44a3-9cb3-2b5922875880",
   "metadata": {},
   "outputs": [],
   "source": [
    "# Get the referenced filepaths, divided according to camera number\n",
    "referenced_fps = {i: utils.discover_data(settings['referenced_images_dir'], ['tif', 'tiff'], pattern=r'Geo\\s\\d+_' + f'{i}.tif') for i in range(3)}"
   ]
  },
  {
   "cell_type": "code",
   "execution_count": null,
   "id": "a3c53a0b-ddb9-45a3-af3b-e51e118a46bf",
   "metadata": {},
   "outputs": [],
   "source": [
    "raw_fps = utils.discover_data(settings['images_dir'], ['tif', 'tiff', 'raw'])"
   ]
  },
  {
   "cell_type": "markdown",
   "id": "8b4037a6-269d-4f48-af96-1be12d8a431c",
   "metadata": {},
   "source": [
    "## Train-Test Split\n",
    "\n",
    "We split the data into training data (data that is georeferenced) and test data (data that is not georeferenced, or for which we don't use the georeferencing information when we're building the models).\n",
    "\n",
    "We set the train size to some small number, because ideally the user only needs to georeference a couple of images manually.\n"
   ]
  },
  {
   "cell_type": "code",
   "execution_count": null,
   "id": "d40450cf-8f61-4614-b106-cfa31cb50fda",
   "metadata": {},
   "outputs": [],
   "source": [
    "# Get the training sample for each camera\n",
    "referenced_fps_train = []\n",
    "referenced_fps_test = []\n",
    "for camera_num, train_size_i in settings['train_size'].items():\n",
    "\n",
    "    # When there's no training for this camera\n",
    "    if train_size_i == 0:\n",
    "        referenced_fps_test.append(referenced_fps[camera_num])\n",
    "        continue\n",
    "        \n",
    "    referenced_fps_train_i, referenced_fps_test_i = train_test_split(\n",
    "        referenced_fps[camera_num],\n",
    "        train_size=train_size_i,\n",
    "        random_state=settings['random_state'],\n",
    "        shuffle=True,\n",
    "    )\n",
    "    referenced_fps_train.append(referenced_fps_train_i)\n",
    "    referenced_fps_test.append(referenced_fps_test_i)\n"
   ]
  },
  {
   "cell_type": "code",
   "execution_count": null,
   "id": "61dbc68d-a36b-42a4-99a8-9df09fe37e66",
   "metadata": {},
   "outputs": [],
   "source": [
    "referenced_fps_train = pd.concat(referenced_fps_train, ignore_index=True)\n",
    "referenced_fps_test = pd.concat(referenced_fps_test, ignore_index=True)"
   ]
  },
  {
   "cell_type": "markdown",
   "id": "95ea3b93-0d74-4119-b396-58cb94bc9edf",
   "metadata": {},
   "source": [
    "## Combine Referenced and Raw\n"
   ]
  },
  {
   "cell_type": "code",
   "execution_count": null,
   "id": "bff28db4-a5a1-4366-a38f-b338d19f7240",
   "metadata": {},
   "outputs": [],
   "source": [
    "# Adjust the index so we don't have duplicates\n",
    "raw_fps.index += referenced_fps_test.size"
   ]
  },
  {
   "cell_type": "code",
   "execution_count": null,
   "id": "322d68c6-4cf2-4dbd-8409-b25742cc9d88",
   "metadata": {},
   "outputs": [],
   "source": [
    "# Actual combination\n",
    "fps_train = referenced_fps_train\n",
    "fps_test = referenced_fps_test\n",
    "if settings['include_raw_images']:\n",
    "    fps = pd.concat([referenced_fps_test, raw_fps])\n",
    "else:\n",
    "    fps = referenced_fps_test"
   ]
  },
  {
   "cell_type": "code",
   "execution_count": null,
   "id": "98d4d437-6c81-4614-bd50-ccedbdd4a4cd",
   "metadata": {},
   "outputs": [],
   "source": [
    "# Expected number of training files\n",
    "assert len(pd.unique(referenced_fps_train.index)) == np.sum(list(settings['train_size'].values()))\n",
    "# Consistent indices for test set\n",
    "assert len(pd.unique(referenced_fps_test.index)) == len(referenced_fps_test.index)"
   ]
  },
  {
   "cell_type": "markdown",
   "id": "e0d02fdd-61f6-4c96-b389-3ab0a0dad71e",
   "metadata": {},
   "source": [
    "## Preprocessing\n"
   ]
  },
  {
   "cell_type": "markdown",
   "id": "b79a600a-d441-4f06-b07e-f2e3c0da5808",
   "metadata": {},
   "source": [
    "### y values\n",
    "\n",
    "We get the y-values first because we use a model fitted to them to get the X values\n"
   ]
  },
  {
   "cell_type": "code",
   "execution_count": null,
   "id": "7b1cb20e-87fc-47c3-b7b4-5fd8a898f3d2",
   "metadata": {},
   "outputs": [],
   "source": [
    "preprocessing_pipeline_y = preprocess.GeoTIFFPreprocesser(crs=crs)"
   ]
  },
  {
   "cell_type": "code",
   "execution_count": null,
   "id": "a407f336-0cf1-46d0-81be-5b8dca5e0152",
   "metadata": {},
   "outputs": [],
   "source": [
    "# Get the geo-transforms used for training\n",
    "y_train = preprocessing_pipeline_y.fit_transform(fps_train)\n",
    "y_test = preprocessing_pipeline_y.fit_transform(fps_test)"
   ]
  },
  {
   "cell_type": "markdown",
   "id": "5c10f5a8-1e38-4d88-96d5-1725f08797fa",
   "metadata": {},
   "source": [
    "### X values\n",
    "\n",
    "We use the sensor (high-altitude balloon) positions to provide approximate georeferencing, which will be useful for saving computational time when building the unreferenced mosaic.\n"
   ]
  },
  {
   "cell_type": "code",
   "execution_count": null,
   "id": "2f76ec89-3fc5-475c-b782-3bcedf2dd1fc",
   "metadata": {},
   "outputs": [],
   "source": [
    "# This is the pipeline for approximate georeferencing\n",
    "preprocessing_steps = pipelines.PreprocessingPipelines.nitelite_preprocessing_steps(\n",
    "    crs=crs,\n",
    "    use_approximate_georeferencing=settings['use_approximate_georeferencing'],\n",
    ")\n",
    "preprocessing_pipeline = Pipeline(preprocessing_steps)\n",
    "preprocessing_pipeline"
   ]
  },
  {
   "cell_type": "code",
   "execution_count": null,
   "id": "cb331bb1-8883-4163-8351-7105b86e5db9",
   "metadata": {},
   "outputs": [],
   "source": [
    "# Fit the pipeline\n",
    "preprocessing_pipeline = preprocessing_pipeline.fit(\n",
    "    fps_train,\n",
    "    y_train,\n",
    "    metadata__img_log_fp=settings['img_log_fp'],\n",
    "    metadata__imu_log_fp=settings['imu_log_fp'],\n",
    "    metadata__gps_log_fp=settings['gps_log_fp'],\n",
    ")"
   ]
  },
  {
   "cell_type": "code",
   "execution_count": null,
   "id": "ddab08a1-6129-4330-9a31-1b55f1be9090",
   "metadata": {},
   "outputs": [],
   "source": [
    "# Get out the X values we'll use for the mosaic\n",
    "X_train = preprocessing_pipeline.transform(fps_train)\n",
    "X = preprocessing_pipeline.transform(fps)"
   ]
  },
  {
   "cell_type": "code",
   "execution_count": null,
   "id": "32955ac7-67c6-424f-80f0-cd546bc213a2",
   "metadata": {},
   "outputs": [],
   "source": [
    "# Check the camera numbers\n",
    "for camera_num in range(3):\n",
    "    assert (X_train['camera_num'] == camera_num).sum() == settings['train_size'][camera_num], 'Camera numbers are not as expected'"
   ]
  },
  {
   "cell_type": "code",
   "execution_count": null,
   "id": "2ad21bc4-39fa-4cb9-a48d-0d4c7652152f",
   "metadata": {},
   "outputs": [],
   "source": [
    "# Check the order\n",
    "np.testing.assert_allclose(X['order'], np.arange(len(X)))\n",
    "assert X.loc[X['camera_num'] == 1, 'order'].max() < X.loc[X['camera_num'] == 0, 'order'].min(), 'Some camera 1 images come before camera 0 images.'\n",
    "assert (np.diff(X.loc[X['camera_num'] == 1, 'd_to_center']) < 0).sum() == 0, 'Some smaller distances appear out of order.'"
   ]
  },
  {
   "cell_type": "markdown",
   "id": "230c6bda-a437-4e50-84a4-48fc53a7eb67",
   "metadata": {},
   "source": [
    "### Check consistency\n"
   ]
  },
  {
   "cell_type": "code",
   "execution_count": null,
   "id": "ffd31a56-46bf-433c-98e7-0dfebad9513e",
   "metadata": {},
   "outputs": [],
   "source": [
    "# We don't want to drop more than a few files when we're working with the referenced dataset\n",
    "if not settings['include_raw_images']:\n",
    "    assert y_test.index.size - X.index.size < 3, 'Too many files dropped.'"
   ]
  },
  {
   "cell_type": "code",
   "execution_count": null,
   "id": "4ad7a5ed-3b22-472b-a27f-c720b526eed6",
   "metadata": {},
   "outputs": [],
   "source": [
    "fps.index.size"
   ]
  },
  {
   "cell_type": "code",
   "execution_count": null,
   "id": "14064a89-5973-4dcf-859f-6e36d1e621a3",
   "metadata": {},
   "outputs": [],
   "source": [
    "# Drop the y values and filepaths that were filtered out\n",
    "fps = fps.loc[X.index]\n",
    "X_test = X.loc[X.index.isin(y_test.index)]\n",
    "y_test = y_test.loc[X_test.index]"
   ]
  },
  {
   "cell_type": "code",
   "execution_count": null,
   "id": "067d765b-280f-4e9d-8145-ee397fcb84a0",
   "metadata": {},
   "outputs": [],
   "source": [
    "# Check that our test Xs and ys align\n",
    "n_bad = (y_test['filepath'] != X_test['filepath']).sum()\n",
    "assert n_bad == 0, f'{n_bad} wrong filepaths'"
   ]
  },
  {
   "cell_type": "markdown",
   "id": "9b63dda6-6821-4302-9e7b-05ff9bc5ee83",
   "metadata": {},
   "source": [
    "### Look at Order\n"
   ]
  },
  {
   "cell_type": "code",
   "execution_count": null,
   "id": "b9f0eb35-ecdc-47ab-afb2-57f56010abdd",
   "metadata": {},
   "outputs": [],
   "source": [
    "# Let's take a look.\n",
    "if settings['show_images']:\n",
    "    sp = sns.scatterplot(\n",
    "        data=X,\n",
    "        x='x_center',\n",
    "        y='y_center',\n",
    "        hue='camera_num',\n",
    "    )\n",
    "    sp.set_aspect('equal')"
   ]
  },
  {
   "cell_type": "markdown",
   "id": "071155d1-07ca-4e9a-83f3-7c6506d06e88",
   "metadata": {},
   "source": [
    "# Pieces of the Mosaic\n"
   ]
  },
  {
   "cell_type": "markdown",
   "id": "bf13bb96-1286-4cb7-8789-e0681c6d1b29",
   "metadata": {},
   "source": [
    "### Initialization\n"
   ]
  },
  {
   "cell_type": "markdown",
   "id": "d7321abc-b164-4cf6-9c1d-ec9ab0ea8b46",
   "metadata": {},
   "source": [
    "#### Test\n",
    "\n",
    "Check that initialization works, first with a mosaic that only uses the training data.\n"
   ]
  },
  {
   "cell_type": "code",
   "execution_count": null,
   "id": "005cadce-1a8d-4996-b8fc-b6be93c7be54",
   "metadata": {},
   "outputs": [],
   "source": [
    "small_less_reffed_mosaic = mosaic.LessReferencedMosaic(\n",
    "    dataset_padding=100.,\n",
    "    **constructor_kwargs\n",
    ")"
   ]
  },
  {
   "cell_type": "code",
   "execution_count": null,
   "id": "c94fdbde-8b57-4974-9a98-55ecd2292109",
   "metadata": {},
   "outputs": [],
   "source": [
    "small_less_reffed_mosaic.fit(\n",
    "    X=y_train,\n",
    "    approx_y=y_train,\n",
    ")"
   ]
  },
  {
   "cell_type": "code",
   "execution_count": null,
   "id": "f702865e-729c-469d-a6bb-c82477690bc5",
   "metadata": {},
   "outputs": [],
   "source": [
    "# The full mosaic image that's saved\n",
    "dataset = small_less_reffed_mosaic.open_dataset()\n",
    "mosaic_img = dataset.ReadAsArray().transpose(1, 2, 0)\n",
    "mosaic_image = raster.ReferencedImage(\n",
    "    mosaic_img[:, :, :3],\n",
    "    [small_less_reffed_mosaic.x_min_, small_less_reffed_mosaic.x_max_],\n",
    "    [small_less_reffed_mosaic.y_min_, small_less_reffed_mosaic.y_max_]\n",
    ")"
   ]
  },
  {
   "cell_type": "code",
   "execution_count": null,
   "id": "7a10d9ff-c277-426c-8b48-2c56e4158f36",
   "metadata": {},
   "outputs": [],
   "source": [
    "# The actual image used to make it\n",
    "original_image = raster.ReferencedImage.open(y_train.iloc[0]['filepath'])"
   ]
  },
  {
   "cell_type": "code",
   "execution_count": null,
   "id": "0c7325a4-d0b5-4515-9ae9-1e70c315af9c",
   "metadata": {},
   "outputs": [],
   "source": [
    "if settings['show_images']:\n",
    "    # Compare the mosaic to the actual\n",
    "    mosaic_image.show(crs='cartesian', img='semitransparent_img')\n",
    "\n",
    "    fig = plt.gcf()\n",
    "    ax = plt.gca()\n",
    "\n",
    "    original_image.show(crs='cartesian', img='semitransparent_img', ax=ax)   "
   ]
  },
  {
   "cell_type": "code",
   "execution_count": null,
   "id": "0b97be03-0ed7-419b-afd5-16e28c10864f",
   "metadata": {},
   "outputs": [],
   "source": [
    "# Check the centers\n",
    "mosaic_center = np.array(mosaic_image.cart_bounds).mean(axis=1)\n",
    "original_center = np.array(original_image.cart_bounds).mean(axis=1)\n",
    "d_between_centers = np.linalg.norm(mosaic_center - original_center)\n",
    "np.testing.assert_allclose(d_between_centers, 0.)"
   ]
  },
  {
   "cell_type": "code",
   "execution_count": null,
   "id": "9cb140e0-533e-49be-8b6b-4a178b8463f9",
   "metadata": {
    "scrolled": true
   },
   "outputs": [],
   "source": [
    "# Check the widths\n",
    "mosaic_width, mosaic_height = np.diff(mosaic_image.cart_bounds, axis=1).flatten()\n",
    "original_width, original_height = np.diff(original_image.cart_bounds, axis=1).flatten()\n",
    "np.testing.assert_allclose(mosaic_width, original_width + 2. * small_less_reffed_mosaic.dataset_padding)\n",
    "np.testing.assert_allclose(mosaic_height, original_height + 2. * small_less_reffed_mosaic.dataset_padding)"
   ]
  },
  {
   "cell_type": "code",
   "execution_count": null,
   "metadata": {},
   "outputs": [],
   "source": [
    "# Delete the temporary initialization\n",
    "dataset.FlushCache()\n",
    "dataset = None\n",
    "clear_files()"
   ]
  },
  {
   "cell_type": "markdown",
   "id": "f9c287ae-e3b1-487c-a0fd-31027d6f587e",
   "metadata": {},
   "source": [
    "#### Actual full initialization and fit\n"
   ]
  },
  {
   "cell_type": "code",
   "execution_count": null,
   "id": "9427438d-171e-41a5-a402-77e65831788c",
   "metadata": {},
   "outputs": [],
   "source": [
    "less_reffed_mosaic = mosaic.LessReferencedMosaic(**constructor_kwargs)"
   ]
  },
  {
   "cell_type": "code",
   "execution_count": null,
   "id": "a5b3b750-1c67-4dea-ba3b-78028b817501",
   "metadata": {},
   "outputs": [],
   "source": [
    "# This creates the dataset and adds the referenced mosaic.\n",
    "less_reffed_mosaic.fit(\n",
    "    X=y_train,\n",
    "    approx_y=X,\n",
    ")"
   ]
  },
  {
   "cell_type": "markdown",
   "metadata": {},
   "source": [
    "#### Validate settings saving\n"
   ]
  },
  {
   "cell_type": "code",
   "execution_count": null,
   "metadata": {},
   "outputs": [],
   "source": [
    "# Open the file\n",
    "with open(less_reffed_mosaic.settings_filepath_, 'r', encoding='UTF-8') as file:\n",
    "    saved_settings = yaml.load(file, Loader=yaml.BaseLoader)"
   ]
  },
  {
   "cell_type": "code",
   "execution_count": null,
   "metadata": {},
   "outputs": [],
   "source": [
    "# Check that all the values exist\n",
    "fullargspec = inspect.getfullargspec(mosaic.LessReferencedMosaic.__init__)\n",
    "expected_args = fullargspec.args\n",
    "for key in expected_args:\n",
    "    if key == 'self':\n",
    "        continue\n",
    "    assert key in saved_settings, f'attr {key} not found in settings'"
   ]
  },
  {
   "cell_type": "markdown",
   "id": "f0a8af12-6d12-42d7-9877-5bafcd2bbbae",
   "metadata": {},
   "source": [
    "## Convert geotransforms to pixel offsets and counts\n"
   ]
  },
  {
   "cell_type": "code",
   "execution_count": null,
   "id": "182c6c45-6a23-4d51-b8d9-54abeb42e5ed",
   "metadata": {},
   "outputs": [],
   "source": [
    "(\n",
    "    X['x_off'], X['y_off'],\n",
    "    X['x_size'], X['y_size']\n",
    ") = less_reffed_mosaic.physical_to_pixel(\n",
    "    X['x_min'], X['x_max'],\n",
    "    X['y_min'], X['y_max'],\n",
    "    padding = less_reffed_mosaic.padding * X['spatial_error']\n",
    ")"
   ]
  },
  {
   "cell_type": "code",
   "execution_count": null,
   "id": "41be5c9a-a105-4cb9-988b-de3bbadf9b68",
   "metadata": {},
   "outputs": [],
   "source": [
    "(\n",
    "    y_train['x_off'], y_train['y_off'],\n",
    "    y_train['x_size'], y_train['y_size']\n",
    ") = less_reffed_mosaic.physical_to_pixel(\n",
    "    y_train['x_min'], y_train['x_max'],\n",
    "    y_train['y_min'], y_train['y_max'],\n",
    ")"
   ]
  },
  {
   "cell_type": "markdown",
   "id": "04c8faea-db3e-4bbf-a58f-a9de615598f1",
   "metadata": {},
   "source": [
    "## First Image\n",
    "\n",
    "We'll test the first loop in greater detail than the others.\n"
   ]
  },
  {
   "cell_type": "code",
   "execution_count": null,
   "id": "ac71b3a1-0b40-43ba-a96d-b8e1005579f0",
   "metadata": {},
   "outputs": [],
   "source": [
    "i = 0\n",
    "row = X.iloc[i]\n",
    "dataset = less_reffed_mosaic.open_dataset()"
   ]
  },
  {
   "cell_type": "code",
   "execution_count": null,
   "id": "95d91a9d-e4c4-4313-8c6d-96615f940b3b",
   "metadata": {},
   "outputs": [],
   "source": [
    "mosaic_img = dataset.ReadAsArray().transpose(1, 2, 0)"
   ]
  },
  {
   "cell_type": "code",
   "execution_count": null,
   "id": "5e0cc717-4e10-4d8d-8e6b-2150ea0d8b3e",
   "metadata": {},
   "outputs": [],
   "source": [
    "image_joiner = less_reffed_mosaic.image_joiner.image_joiners[0]"
   ]
  },
  {
   "cell_type": "markdown",
   "id": "6347222c-f560-4d1e-baea-d6b45f0f3157",
   "metadata": {},
   "source": [
    "### Search Region in the Context of the Full Mosaic\n"
   ]
  },
  {
   "cell_type": "code",
   "execution_count": null,
   "id": "4a8dbf46-b78c-4f55-bd28-e223611715eb",
   "metadata": {},
   "outputs": [],
   "source": [
    "# Expected bounds\n",
    "x_off = row['x_off']\n",
    "y_off = row['y_off']\n",
    "x_size = row['x_size']\n",
    "y_size = row['y_size']"
   ]
  },
  {
   "cell_type": "code",
   "execution_count": null,
   "id": "c4d9a11f-7a7e-47cb-b642-517eb24c962c",
   "metadata": {},
   "outputs": [],
   "source": [
    "(\n",
    "x_off_nopad, y_off_nopad,\n",
    "x_size_nopad, y_size_nopad,\n",
    ") = less_reffed_mosaic.physical_to_pixel(\n",
    "    row['x_min'], row['x_max'],\n",
    "    row['y_min'], row['y_max'],\n",
    ")"
   ]
  },
  {
   "cell_type": "code",
   "execution_count": null,
   "id": "f300c306-7ffc-4816-825a-9dbedfb64671",
   "metadata": {},
   "outputs": [],
   "source": [
    "if settings['show_images']:\n",
    "    fig = plt.figure(figsize=(20,10))\n",
    "    ax = plt.gca()\n",
    "\n",
    "    # Current mosaic\n",
    "    ax.imshow(mosaic_img)\n",
    "\n",
    "    # The first image location\n",
    "    rect = patches.Rectangle(\n",
    "        (x_off, y_off),\n",
    "        x_size,\n",
    "        y_size,\n",
    "        linewidth = 3,\n",
    "        facecolor = 'none',\n",
    "        edgecolor = palette[0],\n",
    "        label='with padding',\n",
    "    )\n",
    "    ax.add_patch(rect)\n",
    "\n",
    "    # The non-padded first image location\n",
    "    rect = patches.Rectangle(\n",
    "        (x_off_nopad, y_off_nopad),\n",
    "        x_size_nopad,\n",
    "        y_size_nopad,\n",
    "        linewidth = 3,\n",
    "        facecolor = 'none',\n",
    "        edgecolor = palette[1],\n",
    "        label='no padding',\n",
    "    )\n",
    "    ax.add_patch(rect)\n",
    "\n",
    "    ax.set_aspect('equal')\n",
    "\n",
    "    ax.legend()"
   ]
  },
  {
   "cell_type": "markdown",
   "id": "ca2701b6-7813-40e7-bd3f-cf7b8ef4d5be",
   "metadata": {},
   "source": [
    "### Search Region Image\n"
   ]
  },
  {
   "cell_type": "code",
   "execution_count": null,
   "id": "7915ac8d-305f-4e53-896e-8e959aa132ed",
   "metadata": {},
   "outputs": [],
   "source": [
    "# The existing mosaic at this location\n",
    "dst_img = less_reffed_mosaic.get_image(dataset, x_off, y_off, x_size, y_size)"
   ]
  },
  {
   "cell_type": "markdown",
   "id": "3cf2117b-02f7-41bd-b626-db43314674e8",
   "metadata": {},
   "source": [
    "This is plotted below with matched features.\n"
   ]
  },
  {
   "cell_type": "code",
   "execution_count": null,
   "id": "95c18e9a-7384-461a-a90c-3f6947ead37e",
   "metadata": {},
   "outputs": [],
   "source": [
    "# At this time we expect all data added to the mosaic to be within the bounds of the search region, if we're using approximate georeferencing\n",
    "if settings['use_approximate_georeferencing']:\n",
    "    assert dst_img.sum() == mosaic_img.sum()"
   ]
  },
  {
   "cell_type": "code",
   "execution_count": null,
   "id": "76c4743a-5bd3-483a-9090-26e85fff056e",
   "metadata": {},
   "outputs": [],
   "source": [
    "row_train = y_train.iloc[0]\n",
    "# Here's a zoomed in version, so we know what we're looking at\n",
    "zoom_dst_img = less_reffed_mosaic.get_image(\n",
    "    dataset,\n",
    "    row_train['x_off'], row_train['y_off'],\n",
    "    row_train['x_size'], row_train['y_size']\n",
    ")\n",
    "if settings['show_images']:\n",
    "    plt.imshow(zoom_dst_img)"
   ]
  },
  {
   "cell_type": "markdown",
   "id": "69b4339a-3833-4b76-bcbb-344dcb1cab11",
   "metadata": {},
   "source": [
    "### Search Region KeyPoints\n",
    "\n",
    "We get these for later.\n"
   ]
  },
  {
   "cell_type": "code",
   "execution_count": null,
   "id": "e174455b-a537-43b0-ab9d-496b7ce22410",
   "metadata": {},
   "outputs": [],
   "source": [
    "# Get the features from the original mosaic\n",
    "dst_kp, dst_des = image_joiner.detect_and_compute(dst_img)"
   ]
  },
  {
   "cell_type": "code",
   "execution_count": null,
   "id": "9f057a40-5a18-408e-8902-a374ebe6687b",
   "metadata": {},
   "outputs": [],
   "source": [
    "# Transform the dst keypoints to mosaic frame\n",
    "dst_pts = cv2.KeyPoint_convert(dst_kp)\n",
    "dsframe_dst_pts = dst_pts + np.array([x_off, y_off])\n",
    "dsframe_dst_des = copy.copy(dst_des)"
   ]
  },
  {
   "cell_type": "code",
   "execution_count": null,
   "id": "bf4e011b-d73b-44a3-a2de-374a75967131",
   "metadata": {},
   "outputs": [],
   "source": [
    "if settings['show_images']:\n",
    "    # Look at the image and its keypoints\n",
    "    raster.Image(dst_img).show()\n",
    "\n",
    "    fig = plt.gcf()\n",
    "    ax = plt.gca()\n",
    "\n",
    "    ax.scatter(\n",
    "        dst_pts[:,0],\n",
    "        dst_pts[:,1],\n",
    "        color='none',\n",
    "        edgecolor='w',\n",
    "        linewidth=3,\n",
    "        s=150,\n",
    "    )"
   ]
  },
  {
   "cell_type": "markdown",
   "id": "5178b10a-4785-4122-ab54-bbea96f1ad92",
   "metadata": {},
   "source": [
    "### New Image\n"
   ]
  },
  {
   "cell_type": "code",
   "execution_count": null,
   "id": "cedc4f19-3436-40e2-bed0-6a59580a862a",
   "metadata": {},
   "outputs": [],
   "source": [
    "src_img = utils.load_image(\n",
    "    row['filepath'],\n",
    "    dtype=less_reffed_mosaic.dtype,\n",
    ")"
   ]
  },
  {
   "cell_type": "code",
   "execution_count": null,
   "id": "74ddd58f-c6fe-4aa5-b55b-6ea10a153310",
   "metadata": {},
   "outputs": [],
   "source": [
    "src_kp, src_des = image_joiner.detect_and_compute(src_img)\n",
    "src_pts = cv2.KeyPoint_convert(src_kp)"
   ]
  },
  {
   "cell_type": "code",
   "execution_count": null,
   "id": "974ff806-b90a-4c72-a97a-1cba994bfa99",
   "metadata": {},
   "outputs": [],
   "source": [
    "if settings['show_images']:\n",
    "    # Look at the image and its keypoints\n",
    "    raster.Image(src_img).show()\n",
    "\n",
    "    fig = plt.gcf()\n",
    "    ax = plt.gca()\n",
    "\n",
    "    ax.scatter(\n",
    "        src_pts[:,0],\n",
    "        src_pts[:,1],\n",
    "        color='none',\n",
    "        edgecolor='w',\n",
    "        linewidth=3,\n",
    "        s=150,\n",
    "    )"
   ]
  },
  {
   "cell_type": "markdown",
   "id": "29c1b394-d2c1-4c18-9b98-a31328d2ce8e",
   "metadata": {},
   "source": [
    "### Feature Matching\n"
   ]
  },
  {
   "cell_type": "code",
   "execution_count": null,
   "id": "b955443d-5846-4583-a2b5-e901ce608ca6",
   "metadata": {},
   "outputs": [],
   "source": [
    "# Get and validate the transform predicted from feature matching\n",
    "M = image_joiner.find_homography(src_kp, src_des, dst_kp, dst_des)"
   ]
  },
  {
   "cell_type": "code",
   "execution_count": null,
   "id": "721048c3-56cd-4089-a3b1-305ba68ae622",
   "metadata": {},
   "outputs": [],
   "source": [
    "# Inspect relationship\n",
    "mask = image_joiner.log['mask'].astype(bool)\n",
    "valid_src_pts = image_joiner.log['src_pts'][mask].reshape((mask.sum(), 2))\n",
    "valid_dst_pts = image_joiner.log['dst_pts'][mask].reshape((mask.sum(), 2))"
   ]
  },
  {
   "cell_type": "code",
   "execution_count": null,
   "id": "08ad10e3-864d-41e0-9270-ac54a18c1f40",
   "metadata": {},
   "outputs": [],
   "source": [
    "if settings['show_images']:\n",
    "    subplot_mosaic = [['dst_img', 'src_img']]\n",
    "    fig = plt.figure(figsize=(20,10))\n",
    "    ax_dict = fig.subplot_mosaic(subplot_mosaic)\n",
    "\n",
    "    ax = ax_dict['dst_img']\n",
    "    ax.imshow(dst_img)\n",
    "\n",
    "    ax = ax_dict['src_img']\n",
    "    ax.imshow(src_img)\n",
    "\n",
    "    for i in range(valid_src_pts.shape[0]):\n",
    "\n",
    "        con = patches.ConnectionPatch(\n",
    "            xyA=valid_dst_pts[i],\n",
    "            xyB=valid_src_pts[i],\n",
    "            coordsA='data',\n",
    "            coordsB='data',\n",
    "            axesA=ax_dict['dst_img'],\n",
    "            axesB=ax_dict['src_img'],\n",
    "            color=palette[1],\n",
    "            linewidth=3,\n",
    "        )\n",
    "        ax.add_artist(con)"
   ]
  },
  {
   "cell_type": "code",
   "execution_count": null,
   "id": "6f963992-f540-45d5-84f4-519d79669537",
   "metadata": {},
   "outputs": [],
   "source": [
    "# raster.Image(src_img).save('../test_data/feature_matching/src_0.tiff')\n",
    "# raster.Image(dst_img).save('../test_data/feature_matching/dst_0.tiff')"
   ]
  },
  {
   "cell_type": "code",
   "execution_count": null,
   "id": "4a228dc2-5dcd-4dbd-9fe6-bb1bc76a7ac2",
   "metadata": {},
   "outputs": [],
   "source": [
    "image_joiner.validate_homography(M)"
   ]
  },
  {
   "cell_type": "markdown",
   "id": "16442e71-4b08-4fd6-ac5c-8f779218e59b",
   "metadata": {},
   "source": [
    "### Warp the Source Image\n"
   ]
  },
  {
   "cell_type": "code",
   "execution_count": null,
   "id": "1b8c42ea-d003-4245-96a8-96e2aab0faf7",
   "metadata": {},
   "outputs": [],
   "source": [
    "# Warp the image being fit\n",
    "warped_img = image_joiner.warp(src_img, dst_img, M)"
   ]
  },
  {
   "cell_type": "code",
   "execution_count": null,
   "id": "4a3a9e95-fbcc-43ed-b258-a68909bc5259",
   "metadata": {},
   "outputs": [],
   "source": [
    "if settings['show_images']:\n",
    "    raster.Image(warped_img[:, :, :3]).show(img='semitransparent_img')"
   ]
  },
  {
   "cell_type": "code",
   "execution_count": null,
   "id": "4adb8e6b-9f50-42a2-b7ac-ed865c0e8ce0",
   "metadata": {},
   "outputs": [],
   "source": [
    "# The warped image should have the same dimensions as the dst img\n",
    "assert warped_img.shape[:2] == dst_img.shape[:2]"
   ]
  },
  {
   "cell_type": "markdown",
   "id": "fc2b6a90-5c19-4932-8cce-0d5d87ba3a16",
   "metadata": {},
   "source": [
    "### Blend the images\n"
   ]
  },
  {
   "cell_type": "code",
   "execution_count": null,
   "id": "ca91177e-ea40-4e0b-9da2-781bd8a07c7d",
   "metadata": {},
   "outputs": [],
   "source": [
    "blended_img = image_joiner.blend(\n",
    "    src_img=warped_img,\n",
    "    dst_img=dst_img,\n",
    ")"
   ]
  },
  {
   "cell_type": "code",
   "execution_count": null,
   "id": "0073ec92-f928-400d-8ef7-eac40444c7c3",
   "metadata": {},
   "outputs": [],
   "source": [
    "# Show\n",
    "if settings['show_images']:\n",
    "    raster.Image(blended_img[:, :, :3]).show(img='semitransparent_img')"
   ]
  },
  {
   "cell_type": "markdown",
   "id": "0d198f0a-6990-42af-870c-264348a5945c",
   "metadata": {},
   "source": [
    "### Save and look at the mosaic\n"
   ]
  },
  {
   "cell_type": "code",
   "execution_count": null,
   "id": "c32be657-c624-480e-8cec-96e91b72d2c2",
   "metadata": {},
   "outputs": [],
   "source": [
    "less_reffed_mosaic.save_image(dataset, blended_img, x_off, y_off)"
   ]
  },
  {
   "cell_type": "code",
   "execution_count": null,
   "id": "61bb0d44-b5a4-4301-856e-495916ef0e83",
   "metadata": {},
   "outputs": [],
   "source": [
    "# Get the region of just the first image for comparison from before\n",
    "zoom_dst_img_after = less_reffed_mosaic.get_image(\n",
    "    dataset,\n",
    "    row_train['x_off'], row_train['y_off'],\n",
    "    row_train['x_size'], row_train['y_size'],\n",
    ")"
   ]
  },
  {
   "cell_type": "code",
   "execution_count": null,
   "id": "f4c74871-8acc-4249-8b8b-f69d4e5021ec",
   "metadata": {},
   "outputs": [],
   "source": [
    "# More content should have been added\n",
    "assert zoom_dst_img_after.sum() > zoom_dst_img.sum()"
   ]
  },
  {
   "cell_type": "code",
   "execution_count": null,
   "id": "20b972e0-0573-4d15-879a-eab640932258",
   "metadata": {},
   "outputs": [],
   "source": [
    "# View\n",
    "if settings['show_images']:\n",
    "    subplot_mosaic = [['before', 'after']]\n",
    "    fig = plt.figure(figsize=(20,10))\n",
    "    ax_dict = fig.subplot_mosaic(subplot_mosaic)\n",
    "\n",
    "    ax = ax_dict['before']\n",
    "    raster.Image(zoom_dst_img[:, :, :3]).show(img='semitransparent_img', ax=ax)\n",
    "\n",
    "    ax = ax_dict['after']\n",
    "    raster.Image(zoom_dst_img_after[:, :, :3]).show(img='semitransparent_img', ax=ax)"
   ]
  },
  {
   "cell_type": "markdown",
   "id": "b0db6059-5892-4141-a023-2de41dc0c12c",
   "metadata": {},
   "source": [
    "### Warp the Keypoints\n"
   ]
  },
  {
   "cell_type": "code",
   "execution_count": null,
   "id": "7a0d44af-62a0-4852-8553-f9cd63354ec1",
   "metadata": {},
   "outputs": [],
   "source": [
    "# Transform to local frame and then the full mosaic frame\n",
    "src_pts = cv2.KeyPoint_convert(src_kp)\n",
    "global_src_pts = cv2.perspectiveTransform(src_pts.reshape(-1, 1, 2), M).reshape(-1, 2)\n",
    "global_src_pts += np.array([x_off, y_off])"
   ]
  },
  {
   "cell_type": "code",
   "execution_count": null,
   "id": "1c1cdb8f-5d5d-4ab6-bf17-2a221deca0bb",
   "metadata": {},
   "outputs": [],
   "source": [
    "# Store the transformed points for the next loop\n",
    "dsframe_dst_pts = np.append(dsframe_dst_pts, global_src_pts, axis=0)\n",
    "dsframe_dst_des = np.append(dsframe_dst_des, src_des, axis=0)"
   ]
  },
  {
   "cell_type": "code",
   "execution_count": null,
   "id": "8da416e1-f5bd-49ba-a59e-b79bf8fd722b",
   "metadata": {},
   "outputs": [],
   "source": [
    "if settings['show_images']:\n",
    "    fig = plt.figure()\n",
    "    ax = plt.gca()\n",
    "\n",
    "    sns.scatterplot(\n",
    "        x=dsframe_dst_pts[:,0],\n",
    "        y=dsframe_dst_pts[:,1],\n",
    "        ax = ax,\n",
    "    )\n",
    "\n",
    "    rect = patches.Rectangle(\n",
    "        (x_off, y_off),\n",
    "        x_size,\n",
    "        y_size,\n",
    "        linewidth = 3,\n",
    "        facecolor = 'none',\n",
    "        edgecolor = palette[0],\n",
    "    )\n",
    "    ax.add_patch(rect)\n",
    "\n",
    "    ax.set_xlim(0, less_reffed_mosaic.dataset_.RasterXSize)\n",
    "    ax.set_ylim(less_reffed_mosaic.dataset_.RasterYSize, 0)\n",
    "    ax.set_aspect('equal')"
   ]
  },
  {
   "cell_type": "code",
   "execution_count": null,
   "id": "d1218056-9fcd-42e8-a0f7-684ccbf30404",
   "metadata": {},
   "outputs": [],
   "source": [
    "# Automated check that everything's in bounds\n",
    "not_in_bounds = ~(\n",
    "    (x_off <= dsframe_dst_pts[:,0] )\n",
    "    & (dsframe_dst_pts[:,0] <= x_off + x_size)\n",
    "    & (y_off <= dsframe_dst_pts[:,1] )\n",
    "    & (dsframe_dst_pts[:,1] <= y_off + y_size)\n",
    ")\n",
    "assert not_in_bounds.sum() == 0"
   ]
  },
  {
   "cell_type": "markdown",
   "id": "e6f30fe0-bea5-4e61-a8a9-59ee5cb2b301",
   "metadata": {},
   "source": [
    "### Check the georeferencing\n"
   ]
  },
  {
   "cell_type": "code",
   "execution_count": null,
   "id": "8a32d396-56aa-47ed-b05e-e341aa3dc71a",
   "metadata": {},
   "outputs": [],
   "source": [
    "# Call the fn\n",
    "warped_x_off, warped_y_off, warped_x_size, warped_y_size = image_joiner.warp_bounds(src_img, M)\n",
    "warped_x_off += x_off\n",
    "warped_y_off += y_off"
   ]
  },
  {
   "cell_type": "code",
   "execution_count": null,
   "id": "80aebf5d-e7c0-4af8-81b0-4baa4cbf6afa",
   "metadata": {},
   "outputs": [],
   "source": [
    "# Convert to physical\n",
    "warped_x_min, warped_x_max, warped_y_min, warped_y_max = less_reffed_mosaic.pixel_to_physical(\n",
    "    warped_x_off, warped_y_off, warped_x_size, warped_y_size)"
   ]
  },
  {
   "cell_type": "code",
   "execution_count": null,
   "id": "71b5155d-8c1f-48fb-b39d-93fb508496e7",
   "metadata": {},
   "outputs": [],
   "source": [
    "warped_center = np.array([\n",
    "    0.5 * (warped_x_min + warped_x_max),\n",
    "    0.5 * (warped_y_min + warped_y_max),\n",
    "])"
   ]
  },
  {
   "cell_type": "code",
   "execution_count": null,
   "id": "e6897df3-4f18-4437-b699-bd6939f061d5",
   "metadata": {},
   "outputs": [],
   "source": [
    "# Compare to recorded\n",
    "if not settings['include_raw_images']:\n",
    "\n",
    "    # Get the recorded bounds\n",
    "    recorded_x_min, recorded_x_max, recorded_y_min, recorded_y_max = y_test.loc[row.name, ['x_min', 'x_max', 'y_min', 'y_max']]\n",
    "    \n",
    "    # Get the center\n",
    "    recorded_center = np.array([\n",
    "        0.5 * (recorded_x_min + recorded_x_max),\n",
    "        0.5 * (recorded_y_min + recorded_y_max),\n",
    "    ])\n",
    "    \n",
    "    # Check the centers\n",
    "    assert np.linalg.norm(warped_center - recorded_center) < 500."
   ]
  },
  {
   "cell_type": "code",
   "execution_count": null,
   "id": "7de07f96-b388-44ee-b7f6-2e1c1b96480f",
   "metadata": {},
   "outputs": [],
   "source": [
    "if settings['show_images']:\n",
    "    fig = plt.figure(figsize=(20,10))\n",
    "    ax = plt.gca()\n",
    "\n",
    "    # The warped image location\n",
    "    width = warped_x_max - warped_x_min\n",
    "    height = warped_y_max - warped_y_min\n",
    "    rect = patches.Rectangle(\n",
    "        (warped_x_min, warped_y_min),\n",
    "        width,\n",
    "        height,\n",
    "        linewidth = 3,\n",
    "        facecolor = 'none',\n",
    "        edgecolor = palette[0],\n",
    "    )\n",
    "    ax.add_patch(rect)\n",
    "    ax.scatter(\n",
    "        *warped_center,\n",
    "        s=100,\n",
    "        color=palette[0],\n",
    "    )\n",
    "\n",
    "    # The actual image location\n",
    "    if not settings['include_raw_images']:\n",
    "        rect = patches.Rectangle(\n",
    "            (recorded_x_min, recorded_y_min),\n",
    "            recorded_x_max - recorded_x_min,\n",
    "            recorded_y_max - recorded_y_min,\n",
    "            linewidth = 3,\n",
    "            facecolor = 'none',\n",
    "            edgecolor = palette[1],\n",
    "        )\n",
    "        ax.add_patch(rect)\n",
    "        ax.scatter(\n",
    "            *recorded_center,\n",
    "            s=100,\n",
    "            color=palette[1],\n",
    "        )\n",
    "\n",
    "    padding_for_this_plot = 0.1 * width\n",
    "    ax.set_xlim(warped_x_min - padding_for_this_plot, warped_x_max + padding_for_this_plot)\n",
    "    ax.set_ylim(warped_y_min - padding_for_this_plot, warped_y_max + padding_for_this_plot)\n",
    "\n",
    "    ax.set_aspect('equal')"
   ]
  },
  {
   "cell_type": "markdown",
   "id": "2212ccbe-c7d9-4ab7-a2a5-fbfcb4bb0949",
   "metadata": {},
   "source": [
    "### Log Values\n"
   ]
  },
  {
   "cell_type": "code",
   "execution_count": null,
   "id": "ab89896b-120b-4655-8e99-f6978f54eca0",
   "metadata": {},
   "outputs": [],
   "source": [
    "# Store for later comparison\n",
    "less_reffed_mosaic.update_log(locals())\n",
    "less_reffed_mosaic.log.update(image_joiner.log)\n",
    "less_reffed_mosaic.log['return_code'] = 'success'\n",
    "for log_key in less_reffed_mosaic.log_keys:\n",
    "    assert not isinstance(less_reffed_mosaic.log[log_key], list)"
   ]
  },
  {
   "cell_type": "code",
   "execution_count": null,
   "id": "fed80677-09cc-42b0-8c4d-bc9313bc005b",
   "metadata": {},
   "outputs": [],
   "source": [
    "fit_values = {\n",
    "    key: getattr(less_reffed_mosaic, key)\n",
    "    for key in less_reffed_mosaic.__dir__()\n",
    "    if key[-1] == '_' if isinstance(getattr(less_reffed_mosaic, key), float)\n",
    "}"
   ]
  },
  {
   "cell_type": "markdown",
   "id": "3d29fab6-a135-4988-b446-546531539677",
   "metadata": {},
   "source": [
    "## Next Image\n"
   ]
  },
  {
   "cell_type": "code",
   "execution_count": null,
   "id": "67631862-c4d9-4b1a-8b3c-099ee495a5c3",
   "metadata": {},
   "outputs": [],
   "source": [
    "i = 1\n",
    "row1 = X.iloc[i]"
   ]
  },
  {
   "cell_type": "markdown",
   "id": "f410123f-4e23-4943-a152-e149fcc1c4c7",
   "metadata": {},
   "source": [
    "### Preview keypoint selection\n"
   ]
  },
  {
   "cell_type": "code",
   "execution_count": null,
   "id": "1610d3ca-1b19-4b33-be37-9707207f54c0",
   "metadata": {},
   "outputs": [],
   "source": [
    "x_off1 = row1['x_off']\n",
    "y_off1 = row1['y_off']\n",
    "x_size1 = row1['x_size']\n",
    "y_size1 = row1['y_size']"
   ]
  },
  {
   "cell_type": "code",
   "execution_count": null,
   "id": "a3995f81-023c-480e-99ad-ca00ecffd0aa",
   "metadata": {},
   "outputs": [],
   "source": [
    "in_bounds1 = less_reffed_mosaic.check_bounds(\n",
    "    dsframe_dst_pts,\n",
    "    x_off1, y_off1, x_size1, y_size1,\n",
    ")"
   ]
  },
  {
   "cell_type": "code",
   "execution_count": null,
   "id": "31c26cfd-316a-48f1-8f60-c0d1c30e0752",
   "metadata": {},
   "outputs": [],
   "source": [
    "assert in_bounds1.sum() > 0, \\\n",
    "    f'No image data in the search zone for index {row.name}'"
   ]
  },
  {
   "cell_type": "code",
   "execution_count": null,
   "id": "95ec1096-5e10-43da-b1d4-d099ba14619c",
   "metadata": {},
   "outputs": [],
   "source": [
    "dst_pts1 = dsframe_dst_pts[in_bounds1]\n",
    "dst_des1 = dsframe_dst_des[in_bounds1]"
   ]
  },
  {
   "cell_type": "code",
   "execution_count": null,
   "id": "cb37b6eb-4e7a-44ef-8ee6-a4d6f299a7e8",
   "metadata": {},
   "outputs": [],
   "source": [
    "# At this point in the loops, *all* the points should be in bounds, if we're doing approximate georeferencing\n",
    "if settings['use_approximate_georeferencing']:\n",
    "    assert (~in_bounds1).sum() == 0"
   ]
  },
  {
   "cell_type": "markdown",
   "id": "58b8afc8-53a0-4cba-a44e-dde9441c6116",
   "metadata": {},
   "source": [
    "### Call the typical function\n"
   ]
  },
  {
   "cell_type": "code",
   "execution_count": null,
   "id": "3c07dbe3-d417-4137-a613-7bce5ba5d65f",
   "metadata": {},
   "outputs": [],
   "source": [
    "if less_reffed_mosaic.feature_mode == 'recompute':\n",
    "    dsframe_dst_pts = None\n",
    "    dsframe_dst_des = None"
   ]
  },
  {
   "cell_type": "code",
   "execution_count": null,
   "id": "fad9c147-6667-4f91-b15e-5050f4d80cf6",
   "metadata": {},
   "outputs": [],
   "source": [
    "# DEBUG\n",
    "# src_image = raster.Image.open(row1['filepath'])\n",
    "# image_joiner.validate_brightness(src_image.img_int)\n",
    "# src_image.show()"
   ]
  },
  {
   "cell_type": "code",
   "execution_count": null,
   "id": "ff02d4b5-cc08-48c9-9a63-2ef73a8d637a",
   "metadata": {},
   "outputs": [],
   "source": [
    "return_code, results1 = less_reffed_mosaic.incorporate_image(\n",
    "    dataset,\n",
    "    row1,\n",
    "    dsframe_dst_pts,\n",
    "    dsframe_dst_des,\n",
    ")"
   ]
  },
  {
   "cell_type": "code",
   "execution_count": null,
   "id": "8398fdd6-f578-4335-bc4e-0ddc6d189b67",
   "metadata": {},
   "outputs": [],
   "source": [
    "assert return_code == 'success', 'Image was not successfully combined.'"
   ]
  },
  {
   "cell_type": "code",
   "execution_count": null,
   "id": "b7927692-7e98-4821-a1a5-8202165a613d",
   "metadata": {},
   "outputs": [],
   "source": [
    "zoom_dst_img_after2 = less_reffed_mosaic.get_image(\n",
    "    dataset,\n",
    "    row_train['x_off'], row_train['y_off'],\n",
    "    row_train['x_size'], row_train['y_size'],\n",
    ")"
   ]
  },
  {
   "cell_type": "code",
   "execution_count": null,
   "id": "337c82dd-ec3e-4078-ba8f-fe80966557e3",
   "metadata": {},
   "outputs": [],
   "source": [
    "if settings['show_images']:\n",
    "    subplot_mosaic = [['before', 'after']]\n",
    "    fig = plt.figure(figsize=(20,10))\n",
    "    ax_dict = fig.subplot_mosaic(subplot_mosaic)\n",
    "\n",
    "    ax = ax_dict['before']\n",
    "    raster.Image(zoom_dst_img_after[:, :, :3]).show(img='semitransparent_img', ax=ax)\n",
    "\n",
    "    ax = ax_dict['after']\n",
    "    raster.Image(zoom_dst_img_after2[:, :, :3]).show(img='semitransparent_img', ax=ax)"
   ]
  },
  {
   "cell_type": "code",
   "execution_count": null,
   "metadata": {},
   "outputs": [],
   "source": [
    "# Clear out any existing files\n",
    "clear_files()\n",
    "dataset.FlushCache()\n",
    "dataset = None"
   ]
  },
  {
   "cell_type": "markdown",
   "id": "d4dc7ef5-1a32-4186-be8c-10e99d8cf430",
   "metadata": {},
   "source": [
    "# Full Process\n",
    "\n",
    "Now we'll check if it runs for a subset\n"
   ]
  },
  {
   "cell_type": "code",
   "execution_count": null,
   "metadata": {},
   "outputs": [],
   "source": [
    "import importlib\n",
    "importlib.reload(mosaic)"
   ]
  },
  {
   "cell_type": "markdown",
   "metadata": {},
   "source": [
    "## Run\n"
   ]
  },
  {
   "cell_type": "code",
   "execution_count": null,
   "id": "84fbe274-9a13-4a43-abd5-3cb86bdc9812",
   "metadata": {},
   "outputs": [],
   "source": [
    "i = 0\n",
    "n_loops = settings['n_loops']"
   ]
  },
  {
   "cell_type": "code",
   "execution_count": null,
   "id": "62c1e20f-0bfe-4a7f-b581-57791d5367c0",
   "metadata": {},
   "outputs": [],
   "source": [
    "# The actual calls\n",
    "lr_mosaic = mosaic.LessReferencedMosaic(**constructor_kwargs)\n",
    "\n",
    "lr_mosaic.fit(\n",
    "    X=y_train,\n",
    "    approx_y=X,\n",
    ")\n",
    "\n",
    "y_pred = lr_mosaic.predict(\n",
    "    X.iloc[:n_loops],\n",
    "    i_start = 0,\n",
    ")"
   ]
  },
  {
   "cell_type": "markdown",
   "metadata": {},
   "source": [
    "## Check output\n"
   ]
  },
  {
   "cell_type": "code",
   "execution_count": null,
   "metadata": {},
   "outputs": [],
   "source": [
    "# Check for output files\n",
    "for key, fp in test_fps.items():\n",
    "    print(f'Checking for {key} ({fp})...')\n",
    "    assert os.path.isfile(fp), f'File {key} ({fp}) not found.'"
   ]
  },
  {
   "cell_type": "code",
   "execution_count": null,
   "id": "a5d9f974-1dc7-4370-85fe-8d16a174d0ab",
   "metadata": {},
   "outputs": [],
   "source": [
    "# Check for consistency for fit values\n",
    "for key, value in fit_values.items():\n",
    "    np.testing.assert_allclose(value, getattr(lr_mosaic, key))"
   ]
  },
  {
   "cell_type": "code",
   "execution_count": null,
   "id": "a041cc18-fd45-4331-9c9c-c757bc63335a",
   "metadata": {},
   "outputs": [],
   "source": [
    "# Check for consistency for calculated values\n",
    "for log_key in lr_mosaic.log_keys:\n",
    "\n",
    "    actual = lr_mosaic.log[log_key][:2]\n",
    "    expected = less_reffed_mosaic.log[log_key][:2]\n",
    "    \n",
    "    print(f'Checking {log_key}...')\n",
    "    \n",
    "    try:\n",
    "        np.testing.assert_allclose(actual, expected)\n",
    "    except ValueError:\n",
    "        for j, actual_j in enumerate(actual):\n",
    "            try:\n",
    "                np.testing.assert_allclose(actual_j, expected[j])\n",
    "            except TypeError:\n",
    "                actual_j = cv2.KeyPoint_convert(actual_j)\n",
    "                expected_j = cv2.KeyPoint_convert(expected[j])\n",
    "                np.testing.assert_allclose(actual_j, expected_j)   \n",
    "    except np.exceptions.DTypePromotionError:\n",
    "        for j, actual_j in enumerate(actual):\n",
    "            assert actual_j == expected[j]"
   ]
  },
  {
   "cell_type": "code",
   "execution_count": null,
   "id": "1973c5a7-aec5-4bfe-91b9-7f6f72d1d084",
   "metadata": {},
   "outputs": [],
   "source": [
    "return_codes = pd.Series(lr_mosaic.log['return_code'])\n",
    "assert len(return_codes) == n_loops, f'More return codes than loops. {n_loops} loops, {len(return_codes)} return codes'"
   ]
  },
  {
   "cell_type": "code",
   "execution_count": null,
   "id": "e39fafad-2491-45ac-8f56-37c9e122bd00",
   "metadata": {},
   "outputs": [],
   "source": [
    "# Check how many were successful\n",
    "n_good = (return_codes == 'success').sum()\n",
    "n_bad = n_loops - n_good\n",
    "assert n_good / n_loops > settings['acceptance_fraction'], \\\n",
    "    (\n",
    "        f\"{n_bad} failures, success rate of {settings['acceptance_fraction']} not met. \"\n",
    "        f'Return codes are...\\n{return_codes}'\n",
    "    )"
   ]
  },
  {
   "cell_type": "code",
   "execution_count": null,
   "id": "c7695780-f11c-4093-b95a-1b8ec6d3d2fd",
   "metadata": {},
   "outputs": [],
   "source": [
    "if y_pred.index.isin(y_test.index).sum() > 0:\n",
    "\n",
    "    # Merge into a comparison dataframe\n",
    "    y_pred_for_eval = y_pred.reindex(y_test.index)\n",
    "\n",
    "    # Estimate the consistency with the manual geotransforms\n",
    "    y_err = y_test - y_pred_for_eval\n",
    "    err = np.sqrt(y_err['x_min']**2. + y_err['y_max']**2.)\n",
    "\n",
    "    # Check how bad the errors are\n",
    "    n_egregious = (err > 300.).sum()\n",
    "    assert n_egregious == 0, f'Found {n_egregious} egregious errors.'\n",
    "\n",
    "    if settings['show_images']:\n",
    "        # Visualize the errors\n",
    "        fig = plt.figure()\n",
    "        ax = plt.gca()\n",
    "\n",
    "        sns.scatterplot(\n",
    "            x=np.arange(y_err.index.size),\n",
    "            y=err,\n",
    "            hue=np.arange(len(y_err)),\n",
    "            ax=ax,\n",
    "        )\n",
    "\n",
    "        ax.set_ylim(0, ax.get_ylim()[1])"
   ]
  },
  {
   "cell_type": "markdown",
   "metadata": {},
   "source": [
    "# Restarting From Checkpoint\n"
   ]
  },
  {
   "cell_type": "code",
   "execution_count": null,
   "metadata": {},
   "outputs": [],
   "source": [
    "# The actual calls\n",
    "lr_mosaic = mosaic.LessReferencedMosaic(**constructor_kwargs)\n",
    "# TODO: We want to make it the default for users to use the checkpoints.\n",
    "# Requiring a specific choice of file_exists hinders that.\n",
    "lr_mosaic.set_params(file_exists='pass')\n",
    "\n",
    "lr_mosaic.fit(\n",
    "    X=y_train,\n",
    "    approx_y=X,\n",
    ")\n",
    "\n"
   ]
  },
  {
   "cell_type": "code",
   "execution_count": null,
   "metadata": {},
   "outputs": [],
   "source": [
    "# DEBUG\n",
    "import re\n",
    "# Determine what to look for, for checkpoint files\n",
    "checkpoint_dir, filename = os.path.split(lr_mosaic.filepath_)\n",
    "base, ext = os.path.splitext(filename)\n",
    "i_tag = r'_i(\\d+)'\n",
    "checkpoint_pattern = base + i_tag + ext\n",
    "pattern = re.compile(checkpoint_pattern)\n",
    "\n",
    "# Look for checkpoint files\n",
    "i_start = -1\n",
    "j_filename = None\n",
    "possible_files = os.listdir(checkpoint_dir)\n",
    "for j, filename in enumerate(possible_files):\n",
    "    match = pattern.search(filename)\n",
    "    if not match:\n",
    "        continue\n",
    "\n",
    "    number = int(match.group(1))\n",
    "    if number > i_start:\n",
    "        i_start = number\n",
    "        j_filename = j"
   ]
  },
  {
   "cell_type": "code",
   "execution_count": null,
   "metadata": {},
   "outputs": [],
   "source": [
    "# Copy over dataset\n",
    "checkpoint_filename = possible_files[j_filename]\n",
    "checkpoint_filepath = os.path.join(checkpoint_dir, checkpoint_filename)\n",
    "shutil.copy(checkpoint_filepath, lr_mosaic.filepath_)"
   ]
  },
  {
   "cell_type": "code",
   "execution_count": null,
   "metadata": {},
   "outputs": [],
   "source": [
    "y_pred = lr_mosaic.predict(\n",
    "    X.iloc[:n_loops],\n",
    ")"
   ]
  },
  {
   "cell_type": "markdown",
   "metadata": {},
   "source": [
    "## Check output\n"
   ]
  },
  {
   "cell_type": "code",
   "execution_count": null,
   "metadata": {},
   "outputs": [],
   "source": [
    "# Check for output files\n",
    "for key, fp in test_fps.items():\n",
    "    print(f'Checking for {key} ({fp})...')\n",
    "    assert os.path.isfile(fp), f'File {key} ({fp}) not found.'"
   ]
  },
  {
   "cell_type": "code",
   "execution_count": null,
   "metadata": {},
   "outputs": [],
   "source": [
    "# Check for consistency for fit values\n",
    "for key, value in fit_values.items():\n",
    "    np.testing.assert_allclose(value, getattr(lr_mosaic, key))"
   ]
  },
  {
   "cell_type": "code",
   "execution_count": null,
   "metadata": {},
   "outputs": [],
   "source": [
    "# Check for consistency for calculated values\n",
    "for log_key in lr_mosaic.log_keys:\n",
    "\n",
    "    actual = lr_mosaic.log[log_key][:2]\n",
    "    expected = less_reffed_mosaic.log[log_key][:2]\n",
    "    \n",
    "    print(f'Checking {log_key}...')\n",
    "    \n",
    "    try:\n",
    "        np.testing.assert_allclose(actual, expected)\n",
    "    except ValueError:\n",
    "        for j, actual_j in enumerate(actual):\n",
    "            try:\n",
    "                np.testing.assert_allclose(actual_j, expected[j])\n",
    "            except TypeError:\n",
    "                actual_j = cv2.KeyPoint_convert(actual_j)\n",
    "                expected_j = cv2.KeyPoint_convert(expected[j])\n",
    "                np.testing.assert_allclose(actual_j, expected_j)   \n",
    "    except np.exceptions.DTypePromotionError:\n",
    "        for j, actual_j in enumerate(actual):\n",
    "            assert actual_j == expected[j]"
   ]
  },
  {
   "cell_type": "code",
   "execution_count": null,
   "metadata": {},
   "outputs": [],
   "source": [
    "return_codes = pd.Series(lr_mosaic.log['return_code'])\n",
    "assert len(return_codes) == n_loops, f'More return codes than loops. {n_loops} loops, {len(return_codes)} return codes'"
   ]
  },
  {
   "cell_type": "markdown",
   "metadata": {},
   "source": [
    "# Cleanup\n"
   ]
  },
  {
   "cell_type": "code",
   "execution_count": null,
   "metadata": {},
   "outputs": [],
   "source": [
    "clear_files()"
   ]
  },
  {
   "cell_type": "markdown",
   "id": "9c657979-d568-48eb-a8b3-774e14deb24a",
   "metadata": {},
   "source": [
    "# DEBUG\n"
   ]
  },
  {
   "cell_type": "markdown",
   "id": "2da81122-e7fd-4f8e-9d0f-4d5911c35f5b",
   "metadata": {},
   "source": [
    "## Check georeferencing (DEBUG)\n",
    "\n",
    "The below doesn't really make sense, because the x_off, y_off, x_size, y_size that are warped are really unreliable for the image itself.\n",
    "Only some parts (e.g. the image center) are trustworthy-ish.\n"
   ]
  },
  {
   "cell_type": "code",
   "execution_count": null,
   "id": "c13b25e1-01d7-4cf2-861d-b9a2ca27bbb6",
   "metadata": {},
   "outputs": [],
   "source": [
    "# # Get the warped bounds\n",
    "# (\n",
    "#     warped_x_min, warped_x_max,\n",
    "#     warped_y_min, warped_y_max,\n",
    "# ) = less_reffed_mosaic.pixel_to_physical(\n",
    "#     info['x_off'], info['y_off'],\n",
    "#     info['x_size'], info['y_size'],\n",
    "# )"
   ]
  },
  {
   "cell_type": "code",
   "execution_count": null,
   "id": "3dee60ec-a8b2-43ee-a1c1-b52cb85686eb",
   "metadata": {},
   "outputs": [],
   "source": [
    "# # Get the centers\n",
    "# warped_center = np.array([\n",
    "#     0.5 * (warped_x_min + warped_x_max),\n",
    "#     0.5 * (warped_y_min + warped_y_max),\n",
    "# ])"
   ]
  },
  {
   "cell_type": "code",
   "execution_count": null,
   "id": "50c1457a-0eba-478b-aa26-926832356a4d",
   "metadata": {},
   "outputs": [],
   "source": [
    "# if not settings['include_raw_images']:\n",
    "\n",
    "#     # Get the recorded bounds\n",
    "#     recorded_x_min, recorded_x_max, recorded_y_min, recorded_y_max = y_test.loc[row.name, ['x_min', 'x_max', 'y_min', 'y_max']]\n",
    "    \n",
    "#     recorded_center = np.array([\n",
    "#         0.5 * (recorded_x_min + recorded_x_max),\n",
    "#         0.5 * (recorded_y_min + recorded_y_max),\n",
    "#     ])\n",
    "    \n",
    "#     # Check the centers\n",
    "#     d_between_centers = np.linalg.norm(warped_center - recorded_center)\n",
    "#     assert d_between_centers < 100.\n",
    "\n",
    "#     src_image = raster.ReferencedImage.open(row['filepath'])"
   ]
  },
  {
   "cell_type": "code",
   "execution_count": null,
   "id": "8e3dd8d6-d900-4939-bb30-2b5f17cfcc52",
   "metadata": {},
   "outputs": [],
   "source": [
    "# blended_img = less_reffed_mosaic.get_image(row['x_off'], row['y_off'], row['x_size'], row['y_size'])\n",
    "# blended_image = raster.ReferencedImage(blended_img[:, :, :3], [warped_x_min, warped_x_max], [warped_y_min, warped_y_max])"
   ]
  },
  {
   "cell_type": "code",
   "execution_count": null,
   "id": "87156785-c00e-417c-8ed2-3758100d959c",
   "metadata": {},
   "outputs": [],
   "source": [
    "# fig = plt.figure(figsize=(20,10))\n",
    "# ax = plt.gca()\n",
    "\n",
    "# blended_image.show(crs='cartesian', img='semitransparent_img', ax=ax)\n",
    "\n",
    "# if not settings['include_raw_images']:\n",
    "#     src_image.show(crs='cartesian', iimg='semitransparent_img', ax=ax)\n",
    "\n",
    "# # The warped image location\n",
    "# width = warped_x_max - warped_x_min\n",
    "# height = warped_y_max - warped_y_min\n",
    "# rect = patches.Rectangle(\n",
    "#     (warped_x_min, warped_y_min),\n",
    "#     width,\n",
    "#     height,\n",
    "#     linewidth = 3,\n",
    "#     facecolor = 'none',\n",
    "#     edgecolor = palette[0],\n",
    "# )\n",
    "# ax.add_patch(rect)\n",
    "# ax.scatter(\n",
    "#     *warped_center,\n",
    "#     s=100,\n",
    "#     color=palette[0],\n",
    "#     label='found',\n",
    "# )\n",
    "\n",
    "# # The actual image location\n",
    "# if not settings['include_raw_images']:\n",
    "#     rect = patches.Rectangle(\n",
    "#         (recorded_x_min, recorded_y_min),\n",
    "#         recorded_x_max - recorded_x_min,\n",
    "#         recorded_y_max - recorded_y_min,\n",
    "#         linewidth = 3,\n",
    "#         facecolor = 'none',\n",
    "#         edgecolor = palette[1],\n",
    "#     )\n",
    "#     ax.add_patch(rect)\n",
    "#     ax.scatter(\n",
    "#         *recorded_center,\n",
    "#         s=100,\n",
    "#         color=palette[1],\n",
    "#         label='recorded',\n",
    "#     )\n",
    "\n",
    "# padding_for_this_plot = 0.1 * width\n",
    "# ax.set_xlim(warped_x_min - padding_for_this_plot, warped_x_max + padding_for_this_plot)\n",
    "# ax.set_ylim(warped_y_min - padding_for_this_plot, warped_y_max + padding_for_this_plot)\n",
    "\n",
    "# ax.set_aspect('equal')\n",
    "# ax.legend()"
   ]
  },
  {
   "cell_type": "code",
   "execution_count": null,
   "id": "701763ab-0f95-462c-9af4-d89273803b8c",
   "metadata": {},
   "outputs": [],
   "source": []
  }
 ],
 "metadata": {
  "kernelspec": {
   "display_name": "Python 3 (ipykernel)",
   "language": "python",
   "name": "python3"
  },
  "language_info": {
   "codemirror_mode": {
    "name": "ipython",
    "version": 3
   },
   "file_extension": ".py",
   "mimetype": "text/x-python",
   "name": "python",
   "nbconvert_exporter": "python",
   "pygments_lexer": "ipython3",
   "version": "3.11.5"
  }
 },
 "nbformat": 4,
 "nbformat_minor": 5
}

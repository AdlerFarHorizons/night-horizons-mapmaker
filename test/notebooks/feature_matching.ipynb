{
 "cells": [
  {
   "cell_type": "markdown",
   "id": "01757494-59c0-4d23-9e86-c573f1456686",
   "metadata": {
    "jp-MarkdownHeadingCollapsed": true
   },
   "source": [
    "# Feature Matching\n",
    "\n",
    "This notebook evaluates feature matching performance for a number of test scenarios."
   ]
  },
  {
   "cell_type": "markdown",
   "id": "427c49e2-2d49-4b74-9c17-1db353507044",
   "metadata": {},
   "source": [
    "# Setup"
   ]
  },
  {
   "cell_type": "markdown",
   "id": "51949404-7b33-4e69-8cb5-acb7823ed70d",
   "metadata": {},
   "source": [
    "## Imports"
   ]
  },
  {
   "cell_type": "code",
   "execution_count": null,
   "id": "f2439067-da17-46ea-b352-7c486a6e2401",
   "metadata": {},
   "outputs": [],
   "source": [
    "# import copy\n",
    "import os\n",
    "import time"
   ]
  },
  {
   "cell_type": "code",
   "execution_count": null,
   "id": "c5c22acd-8dff-4b33-a519-0b1bafd4c2d4",
   "metadata": {},
   "outputs": [],
   "source": [
    "import cv2\n",
    "import numpy as np\n",
    "import pandas as pd\n",
    "# from sklearn.model_selection import train_test_split\n",
    "# from sklearn.pipeline import Pipeline\n",
    "# from sklearn.utils import check_random_state\n",
    "import tqdm.notebook\n",
    "import yaml"
   ]
  },
  {
   "cell_type": "code",
   "execution_count": null,
   "id": "61ba2ddf-e6da-4b90-8258-0285e13db00f",
   "metadata": {},
   "outputs": [],
   "source": [
    "import matplotlib\n",
    "import matplotlib.pyplot as plt\n",
    "# import matplotlib.patches as patches\n",
    "import seaborn as sns\n",
    "sns.set_style('white')"
   ]
  },
  {
   "cell_type": "code",
   "execution_count": null,
   "id": "f91ac252-2f92-4b51-9b68-835fcc917263",
   "metadata": {},
   "outputs": [],
   "source": [
    "from night_horizons import utils, raster"
   ]
  },
  {
   "cell_type": "markdown",
   "id": "51309b6c-5a10-412c-8185-3a4401d46c65",
   "metadata": {},
   "source": [
    "## Settings"
   ]
  },
  {
   "cell_type": "code",
   "execution_count": null,
   "id": "400bb7f2-ef43-4560-bf23-b5f21e68db1e",
   "metadata": {},
   "outputs": [],
   "source": [
    "with open('./config.yml', \"r\", encoding='UTF-8') as file:\n",
    "    settings = yaml.load(file, Loader=yaml.FullLoader)"
   ]
  },
  {
   "cell_type": "code",
   "execution_count": null,
   "id": "ca608e00-e559-4047-83ed-f90c6be339fb",
   "metadata": {},
   "outputs": [],
   "source": [
    "local_settings = {\n",
    "    # Filetree settings\n",
    "    'test_images_dir': '../test_data/feature_matching/',\n",
    "    'src_format': 'src_{}.tiff',\n",
    "    'dst_format': 'dst_{}.tiff',\n",
    "\n",
    "    # Feature matching options\n",
    "    'feature_detectors': [('ORB', {}), ('SIFT', {})],\n",
    "    'feature_matchers': [('BFMatcher', {})],\n",
    "\n",
    "    # Parameters\n",
    "    'det_min': 0.5,\n",
    "}\n",
    "settings.update(local_settings)"
   ]
  },
  {
   "cell_type": "markdown",
   "id": "9a4bfdfb-b036-45cb-ab2b-3a40f7669c1d",
   "metadata": {},
   "source": [
    "## Parse Settings"
   ]
  },
  {
   "cell_type": "code",
   "execution_count": null,
   "id": "d6cacdff-8d09-4fda-9c71-33423e87ecd1",
   "metadata": {},
   "outputs": [],
   "source": [
    "# Initialize the feature detectors\n",
    "feature_detectors = []\n",
    "for params in settings['feature_detectors']:\n",
    "    feature_detector = getattr(cv2, f'{params[0]}_create')(**params[-1])\n",
    "    feature_detectors.append(feature_detector)"
   ]
  },
  {
   "cell_type": "code",
   "execution_count": null,
   "id": "a4699319-9c0b-4598-9a98-2dd684757f12",
   "metadata": {},
   "outputs": [],
   "source": [
    "# Initialize the feature detectors\n",
    "feature_matchers = []\n",
    "for params in settings['feature_matchers']:\n",
    "    feature_matcher = getattr(cv2, f'{params[0]}')(**params[-1])\n",
    "    feature_matchers.append(feature_matcher)"
   ]
  },
  {
   "cell_type": "markdown",
   "id": "b4fe75c4-d7a5-48d7-95af-d189ae222c11",
   "metadata": {},
   "source": [
    "# Image Pairs"
   ]
  },
  {
   "cell_type": "markdown",
   "id": "6a5d8d70-8077-4319-acab-87b90ea527ca",
   "metadata": {},
   "source": [
    "## Set 0"
   ]
  },
  {
   "cell_type": "code",
   "execution_count": null,
   "id": "907ce8a8-0e77-42a9-97f1-7d5ddd9f7784",
   "metadata": {},
   "outputs": [],
   "source": [
    "i = 0\n",
    "src_fp = os.path.join(settings['test_images_dir'], settings['src_format'].format(i))\n",
    "src_image = raster.Image.open(src_fp)\n",
    "src_img = src_image.img_int\n",
    "dst_fp = os.path.join(settings['test_images_dir'], settings['dst_format'].format(i))\n",
    "dst_image = raster.Image.open(dst_fp)\n",
    "dst_img = dst_image.img_int"
   ]
  },
  {
   "cell_type": "code",
   "execution_count": null,
   "id": "cd9b7dd8-127e-48a1-a0a6-eb268c445cf1",
   "metadata": {},
   "outputs": [],
   "source": [
    "subplot_mosaic = [['dst_img', 'src_img']]\n",
    "fig = plt.figure(figsize=(20,10))\n",
    "ax_dict = fig.subplot_mosaic(subplot_mosaic)\n",
    "\n",
    "ax = ax_dict['dst_img']\n",
    "dst_image.show(ax=ax, img='semitransparent_img')\n",
    "\n",
    "ax = ax_dict['src_img']\n",
    "src_image.show(ax=ax, img='semitransparent_img')\n",
    "\n",
    "plt.tight_layout()"
   ]
  },
  {
   "cell_type": "code",
   "execution_count": null,
   "id": "0dff253f-b0b3-4bb9-a84e-6b7b6254132f",
   "metadata": {},
   "outputs": [],
   "source": [
    "data = dict(\n",
    "    valid_M = [],\n",
    "    abs_det_M = [],\n",
    "    duration = [],\n",
    "    i_value = [],\n",
    "    j_value = [],\n",
    "    M = [],\n",
    ")\n",
    "\n",
    "n_fd = len(feature_detectors)\n",
    "n_fm = len(feature_matchers)\n",
    "n_stages = 3\n",
    "\n",
    "with tqdm.notebook.tqdm(total=n_fd * n_fm * n_stages) as pbar:\n",
    "\n",
    "    for i, feature_detector in enumerate(feature_detectors):\n",
    "        for j, feature_matcher in enumerate(feature_matchers):\n",
    "    \n",
    "            start = time.time()\n",
    "        \n",
    "            # Get keypoints\n",
    "            src_kp, src_des = feature_detector.detectAndCompute(src_img, None)\n",
    "            dst_kp, dst_des = feature_detector.detectAndCompute(dst_img, None)\n",
    "            pbar.update(1)\n",
    "            \n",
    "            # Get transform\n",
    "            M, info = utils.calc_warp_transform(src_kp, src_des, dst_kp, dst_des, feature_matcher)\n",
    "            pbar.update(1)\n",
    "            \n",
    "            # Check transform\n",
    "            valid_M, abs_det_M = utils.validate_warp_transform(M, det_min=settings['det_min'])\n",
    "            pbar.update(1)\n",
    "    \n",
    "            duration = time.time() - start\n",
    "            \n",
    "            data['valid_M'].append(valid_M)\n",
    "            data['abs_det_M'].append(abs_det_M)\n",
    "            data['duration'].append(duration)\n",
    "            data['i_value'].append(i)\n",
    "            data['j_value'].append(j)\n",
    "            data['M'].append(M)\n",
    "\n",
    "df = pd.DataFrame(data)"
   ]
  },
  {
   "cell_type": "code",
   "execution_count": null,
   "id": "5fc4b12b-5202-4983-b161-4d2e0122c1b2",
   "metadata": {},
   "outputs": [],
   "source": [
    "# Identify the best set of parameters\n",
    "valid_df = df.loc[df['valid_M']]\n",
    "best_ind = valid_df.index[valid_df['duration'].argmin()]"
   ]
  },
  {
   "cell_type": "code",
   "execution_count": null,
   "id": "ba0911e2-4edb-4e41-b26f-31aba2abd8e9",
   "metadata": {},
   "outputs": [],
   "source": [
    "# Warp and blend\n",
    "warped_img = cv2.warpPerspective(src_img, M, (dst_img.shape[1], dst_img.shape[0]))\n",
    "warped_image = raster.Image(warped_img)\n",
    "blended_img = utils.blend_images(\n",
    "    src_img=warped_img,\n",
    "    dst_img=dst_img,\n",
    ")\n",
    "blended_image = raster.Image(blended_img[:, :, :3])"
   ]
  },
  {
   "cell_type": "code",
   "execution_count": null,
   "id": "609f1472-689e-46f0-bb06-05b1c53e3a88",
   "metadata": {},
   "outputs": [],
   "source": [
    "# View results\n",
    "subplot_mosaic = [['warped_img', 'blended_img']]\n",
    "fig = plt.figure(figsize=(20,10))\n",
    "ax_dict = fig.subplot_mosaic(subplot_mosaic)\n",
    "\n",
    "ax = ax_dict['warped_img']\n",
    "warped_image.show(ax=ax, img='semitransparent_img')\n",
    "\n",
    "ax = ax_dict['blended_img']\n",
    "blended_image.show(ax=ax, img='semitransparent_img')\n",
    "\n",
    "plt.tight_layout()"
   ]
  },
  {
   "cell_type": "code",
   "execution_count": null,
   "id": "e5033e66-504e-4805-866e-cb7339039611",
   "metadata": {},
   "outputs": [],
   "source": []
  }
 ],
 "metadata": {
  "kernelspec": {
   "display_name": "Python 3 (ipykernel)",
   "language": "python",
   "name": "python3"
  },
  "language_info": {
   "codemirror_mode": {
    "name": "ipython",
    "version": 3
   },
   "file_extension": ".py",
   "mimetype": "text/x-python",
   "name": "python",
   "nbconvert_exporter": "python",
   "pygments_lexer": "ipython3",
   "version": "3.11.5"
  }
 },
 "nbformat": 4,
 "nbformat_minor": 5
}

{
 "cells": [
  {
   "cell_type": "markdown",
   "id": "070a496d-6231-4f7e-9f5b-372b883ec596",
   "metadata": {},
   "source": [
    "# Referenced Mosaic\n"
   ]
  },
  {
   "cell_type": "markdown",
   "id": "54e06c13-2725-48b5-9fcc-2f50e7cc7fbe",
   "metadata": {},
   "source": [
    "# Setup\n"
   ]
  },
  {
   "cell_type": "markdown",
   "id": "8431f2d1-c71f-49fb-9389-0e5eed180553",
   "metadata": {},
   "source": [
    "## Imports\n"
   ]
  },
  {
   "cell_type": "code",
   "execution_count": null,
   "id": "1672404f-2f12-47cc-b182-1043a69dda8c",
   "metadata": {},
   "outputs": [],
   "source": [
    "import os\n",
    "import shutil"
   ]
  },
  {
   "cell_type": "code",
   "execution_count": null,
   "id": "eaf166db-7118-4f23-b9e9-418029afd5fd",
   "metadata": {},
   "outputs": [],
   "source": [
    "import numpy as np\n",
    "import pandas as pd\n",
    "from sklearn.utils import check_random_state\n",
    "import yaml"
   ]
  },
  {
   "cell_type": "code",
   "execution_count": null,
   "id": "4ae386da-1cf7-4a55-b826-e17632498776",
   "metadata": {},
   "outputs": [],
   "source": [
    "import matplotlib\n",
    "import matplotlib.pyplot as plt\n",
    "import seaborn as sns\n",
    "sns.set_style('white')"
   ]
  },
  {
   "cell_type": "code",
   "execution_count": null,
   "id": "ab62500d-ea26-4123-820b-56863db24d73",
   "metadata": {},
   "outputs": [],
   "source": [
    "from night_horizons import mosaickers, preprocessers, utils"
   ]
  },
  {
   "cell_type": "markdown",
   "id": "33b586b1-a52a-4018-98c2-73031d05474e",
   "metadata": {},
   "source": [
    "## Settings\n"
   ]
  },
  {
   "cell_type": "code",
   "execution_count": null,
   "id": "e8752436-8f23-42d2-8dc9-3de3659d71cc",
   "metadata": {},
   "outputs": [],
   "source": [
    "with open('./config.yml', \"r\", encoding='UTF-8') as file:\n",
    "    settings = yaml.load(file, Loader=yaml.FullLoader)"
   ]
  },
  {
   "cell_type": "code",
   "execution_count": null,
   "id": "83e5b697-7aa5-4224-956c-f84fa660d29d",
   "metadata": {},
   "outputs": [],
   "source": [
    "local_settings = {\n",
    "    'out_dir': 'mosaics/referenced',\n",
    "    'overwrite': True,\n",
    "    'random_state': 16849,\n",
    "    'camera_nums': [0, 1, 2, ]\n",
    "}\n",
    "settings.update(local_settings)"
   ]
  },
  {
   "cell_type": "markdown",
   "id": "c9739ef1-038d-44c1-8c75-3dcd6d6c1add",
   "metadata": {},
   "source": [
    "## Parse Settings\n"
   ]
  },
  {
   "cell_type": "code",
   "execution_count": null,
   "id": "13928180-f722-4931-a3dc-bf1ed2b775ab",
   "metadata": {},
   "outputs": [],
   "source": [
    "settings['out_dir'] = os.path.join(settings['data_dir'], settings['out_dir'])"
   ]
  },
  {
   "cell_type": "code",
   "execution_count": null,
   "id": "34824e8c-d66e-402c-91a4-3f77f48a8ba3",
   "metadata": {},
   "outputs": [],
   "source": [
    "for key, relpath in settings['paths_relative_to_data_dir'].items():\n",
    "    settings[key] = os.path.join(settings['data_dir'], relpath)"
   ]
  },
  {
   "cell_type": "code",
   "execution_count": null,
   "id": "ef2a5c18-9b75-4eb4-a357-e8a6e33db965",
   "metadata": {},
   "outputs": [],
   "source": [
    "random_state = check_random_state(settings['random_state'])"
   ]
  },
  {
   "cell_type": "code",
   "execution_count": null,
   "id": "b4408c5e-dba0-44a3-9cb3-2b5922875880",
   "metadata": {},
   "outputs": [],
   "source": [
    "referenced_fps = {\n",
    "    i: utils.discover_data(\n",
    "        settings['referenced_images_dir'],\n",
    "        ['tif', 'tiff'],\n",
    "        pattern=r'Geo\\s\\d+_' + f'{i}.tif'\n",
    "    )\n",
    "    for i in settings['camera_nums']\n",
    "}\n",
    "referenced_fps = pd.concat(referenced_fps)"
   ]
  },
  {
   "cell_type": "code",
   "execution_count": null,
   "id": "e8930c0f-fd56-4299-8f1f-94b64e664dc3",
   "metadata": {},
   "outputs": [],
   "source": [
    "assert len(referenced_fps) > 0"
   ]
  },
  {
   "cell_type": "code",
   "execution_count": null,
   "id": "1401d248",
   "metadata": {},
   "outputs": [],
   "source": [
    "test_filenames = {\n",
    "    'mosaic': 'mosaic.tiff',\n",
    "    'settings': 'settings.yaml', \n",
    "    'checkpoint': os.path.join(\n",
    "        'checkpoints',\n",
    "        f\"mosaic_i{100:06d}.tiff\"\n",
    "    ),\n",
    "}\n",
    "test_fps = {\n",
    "    key: os.path.join(settings['out_dir'], value)\n",
    "    for key, value in test_filenames.items()\n",
    "}"
   ]
  },
  {
   "cell_type": "markdown",
   "id": "551c26e9-853e-46a2-8d36-c0d11a3d2fd3",
   "metadata": {},
   "source": [
    "# Extract/Transform/Load\n"
   ]
  },
  {
   "cell_type": "code",
   "execution_count": null,
   "id": "e93b2c51-565e-4d94-b76c-b38e8f43fc27",
   "metadata": {},
   "outputs": [],
   "source": [
    "preprocessing = preprocessers.GeoTIFFPreprocesser()"
   ]
  },
  {
   "cell_type": "code",
   "execution_count": null,
   "id": "8206fb03-c630-4d76-a78e-31e16c284e92",
   "metadata": {},
   "outputs": [],
   "source": [
    "X = preprocessing.fit_transform(\n",
    "    referenced_fps,\n",
    ")"
   ]
  },
  {
   "cell_type": "markdown",
   "id": "626532fe-d463-4830-ac4e-aaf8a3840902",
   "metadata": {},
   "source": [
    "# Build Mosaic\n"
   ]
  },
  {
   "cell_type": "code",
   "execution_count": null,
   "id": "2b04e42e-b05a-4ea5-9ba3-c254f35f5ce2",
   "metadata": {},
   "outputs": [],
   "source": [
    "if os.path.isdir(settings['out_dir']) and settings['overwrite']:\n",
    "    shutil.rmtree(settings['out_dir'])"
   ]
  },
  {
   "cell_type": "code",
   "execution_count": null,
   "id": "97947051-63f7-4f0b-9263-ffc6869c3b1a",
   "metadata": {},
   "outputs": [],
   "source": [
    "mosaicker = mosaickers.Mosaicker(settings['out_dir'])"
   ]
  },
  {
   "cell_type": "code",
   "execution_count": null,
   "id": "06bbe681-f99b-45c4-b4c7-45a9e84e7f49",
   "metadata": {},
   "outputs": [],
   "source": [
    "mosaicker.fit_transform(X)"
   ]
  },
  {
   "cell_type": "markdown",
   "id": "c743e7a6-abd9-40de-bf4b-b318339ff369",
   "metadata": {},
   "source": [
    "# Evaluate\n"
   ]
  },
  {
   "cell_type": "markdown",
   "id": "1f8e6ef5",
   "metadata": {},
   "source": [
    "## Check Output Exists\n"
   ]
  },
  {
   "cell_type": "code",
   "execution_count": null,
   "id": "21c1e029",
   "metadata": {},
   "outputs": [],
   "source": [
    "for key, fp in test_fps.items():\n",
    "    if len(referenced_fps) < 100 and key == 'checkpoint':\n",
    "        continue\n",
    "    assert os.path.isfile(fp), f'Did not find file {key}: {fp}'"
   ]
  },
  {
   "cell_type": "markdown",
   "id": "d09d0fff-a9f1-4924-8cad-cac2c5390743",
   "metadata": {},
   "source": [
    "## Individual Inspection\n"
   ]
  },
  {
   "cell_type": "code",
   "execution_count": null,
   "id": "2b6c0458-174d-4860-85a7-8f761c8776b2",
   "metadata": {},
   "outputs": [],
   "source": [
    "ind = random_state.choice(X.index)\n",
    "row = X.loc[ind]"
   ]
  },
  {
   "cell_type": "code",
   "execution_count": null,
   "id": "953b5006-106e-4756-856f-e1d3f17cb4ff",
   "metadata": {},
   "outputs": [],
   "source": [
    "original_img = utils.load_image(row['filepath'])\n",
    "dataset = mosaicker.open_dataset()\n",
    "mosaic_img = mosaicker.get_image_with_bounds(\n",
    "    dataset, row['x_min'], row['x_max'], row['y_min'], row['y_max'])"
   ]
  },
  {
   "cell_type": "code",
   "execution_count": null,
   "id": "5e4a2c02-969b-4376-a5f1-58c9d7a43e7a",
   "metadata": {},
   "outputs": [],
   "source": [
    "subplot_mosaic = [['original', 'mosaic']]\n",
    "n_rows = len(subplot_mosaic)\n",
    "n_cols = len(subplot_mosaic[0])\n",
    "\n",
    "fig = plt.figure(figsize=(10*n_cols, 10*n_rows))\n",
    "ax_dict = fig.subplot_mosaic(subplot_mosaic)\n",
    "\n",
    "ax = ax_dict['original']\n",
    "ax.imshow(original_img)\n",
    "\n",
    "ax = ax_dict['mosaic']\n",
    "ax.imshow(mosaic_img)"
   ]
  },
  {
   "cell_type": "markdown",
   "id": "940f9a6f-370d-4dba-b157-7063a0363538",
   "metadata": {},
   "source": [
    "## Overall Scores\n"
   ]
  },
  {
   "cell_type": "code",
   "execution_count": null,
   "id": "09d122d5-180f-4e4a-8608-63153c43ea52",
   "metadata": {},
   "outputs": [],
   "source": [
    "r_median = mosaicker.score(X)"
   ]
  },
  {
   "cell_type": "code",
   "execution_count": null,
   "id": "cf2bf471-69ce-4a97-b18a-103299c2f23a",
   "metadata": {},
   "outputs": [],
   "source": [
    "sns.histplot(mosaicker.scores_)"
   ]
  },
  {
   "cell_type": "code",
   "execution_count": null,
   "id": "99cb0627-9565-4a28-b0b2-ed39b7d05fa2",
   "metadata": {},
   "outputs": [],
   "source": [
    "sns.scatterplot(\n",
    "    x=np.arange(len(mosaicker.scores_)),\n",
    "    y=mosaicker.scores_,\n",
    ")"
   ]
  },
  {
   "cell_type": "markdown",
   "id": "2447e118-d54a-4aa4-ba56-aef6ff8fe565",
   "metadata": {},
   "source": [
    "## Calculate the area\n"
   ]
  },
  {
   "cell_type": "code",
   "execution_count": null,
   "id": "d897d45d-e24f-4db7-a8c8-25ff0bcc247d",
   "metadata": {},
   "outputs": [],
   "source": [
    "full_mosaic_img = mosaicker.get_image(dataset, 0, 0, mosaicker.x_size_, mosaicker.y_size_)"
   ]
  },
  {
   "cell_type": "code",
   "execution_count": null,
   "id": "6d7a3615-9e1b-4c0c-a354-17a0c999acb7",
   "metadata": {},
   "outputs": [],
   "source": [
    "is_not_empty = ~np.isclose(full_mosaic_img, 0.)"
   ]
  },
  {
   "cell_type": "code",
   "execution_count": null,
   "id": "d083c279-97f9-413c-ab5a-ab69f608f22b",
   "metadata": {},
   "outputs": [],
   "source": [
    "full_area = is_not_empty.sum() * -mosaicker.pixel_height_ * mosaicker.pixel_width_\n",
    "full_area_km = full_area / (1000.)**2.\n",
    "print(f'The area covered by the referenced mosaic is {full_area_km:.2g} km^2')"
   ]
  },
  {
   "cell_type": "code",
   "execution_count": null,
   "id": "92853276-3907-45e3-80cb-c675296d35e5",
   "metadata": {},
   "outputs": [],
   "source": [
    "# From google\n",
    "actual_area_km = 953."
   ]
  },
  {
   "cell_type": "code",
   "execution_count": null,
   "id": "9e206e21-66f7-4964-8f0a-313693432b63",
   "metadata": {},
   "outputs": [],
   "source": [
    "# We only check if the area is large enough because we image the area around Indianapolis too\n",
    "assert full_area_km > actual_area_km"
   ]
  },
  {
   "cell_type": "markdown",
   "id": "82ad1ede-91ee-4801-97ff-40b92a65e235",
   "metadata": {},
   "source": [
    "## Cleanup\n"
   ]
  },
  {
   "cell_type": "code",
   "execution_count": null,
   "id": "7b16525d-0ebe-49b4-8683-6b4b2a0cf8c9",
   "metadata": {},
   "outputs": [],
   "source": [
    "dataset.FlushCache()\n",
    "dataset = None"
   ]
  }
 ],
 "metadata": {
  "kernelspec": {
   "display_name": "Python 3 (ipykernel)",
   "language": "python",
   "name": "python3"
  },
  "language_info": {
   "codemirror_mode": {
    "name": "ipython",
    "version": 3
   },
   "file_extension": ".py",
   "mimetype": "text/x-python",
   "name": "python",
   "nbconvert_exporter": "python",
   "pygments_lexer": "ipython3",
   "version": "3.11.5"
  }
 },
 "nbformat": 4,
 "nbformat_minor": 5
}

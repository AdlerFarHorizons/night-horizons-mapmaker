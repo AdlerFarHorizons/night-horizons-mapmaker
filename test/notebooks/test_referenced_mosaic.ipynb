{
 "cells": [
  {
   "cell_type": "markdown",
   "id": "070a496d-6231-4f7e-9f5b-372b883ec596",
   "metadata": {},
   "source": [
    "# Referenced Mosaic"
   ]
  },
  {
   "cell_type": "markdown",
   "id": "54e06c13-2725-48b5-9fcc-2f50e7cc7fbe",
   "metadata": {},
   "source": [
    "# Setup"
   ]
  },
  {
   "cell_type": "markdown",
   "id": "8431f2d1-c71f-49fb-9389-0e5eed180553",
   "metadata": {},
   "source": [
    "## Imports"
   ]
  },
  {
   "cell_type": "code",
   "execution_count": null,
   "id": "1672404f-2f12-47cc-b182-1043a69dda8c",
   "metadata": {},
   "outputs": [],
   "source": [
    "import os"
   ]
  },
  {
   "cell_type": "code",
   "execution_count": null,
   "id": "eaf166db-7118-4f23-b9e9-418029afd5fd",
   "metadata": {},
   "outputs": [],
   "source": [
    "import numpy as np\n",
    "import pandas as pd\n",
    "from sklearn.model_selection import train_test_split\n",
    "from sklearn.pipeline import Pipeline\n",
    "from sklearn.utils import check_random_state\n",
    "import yaml"
   ]
  },
  {
   "cell_type": "code",
   "execution_count": null,
   "id": "4ae386da-1cf7-4a55-b826-e17632498776",
   "metadata": {},
   "outputs": [],
   "source": [
    "import matplotlib\n",
    "import matplotlib.pyplot as plt\n",
    "import seaborn as sns\n",
    "sns.set_style('white')"
   ]
  },
  {
   "cell_type": "code",
   "execution_count": null,
   "id": "ab62500d-ea26-4123-820b-56863db24d73",
   "metadata": {},
   "outputs": [],
   "source": [
    "from night_horizons import utils, preprocess, mosaic, raster"
   ]
  },
  {
   "cell_type": "markdown",
   "id": "33b586b1-a52a-4018-98c2-73031d05474e",
   "metadata": {},
   "source": [
    "## Settings"
   ]
  },
  {
   "cell_type": "code",
   "execution_count": null,
   "id": "e8752436-8f23-42d2-8dc9-3de3659d71cc",
   "metadata": {},
   "outputs": [],
   "source": [
    "with open('./config.yml', \"r\", encoding='UTF-8') as file:\n",
    "    settings = yaml.load(file, Loader=yaml.FullLoader)"
   ]
  },
  {
   "cell_type": "code",
   "execution_count": null,
   "id": "83e5b697-7aa5-4224-956c-f84fa660d29d",
   "metadata": {},
   "outputs": [],
   "source": [
    "local_settings = {\n",
    "    'mosaic_filepath': 'mosaics/referenced.tiff',\n",
    "    'overwrite': True,\n",
    "    'random_state': 16849,\n",
    "}\n",
    "settings.update(local_settings)"
   ]
  },
  {
   "cell_type": "markdown",
   "id": "c9739ef1-038d-44c1-8c75-3dcd6d6c1add",
   "metadata": {},
   "source": [
    "## Parse Settings"
   ]
  },
  {
   "cell_type": "code",
   "execution_count": null,
   "id": "13928180-f722-4931-a3dc-bf1ed2b775ab",
   "metadata": {},
   "outputs": [],
   "source": [
    "settings['mosaic_filepath'] = os.path.join(settings['data_dir'], settings['mosaic_filepath'])"
   ]
  },
  {
   "cell_type": "code",
   "execution_count": null,
   "id": "34824e8c-d66e-402c-91a4-3f77f48a8ba3",
   "metadata": {},
   "outputs": [],
   "source": [
    "for key, relpath in settings['paths_relative_to_data_dir'].items():\n",
    "    settings[key] = os.path.join(settings['data_dir'], relpath)"
   ]
  },
  {
   "cell_type": "code",
   "execution_count": null,
   "id": "ef2a5c18-9b75-4eb4-a357-e8a6e33db965",
   "metadata": {},
   "outputs": [],
   "source": [
    "random_state = check_random_state(settings['random_state'])"
   ]
  },
  {
   "cell_type": "code",
   "execution_count": null,
   "id": "b4408c5e-dba0-44a3-9cb3-2b5922875880",
   "metadata": {},
   "outputs": [],
   "source": [
    "referenced_fps = {\n",
    "    i: utils.discover_data(\n",
    "        settings['referenced_images_dir'],\n",
    "        ['tif', 'tiff'],\n",
    "        pattern=r'Geo\\s\\d+_' + f'{i}.tif'\n",
    "    )\n",
    "    for i in range(3)\n",
    "}\n",
    "referenced_fps = pd.concat(referenced_fps)"
   ]
  },
  {
   "cell_type": "code",
   "execution_count": null,
   "id": "e8930c0f-fd56-4299-8f1f-94b64e664dc3",
   "metadata": {},
   "outputs": [],
   "source": [
    "assert len(referenced_fps) > 0"
   ]
  },
  {
   "cell_type": "markdown",
   "id": "551c26e9-853e-46a2-8d36-c0d11a3d2fd3",
   "metadata": {},
   "source": [
    "# Extract/Transform/Load"
   ]
  },
  {
   "cell_type": "code",
   "execution_count": null,
   "id": "e93b2c51-565e-4d94-b76c-b38e8f43fc27",
   "metadata": {},
   "outputs": [],
   "source": [
    "preprocessing = preprocess.GeoTIFFPreprocesser()"
   ]
  },
  {
   "cell_type": "code",
   "execution_count": null,
   "id": "8206fb03-c630-4d76-a78e-31e16c284e92",
   "metadata": {},
   "outputs": [],
   "source": [
    "X = preprocessing.fit_transform(\n",
    "    referenced_fps,\n",
    ")"
   ]
  },
  {
   "cell_type": "markdown",
   "id": "626532fe-d463-4830-ac4e-aaf8a3840902",
   "metadata": {},
   "source": [
    "# Build Mosaic"
   ]
  },
  {
   "cell_type": "code",
   "execution_count": null,
   "id": "2b04e42e-b05a-4ea5-9ba3-c254f35f5ce2",
   "metadata": {},
   "outputs": [],
   "source": [
    "if os.path.isfile(settings['mosaic_filepath']) and settings['overwrite']:\n",
    "    os.remove(settings['mosaic_filepath'])"
   ]
  },
  {
   "cell_type": "code",
   "execution_count": null,
   "id": "97947051-63f7-4f0b-9263-ffc6869c3b1a",
   "metadata": {},
   "outputs": [],
   "source": [
    "model = mosaic.ReferencedMosaic(settings['mosaic_filepath'])"
   ]
  },
  {
   "cell_type": "code",
   "execution_count": null,
   "id": "06bbe681-f99b-45c4-b4c7-45a9e84e7f49",
   "metadata": {},
   "outputs": [],
   "source": [
    "model.fit_transform(X)"
   ]
  },
  {
   "cell_type": "markdown",
   "id": "c743e7a6-abd9-40de-bf4b-b318339ff369",
   "metadata": {},
   "source": [
    "# Evaluate"
   ]
  },
  {
   "cell_type": "markdown",
   "id": "d09d0fff-a9f1-4924-8cad-cac2c5390743",
   "metadata": {},
   "source": [
    "## Individual Inspection"
   ]
  },
  {
   "cell_type": "code",
   "execution_count": null,
   "id": "2b6c0458-174d-4860-85a7-8f761c8776b2",
   "metadata": {},
   "outputs": [],
   "source": [
    "ind = random_state.choice(X.index)\n",
    "row = X.loc[ind]"
   ]
  },
  {
   "cell_type": "code",
   "execution_count": null,
   "id": "953b5006-106e-4756-856f-e1d3f17cb4ff",
   "metadata": {},
   "outputs": [],
   "source": [
    "original_img = utils.load_image(row['filepath'])\n",
    "mosaic_img = model.get_image_with_bounds(row['x_min'], row['x_max'], row['y_min'], row['y_max'])"
   ]
  },
  {
   "cell_type": "code",
   "execution_count": null,
   "id": "5e4a2c02-969b-4376-a5f1-58c9d7a43e7a",
   "metadata": {},
   "outputs": [],
   "source": [
    "subplot_mosaic = [['original', 'mosaic']]\n",
    "n_rows = len(subplot_mosaic)\n",
    "n_cols = len(subplot_mosaic[0])\n",
    "\n",
    "fig = plt.figure(figsize=(10*n_cols, 10*n_rows))\n",
    "ax_dict = fig.subplot_mosaic(subplot_mosaic)\n",
    "\n",
    "ax = ax_dict['original']\n",
    "ax.imshow(original_img)\n",
    "\n",
    "ax = ax_dict['mosaic']\n",
    "ax.imshow(mosaic_img)"
   ]
  },
  {
   "cell_type": "markdown",
   "id": "940f9a6f-370d-4dba-b157-7063a0363538",
   "metadata": {},
   "source": [
    "## Overall Scores"
   ]
  },
  {
   "cell_type": "code",
   "execution_count": null,
   "id": "09d122d5-180f-4e4a-8608-63153c43ea52",
   "metadata": {},
   "outputs": [],
   "source": [
    "r_median = model.score(X)"
   ]
  },
  {
   "cell_type": "code",
   "execution_count": null,
   "id": "cf2bf471-69ce-4a97-b18a-103299c2f23a",
   "metadata": {},
   "outputs": [],
   "source": [
    "sns.histplot(model.scores_)"
   ]
  },
  {
   "cell_type": "code",
   "execution_count": null,
   "id": "99cb0627-9565-4a28-b0b2-ed39b7d05fa2",
   "metadata": {},
   "outputs": [],
   "source": [
    "sns.scatterplot(\n",
    "    x=np.arange(len(model.scores_)),\n",
    "    y=model.scores_,\n",
    ")"
   ]
  },
  {
   "cell_type": "markdown",
   "id": "9a944cfa-abd3-4775-80f9-8074668b4bd6",
   "metadata": {},
   "source": [
    "TODO: For a proper comparison between the less-referenced and the referenced mosaics, we must aim to replicate the order at least partially."
   ]
  },
  {
   "cell_type": "markdown",
   "id": "2447e118-d54a-4aa4-ba56-aef6ff8fe565",
   "metadata": {},
   "source": [
    "## Calculate the area"
   ]
  },
  {
   "cell_type": "code",
   "execution_count": null,
   "id": "d897d45d-e24f-4db7-a8c8-25ff0bcc247d",
   "metadata": {},
   "outputs": [],
   "source": [
    "full_mosaic_img = model.get_image(0, 0, model.x_size_, model.y_size_)"
   ]
  },
  {
   "cell_type": "code",
   "execution_count": null,
   "id": "6d7a3615-9e1b-4c0c-a354-17a0c999acb7",
   "metadata": {},
   "outputs": [],
   "source": [
    "is_not_empty = ~np.isclose(full_mosaic_img, 0.)"
   ]
  },
  {
   "cell_type": "code",
   "execution_count": null,
   "id": "d083c279-97f9-413c-ab5a-ab69f608f22b",
   "metadata": {},
   "outputs": [],
   "source": [
    "full_area = is_not_empty.sum() * -model.pixel_height_ * model.pixel_width_\n",
    "full_area_km = full_area / (1000.)**2.\n",
    "print(f'The area covered by the referenced mosaic is {full_area_km:.2g} km^2')"
   ]
  },
  {
   "cell_type": "code",
   "execution_count": null,
   "id": "92853276-3907-45e3-80cb-c675296d35e5",
   "metadata": {},
   "outputs": [],
   "source": [
    "# From google\n",
    "actual_area_km = 953."
   ]
  },
  {
   "cell_type": "code",
   "execution_count": null,
   "id": "9e206e21-66f7-4964-8f0a-313693432b63",
   "metadata": {},
   "outputs": [],
   "source": [
    "# We only check if the area is large enough because we image the area around Indianapolis too\n",
    "assert full_area_km > actual_area_km"
   ]
  },
  {
   "cell_type": "markdown",
   "id": "82ad1ede-91ee-4801-97ff-40b92a65e235",
   "metadata": {},
   "source": [
    "# Close"
   ]
  },
  {
   "cell_type": "code",
   "execution_count": null,
   "id": "7b16525d-0ebe-49b4-8683-6b4b2a0cf8c9",
   "metadata": {},
   "outputs": [],
   "source": [
    "model.close()"
   ]
  },
  {
   "cell_type": "code",
   "execution_count": null,
   "id": "739c5816-72b1-4fdf-bcc3-c627869327b0",
   "metadata": {},
   "outputs": [],
   "source": []
  }
 ],
 "metadata": {
  "kernelspec": {
   "display_name": "Python 3 (ipykernel)",
   "language": "python",
   "name": "python3"
  },
  "language_info": {
   "codemirror_mode": {
    "name": "ipython",
    "version": 3
   },
   "file_extension": ".py",
   "mimetype": "text/x-python",
   "name": "python",
   "nbconvert_exporter": "python",
   "pygments_lexer": "ipython3",
   "version": "3.11.5"
  }
 },
 "nbformat": 4,
 "nbformat_minor": 5
}
